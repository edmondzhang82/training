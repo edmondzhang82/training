{
 "cells": [
  {
   "cell_type": "markdown",
   "metadata": {},
   "source": [
    "# Pandas cheatsheet\n",
    "## Based on:\n",
    "    - http://www.swegler.com/becky/blog/2014/08/06/useful-pandas-snippets/\n",
    "    - https://duckduckgo.com/?q=Pandas+Cheat+Sheet&ia=cheatsheet&iax=1"
   ]
  },
  {
   "cell_type": "code",
   "execution_count": 24,
   "metadata": {
    "collapsed": false
   },
   "outputs": [],
   "source": [
    "from __future__ import print_function\n",
    "\n",
    "import pandas as pd\n",
    "import numpy as np"
   ]
  },
  {
   "cell_type": "code",
   "execution_count": 5,
   "metadata": {
    "collapsed": false
   },
   "outputs": [
    {
     "data": {
      "text/html": [
       "<div style=\"max-height:1000px;max-width:1500px;overflow:auto;\">\n",
       "<table border=\"1\" class=\"dataframe\">\n",
       "  <thead>\n",
       "    <tr style=\"text-align: right;\">\n",
       "      <th></th>\n",
       "      <th>A</th>\n",
       "      <th>B</th>\n",
       "      <th>C</th>\n",
       "    </tr>\n",
       "  </thead>\n",
       "  <tbody>\n",
       "    <tr>\n",
       "      <th>2000-01-01</th>\n",
       "      <td>-0.352285</td>\n",
       "      <td>-0.138844</td>\n",
       "      <td>-0.145018</td>\n",
       "    </tr>\n",
       "    <tr>\n",
       "      <th>2000-01-02</th>\n",
       "      <td>-0.554239</td>\n",
       "      <td> 0.487439</td>\n",
       "      <td> 1.400899</td>\n",
       "    </tr>\n",
       "    <tr>\n",
       "      <th>2000-01-03</th>\n",
       "      <td> 0.124197</td>\n",
       "      <td>-1.056361</td>\n",
       "      <td> 1.477263</td>\n",
       "    </tr>\n",
       "    <tr>\n",
       "      <th>2000-01-04</th>\n",
       "      <td>-1.612095</td>\n",
       "      <td>-0.487586</td>\n",
       "      <td> 0.094768</td>\n",
       "    </tr>\n",
       "    <tr>\n",
       "      <th>2000-01-05</th>\n",
       "      <td>-0.245037</td>\n",
       "      <td> 0.162648</td>\n",
       "      <td>-0.373993</td>\n",
       "    </tr>\n",
       "    <tr>\n",
       "      <th>2000-01-06</th>\n",
       "      <td>-0.064234</td>\n",
       "      <td> 0.864991</td>\n",
       "      <td>-0.050411</td>\n",
       "    </tr>\n",
       "    <tr>\n",
       "      <th>2000-01-07</th>\n",
       "      <td>-0.445774</td>\n",
       "      <td> 1.456950</td>\n",
       "      <td> 0.832168</td>\n",
       "    </tr>\n",
       "    <tr>\n",
       "      <th>2000-01-08</th>\n",
       "      <td>-2.234647</td>\n",
       "      <td> 1.769125</td>\n",
       "      <td> 0.718058</td>\n",
       "    </tr>\n",
       "  </tbody>\n",
       "</table>\n",
       "<p>8 rows × 3 columns</p>\n",
       "</div>"
      ],
      "text/plain": [
       "                   A         B         C\n",
       "2000-01-01 -0.352285 -0.138844 -0.145018\n",
       "2000-01-02 -0.554239  0.487439  1.400899\n",
       "2000-01-03  0.124197 -1.056361  1.477263\n",
       "2000-01-04 -1.612095 -0.487586  0.094768\n",
       "2000-01-05 -0.245037  0.162648 -0.373993\n",
       "2000-01-06 -0.064234  0.864991 -0.050411\n",
       "2000-01-07 -0.445774  1.456950  0.832168\n",
       "2000-01-08 -2.234647  1.769125  0.718058\n",
       "\n",
       "[8 rows x 3 columns]"
      ]
     },
     "execution_count": 5,
     "metadata": {},
     "output_type": "execute_result"
    }
   ],
   "source": [
    "#Example dataframe\n",
    "index = pd.date_range('1/1/2000', periods=8)\n",
    "df = pd.DataFrame(np.random.randn(8, 3), index=index, columns=['A', 'B', 'C'])\n",
    "df"
   ]
  },
  {
   "cell_type": "code",
   "execution_count": 25,
   "metadata": {
    "collapsed": false
   },
   "outputs": [
    {
     "name": "stdout",
     "output_type": "stream",
     "text": [
      "index: 2000-01-01 00:00:00 A: -0.352284774623\n",
      "index: 2000-01-02 00:00:00 A: -0.554239374255\n",
      "index: 2000-01-03 00:00:00 A: 0.12419725672\n",
      "index: 2000-01-04 00:00:00 A: -1.61209481684\n",
      "index: 2000-01-05 00:00:00 A: -0.245037329836\n",
      "index: 2000-01-06 00:00:00 A: -0.0642339714032\n",
      "index: 2000-01-07 00:00:00 A: -0.445774182274\n",
      "index: 2000-01-08 00:00:00 A: -2.23464720931\n"
     ]
    }
   ],
   "source": [
    "#Iterate\n",
    "for row in df.iterrows():\n",
    "    print('index:', row[0], 'A:',row[1]['A'])\n"
   ]
  },
  {
   "cell_type": "code",
   "execution_count": null,
   "metadata": {
    "collapsed": true
   },
   "outputs": [],
   "source": [
    "#Filter\n",
    "\n",
    "\n"
   ]
  },
  {
   "cell_type": "code",
   "execution_count": 81,
   "metadata": {
    "collapsed": false
   },
   "outputs": [
    {
     "name": "stdout",
     "output_type": "stream",
     "text": [
      "   A\n",
      "0  a\n",
      "1  a\n",
      "2  b\n",
      "3  b\n",
      "4  c\n",
      "5  c\n",
      "\n",
      "[6 rows x 1 columns]\n",
      "   dm_a  dm_b\n",
      "0     1     0\n",
      "1     1     0\n",
      "2     0     1\n",
      "3     0     1\n",
      "4     0     0\n",
      "5     0     0\n",
      "\n",
      "[6 rows x 2 columns]\n"
     ]
    }
   ],
   "source": [
    "#Calculate columns\n",
    "\n",
    "#Dummy vars\n",
    "df = pd.DataFrame(['a','a','b','b','c','c'], columns=['A'])\n",
    "print(df)\n",
    "dumm = pd.get_dummies(df['A'], prefix='dm')[['dm_a','dm_b']]\n",
    "print(dumm)"
   ]
  },
  {
   "cell_type": "code",
   "execution_count": null,
   "metadata": {
    "collapsed": true
   },
   "outputs": [],
   "source": [
    "#Delete duplicates\n",
    "df3 = df3[~df3.index.duplicated(keep='first')] #index\n",
    "\n",
    "\n",
    "df4 = df3.drop_duplicates(subset='rownum', keep='last') #Acolumn"
   ]
  },
  {
   "cell_type": "code",
   "execution_count": null,
   "metadata": {
    "collapsed": true
   },
   "outputs": [],
   "source": []
  },
  {
   "cell_type": "code",
   "execution_count": null,
   "metadata": {
    "collapsed": true
   },
   "outputs": [],
   "source": []
  },
  {
   "cell_type": "code",
   "execution_count": null,
   "metadata": {
    "collapsed": true
   },
   "outputs": [],
   "source": []
  },
  {
   "cell_type": "markdown",
   "metadata": {},
   "source": [
    "# Plot series"
   ]
  },
  {
   "cell_type": "code",
   "execution_count": 67,
   "metadata": {
    "collapsed": false
   },
   "outputs": [],
   "source": [
    "import matplotlib.pyplot as plt\n",
    "%matplotlib inline\n",
    "\n",
    "index = pd.date_range('1/1/2000', periods=8*24, freq='H')\n",
    "s = [np.random.random()*i for i in range(8*24)]\n",
    "serie = pd.Series(s, index=index)\n"
   ]
  },
  {
   "cell_type": "code",
   "execution_count": 58,
   "metadata": {
    "collapsed": false
   },
   "outputs": [
    {
     "data": {
      "text/plain": [
       "[<matplotlib.lines.Line2D at 0x7fcd63b5d5d0>]"
      ]
     },
     "execution_count": 58,
     "metadata": {},
     "output_type": "execute_result"
    },
    {
     "data": {
      "image/png": "[encoded data removed]",
      "text/plain": [
       "<matplotlib.figure.Figure at 0x7fcd671ce790>"
      ]
     },
     "metadata": {},
     "output_type": "display_data"
    }
   ],
   "source": [
    "plt.plot(serie)"
   ]
  },
  {
   "cell_type": "code",
   "execution_count": 71,
   "metadata": {
    "collapsed": false
   },
   "outputs": [
    {
     "data": {
      "text/plain": [
       "[<matplotlib.lines.Line2D at 0x7fcd5b8509d0>]"
      ]
     },
     "execution_count": 71,
     "metadata": {},
     "output_type": "execute_result"
    },
    {
     "data": {
      "image/png": "[encoded data removed]",
      "text/plain": [
       "<matplotlib.figure.Figure at 0x7fcd5b992b90>"
      ]
     },
     "metadata": {},
     "output_type": "display_data"
    }
   ],
   "source": [
    "#plt.plot(serie[:24])\n",
    "plt.plot(serie['1/1/2000'])\n",
    "#plt.plot(serie['1/1/2000':'3/1/2000'])\n"
   ]
  },
  {
   "cell_type": "code",
   "execution_count": 72,
   "metadata": {
    "collapsed": false
   },
   "outputs": [
    {
     "data": {
      "text/plain": [
       "[<matplotlib.lines.Line2D at 0x7fcd5b78e450>]"
      ]
     },
     "execution_count": 72,
     "metadata": {},
     "output_type": "execute_result"
    },
    {
     "data": {
      "image/png": "[encoded data removed]",
      "text/plain": [
       "<matplotlib.figure.Figure at 0x7fcd5b805790>"
      ]
     },
     "metadata": {},
     "output_type": "display_data"
    }
   ],
   "source": [
    "# Plot by day\n",
    "serie_day = serie.resample('D')\n",
    "plt.plot(serie_day)\n"
   ]
  },
  {
   "cell_type": "code",
   "execution_count": 74,
   "metadata": {
    "collapsed": false
   },
   "outputs": [
    {
     "data": {
      "text/plain": [
       "[<matplotlib.lines.Line2D at 0x7fcd5b6f1090>]"
      ]
     },
     "execution_count": 74,
     "metadata": {},
     "output_type": "execute_result"
    },
    {
     "data": {
      "image/png": "[encoded data removed]",
      "text/plain": [
       "<matplotlib.figure.Figure at 0x7fcd5b96d510>"
      ]
     },
     "metadata": {},
     "output_type": "display_data"
    }
   ],
   "source": [
    "plt.plot_date(serie_day.index, serie_day, fmt='b')"
   ]
  },
  {
   "cell_type": "code",
   "execution_count": null,
   "metadata": {
    "collapsed": false
   },
   "outputs": [],
   "source": []
  },
  {
   "cell_type": "code",
   "execution_count": null,
   "metadata": {
    "collapsed": true
   },
   "outputs": [],
   "source": []
  },
  {
   "cell_type": "code",
   "execution_count": null,
   "metadata": {
    "collapsed": true
   },
   "outputs": [],
   "source": []
  },
  {
   "cell_type": "code",
   "execution_count": null,
   "metadata": {
    "collapsed": true
   },
   "outputs": [],
   "source": [
    "# List unique values in a DataFrame column\n",
    "pd.unique(df.column_name.ravel())\n",
    "\n",
    "# Convert Series datatype to numeric, getting rid of any non-numeric values\n",
    "df['col'] = df['col'].astype(str).convert_objects(convert_numeric=True)\n",
    "\n",
    "# Grab DataFrame rows where column has certain values\n",
    "valuelist = ['value1', 'value2', 'value3']\n",
    "df = df[df.column.isin(valuelist)]\n",
    "\n",
    "# Grab DataFrame rows where column doesn't have certain values\n",
    "valuelist = ['value1', 'value2', 'value3']\n",
    "df = df[~df.column.isin(value_list)]\n",
    "\n",
    "# Delete column from DataFrame\n",
    "del df['column']\n",
    "\n",
    "# Select from DataFrame using criteria from multiple columns\n",
    "# (use `|` instead of `&` to do an OR)\n",
    "newdf = df[(df['column_one']>2004) & (df['column_two']==9)]\n",
    "\n",
    "# Rename several DataFrame columns\n",
    "df = df.rename(columns = {\n",
    "    'col1 old name':'col1 new name',\n",
    "    'col2 old name':'col2 new name',\n",
    "    'col3 old name':'col3 new name',\n",
    "})\n",
    "\n",
    "# Lower-case all DataFrame column names\n",
    "df.columns = map(str.lower, df.columns)\n",
    "\n",
    "# Even more fancy DataFrame column re-naming\n",
    "# lower-case all DataFrame column names (for example)\n",
    "df.rename(columns=lambda x: x.split('.')[-1], inplace=True)\n",
    "\n",
    "# Loop through rows in a DataFrame\n",
    "# (if you must)\n",
    "for index, row in df.iterrows():\n",
    "    print index, row['some column']  \n",
    "\n",
    "# Next few examples show how to work with text data in Pandas.\n",
    "# Full list of .str functions: http://pandas.pydata.org/pandas-docs/stable/text.html\n",
    "\n",
    "# Slice values in a DataFrame column (aka Series)\n",
    "df.column.str[0:2]\n",
    "\n",
    "# Lower-case everything in a DataFrame column\n",
    "df.column_name = df.column_name.str.lower()\n",
    "\n",
    "# Get length of data in a DataFrame column\n",
    "df.column_name.str.len()\n",
    "\n",
    "# Sort dataframe by multiple columns\n",
    "df = df.sort(['col1','col2','col3'],ascending=[1,1,0])\n",
    "\n",
    "# Get top n for each group of columns in a sorted dataframe\n",
    "# (make sure dataframe is sorted first)\n",
    "top5 = df.groupby(['groupingcol1', 'groupingcol2']).head(5)\n",
    "\n",
    "# Grab DataFrame rows where specific column is null/notnull\n",
    "newdf = df[df['column'].isnull()]\n",
    "\n",
    "# Select from DataFrame using multiple keys of a hierarchical index\n",
    "df.xs(('index level 1 value','index level 2 value'), level=('level 1','level 2'))\n",
    "\n",
    "# Change all NaNs to None (useful before\n",
    "# loading to a db)\n",
    "df = df.where((pd.notnull(df)), None)\n",
    "\n",
    "# Get quick count of rows in a DataFrame\n",
    "len(df.index)\n",
    "\n",
    "# Pivot data (with flexibility about what what\n",
    "# becomes a column and what stays a row).\n",
    "# Syntax works on Pandas >= .14\n",
    "pd.pivot_table(\n",
    "  df,values='cell_value',\n",
    "  index=['col1', 'col2', 'col3'], #these stay as columns; will fail silently if any of these cols have null values\n",
    "  columns=['col4']) #data values in this column become their own column\n",
    "\n",
    "# Change data type of DataFrame column\n",
    "df.column_name = df.column_name.astype(np.int64)\n",
    "\n",
    "# Get rid of non-numeric values throughout a DataFrame:\n",
    "for col in refunds.columns.values:\n",
    "  refunds[col] = refunds[col].replace('[^0-9]+.-', '', regex=True)\n",
    "\n",
    "# Set DataFrame column values based on other column values (h/t: @mlevkov)\n",
    "df.loc[(df['column1'] == some_value) & (df['column2'] == some_other_value), ['column_to_change']] = new_value\n",
    "\n",
    "# Clean up missing values in multiple DataFrame columns\n",
    "df = df.fillna({\n",
    "    'col1': 'missing',\n",
    "    'col2': '99.999',\n",
    "    'col3': '999',\n",
    "    'col4': 'missing',\n",
    "    'col5': 'missing',\n",
    "    'col6': '99'\n",
    "})\n",
    "\n",
    "# Concatenate two DataFrame columns into a new, single column\n",
    "# (useful when dealing with composite keys, for example)\n",
    "df['newcol'] = df['col1'].map(str) + df['col2'].map(str)\n",
    "\n",
    "# Doing calculations with DataFrame columns that have missing values\n",
    "# In example below, swap in 0 for df['col1'] cells that contain null\n",
    "df['new_col'] = np.where(pd.isnull(df['col1']),0,df['col1']) + df['col2']\n",
    "\n",
    "# Split delimited values in a DataFrame column into two new columns\n",
    "df['new_col1'], df['new_col2'] = zip(*df['original_col'].apply(lambda x: x.split(': ', 1)))\n",
    "\n",
    "# Collapse hierarchical column indexes\n",
    "df.columns = df.columns.get_level_values(0)\n",
    "\n",
    "# Convert Django queryset to DataFrame\n",
    "qs = DjangoModelName.objects.all()\n",
    "q = qs.values()\n",
    "df = pd.DataFrame.from_records(q)\n",
    "\n",
    "# Create a DataFrame from a Python dictionary\n",
    "df = pd.DataFrame(list(a_dictionary.items()), columns = ['column1', 'column2'])\n",
    "\n",
    "# Get a report of all duplicate records in a dataframe, based on specific columns\n",
    "dupes = df[df.duplicated(['col1', 'col2', 'col3'], keep=False)]\n",
    "\n",
    "# Set up formatting so larger numbers aren't displayed in scientific notation (h/t @thecapacity)\n",
    "pd.set_option('display.float_format', lambda x: '%.3f' % x)"
   ]
  },
  {
   "cell_type": "code",
   "execution_count": null,
   "metadata": {
    "collapsed": true
   },
   "outputs": [],
   "source": [
    "#Reading and Writing Methods\n",
    "\n",
    "df=pd.read_csv('Anyname.csv')\n",
    "#Reading a CSV file\n",
    "df.to_csv(Newfile.csv)\n",
    "#Writing content of dataframe to CSV file\n",
    "\n",
    "df=pd.read_excel('File_Name.xlsx','sheet1')\n",
    "#Reading an Excel file\n",
    "df.to_excel('Abc.xlsx',sheet_name='sheet2')\n",
    "#Writing content of dataframe to Excel file"
   ]
  },
  {
   "cell_type": "code",
   "execution_count": null,
   "metadata": {
    "collapsed": true
   },
   "outputs": [],
   "source": [
    "#Getting Preview of Dataframe\n",
    "\n",
    "df.head(n)\n",
    "#Looking at top n records\n",
    "df.tail(n)\n",
    "#Looking at bottom n records\n",
    "df.columns\n",
    "#View columns name"
   ]
  },
  {
   "cell_type": "code",
   "execution_count": null,
   "metadata": {
    "collapsed": true
   },
   "outputs": [],
   "source": [
    "#Rename Columns of Dataframe\n",
    "\n",
    "df2=df.rename(columns={'old_columnname':'new_columnname'})\n",
    "#Create a new dataframe\n",
    "df.rename(columns={'old_columnname':'new_columnname',inplace=True}\n",
    "#To rename the column of existing dataframe"
   ]
  },
  {
   "cell_type": "code",
   "execution_count": null,
   "metadata": {
    "collapsed": true
   },
   "outputs": [],
   "source": [
    "#Selecting Columns and Rows\n",
    "          \n",
    "df[['column1','column2']]\n",
    "#Accessing sub dataframes\n",
    "df[df['column1']>10]\n",
    "#Filtering Records\n",
    "df[(df['column1']>10) & df['column2']==50]\n",
    "#Filtering Records using &(and)\n",
    "df[(df['column1']>10) | df['column2']==50]\n",
    "#Filtering Records using |(or)"
   ]
  },
  {
   "cell_type": "code",
   "execution_count": null,
   "metadata": {
    "collapsed": true
   },
   "outputs": [],
   "source": [
    "#Aggregate\n",
    "\n",
    "df.groupby('column1'.sum()) df.groupby(['column1','column2']).count()\n",
    "#Spliting the data into groups and apply fucntions to each groups indivdually\n",
    "pd.pivot_table(df,values='column1',index=['column2','column3'],columns=['column4'])\n",
    "#Pivot table helps to genrate data structure. it has three components index, columns and values\n",
    "pd.pivot_table(df,values='column1',index=['column2','column3'],columns=['column4'],aggfunc=len\n",
    "#To find count in column in Pivot table\n",
    "pd.crosstab(df.column1,df.column2)\n",
    "#Crosstab computes the simple cross tabulation of two factors"
   ]
  },
  {
   "cell_type": "code",
   "execution_count": null,
   "metadata": {
    "collapsed": true
   },
   "outputs": [],
   "source": [
    "#Creating New Columns\n",
    "\n",
    "df['NewColumn1']=df['column2']\n",
    "#Create a copy of existing column2\n",
    "df['NewColumn2']=df['column2']+10\n",
    "#Add 10 to existing column2 then create new column\n",
    "df['NewColumn3']=df['column1']+df['column2']\n",
    "#Add elements of column1 and column2 then create new column"
   ]
  },
  {
   "cell_type": "code",
   "execution_count": null,
   "metadata": {
    "collapsed": true
   },
   "outputs": [],
   "source": [
    "#Handling Missing Values\n",
    "\n",
    "df1.dropna()\n",
    "#Drop rows and columns having missing data\n",
    "df2.filna(value=5)\n",
    "#Replace all missing values with 5\n",
    "mean=df2['column1'].mean()\n",
    "#Find mean value of column\n",
    "df2['column1'].filna(mean)\n",
    "#Replace all the missing values of column1 with mean of available values"
   ]
  },
  {
   "cell_type": "code",
   "execution_count": null,
   "metadata": {
    "collapsed": true
   },
   "outputs": [],
   "source": [
    "#Merging/Concatinating Dataframes\n",
    "\n",
    "pd.concat([df1,df2])\n",
    "#Concatinate two or more dataframes based on columns\n",
    "pd.merge(df1,df2,on='column1',how='inner') pd.merge(df1,df2,on='column1',how='left') pd.merge(df1,df2,on='column1',how='right')\n",
    "#We can perform right, left and inner joins also"
   ]
  },
  {
   "cell_type": "code",
   "execution_count": null,
   "metadata": {
    "collapsed": true
   },
   "outputs": [],
   "source": [
    "#Applying Functions to Dataframes\n",
    "\n",
    "df['column1'].map(lambda x:10+x)\n",
    "#Map: This will add 10 to each element of column1\n",
    "df['column1'].map(lambda x:'hello'+x)\n",
    "#Concatinate 'hello' at the beginning of each elements\n",
    "df[['column1','column2']].apply(sum)\n",
    "#Apply: Applies a fucntion along any axis of the dataframe"
   ]
  },
  {
   "cell_type": "code",
   "execution_count": null,
   "metadata": {
    "collapsed": true
   },
   "outputs": [],
   "source": [
    "#Identify Unique Values\n",
    "df['column1'].unique()"
   ]
  },
  {
   "cell_type": "code",
   "execution_count": null,
   "metadata": {
    "collapsed": true
   },
   "outputs": [],
   "source": [
    "#Basic Statical Methods\n",
    "\n",
    "df.describe()\n",
    "#Returns a quick stats(count, mean, std, min, first quartile) on suitable columns\n",
    "df.cov()\n",
    "#Returns co-variance between suitable columns\n",
    "df.corr()\n",
    "#Returns co-relation between suitable columns\n"
   ]
  }
 ],
 "metadata": {
  "kernelspec": {
   "display_name": "Python 2",
   "language": "python",
   "name": "python2"
  },
  "language_info": {
   "codemirror_mode": {
    "name": "ipython",
    "version": 2
   },
   "file_extension": ".py",
   "mimetype": "text/x-python",
   "name": "python",
   "nbconvert_exporter": "python",
   "pygments_lexer": "ipython2",
   "version": "2.7.6"
  }
 },
 "nbformat": 4,
 "nbformat_minor": 0
}
