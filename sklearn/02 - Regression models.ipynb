{
 "cells": [
  {
   "cell_type": "code",
   "execution_count": null,
   "metadata": {
    "collapsed": false
   },
   "outputs": [],
   "source": [
    "from __future__ import print_function\n",
    "\n",
    "from sklearn import __version__ as sklearn_version\n",
    "print('Sklearn version:', sklearn_version)"
   ]
  },
  {
   "cell_type": "markdown",
   "metadata": {},
   "source": [
    "# Load data\n",
    "\n",
    "Predict the california average house value"
   ]
  },
  {
   "cell_type": "code",
   "execution_count": null,
   "metadata": {
    "collapsed": false
   },
   "outputs": [],
   "source": [
    "from sklearn import datasets\n",
    "\n",
    "all_data = datasets.california_housing.fetch_california_housing()\n",
    "\n",
    "# Describe dataset\n",
    "print(all_data.DESCR)\n",
    "print(all_data.feature_names)"
   ]
  },
  {
   "cell_type": "code",
   "execution_count": null,
   "metadata": {
    "collapsed": false
   },
   "outputs": [],
   "source": [
    "# Print some data lines\n",
    "print(all_data.data[:10])\n",
    "print(all_data.target)"
   ]
  },
  {
   "cell_type": "code",
   "execution_count": null,
   "metadata": {
    "collapsed": true
   },
   "outputs": [],
   "source": [
    "#Randomize, normalize and separate train & test\n",
    "\n",
    "from sklearn.utils import shuffle\n",
    "X, y = shuffle(all_data.data, all_data.target, random_state=42)\n",
    "\n",
    "from sklearn.model_selection import train_test_split\n",
    "X_train, X_test, y_train, y_test = train_test_split(X, y, test_size=0.33, random_state=42)\n",
    "\n",
    "\n",
    "# Normalize the data\n",
    "from sklearn.preprocessing import Normalizer\n",
    "# Define normalizer\n",
    "...\n",
    "#Fit & transform over trin\n",
    "...\n",
    "# transform test\n",
    "...\n"
   ]
  },
  {
   "cell_type": "code",
   "execution_count": null,
   "metadata": {
    "collapsed": false
   },
   "outputs": [],
   "source": []
  },
  {
   "cell_type": "markdown",
   "metadata": {},
   "source": [
    "## Model with the recommendation of the cheat-sheet\n",
    "- Based on the [Sklearn algorithm cheat-sheet](http://scikit-learn.org/stable/tutorial/machine_learning_map/)\n",
    "- "
   ]
  },
  {
   "cell_type": "code",
   "execution_count": null,
   "metadata": {
    "collapsed": false
   },
   "outputs": [],
   "source": [
    "from sklearn import linear_model\n",
    "\n",
    "# Select the correct linear model and fit it\n",
    "reg = linear_model. ...\n",
    "reg.fit(X_train, y_train)\n",
    "\n",
    "# Evaluate\n",
    "from sklearn.metrics import mean_absolute_error\n",
    "\n",
    "y_test_predict = reg.predict(X_test)\n",
    "print('Mean absolute error ', mean_absolute_error(y_test, y_test_predict))\n",
    "print('Variance score: ', reg.score(X_test, y_test))"
   ]
  },
  {
   "cell_type": "code",
   "execution_count": null,
   "metadata": {
    "collapsed": false
   },
   "outputs": [],
   "source": [
    "# Plot a scaterplot real vs predict\n",
    "import matplotlib.pyplot as plt\n",
    "%matplotlib inline\n",
    "\n",
    "# Plot the scatter plot real vs predict\n",
    "...\n"
   ]
  },
  {
   "cell_type": "code",
   "execution_count": null,
   "metadata": {
    "collapsed": false
   },
   "outputs": [],
   "source": [
    "# Save model\n",
    "from sklearn.externals import joblib\n",
    "\n",
    "joblib.dump(reg, '/tmp/reg_model.pkl') "
   ]
  },
  {
   "cell_type": "code",
   "execution_count": null,
   "metadata": {
    "collapsed": true
   },
   "outputs": [],
   "source": [
    "# Load model\n",
    "reg_loaded = joblib.load('/tmp/reg_model.pkl') "
   ]
  },
  {
   "cell_type": "code",
   "execution_count": null,
   "metadata": {
    "collapsed": false
   },
   "outputs": [],
   "source": [
    "# View the coeficients\n",
    "print('Coeficients :', reg_loaded.coef_)\n",
    "print('Intercept: ', reg_loaded.intercept_ )"
   ]
  },
  {
   "cell_type": "code",
   "execution_count": null,
   "metadata": {
    "collapsed": true
   },
   "outputs": [],
   "source": []
  },
  {
   "cell_type": "markdown",
   "metadata": {},
   "source": [
    "## Improve the model parametrization"
   ]
  },
  {
   "cell_type": "code",
   "execution_count": null,
   "metadata": {
    "collapsed": false
   },
   "outputs": [],
   "source": [
    "# Use the function RidgeCV to select the best alpha using cross validation\n",
    "\n",
    "#Define the RidgeCV model. Test alpha over the values 0.1, 1 and 10\n",
    "...\n",
    "reg.fit(X_train, y_train)\n",
    "\n",
    "print('Best alpha: ', reg.alpha_)"
   ]
  },
  {
   "cell_type": "code",
   "execution_count": null,
   "metadata": {
    "collapsed": false
   },
   "outputs": [],
   "source": [
    "# Build a model with the recommended alpha\n",
    "reg = linear_model.Ridge (alpha = ...)\n",
    "reg.fit(X_train, y_train)\n",
    "\n",
    "y_test_predict = reg.predict(X_test)\n",
    "print('Mean absolute error ', mean_absolute_error(y_test, y_test_predict))\n",
    "print('Variance score: ', reg.score(X_test, y_test))\n",
    "\n",
    "plt.scatter(y_test, y_test_predict)"
   ]
  },
  {
   "cell_type": "code",
   "execution_count": null,
   "metadata": {
    "collapsed": false
   },
   "outputs": [],
   "source": []
  },
  {
   "cell_type": "markdown",
   "metadata": {},
   "source": [
    "## Check the second cheat sheet recommendation"
   ]
  },
  {
   "cell_type": "code",
   "execution_count": null,
   "metadata": {
    "collapsed": false
   },
   "outputs": [],
   "source": [
    "from sklearn import svm\n",
    "\n",
    "# Select the correct model and define it\n",
    "reg_svr = ...\n",
    "\n",
    "reg_svr.fit(X_train, y_train)\n",
    "\n",
    "y_test_predict = reg_svr.predict(X_test)\n",
    "print('Mean absolute error ', mean_absolute_error(y_test, y_test_predict))\n",
    "print('Variance score: ', reg_svr.score(X_test, y_test))\n",
    "\n",
    "plt.scatter(y_test, y_test_predict)"
   ]
  },
  {
   "cell_type": "code",
   "execution_count": null,
   "metadata": {
    "collapsed": true
   },
   "outputs": [],
   "source": []
  },
  {
   "cell_type": "markdown",
   "metadata": {},
   "source": [
    "# Build a decision tree regressor"
   ]
  },
  {
   "cell_type": "code",
   "execution_count": null,
   "metadata": {
    "collapsed": false
   },
   "outputs": [],
   "source": [
    "# Import the regression tree function\n",
    "from sklearn import ...\n",
    "\n",
    "# Define the tree\n",
    "... \n",
    "\n",
    "dtree.fit(X_train, y_train)\n",
    "\n",
    "y_test_predict = dtree.predict(X_test)\n",
    "print('Mean absolute error ', mean_absolute_error(y_test, y_test_predict))\n",
    "print('Variance score: ', dtree.score(X_test, y_test))\n",
    "\n",
    "plt.scatter(y_test, y_test_predict)"
   ]
  },
  {
   "cell_type": "code",
   "execution_count": null,
   "metadata": {
    "collapsed": false
   },
   "outputs": [],
   "source": [
    "# A second model regularized controling the depth\n",
    "\n",
    "# Build a second tree with a max deep of 5\n",
    "...\n",
    "...\n",
    "\n",
    "y_test_predict = dtree2.predict(X_test)\n",
    "print('Mean absolute error ', mean_absolute_error(y_test, y_test_predict))\n",
    "print('Variance score: ', dtree2.score(X_test, y_test))\n",
    "\n",
    "plt.scatter(y_test, y_test_predict)"
   ]
  },
  {
   "cell_type": "code",
   "execution_count": null,
   "metadata": {
    "collapsed": false
   },
   "outputs": [],
   "source": [
    "# Plot the tree\n",
    "import pydotplus \n",
    "\n",
    "from IPython.display import Image  \n",
    "dot_data = tree.export_graphviz(dtree2, out_file=None, \n",
    "                         feature_names=all_data.feature_names,  \n",
    "                         filled=True, rounded=True,  \n",
    "                         special_characters=True)  \n",
    "graph = pydotplus.graph_from_dot_data(dot_data)  \n",
    "Image(graph.create_png()) "
   ]
  },
  {
   "cell_type": "code",
   "execution_count": null,
   "metadata": {
    "collapsed": true
   },
   "outputs": [],
   "source": []
  }
 ],
 "metadata": {
  "anaconda-cloud": {},
  "kernelspec": {
   "display_name": "Python [conda env:py27]",
   "language": "python",
   "name": "conda-env-py27-py"
  },
  "language_info": {
   "codemirror_mode": {
    "name": "ipython",
    "version": 2
   },
   "file_extension": ".py",
   "mimetype": "text/x-python",
   "name": "python",
   "nbconvert_exporter": "python",
   "pygments_lexer": "ipython2",
   "version": "2.7.13"
  }
 },
 "nbformat": 4,
 "nbformat_minor": 1
}
