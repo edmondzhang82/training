{
 "cells": [
  {
   "cell_type": "markdown",
   "metadata": {},
   "source": [
    "# Hyperparameter optimization\n",
    "    - Select the best parametrization for a specific model\n",
    "    "
   ]
  },
  {
   "cell_type": "code",
   "execution_count": 1,
   "metadata": {
    "collapsed": false
   },
   "outputs": [
    {
     "name": "stdout",
     "output_type": "stream",
     "text": [
      "Sklearn version: 0.18.1\n"
     ]
    }
   ],
   "source": [
    "from __future__ import print_function\n",
    "\n",
    "from sklearn import __version__ as sklearn_version\n",
    "print('Sklearn version:', sklearn_version)"
   ]
  },
  {
   "cell_type": "markdown",
   "metadata": {},
   "source": [
    "# Load data"
   ]
  },
  {
   "cell_type": "code",
   "execution_count": 2,
   "metadata": {
    "collapsed": false
   },
   "outputs": [
    {
     "name": "stdout",
     "output_type": "stream",
     "text": [
      "Optical Recognition of Handwritten Digits Data Set\n",
      "===================================================\n",
      "\n",
      "Notes\n",
      "-----\n",
      "Data Set Characteristics:\n",
      "    :Number of Instances: 5620\n",
      "    :Number of Attributes: 64\n",
      "    :Attribute Information: 8x8 image of integer pixels in the range 0..16.\n",
      "    :Missing Attribute Values: None\n",
      "    :Creator: E. Alpaydin (alpaydin '@' boun.edu.tr)\n",
      "    :Date: July; 1998\n",
      "\n",
      "This is a copy of the test set of the UCI ML hand-written digits datasets\n",
      "http://archive.ics.uci.edu/ml/datasets/Optical+Recognition+of+Handwritten+Digits\n",
      "\n",
      "The data set contains images of hand-written digits: 10 classes where\n",
      "each class refers to a digit.\n",
      "\n",
      "Preprocessing programs made available by NIST were used to extract\n",
      "normalized bitmaps of handwritten digits from a preprinted form. From a\n",
      "total of 43 people, 30 contributed to the training set and different 13\n",
      "to the test set. 32x32 bitmaps are divided into nonoverlapping blocks of\n",
      "4x4 and the number of on pixels are counted in each block. This generates\n",
      "an input matrix of 8x8 where each element is an integer in the range\n",
      "0..16. This reduces dimensionality and gives invariance to small\n",
      "distortions.\n",
      "\n",
      "For info on NIST preprocessing routines, see M. D. Garris, J. L. Blue, G.\n",
      "T. Candela, D. L. Dimmick, J. Geist, P. J. Grother, S. A. Janet, and C.\n",
      "L. Wilson, NIST Form-Based Handprint Recognition System, NISTIR 5469,\n",
      "1994.\n",
      "\n",
      "References\n",
      "----------\n",
      "  - C. Kaynak (1995) Methods of Combining Multiple Classifiers and Their\n",
      "    Applications to Handwritten Digit Recognition, MSc Thesis, Institute of\n",
      "    Graduate Studies in Science and Engineering, Bogazici University.\n",
      "  - E. Alpaydin, C. Kaynak (1998) Cascading Classifiers, Kybernetika.\n",
      "  - Ken Tang and Ponnuthurai N. Suganthan and Xi Yao and A. Kai Qin.\n",
      "    Linear dimensionalityreduction using relevance weighted LDA. School of\n",
      "    Electrical and Electronic Engineering Nanyang Technological University.\n",
      "    2005.\n",
      "  - Claudio Gentile. A New Approximate Maximal Margin Classification\n",
      "    Algorithm. NIPS. 2000.\n",
      "\n"
     ]
    }
   ],
   "source": [
    "from sklearn import datasets\n",
    "\n",
    "digits = datasets.load_digits()\n",
    "print(digits.DESCR)"
   ]
  },
  {
   "cell_type": "code",
   "execution_count": 3,
   "metadata": {
    "collapsed": false
   },
   "outputs": [
    {
     "name": "stdout",
     "output_type": "stream",
     "text": [
      "[[  0.   0.   5. ...,   0.   0.   0.]\n",
      " [  0.   0.   0. ...,  10.   0.   0.]\n",
      " [  0.   0.   0. ...,  16.   9.   0.]\n",
      " ..., \n",
      " [  0.   0.   1. ...,   6.   0.   0.]\n",
      " [  0.   0.   2. ...,  12.   0.   0.]\n",
      " [  0.   0.  10. ...,  12.   1.   0.]]\n",
      "[0 1 2 ..., 8 9 8]\n"
     ]
    }
   ],
   "source": [
    "print(digits.data)\n",
    "print(digits.target)"
   ]
  },
  {
   "cell_type": "code",
   "execution_count": 4,
   "metadata": {
    "collapsed": false
   },
   "outputs": [
    {
     "name": "stdout",
     "output_type": "stream",
     "text": [
      "(1203, 64) (594, 64) (1203,) (594,)\n"
     ]
    }
   ],
   "source": [
    "#Randomize and separate train & test\n",
    "from sklearn.utils import shuffle\n",
    "X, y = shuffle(digits.data, digits.target, random_state=0)\n",
    "\n",
    "from sklearn.model_selection import train_test_split\n",
    "X_train, X_test, y_train, y_test = train_test_split(X, y, test_size=0.33, random_state=0)\n",
    "\n",
    "print(X_train.shape, X_test.shape, y_train.shape, y_test.shape)"
   ]
  },
  {
   "cell_type": "markdown",
   "metadata": {},
   "source": [
    "## RandomForestClassifier"
   ]
  },
  {
   "cell_type": "code",
   "execution_count": 5,
   "metadata": {
    "collapsed": false
   },
   "outputs": [
    {
     "name": "stdout",
     "output_type": "stream",
     "text": [
      "Accuracy tree:  0.952861952862\n"
     ]
    }
   ],
   "source": [
    "from sklearn.ensemble import RandomForestClassifier\n",
    "clf = RandomForestClassifier()\n",
    "\n",
    "clf.fit(X_train, y_train)\n",
    "\n",
    "from sklearn.metrics import accuracy_score\n",
    "print('Accuracy tree: ', accuracy_score(y_test, clf.predict(X_test)))"
   ]
  },
  {
   "cell_type": "markdown",
   "metadata": {},
   "source": [
    "## Hiperparameter optimization"
   ]
  },
  {
   "cell_type": "code",
   "execution_count": 6,
   "metadata": {
    "collapsed": false
   },
   "outputs": [],
   "source": [
    "def acc(i):\n",
    "    clf = RandomForestClassifier(max_features=i)\n",
    "    clf.fit(X_train, y_train)\n",
    "    return accuracy_score(y_test, clf.predict(X_test))\n",
    "\n",
    "index = []\n",
    "accuracy = []\n",
    "for i in range(2,30):\n",
    "    index += [i]\n",
    "    accuracy += [acc(i)]"
   ]
  },
  {
   "cell_type": "code",
   "execution_count": 7,
   "metadata": {
    "collapsed": false
   },
   "outputs": [
    {
     "data": {
      "text/plain": [
       "[<matplotlib.lines.Line2D at 0x7f1fb9462910>]"
      ]
     },
     "execution_count": 7,
     "metadata": {},
     "output_type": "execute_result"
    },
    {
     "data": {
      "image/png": "[encoded data removed]",
      "text/plain": [
       "<matplotlib.figure.Figure at 0x7f1fbd84a450>"
      ]
     },
     "metadata": {},
     "output_type": "display_data"
    }
   ],
   "source": [
    "import matplotlib.pyplot as plt\n",
    "%matplotlib inline\n",
    "\n",
    "plt.plot(index,accuracy)\n"
   ]
  },
  {
   "cell_type": "markdown",
   "metadata": {},
   "source": [
    "## Use of RandomizedSearchCV\n",
    "http://scikit-learn.org/stable/modules/generated/sklearn.model_selection.RandomizedSearchCV.html#sklearn.model_selection.RandomizedSearchCV \n"
   ]
  },
  {
   "cell_type": "code",
   "execution_count": 8,
   "metadata": {
    "collapsed": false
   },
   "outputs": [
    {
     "name": "stdout",
     "output_type": "stream",
     "text": [
      "RandomizedSearchCV took 7.75 seconds for 20 candidates parameter settings.\n"
     ]
    }
   ],
   "source": [
    "import numpy as np\n",
    "\n",
    "from time import time\n",
    "from scipy.stats import randint\n",
    "\n",
    "from sklearn.ensemble import RandomForestClassifier\n",
    "from sklearn.model_selection import RandomizedSearchCV\n",
    "\n",
    "\n",
    "# Define estimator. No parameters\n",
    "clf = RandomForestClassifier(n_estimators=20)\n",
    "\n",
    "\n",
    "\n",
    "\n",
    "# specify parameters and distributions to sample from\n",
    "param_dist = {\"max_depth\": [3, None],\n",
    "              \"max_features\": randint(1, 11),\n",
    "              \"min_samples_split\": randint(2, 11),\n",
    "              \"min_samples_leaf\": randint(1, 11),\n",
    "              \"bootstrap\": [True, False],\n",
    "              \"criterion\": [\"gini\", \"entropy\"]}\n",
    "\n",
    "# run randomized search\n",
    "n_iter_search = 20\n",
    "random_search = RandomizedSearchCV(clf, param_distributions=param_dist,\n",
    "                                   n_iter=n_iter_search)\n",
    "\n",
    "start = time()\n",
    "random_search.fit(X, y)\n",
    "print(\"RandomizedSearchCV took %.2f seconds for %d candidates\"\n",
    "      \" parameter settings.\" % ((time() - start), n_iter_search))\n"
   ]
  },
  {
   "cell_type": "code",
   "execution_count": 9,
   "metadata": {
    "collapsed": false
   },
   "outputs": [
    {
     "name": "stdout",
     "output_type": "stream",
     "text": [
      "{'rank_test_score': array([16, 15,  4,  9, 17, 18, 19, 13,  1, 11, 12, 19,  3,  6,  7, 10, 14,\n",
      "        5,  7,  2], dtype=int32), 'split0_train_score': array([ 0.88368201,  0.86945607,  0.99330544,  0.97991632,  0.88117155,\n",
      "        0.86527197,  0.83430962,  0.87866109,  1.        ,  0.86025105,\n",
      "        0.90041841,  0.87029289,  0.99414226,  0.9832636 ,  0.97824268,\n",
      "        0.89037657,  0.86276151,  0.98410042,  0.98493724,  0.9958159 ]), 'split2_test_score': array([ 0.85234899,  0.84731544,  0.95469799,  0.94463087,  0.83724832,\n",
      "        0.81711409,  0.84228188,  0.83557047,  0.9614094 ,  0.87416107,\n",
      "        0.8557047 ,  0.85234899,  0.95805369,  0.94295302,  0.95302013,\n",
      "        0.8590604 ,  0.86744966,  0.95469799,  0.94798658,  0.96644295]), 'param_min_samples_leaf': masked_array(data = [9 4 7 7 8 2 9 6 2 10 5 5 1 6 10 10 8 6 9 5],\n",
      "             mask = [False False False False False False False False False False False False\n",
      " False False False False False False False False],\n",
      "       fill_value = ?)\n",
      ", 'mean_fit_time': array([ 0.09195463,  0.0722816 ,  0.10614999,  0.08172727,  0.07774099,\n",
      "        0.08452264,  0.07902869,  0.07496532,  0.10880129,  0.08353933,\n",
      "        0.08143838,  0.07280866,  0.13238804,  0.09332204,  0.09114242,\n",
      "        0.07530332,  0.06995106,  0.09928799,  0.10337869,  0.14979474]), 'param_min_samples_split': masked_array(data = [8 5 7 5 2 8 9 4 6 7 2 3 10 10 10 7 5 10 4 3],\n",
      "             mask = [False False False False False False False False False False False False\n",
      " False False False False False False False False],\n",
      "       fill_value = ?)\n",
      ", 'std_test_score': array([ 0.01050461,  0.01239625,  0.00063142,  0.00451079,  0.00661155,\n",
      "        0.02047516,  0.03274582,  0.00876228,  0.00693847,  0.01728177,\n",
      "        0.00676041,  0.0155871 ,  0.00171784,  0.00216783,  0.00884629,\n",
      "        0.00438265,  0.01787916,  0.00664389,  0.00330297,  0.00537061]), 'params': ({'bootstrap': False, 'min_samples_leaf': 9, 'min_samples_split': 8, 'criterion': 'entropy', 'max_features': 7, 'max_depth': 3}, {'bootstrap': True, 'min_samples_leaf': 4, 'min_samples_split': 5, 'criterion': 'gini', 'max_features': 7, 'max_depth': 3}, {'bootstrap': False, 'min_samples_leaf': 7, 'min_samples_split': 7, 'criterion': 'gini', 'max_features': 9, 'max_depth': None}, {'bootstrap': True, 'min_samples_leaf': 7, 'min_samples_split': 5, 'criterion': 'gini', 'max_features': 6, 'max_depth': None}, {'bootstrap': False, 'min_samples_leaf': 8, 'min_samples_split': 2, 'criterion': 'entropy', 'max_features': 5, 'max_depth': 3}, {'bootstrap': True, 'min_samples_leaf': 2, 'min_samples_split': 8, 'criterion': 'entropy', 'max_features': 9, 'max_depth': 3}, {'bootstrap': False, 'min_samples_leaf': 9, 'min_samples_split': 9, 'criterion': 'gini', 'max_features': 10, 'max_depth': 3}, {'bootstrap': True, 'min_samples_leaf': 6, 'min_samples_split': 4, 'criterion': 'entropy', 'max_features': 5, 'max_depth': 3}, {'bootstrap': False, 'min_samples_leaf': 2, 'min_samples_split': 6, 'criterion': 'gini', 'max_features': 8, 'max_depth': None}, {'bootstrap': True, 'min_samples_leaf': 10, 'min_samples_split': 7, 'criterion': 'entropy', 'max_features': 9, 'max_depth': 3}, {'bootstrap': True, 'min_samples_leaf': 5, 'min_samples_split': 2, 'criterion': 'entropy', 'max_features': 8, 'max_depth': 3}, {'bootstrap': True, 'min_samples_leaf': 5, 'min_samples_split': 3, 'criterion': 'entropy', 'max_features': 4, 'max_depth': 3}, {'bootstrap': True, 'min_samples_leaf': 1, 'min_samples_split': 10, 'criterion': 'entropy', 'max_features': 9, 'max_depth': None}, {'bootstrap': True, 'min_samples_leaf': 6, 'min_samples_split': 10, 'criterion': 'entropy', 'max_features': 4, 'max_depth': None}, {'bootstrap': False, 'min_samples_leaf': 10, 'min_samples_split': 10, 'criterion': 'gini', 'max_features': 6, 'max_depth': None}, {'bootstrap': False, 'min_samples_leaf': 10, 'min_samples_split': 7, 'criterion': 'entropy', 'max_features': 4, 'max_depth': 3}, {'bootstrap': True, 'min_samples_leaf': 8, 'min_samples_split': 5, 'criterion': 'gini', 'max_features': 5, 'max_depth': 3}, {'bootstrap': True, 'min_samples_leaf': 6, 'min_samples_split': 10, 'criterion': 'entropy', 'max_features': 5, 'max_depth': None}, {'bootstrap': False, 'min_samples_leaf': 9, 'min_samples_split': 4, 'criterion': 'gini', 'max_features': 9, 'max_depth': None}, {'bootstrap': False, 'min_samples_leaf': 5, 'min_samples_split': 3, 'criterion': 'entropy', 'max_features': 9, 'max_depth': None}), 'std_fit_time': array([ 0.00115622,  0.00114397,  0.00078962,  0.00013472,  0.00054667,\n",
      "        0.00027547,  0.00014341,  0.00021946,  0.00024196,  0.00012383,\n",
      "        0.00048064,  0.00018756,  0.00086825,  0.00091223,  0.00059366,\n",
      "        0.00101429,  0.00055549,  0.00071052,  0.0004669 ,  0.00077322]), 'std_score_time': array([  1.39942973e-04,   7.69491014e-05,   2.55571669e-05,\n",
      "         1.59445573e-04,   3.91385882e-05,   9.65215467e-05,\n",
      "         3.65033993e-05,   1.54305639e-04,   1.86684877e-04,\n",
      "         1.54541510e-05,   1.17982432e-04,   1.22242382e-04,\n",
      "         1.10929025e-04,   1.35323402e-05,   9.94359517e-05,\n",
      "         3.43876043e-05,   1.01843966e-04,   3.64746661e-05,\n",
      "         7.72287303e-05,   1.01495461e-04]), 'std_train_score': array([ 0.01269034,  0.00656256,  0.00179163,  0.00118113,  0.01217951,\n",
      "        0.01963239,  0.02217831,  0.00993328,  0.        ,  0.00842849,\n",
      "        0.01764607,  0.01773605,  0.00208833,  0.00169243,  0.00278141,\n",
      "        0.01236855,  0.0112465 ,  0.00297513,  0.00210166,  0.0007934 ]), 'param_criterion': masked_array(data = ['entropy' 'gini' 'gini' 'gini' 'entropy' 'entropy' 'gini' 'entropy' 'gini'\n",
      " 'entropy' 'entropy' 'entropy' 'entropy' 'entropy' 'gini' 'entropy' 'gini'\n",
      " 'entropy' 'gini' 'entropy'],\n",
      "             mask = [False False False False False False False False False False False False\n",
      " False False False False False False False False],\n",
      "       fill_value = ?)\n",
      ", 'param_max_depth': masked_array(data = [3 3 None None 3 3 3 3 None 3 3 3 None None None 3 3 None None None],\n",
      "             mask = [False False False False False False False False False False False False\n",
      " False False False False False False False False],\n",
      "       fill_value = ?)\n",
      ", 'split1_train_score': array([ 0.85893155,  0.8572621 ,  0.98914858,  0.97746244,  0.85475793,\n",
      "        0.89148581,  0.87896494,  0.88647746,  1.        ,  0.85308848,\n",
      "        0.8572621 ,  0.82971619,  0.99582638,  0.98497496,  0.98497496,\n",
      "        0.87395659,  0.86143573,  0.99081803,  0.98998331,  0.99749583]), 'param_bootstrap': masked_array(data = [False True False True False True False True False True True True True True\n",
      " False False True True False False],\n",
      "             mask = [False False False False False False False False False False False False\n",
      " False False False False False False False False],\n",
      "       fill_value = ?)\n",
      ", 'split2_train_score': array([ 0.88759367,  0.85428809,  0.99000833,  0.98001665,  0.85595337,\n",
      "        0.84346378,  0.88343047,  0.86261449,  1.        ,  0.8734388 ,\n",
      "        0.88093256,  0.86344713,  0.99916736,  0.98084929,  0.98251457,\n",
      "        0.86011657,  0.88592839,  0.98501249,  0.98834305,  0.99750208]), 'mean_score_time': array([ 0.01666665,  0.01513298,  0.01587939,  0.01571735,  0.01522239,\n",
      "        0.01519203,  0.0151697 ,  0.01514077,  0.01599161,  0.0150334 ,\n",
      "        0.01485825,  0.01524369,  0.01589068,  0.01602467,  0.01599034,\n",
      "        0.01560299,  0.01552995,  0.01626134,  0.01552129,  0.01561936]), 'mean_train_score': array([ 0.87673574,  0.86033542,  0.99082078,  0.9791318 ,  0.86396095,\n",
      "        0.86674052,  0.86556835,  0.87591768,  1.        ,  0.86225944,\n",
      "        0.87953769,  0.8544854 ,  0.99637867,  0.98302928,  0.98191074,\n",
      "        0.87481658,  0.87004188,  0.98664365,  0.98775453,  0.99693794]), 'split0_test_score': array([ 0.82890365,  0.8255814 ,  0.95348837,  0.93521595,  0.84219269,\n",
      "        0.81893688,  0.78571429,  0.85049834,  0.97840532,  0.83222591,\n",
      "        0.84385382,  0.82059801,  0.96179402,  0.94518272,  0.93189369,\n",
      "        0.86378738,  0.82392027,  0.93853821,  0.94352159,  0.9551495 ]), 'mean_test_score': array([ 0.83750696,  0.8425153 ,  0.95381191,  0.94156928,  0.83528102,\n",
      "        0.83249861,  0.83027268,  0.84752365,  0.96994992,  0.85475793,\n",
      "        0.85308848,  0.83027268,  0.96048971,  0.94546466,  0.94379521,\n",
      "        0.85865331,  0.84418475,  0.94713411,  0.94379521,  0.96271564]), 'param_max_features': masked_array(data = [7 7 9 6 5 9 10 5 8 9 8 4 9 4 6 4 5 5 9 9],\n",
      "             mask = [False False False False False False False False False False False False\n",
      " False False False False False False False False],\n",
      "       fill_value = ?)\n",
      ", 'split1_test_score': array([ 0.83138564,  0.85475793,  0.95325543,  0.94490818,  0.8263773 ,\n",
      "        0.86143573,  0.86310518,  0.85642738,  0.96994992,  0.85809683,\n",
      "        0.85976628,  0.81803005,  0.96160267,  0.94824708,  0.94657763,\n",
      "        0.85308848,  0.84140234,  0.94824708,  0.93989983,  0.96661102])}\n"
     ]
    }
   ],
   "source": [
    "print(random_search.cv_results_)"
   ]
  },
  {
   "cell_type": "code",
   "execution_count": 10,
   "metadata": {
    "collapsed": false
   },
   "outputs": [
    {
     "name": "stdout",
     "output_type": "stream",
     "text": [
      "Model with rank: 1\n",
      "Mean validation score: 0.970 (std: 0.007)\n",
      "Parameters: {'bootstrap': False, 'min_samples_leaf': 2, 'min_samples_split': 6, 'criterion': 'gini', 'max_features': 8, 'max_depth': None}\n",
      "\n",
      "Model with rank: 2\n",
      "Mean validation score: 0.963 (std: 0.005)\n",
      "Parameters: {'bootstrap': False, 'min_samples_leaf': 5, 'min_samples_split': 3, 'criterion': 'entropy', 'max_features': 9, 'max_depth': None}\n",
      "\n",
      "Model with rank: 3\n",
      "Mean validation score: 0.960 (std: 0.002)\n",
      "Parameters: {'bootstrap': True, 'min_samples_leaf': 1, 'min_samples_split': 10, 'criterion': 'entropy', 'max_features': 9, 'max_depth': None}\n",
      "\n"
     ]
    }
   ],
   "source": [
    "# Utility function to report best scores\n",
    "def report(results, n_top=3):\n",
    "    for i in range(1, n_top + 1):\n",
    "        candidates = np.flatnonzero(results['rank_test_score'] == i)\n",
    "        for candidate in candidates:\n",
    "            print(\"Model with rank: {0}\".format(i))\n",
    "            print(\"Mean validation score: {0:.3f} (std: {1:.3f})\".format(\n",
    "                  results['mean_test_score'][candidate],\n",
    "                  results['std_test_score'][candidate]))\n",
    "            print(\"Parameters: {0}\".format(results['params'][candidate]))\n",
    "            print(\"\")\n",
    "\n",
    "            \n",
    "report(random_search.cv_results_)       "
   ]
  },
  {
   "cell_type": "code",
   "execution_count": null,
   "metadata": {
    "collapsed": true
   },
   "outputs": [],
   "source": [
    "clf = RandomForestClassifier()\n",
    "\n",
    "clf.fit(X_train, y_train)\n",
    "\n",
    "from sklearn.metrics import accuracy_score\n",
    "print('Accuracy tree: ', accuracy_score(y_test, clf.predict(X_test)))"
   ]
  },
  {
   "cell_type": "code",
   "execution_count": null,
   "metadata": {
    "collapsed": true
   },
   "outputs": [],
   "source": []
  },
  {
   "cell_type": "code",
   "execution_count": 43,
   "metadata": {
    "collapsed": false
   },
   "outputs": [
    {
     "name": "stdout",
     "output_type": "stream",
     "text": [
      "0.993265993266\n"
     ]
    }
   ],
   "source": [
    "# Configure model\n",
    "from sklearn import svm\n",
    "clf_svc = svm.SVC(gamma=0.001, C=100.)\n",
    "\n",
    "clf_svc.fit(X_train, y_train)\n",
    "print(accuracy_score(y_test, clf_svc.predict(X_test)))"
   ]
  },
  {
   "cell_type": "code",
   "execution_count": null,
   "metadata": {
    "collapsed": true
   },
   "outputs": [],
   "source": []
  },
  {
   "cell_type": "code",
   "execution_count": null,
   "metadata": {
    "collapsed": true
   },
   "outputs": [],
   "source": []
  }
 ],
 "metadata": {
  "anaconda-cloud": {},
  "kernelspec": {
   "display_name": "Python [conda env:py27]",
   "language": "python",
   "name": "conda-env-py27-py"
  },
  "language_info": {
   "codemirror_mode": {
    "name": "ipython",
    "version": 2
   },
   "file_extension": ".py",
   "mimetype": "text/x-python",
   "name": "python",
   "nbconvert_exporter": "python",
   "pygments_lexer": "ipython2",
   "version": "2.7.13"
  }
 },
 "nbformat": 4,
 "nbformat_minor": 0
}
