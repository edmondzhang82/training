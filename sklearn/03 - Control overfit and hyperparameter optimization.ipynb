{
 "cells": [
  {
   "cell_type": "markdown",
   "metadata": {},
   "source": [
    "# Sklearn control overfit example\n",
    "    - Use the California house database to show how to control overfit tuning the model parameters\n",
    "    "
   ]
  },
  {
   "cell_type": "code",
   "execution_count": null,
   "metadata": {
    "collapsed": false
   },
   "outputs": [],
   "source": [
    "from __future__ import print_function\n",
    "\n",
    "from sklearn import __version__ as sklearn_version\n",
    "print('Sklearn version:', sklearn_version)"
   ]
  },
  {
   "cell_type": "markdown",
   "metadata": {},
   "source": [
    "# Load data"
   ]
  },
  {
   "cell_type": "code",
   "execution_count": null,
   "metadata": {
    "collapsed": false
   },
   "outputs": [],
   "source": [
    "from sklearn import datasets\n",
    "all_data = datasets.california_housing.fetch_california_housing()\n",
    "print(all_data.DESCR)"
   ]
  },
  {
   "cell_type": "code",
   "execution_count": null,
   "metadata": {
    "collapsed": false
   },
   "outputs": [],
   "source": [
    "# Randomize, separate train & test and normalize\n",
    "\n",
    "from sklearn.utils import shuffle\n",
    "X, y = shuffle(all_data.data, all_data.target, random_state=0)\n",
    "\n",
    "from sklearn.model_selection import train_test_split\n",
    "X_train, X_test, y_train, y_test = train_test_split(X, y, test_size=0.33, random_state=0)\n",
    "\n",
    "# Normalize the data\n",
    "from sklearn.preprocessing import Normalizer\n",
    "normal = Normalizer()\n",
    "X_train = normal.fit_transform(X_train)\n",
    "X_test = normal.transform(X_test)"
   ]
  },
  {
   "cell_type": "code",
   "execution_count": null,
   "metadata": {
    "collapsed": false
   },
   "outputs": [],
   "source": [
    "# Create a basic decision tree\n",
    "from sklearn import tree\n",
    "from sklearn.metrics import mean_absolute_error\n",
    "\n",
    "clf = tree.DecisionTreeRegressor()\n",
    "clf.fit(X_train, y_train)\n",
    "mean_absolute_error(y_test, clf.predict(X_test))"
   ]
  },
  {
   "cell_type": "code",
   "execution_count": null,
   "metadata": {
    "collapsed": false
   },
   "outputs": [],
   "source": [
    "# Define a function to evaluate the error over models with different max_depth\n",
    "def acc(md):\n",
    "    '''\n",
    "    Calculate error of a tree with a specific mas_depth\n",
    "    \n",
    "    Paramters:\n",
    "        md: max depth of the tree\n",
    "    \n",
    "    Returns:\n",
    "        Mean absolute error of the fitted tree\n",
    "    '''\n",
    "    # Define model\n",
    "    ...\n",
    "    # Fit model\n",
    "    ...\n",
    "    # Evaluate and return the error\n",
    "    ...\n",
    "    return ...\n",
    "\n",
    "\n",
    "\n",
    "# Evaluate from max_depth=1 to max_depth=30\n",
    "index = []\n",
    "accuracy = []\n",
    "for i in range(1,30):\n",
    "    accuracy_step = acc(i)\n",
    "    index += [i]\n",
    "    accuracy += [accuracy_step]\n",
    "    print('Max depth - Error:', i, accuracy_step)"
   ]
  },
  {
   "cell_type": "code",
   "execution_count": null,
   "metadata": {
    "collapsed": false
   },
   "outputs": [],
   "source": [
    "# Plot the error vs max_depth\n",
    "import matplotlib.pyplot as plt\n",
    "%matplotlib inline\n",
    "\n",
    "plt.plot(index,accuracy)"
   ]
  },
  {
   "cell_type": "markdown",
   "metadata": {},
   "source": [
    "## Fit the best model"
   ]
  },
  {
   "cell_type": "code",
   "execution_count": null,
   "metadata": {
    "collapsed": false
   },
   "outputs": [],
   "source": [
    "# Define the model with the best parametrization\n",
    "...\n",
    "\n",
    "clf.fit(X_train, y_train)\n",
    "mean_absolute_error(y_test, clf.predict(X_test))"
   ]
  },
  {
   "cell_type": "code",
   "execution_count": null,
   "metadata": {
    "collapsed": false
   },
   "outputs": [],
   "source": [
    "# Plot the scatterplot\n",
    "plt.scatter(y_test, clf.predict(X_test))\n"
   ]
  },
  {
   "cell_type": "code",
   "execution_count": null,
   "metadata": {
    "collapsed": true
   },
   "outputs": [],
   "source": []
  },
  {
   "cell_type": "markdown",
   "metadata": {},
   "source": [
    "## A better way. Use a model_selection tool: [RandomizedSeachCV](http://scikit-learn.org/stable/modules/generated/sklearn.model_selection.RandomizedSearchCV.html)"
   ]
  },
  {
   "cell_type": "code",
   "execution_count": null,
   "metadata": {
    "collapsed": false
   },
   "outputs": [],
   "source": [
    "import numpy as np\n",
    "\n",
    "from time import time\n",
    "from scipy.stats import randint\n",
    "\n",
    "from sklearn.model_selection import RandomizedSearchCV\n",
    "\n",
    "\n",
    "# Define estimator. No parameters\n",
    "...\n",
    "\n",
    "\n",
    "# specify parameters and distributions to sample from (COMPLETE)\n",
    "param_dist = {\"max_depth\": randint(3, 20), \n",
    "              \"min_samples_leaf\": ...}\n",
    "\n",
    "\n",
    "# Define randomized search. Complete the function parameters\n",
    "random_search = RandomizedSearchCV(...)\n",
    "\n",
    "\n",
    "# Run the randomized search\n",
    "start = time()\n",
    "random_search.fit(X_train, y_train)\n",
    "print(\"RandomizedSearchCV took %.2f seconds for %d candidates parameter settings.\" % ((time() - start), n_iter_search))"
   ]
  },
  {
   "cell_type": "code",
   "execution_count": null,
   "metadata": {
    "collapsed": false
   },
   "outputs": [],
   "source": [
    "# Utility function to report best scores\n",
    "def report(results, n_top=3):\n",
    "    for i in range(1, n_top + 1):\n",
    "        candidate = np.argmax(results['rank_test_score'] == i)\n",
    "        print(\"Model with rank: \", i)\n",
    "        print(\"Mean validation score: \", results['mean_test_score'][candidate])\n",
    "        print(\"Parameters: \", results['params'][candidate], \"\\n\")\n",
    "            \n",
    "report(random_search.cv_results_)       "
   ]
  },
  {
   "cell_type": "code",
   "execution_count": null,
   "metadata": {
    "collapsed": false
   },
   "outputs": [],
   "source": [
    "# Build the tree with the optimal parametrization\n",
    "\n",
    "# Define the model with the best parametrization\n",
    "...\n",
    "\n",
    "clf.fit(X_train, y_train)\n",
    "print(mean_absolute_error(y_test, clf.predict(X_test)))\n",
    "\n",
    "plt.scatter(y_test, clf.predict(X_test))"
   ]
  },
  {
   "cell_type": "code",
   "execution_count": null,
   "metadata": {
    "collapsed": true
   },
   "outputs": [],
   "source": []
  }
 ],
 "metadata": {
  "anaconda-cloud": {},
  "kernelspec": {
   "display_name": "Python [conda env:py27]",
   "language": "python",
   "name": "conda-env-py27-py"
  },
  "language_info": {
   "codemirror_mode": {
    "name": "ipython",
    "version": 2
   },
   "file_extension": ".py",
   "mimetype": "text/x-python",
   "name": "python",
   "nbconvert_exporter": "python",
   "pygments_lexer": "ipython2",
   "version": "2.7.13"
  }
 },
 "nbformat": 4,
 "nbformat_minor": 0
}
