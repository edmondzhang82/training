{
 "cells": [
  {
   "cell_type": "markdown",
   "metadata": {},
   "source": [
    "# Sklearn basic example\n",
    "\n",
    "Fit a simple classification model to the iris database\n",
    "\n"
   ]
  },
  {
   "cell_type": "code",
   "execution_count": null,
   "metadata": {
    "collapsed": false
   },
   "outputs": [],
   "source": [
    "from __future__ import print_function\n",
    "\n",
    "from sklearn import __version__ as sklearn_version\n",
    "print('Sklearn version:', sklearn_version)"
   ]
  },
  {
   "cell_type": "markdown",
   "metadata": {},
   "source": [
    "# Load data"
   ]
  },
  {
   "cell_type": "code",
   "execution_count": null,
   "metadata": {
    "collapsed": false
   },
   "outputs": [],
   "source": [
    "from sklearn import datasets\n",
    "\n",
    "iris = datasets.load_iris()\n",
    "print(iris.DESCR)"
   ]
  },
  {
   "cell_type": "code",
   "execution_count": null,
   "metadata": {
    "collapsed": false
   },
   "outputs": [],
   "source": [
    "# Print some data lines\n",
    "print(iris.data[:10])\n",
    "print(iris.target)"
   ]
  },
  {
   "cell_type": "code",
   "execution_count": null,
   "metadata": {
    "collapsed": false
   },
   "outputs": [],
   "source": [
    "#Randomize and separate train & test\n",
    "from sklearn.utils import shuffle\n",
    "X, y = shuffle(iris.data, iris.target, random_state=0)\n",
    "\n",
    "from sklearn.model_selection import train_test_split\n",
    "X_train, X_test, y_train, y_test = train_test_split(X, y, test_size=0.33, random_state=0)\n",
    "\n",
    "print(X_train.shape, X_test.shape, y_train.shape, y_test.shape)"
   ]
  },
  {
   "cell_type": "markdown",
   "metadata": {},
   "source": [
    "## Linear model"
   ]
  },
  {
   "cell_type": "code",
   "execution_count": null,
   "metadata": {
    "collapsed": false
   },
   "outputs": [],
   "source": [
    "# Linear model \n",
    "from sklearn.linear_model import LogisticRegression\n",
    "\n",
    "# Define classifier\n",
    "clf_logistic = LogisticRegression()\n",
    "\n",
    "# Fit classifier\n",
    "clf_logistic.fit(X_train, y_train)"
   ]
  },
  {
   "cell_type": "code",
   "execution_count": null,
   "metadata": {
    "collapsed": false
   },
   "outputs": [],
   "source": [
    "# Evaluate accuracy in test\n",
    "from sklearn.metrics import accuracy_score\n",
    "\n",
    "# Predict test data\n",
    "y_test_pred = clf_logistic.predict(X_test)\n",
    "\n",
    "# Evaluate accuracy\n",
    "print('Accuracy test: ', accuracy_score(y_test, y_test_pred))\n"
   ]
  },
  {
   "cell_type": "markdown",
   "metadata": {},
   "source": [
    "## Decision tree\n",
    "\n",
    "    - Build a second decision tree model to compare with the previous linear model\n",
    "    - Print Accuracy and ROC area"
   ]
  },
  {
   "cell_type": "code",
   "execution_count": null,
   "metadata": {
    "collapsed": false
   },
   "outputs": [],
   "source": [
    "from sklearn import tree\n",
    "\n",
    "# Define classifier (use max_depth=3)\n",
    "clf_tree = ...\n",
    "\n",
    "# Fit over train data\n",
    "...\n",
    "\n",
    "# Evaluate test accuracy with accuracy_score\n",
    "print('Tree accuracy test: ', ...)\n",
    "\n",
    "# Evaluate ROC area with roc_auc_score\n",
    "print('Tree average ROC area: ', ...)\n"
   ]
  },
  {
   "cell_type": "markdown",
   "metadata": {},
   "source": [
    "# Test another clasifier\n",
    "    - Based on the Sklearn algorithm cheat-sheet http://scikit-learn.org/stable/tutorial/machine_learning_map/\n",
    "    - Linear SVC: http://scikit-learn.org/stable/modules/generated/sklearn.svm.LinearSVC.html#sklearn.svm.LinearSVC \n"
   ]
  },
  {
   "cell_type": "code",
   "execution_count": null,
   "metadata": {
    "collapsed": false
   },
   "outputs": [],
   "source": [
    "# Configure model\n",
    "from sklearn import svm\n",
    "clf_svc = svm.LinearSVC()\n",
    "\n",
    "# Fit over train\n",
    "...\n",
    "\n",
    "# Accuracy score over test\n",
    "...\n"
   ]
  },
  {
   "cell_type": "markdown",
   "metadata": {
    "collapsed": true
   },
   "source": [
    "## ROC area"
   ]
  },
  {
   "cell_type": "code",
   "execution_count": null,
   "metadata": {
    "collapsed": false
   },
   "outputs": [],
   "source": [
    "# ROC area\n",
    "\n",
    "# Print probabilities\n",
    "y_test_proba = clf_logistic.predict_proba(X_test)\n",
    "print(y_test_proba[:5])\n",
    "\n",
    "\n",
    "#Recode y from multiclass labels to binary labels\n",
    "from sklearn import preprocessing\n",
    "lb = preprocessing.LabelBinarizer()\n",
    "lb.fit(y_train)\n",
    "print('Test classes: ',lb.classes_)\n",
    "y_test_bin = lb.transform(y_test)\n",
    "print(y_test_bin[:5])\n",
    "\n",
    "\n",
    "# Roc curve\n",
    "from sklearn.metrics import roc_auc_score\n",
    "print('Average ROC area: ', roc_auc_score(y_test_bin, y_test_proba))\n",
    "\n"
   ]
  }
 ],
 "metadata": {
  "anaconda-cloud": {},
  "kernelspec": {
   "display_name": "Python [conda env:py27]",
   "language": "python",
   "name": "conda-env-py27-py"
  },
  "language_info": {
   "codemirror_mode": {
    "name": "ipython",
    "version": 2
   },
   "file_extension": ".py",
   "mimetype": "text/x-python",
   "name": "python",
   "nbconvert_exporter": "python",
   "pygments_lexer": "ipython2",
   "version": "2.7.13"
  }
 },
 "nbformat": 4,
 "nbformat_minor": 0
}
