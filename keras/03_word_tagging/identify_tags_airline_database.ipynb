{
 "cells": [
  {
   "cell_type": "markdown",
   "metadata": {},
   "source": [
    "# Word tagging exercice\n"
   ]
  },
  {
   "cell_type": "code",
   "execution_count": 38,
   "metadata": {
    "collapsed": false
   },
   "outputs": [
    {
     "name": "stdout",
     "output_type": "stream",
     "text": [
      "1.1.2\n"
     ]
    }
   ],
   "source": [
    "print(keras.__version__)"
   ]
  },
  {
   "cell_type": "code",
   "execution_count": 9,
   "metadata": {
    "collapsed": false
   },
   "outputs": [],
   "source": [
    "import numpy as np \n",
    "\n",
    "import pickle\n",
    "\n",
    "atis_file = '/Users/jorge/data/training/text/atis/atis.pkl'\n",
    "with open(atis_file,'rb') as f:\n",
    "    train, test, dicts = pickle.load(f, encoding='bytes')\n"
   ]
  },
  {
   "cell_type": "code",
   "execution_count": 14,
   "metadata": {
    "collapsed": false
   },
   "outputs": [
    {
     "name": "stdout",
     "output_type": "stream",
     "text": [
      "dict_keys([b'tables2idx', b'words2idx', b'labels2idx'])\n"
     ]
    }
   ],
   "source": [
    "print(dicts.keys())"
   ]
  },
  {
   "cell_type": "markdown",
   "metadata": {},
   "source": [
    "## train / test sets:\n",
    "    - X: list of sequences\n",
    "    - ne: PENDING\n",
    "    - label: name entities\n",
    "## Dictionaries\n",
    "    - labels2idx\n",
    "    - words2idx"
   ]
  },
  {
   "cell_type": "code",
   "execution_count": 17,
   "metadata": {
    "collapsed": false,
    "scrolled": true
   },
   "outputs": [
    {
     "name": "stdout",
     "output_type": "stream",
     "text": [
      "train\n",
      "                               WORD                               LABEL\n",
      "b'                                  i' b'                                  O'\n",
      "b'                               want' b'                                  O'\n",
      "b'                                 to' b'                                  O'\n",
      "b'                                fly' b'                                  O'\n",
      "b'                               from' b'                                  O'\n",
      "b'                             boston' b'                B-fromloc.city_name'\n",
      "b'                                 at' b'                                  O'\n",
      "b'                    DIGITDIGITDIGIT' b'                 B-depart_time.time'\n",
      "b'                                 am' b'                 I-depart_time.time'\n",
      "b'                                and' b'                                  O'\n",
      "b'                             arrive' b'                                  O'\n",
      "b'                                 in' b'                                  O'\n",
      "b'                             denver' b'                  B-toloc.city_name'\n",
      "b'                                 at' b'                                  O'\n",
      "b'               DIGITDIGITDIGITDIGIT' b'                 B-arrive_time.time'\n",
      "b'                                 in' b'                                  O'\n",
      "b'                                the' b'                                  O'\n",
      "b'                            morning' b'        B-arrive_time.period_of_day'\n",
      "\n",
      "************************************************************\n",
      "\n",
      "                               WORD                               LABEL\n",
      "b'                               what' b'                                  O'\n",
      "b'                            flights' b'                                  O'\n",
      "b'                                are' b'                                  O'\n",
      "b'                          available' b'                                  O'\n",
      "b'                               from' b'                                  O'\n",
      "b'                         pittsburgh' b'                B-fromloc.city_name'\n",
      "b'                                 to' b'                                  O'\n",
      "b'                          baltimore' b'                  B-toloc.city_name'\n",
      "b'                                 on' b'                                  O'\n",
      "b'                           thursday' b'             B-depart_date.day_name'\n",
      "b'                            morning' b'        B-depart_time.period_of_day'\n",
      "\n",
      "************************************************************\n",
      "\n",
      "                               WORD                               LABEL\n",
      "b'                               what' b'                                  O'\n",
      "b'                                 is' b'                                  O'\n",
      "b'                                the' b'                                  O'\n",
      "b'                            arrival' b'                      B-flight_time'\n",
      "b'                               time' b'                      I-flight_time'\n",
      "b'                                 in' b'                                  O'\n",
      "b'                                san' b'                B-fromloc.city_name'\n",
      "b'                          francisco' b'                I-fromloc.city_name'\n",
      "b'                                for' b'                                  O'\n",
      "b'                                the' b'                                  O'\n",
      "b'                    DIGITDIGITDIGIT' b'                 B-depart_time.time'\n",
      "b'                                 am' b'                 I-depart_time.time'\n",
      "b'                             flight' b'                                  O'\n",
      "b'                            leaving' b'                                  O'\n",
      "b'                         washington' b'                B-fromloc.city_name'\n",
      "\n",
      "************************************************************\n",
      "\n",
      "                               WORD                               LABEL\n",
      "b'                           cheapest' b'                    B-cost_relative'\n",
      "b'                            airfare' b'                                  O'\n",
      "b'                               from' b'                                  O'\n",
      "b'                             tacoma' b'                B-fromloc.city_name'\n",
      "b'                                 to' b'                                  O'\n",
      "b'                            orlando' b'                  B-toloc.city_name'\n",
      "\n",
      "************************************************************\n",
      "\n",
      "                               WORD                               LABEL\n",
      "b'                              round' b'                       B-round_trip'\n",
      "b'                               trip' b'                       I-round_trip'\n",
      "b'                              fares' b'                                  O'\n",
      "b'                               from' b'                                  O'\n",
      "b'                         pittsburgh' b'                B-fromloc.city_name'\n",
      "b'                                 to' b'                                  O'\n",
      "b'                       philadelphia' b'                  B-toloc.city_name'\n",
      "b'                              under' b'                    B-cost_relative'\n",
      "b'               DIGITDIGITDIGITDIGIT' b'                      B-fare_amount'\n",
      "b'                            dollars' b'                      I-fare_amount'\n",
      "\n",
      "************************************************************\n",
      "\n",
      "test\n",
      "                               WORD                               LABEL\n",
      "b'                                  i' b'                                  O'\n",
      "b'                              would' b'                                  O'\n",
      "b'                               like' b'                                  O'\n",
      "b'                                 to' b'                                  O'\n",
      "b'                               find' b'                                  O'\n",
      "b'                                  a' b'                                  O'\n",
      "b'                             flight' b'                                  O'\n",
      "b'                               from' b'                                  O'\n",
      "b'                          charlotte' b'                B-fromloc.city_name'\n",
      "b'                                 to' b'                                  O'\n",
      "b'                                las' b'                  B-toloc.city_name'\n",
      "b'                              vegas' b'                  I-toloc.city_name'\n",
      "b'                               that' b'                                  O'\n",
      "b'                              makes' b'                                  O'\n",
      "b'                                  a' b'                                  O'\n",
      "b'                               stop' b'                                  O'\n",
      "b'                                 in' b'                                  O'\n",
      "b'                                st.' b'                B-stoploc.city_name'\n",
      "b'                              louis' b'                I-stoploc.city_name'\n",
      "\n",
      "************************************************************\n",
      "\n",
      "                               WORD                               LABEL\n",
      "b'                                 on' b'                                  O'\n",
      "b'                              april' b'           B-depart_date.month_name'\n",
      "b'                              first' b'           B-depart_date.day_number'\n",
      "b'                                  i' b'                                  O'\n",
      "b'                               need' b'                                  O'\n",
      "b'                                  a' b'                                  O'\n",
      "b'                             ticket' b'                                  O'\n",
      "b'                               from' b'                                  O'\n",
      "b'                             tacoma' b'                B-fromloc.city_name'\n",
      "b'                                 to' b'                                  O'\n",
      "b'                                san' b'                  B-toloc.city_name'\n",
      "b'                               jose' b'                  I-toloc.city_name'\n",
      "b'                          departing' b'                                  O'\n",
      "b'                             before' b'        B-depart_time.time_relative'\n",
      "b'                              DIGIT' b'                 B-depart_time.time'\n",
      "b'                                 am' b'                 I-depart_time.time'\n",
      "\n",
      "************************************************************\n",
      "\n",
      "                               WORD                               LABEL\n",
      "b'                                 on' b'                                  O'\n",
      "b'                              april' b'           B-depart_date.month_name'\n",
      "b'                              first' b'           B-depart_date.day_number'\n",
      "b'                                  i' b'                                  O'\n",
      "b'                               need' b'                                  O'\n",
      "b'                                  a' b'                                  O'\n",
      "b'                             flight' b'                                  O'\n",
      "b'                              going' b'                                  O'\n",
      "b'                               from' b'                                  O'\n",
      "b'                            phoenix' b'                B-fromloc.city_name'\n",
      "b'                                 to' b'                                  O'\n",
      "b'                                san' b'                  B-toloc.city_name'\n",
      "b'                              diego' b'                  I-toloc.city_name'\n",
      "\n",
      "************************************************************\n",
      "\n",
      "                               WORD                               LABEL\n",
      "b'                                  i' b'                                  O'\n",
      "b'                              would' b'                                  O'\n",
      "b'                               like' b'                                  O'\n",
      "b'                                  a' b'                                  O'\n",
      "b'                             flight' b'                                  O'\n",
      "b'                          traveling' b'                                  O'\n",
      "b'                                one' b'                       B-round_trip'\n",
      "b'                                way' b'                       I-round_trip'\n",
      "b'                               from' b'                                  O'\n",
      "b'                            phoenix' b'                B-fromloc.city_name'\n",
      "b'                                 to' b'                                  O'\n",
      "b'                                san' b'                  B-toloc.city_name'\n",
      "b'                              diego' b'                  I-toloc.city_name'\n",
      "b'                                 on' b'                                  O'\n",
      "b'                              april' b'           B-depart_date.month_name'\n",
      "b'                              first' b'           B-depart_date.day_number'\n",
      "\n",
      "************************************************************\n",
      "\n",
      "                               WORD                               LABEL\n",
      "b'                                  i' b'                                  O'\n",
      "b'                              would' b'                                  O'\n",
      "b'                               like' b'                                  O'\n",
      "b'                                  a' b'                                  O'\n",
      "b'                             flight' b'                                  O'\n",
      "b'                               from' b'                                  O'\n",
      "b'                            orlando' b'                B-fromloc.city_name'\n",
      "b'                                 to' b'                                  O'\n",
      "b'                               salt' b'                  B-toloc.city_name'\n",
      "b'                               lake' b'                  I-toloc.city_name'\n",
      "b'                               city' b'                  I-toloc.city_name'\n",
      "b'                                for' b'                                  O'\n",
      "b'                              april' b'           B-depart_date.month_name'\n",
      "b'                              first' b'           B-depart_date.day_number'\n",
      "b'                                 on' b'                                  O'\n",
      "b'                              delta' b'                     B-airline_name'\n",
      "b'                           airlines' b'                     I-airline_name'\n",
      "\n",
      "************************************************************\n",
      "\n"
     ]
    }
   ],
   "source": [
    "# Visualize data\n",
    "\n",
    "#w2idx, ne2idx, labels2idx = dicts['words2idx'], dicts['tables2idx'], dicts['labels2idx']\n",
    "#idx2w  = dict((v,k) for k,v in w2idx.iteritems())\n",
    "#idx2ne = dict((v,k) for k,v in ne2idx.iteritems())\n",
    "#idx2la = dict((v,k) for k,v in labels2idx.iteritems())\n",
    "\n",
    "\n",
    "w2idx, ne2idx, labels2idx = dicts[b'words2idx'], dicts[b'tables2idx'], dicts[b'labels2idx']\n",
    "    \n",
    "idx2w  = dict((v,k) for k,v in w2idx.items())\n",
    "idx2ne = dict((v,k) for k,v in ne2idx.items())\n",
    "idx2la = dict((v,k) for k,v in labels2idx.items())\n",
    "\n",
    "train_x, train_ne, train_label = train\n",
    "test_x,  test_ne,  test_label  = test\n",
    "wlength = 35\n",
    "\n",
    "for e in ['train','test']:\n",
    "    print(e)\n",
    "    for sw, se, sl in zip(eval(e+'_x')[:5], eval(e+'_ne')[:5], eval(e+'_label')[:10]):\n",
    "        print( 'WORD'.rjust(wlength), 'LABEL'.rjust(wlength))\n",
    "        for wx, la in zip(sw, sl): print( idx2w[wx].rjust(wlength), idx2la[la].rjust(wlength))\n",
    "        print( '\\n'+'**'*30+'\\n')\n"
   ]
  },
  {
   "cell_type": "markdown",
   "metadata": {},
   "source": [
    "# Model\n",
    "\n",
    "For each word in the sentence, predict the label\n",
    "\n",
    "First, for each word in each sentence, generate  the context with the previous and next words in the sentence.\n",
    "This create a train dataset of num_sentences*"
   ]
  },
  {
   "cell_type": "code",
   "execution_count": 18,
   "metadata": {
    "collapsed": false
   },
   "outputs": [
    {
     "data": {
      "text/plain": [
       "[[572, 0, 1], [0, 1, 2], [1, 2, 3], [2, 3, 4], [3, 4, 572]]"
      ]
     },
     "execution_count": 18,
     "metadata": {},
     "output_type": "execute_result"
    }
   ],
   "source": [
    "def context(l, size=3):\n",
    "    l = list(l)\n",
    "    lpadded = size // 2 * [572] + l + size // 2 * [572]\n",
    "    out = [lpadded[i:(i + size)] for i in range(len(l))]\n",
    "    return out\n",
    "\n",
    "x = np.array([0, 1, 2, 3, 4], dtype=np.int32)\n",
    "context(x)"
   ]
  },
  {
   "cell_type": "code",
   "execution_count": 92,
   "metadata": {
    "collapsed": false
   },
   "outputs": [
    {
     "data": {
      "text/plain": [
       "1"
      ]
     },
     "execution_count": 92,
     "metadata": {},
     "output_type": "execute_result"
    }
   ],
   "source": [
    "3 / 2"
   ]
  },
  {
   "cell_type": "code",
   "execution_count": 19,
   "metadata": {
    "collapsed": false
   },
   "outputs": [
    {
     "name": "stdout",
     "output_type": "stream",
     "text": [
      "(56590, 10) (9198, 10)\n"
     ]
    }
   ],
   "source": [
    "X_trn=[]\n",
    "for s in train_x:\n",
    "    X_trn += context(s,size=10)\n",
    "X_trn = np.array(X_trn)\n",
    "\n",
    "X_tst=[]\n",
    "for s in test_x:\n",
    "    X_tst += context(s,size=10)\n",
    "X_tst = np.array(X_tst)\n",
    "\n",
    "print(X_trn.shape, X_tst.shape)"
   ]
  },
  {
   "cell_type": "code",
   "execution_count": 20,
   "metadata": {
    "collapsed": false
   },
   "outputs": [
    {
     "name": "stdout",
     "output_type": "stream",
     "text": [
      "(56590,)\n",
      "(9198,)\n"
     ]
    }
   ],
   "source": [
    "y_trn=[]\n",
    "for s in train_label:\n",
    "    y_trn += list(s)\n",
    "y_trn = np.array(y_trn)\n",
    "print(y_trn.shape)\n",
    "\n",
    "y_tst=[]\n",
    "for s in test_label:\n",
    "    y_tst += list(s)\n",
    "y_tst = np.array(y_tst)\n",
    "print(y_tst.shape)"
   ]
  },
  {
   "cell_type": "code",
   "execution_count": 21,
   "metadata": {
    "collapsed": false
   },
   "outputs": [
    {
     "name": "stdout",
     "output_type": "stream",
     "text": [
      "121\n",
      "572\n"
     ]
    }
   ],
   "source": [
    "print(len(set(y_trn)))\n",
    "print(len(set(idx2w)))"
   ]
  },
  {
   "cell_type": "code",
   "execution_count": 26,
   "metadata": {
    "collapsed": false
   },
   "outputs": [],
   "source": [
    "#Model parameters\n",
    "\n",
    "input_seq_length = X_trn.shape[1]\n",
    "input_vocabulary_size = len(set(idx2w)) + 1\n",
    "output_length = 127\n",
    "num_hidden_lstm = 128"
   ]
  },
  {
   "cell_type": "code",
   "execution_count": 27,
   "metadata": {
    "collapsed": false
   },
   "outputs": [
    {
     "name": "stdout",
     "output_type": "stream",
     "text": [
      "Build model 1\n",
      "____________________________________________________________________________________________________\n",
      "Layer (type)                     Output Shape          Param #     Connected to                     \n",
      "====================================================================================================\n",
      "prev (InputLayer)                (None, 10)            0                                            \n",
      "____________________________________________________________________________________________________\n",
      "embedding_2 (Embedding)          (None, 10, 64)        36672       prev[0][0]                       \n",
      "____________________________________________________________________________________________________\n",
      "lstm_2 (LSTM)                    (None, 128)           98816       embedding_2[0][0]                \n",
      "____________________________________________________________________________________________________\n",
      "dense_2 (Dense)                  (None, 127)           16383       lstm_2[0][0]                     \n",
      "====================================================================================================\n",
      "Total params: 151871\n",
      "____________________________________________________________________________________________________\n"
     ]
    }
   ],
   "source": [
    "# build the model: Simple LSTM with embedings\n",
    "from keras.models import Model\n",
    "from keras.layers import Input, Dense, Dropout, LSTM, Embedding\n",
    "\n",
    "print('Build model 1')\n",
    "seq_input = Input(shape=([input_seq_length]), name='prev') \n",
    "    \n",
    "embeds = Embedding(input_vocabulary_size, 64)(seq_input)\n",
    "    \n",
    "# apply forwards LSTM\n",
    "#forwards1 = LSTM(512, dropout_W=0.3, dropout_U=0.3, return_sequences=True)(embed)\n",
    "\n",
    "forwards = LSTM(num_hidden_lstm, return_sequences=False)(embeds)\n",
    "\n",
    "output = Dense(output_length, activation='softmax')(forwards)\n",
    "\n",
    "model1 = Model(input=seq_input, output=output)\n",
    "model1.summary()\n",
    "\n",
    "# Optimizer\n",
    "model1.compile(loss='sparse_categorical_crossentropy', optimizer='adam', metrics=['accuracy'])\n"
   ]
  },
  {
   "cell_type": "code",
   "execution_count": 28,
   "metadata": {
    "collapsed": false
   },
   "outputs": [
    {
     "ename": "ImportError",
     "evalue": "No module named 'pydot'",
     "output_type": "error",
     "traceback": [
      "\u001b[0;31m---------------------------------------------------------------------------\u001b[0m",
      "\u001b[0;31mImportError\u001b[0m                               Traceback (most recent call last)",
      "\u001b[0;32m/Users/jorge/anaconda3/lib/python3.5/site-packages/keras/utils/visualize_util.py\u001b[0m in \u001b[0;36m<module>\u001b[0;34m()\u001b[0m\n\u001b[1;32m      7\u001b[0m     \u001b[0;31m# pydot-ng is a fork of pydot that is better maintained\u001b[0m\u001b[0;34m\u001b[0m\u001b[0;34m\u001b[0m\u001b[0m\n\u001b[0;32m----> 8\u001b[0;31m     \u001b[0;32mimport\u001b[0m \u001b[0mpydot_ng\u001b[0m \u001b[0;32mas\u001b[0m \u001b[0mpydot\u001b[0m\u001b[0;34m\u001b[0m\u001b[0m\n\u001b[0m\u001b[1;32m      9\u001b[0m \u001b[0;32mexcept\u001b[0m \u001b[0mImportError\u001b[0m\u001b[0;34m:\u001b[0m\u001b[0;34m\u001b[0m\u001b[0m\n",
      "\u001b[0;31mImportError\u001b[0m: No module named 'pydot_ng'",
      "\nDuring handling of the above exception, another exception occurred:\n",
      "\u001b[0;31mImportError\u001b[0m                               Traceback (most recent call last)",
      "\u001b[0;32m<ipython-input-28-891b4da1974e>\u001b[0m in \u001b[0;36m<module>\u001b[0;34m()\u001b[0m\n\u001b[1;32m      2\u001b[0m \u001b[0;31m#Plot the model graph\u001b[0m\u001b[0;34m\u001b[0m\u001b[0;34m\u001b[0m\u001b[0m\n\u001b[1;32m      3\u001b[0m \u001b[0;32mfrom\u001b[0m \u001b[0mIPython\u001b[0m\u001b[0;34m.\u001b[0m\u001b[0mdisplay\u001b[0m \u001b[0;32mimport\u001b[0m \u001b[0mSVG\u001b[0m\u001b[0;34m\u001b[0m\u001b[0m\n\u001b[0;32m----> 4\u001b[0;31m \u001b[0;32mfrom\u001b[0m \u001b[0mkeras\u001b[0m\u001b[0;34m.\u001b[0m\u001b[0mutils\u001b[0m\u001b[0;34m.\u001b[0m\u001b[0mvisualize_util\u001b[0m \u001b[0;32mimport\u001b[0m \u001b[0mmodel_to_dot\u001b[0m\u001b[0;34m\u001b[0m\u001b[0m\n\u001b[0m\u001b[1;32m      5\u001b[0m \u001b[0;34m\u001b[0m\u001b[0m\n\u001b[1;32m      6\u001b[0m \u001b[0mSVG\u001b[0m\u001b[0;34m(\u001b[0m\u001b[0mmodel_to_dot\u001b[0m\u001b[0;34m(\u001b[0m\u001b[0mmodel1\u001b[0m\u001b[0;34m)\u001b[0m\u001b[0;34m.\u001b[0m\u001b[0mcreate\u001b[0m\u001b[0;34m(\u001b[0m\u001b[0mprog\u001b[0m\u001b[0;34m=\u001b[0m\u001b[0;34m'dot'\u001b[0m\u001b[0;34m,\u001b[0m \u001b[0mformat\u001b[0m\u001b[0;34m=\u001b[0m\u001b[0;34m'svg'\u001b[0m\u001b[0;34m)\u001b[0m\u001b[0;34m)\u001b[0m\u001b[0;34m\u001b[0m\u001b[0m\n",
      "\u001b[0;32m/Users/jorge/anaconda3/lib/python3.5/site-packages/keras/utils/visualize_util.py\u001b[0m in \u001b[0;36m<module>\u001b[0;34m()\u001b[0m\n\u001b[1;32m      9\u001b[0m \u001b[0;32mexcept\u001b[0m \u001b[0mImportError\u001b[0m\u001b[0;34m:\u001b[0m\u001b[0;34m\u001b[0m\u001b[0m\n\u001b[1;32m     10\u001b[0m     \u001b[0;31m# fall back on pydot if necessary\u001b[0m\u001b[0;34m\u001b[0m\u001b[0;34m\u001b[0m\u001b[0m\n\u001b[0;32m---> 11\u001b[0;31m     \u001b[0;32mimport\u001b[0m \u001b[0mpydot\u001b[0m\u001b[0;34m\u001b[0m\u001b[0m\n\u001b[0m\u001b[1;32m     12\u001b[0m \u001b[0;32mif\u001b[0m \u001b[0;32mnot\u001b[0m \u001b[0mpydot\u001b[0m\u001b[0;34m.\u001b[0m\u001b[0mfind_graphviz\u001b[0m\u001b[0;34m(\u001b[0m\u001b[0;34m)\u001b[0m\u001b[0;34m:\u001b[0m\u001b[0;34m\u001b[0m\u001b[0m\n\u001b[1;32m     13\u001b[0m     raise RuntimeError('Failed to import pydot. You must install pydot'\n",
      "\u001b[0;31mImportError\u001b[0m: No module named 'pydot'"
     ]
    }
   ],
   "source": [
    "#Print the model\n",
    "#Plot the model graph\n",
    "from IPython.display import SVG\n",
    "from keras.utils.visualize_util import model_to_dot\n",
    "\n",
    "SVG(model_to_dot(model1).create(prog='dot', format='svg'))"
   ]
  },
  {
   "cell_type": "code",
   "execution_count": 29,
   "metadata": {
    "collapsed": false
   },
   "outputs": [
    {
     "name": "stdout",
     "output_type": "stream",
     "text": [
      "Train on 56590 samples, validate on 9198 samples\n",
      "Epoch 1/10\n",
      "56590/56590 [==============================] - 23s - loss: 1.5154 - acc: 0.6893 - val_loss: 1.0233 - val_acc: 0.7595\n",
      "Epoch 2/10\n",
      "56590/56590 [==============================] - 23s - loss: 0.6655 - acc: 0.8387 - val_loss: 0.5498 - val_acc: 0.8776\n",
      "Epoch 3/10\n",
      "56590/56590 [==============================] - 23s - loss: 0.3561 - acc: 0.9169 - val_loss: 0.3727 - val_acc: 0.9110\n",
      "Epoch 4/10\n",
      "56590/56590 [==============================] - 24s - loss: 0.2172 - acc: 0.9500 - val_loss: 0.2943 - val_acc: 0.9376\n",
      "Epoch 5/10\n",
      "56590/56590 [==============================] - 23s - loss: 0.1529 - acc: 0.9657 - val_loss: 0.2396 - val_acc: 0.9497\n",
      "Epoch 6/10\n",
      "56590/56590 [==============================] - 23s - loss: 0.1130 - acc: 0.9756 - val_loss: 0.1994 - val_acc: 0.9611\n",
      "Epoch 7/10\n",
      "56590/56590 [==============================] - 23s - loss: 0.0911 - acc: 0.9802 - val_loss: 0.1801 - val_acc: 0.9634\n",
      "Epoch 8/10\n",
      "56590/56590 [==============================] - 24s - loss: 0.0718 - acc: 0.9841 - val_loss: 0.1707 - val_acc: 0.9654\n",
      "Epoch 9/10\n",
      "56590/56590 [==============================] - 24s - loss: 0.0614 - acc: 0.9863 - val_loss: 0.1748 - val_acc: 0.9640\n",
      "Epoch 10/10\n",
      "56590/56590 [==============================] - 24s - loss: 0.0515 - acc: 0.9881 - val_loss: 0.1602 - val_acc: 0.9684\n"
     ]
    }
   ],
   "source": [
    "#Fit model\n",
    "history = model1.fit(X_trn, y_trn, batch_size=128, nb_epoch=10,\n",
    "           validation_data=(X_tst, y_tst))\n"
   ]
  },
  {
   "cell_type": "code",
   "execution_count": 37,
   "metadata": {
    "collapsed": false
   },
   "outputs": [
    {
     "name": "stdout",
     "output_type": "stream",
     "text": [
      "1.1.2\n"
     ]
    }
   ],
   "source": []
  },
  {
   "cell_type": "code",
   "execution_count": 34,
   "metadata": {
    "collapsed": false
   },
   "outputs": [
    {
     "name": "stdout",
     "output_type": "stream",
     "text": [
      "Build model 2\n",
      "____________________________________________________________________________________________________\n",
      "Layer (type)                     Output Shape          Param #     Connected to                     \n",
      "====================================================================================================\n",
      "prev (InputLayer)                (None, 10)            0                                            \n",
      "____________________________________________________________________________________________________\n",
      "embedding_5 (Embedding)          (None, 10, 64)        36672       prev[0][0]                       \n",
      "____________________________________________________________________________________________________\n",
      "bidirectional_1 (Bidirectional)  (None, 256)           197632      embedding_5[0][0]                \n",
      "____________________________________________________________________________________________________\n",
      "dense_3 (Dense)                  (None, 127)           32639       bidirectional_1[0][0]            \n",
      "====================================================================================================\n",
      "Total params: 266943\n",
      "____________________________________________________________________________________________________\n"
     ]
    }
   ],
   "source": [
    "# Bidirectional\n",
    "# build the model: Simple LSTM with embedings\n",
    "from keras.models import Model\n",
    "from keras.layers import Input, Dense, Dropout, LSTM, Embedding, Merge, Bidirectional\n",
    "\n",
    "print('Build model 2')\n",
    "seq_input = Input(shape=([input_seq_length]), name='prev') \n",
    "    \n",
    "embeds = Embedding(input_vocabulary_size, 64)(seq_input)\n",
    "    \n",
    "# Bidirectional wrapper\n",
    "rnn_out = Bidirectional(LSTM(num_hidden_lstm))(embeds)\n",
    "\n",
    "output = Dense(output_length, activation='softmax')(rnn_out)\n",
    "\n",
    "model2 = Model(input=seq_input, output=output)\n",
    "model2.summary()\n",
    "\n",
    "# Optimizer\n",
    "model2.compile(loss='sparse_categorical_crossentropy', optimizer='adam', metrics=['accuracy'])\n"
   ]
  },
  {
   "cell_type": "code",
   "execution_count": 39,
   "metadata": {
    "collapsed": false
   },
   "outputs": [
    {
     "name": "stdout",
     "output_type": "stream",
     "text": [
      "Train on 56590 samples, validate on 9198 samples\n",
      "Epoch 1/10\n",
      "56590/56590 [==============================] - 51s - loss: 1.3319 - acc: 0.7182 - val_loss: 0.7190 - val_acc: 0.8200\n",
      "Epoch 2/10\n",
      "56590/56590 [==============================] - 50s - loss: 0.3801 - acc: 0.9043 - val_loss: 0.3315 - val_acc: 0.9213\n",
      "Epoch 3/10\n",
      "56590/56590 [==============================] - 52s - loss: 0.1627 - acc: 0.9610 - val_loss: 0.2157 - val_acc: 0.9572\n",
      "Epoch 4/10\n",
      "56590/56590 [==============================] - 52s - loss: 0.0952 - acc: 0.9773 - val_loss: 0.1759 - val_acc: 0.9653\n",
      "Epoch 5/10\n",
      "56590/56590 [==============================] - 52s - loss: 0.0682 - acc: 0.9833 - val_loss: 0.1738 - val_acc: 0.9649\n",
      "Epoch 6/10\n",
      "56590/56590 [==============================] - 52s - loss: 0.0524 - acc: 0.9872 - val_loss: 0.1892 - val_acc: 0.9624\n",
      "Epoch 7/10\n",
      "56590/56590 [==============================] - 52s - loss: 0.0434 - acc: 0.9885 - val_loss: 0.1776 - val_acc: 0.9669\n",
      "Epoch 8/10\n",
      "56590/56590 [==============================] - 52s - loss: 0.0347 - acc: 0.9909 - val_loss: 0.1802 - val_acc: 0.9694\n",
      "Epoch 9/10\n",
      "56590/56590 [==============================] - 53s - loss: 0.0302 - acc: 0.9916 - val_loss: 0.1707 - val_acc: 0.9718\n",
      "Epoch 10/10\n",
      "56590/56590 [==============================] - 53s - loss: 0.0239 - acc: 0.9933 - val_loss: 0.1646 - val_acc: 0.9721\n"
     ]
    }
   ],
   "source": [
    "#Fit model\n",
    "history2 = model2.fit(X_trn, y_trn, batch_size=128, nb_epoch=10,\n",
    "           validation_data=(X_tst, y_tst))\n"
   ]
  },
  {
   "cell_type": "code",
   "execution_count": null,
   "metadata": {
    "collapsed": true
   },
   "outputs": [],
   "source": []
  }
 ],
 "metadata": {
  "anaconda-cloud": {},
  "kernelspec": {
   "display_name": "Python [conda root]",
   "language": "python",
   "name": "conda-root-py"
  },
  "language_info": {
   "codemirror_mode": {
    "name": "ipython",
    "version": 3
   },
   "file_extension": ".py",
   "mimetype": "text/x-python",
   "name": "python",
   "nbconvert_exporter": "python",
   "pygments_lexer": "ipython3",
   "version": "3.5.2"
  }
 },
 "nbformat": 4,
 "nbformat_minor": 1
}
