{
 "cells": [
  {
   "cell_type": "markdown",
   "metadata": {},
   "source": [
    "# Word tagging exercice\n"
   ]
  },
  {
   "cell_type": "code",
   "execution_count": 1,
   "metadata": {
    "collapsed": false
   },
   "outputs": [
    {
     "name": "stderr",
     "output_type": "stream",
     "text": [
      "Using TensorFlow backend.\n"
     ]
    }
   ],
   "source": [
    "from __future__ import print_function\n",
    "\n",
    "import tensorflow as tf\n",
    "from keras.backend.tensorflow_backend import set_session\n",
    "config = tf.ConfigProto()\n",
    "config.gpu_options.per_process_gpu_memory_fraction = 0.3\n",
    "set_session(tf.Session(config=config))\n"
   ]
  },
  {
   "cell_type": "markdown",
   "metadata": {},
   "source": [
    "## Data"
   ]
  },
  {
   "cell_type": "code",
   "execution_count": 2,
   "metadata": {
    "collapsed": false
   },
   "outputs": [],
   "source": [
    "import numpy as np \n",
    "\n",
    "import pickle\n",
    "\n",
    "atis_file = '/home/ubuntu/data/training/text/atis/atis.pkl'\n",
    "with open(atis_file,'rb') as f:\n",
    "    #train, test, dicts = pickle.load(f, encoding='bytes')\n",
    "    train, test, dicts = pickle.load(f)\n"
   ]
  },
  {
   "cell_type": "code",
   "execution_count": 3,
   "metadata": {
    "collapsed": false
   },
   "outputs": [
    {
     "name": "stdout",
     "output_type": "stream",
     "text": [
      "['labels2idx', 'tables2idx', 'words2idx']\n"
     ]
    }
   ],
   "source": [
    "print(dicts.keys())"
   ]
  },
  {
   "cell_type": "markdown",
   "metadata": {},
   "source": [
    "## train / test sets:\n",
    "    - X: list of sequences\n",
    "    - ne: PENDING\n",
    "    - label: name entities\n",
    "## Dictionaries\n",
    "    - labels2idx\n",
    "    - words2idx"
   ]
  },
  {
   "cell_type": "code",
   "execution_count": 5,
   "metadata": {
    "collapsed": false,
    "scrolled": true
   },
   "outputs": [
    {
     "name": "stdout",
     "output_type": "stream",
     "text": [
      "train\n",
      "                               WORD                               LABEL\n",
      "                                  i                                   O\n",
      "                               want                                   O\n",
      "                                 to                                   O\n",
      "                                fly                                   O\n",
      "                               from                                   O\n",
      "                             boston                 B-fromloc.city_name\n",
      "                                 at                                   O\n",
      "                    DIGITDIGITDIGIT                  B-depart_time.time\n",
      "                                 am                  I-depart_time.time\n",
      "                                and                                   O\n",
      "                             arrive                                   O\n",
      "                                 in                                   O\n",
      "                             denver                   B-toloc.city_name\n",
      "                                 at                                   O\n",
      "               DIGITDIGITDIGITDIGIT                  B-arrive_time.time\n",
      "                                 in                                   O\n",
      "                                the                                   O\n",
      "                            morning         B-arrive_time.period_of_day\n",
      "\n",
      "************************************************************\n",
      "\n",
      "                               WORD                               LABEL\n",
      "                               what                                   O\n",
      "                            flights                                   O\n",
      "                                are                                   O\n",
      "                          available                                   O\n",
      "                               from                                   O\n",
      "                         pittsburgh                 B-fromloc.city_name\n",
      "                                 to                                   O\n",
      "                          baltimore                   B-toloc.city_name\n",
      "                                 on                                   O\n",
      "                           thursday              B-depart_date.day_name\n",
      "                            morning         B-depart_time.period_of_day\n",
      "\n",
      "************************************************************\n",
      "\n",
      "                               WORD                               LABEL\n",
      "                               what                                   O\n",
      "                                 is                                   O\n",
      "                                the                                   O\n",
      "                            arrival                       B-flight_time\n",
      "                               time                       I-flight_time\n",
      "                                 in                                   O\n",
      "                                san                 B-fromloc.city_name\n",
      "                          francisco                 I-fromloc.city_name\n",
      "                                for                                   O\n",
      "                                the                                   O\n",
      "                    DIGITDIGITDIGIT                  B-depart_time.time\n",
      "                                 am                  I-depart_time.time\n",
      "                             flight                                   O\n",
      "                            leaving                                   O\n",
      "                         washington                 B-fromloc.city_name\n",
      "\n",
      "************************************************************\n",
      "\n",
      "                               WORD                               LABEL\n",
      "                           cheapest                     B-cost_relative\n",
      "                            airfare                                   O\n",
      "                               from                                   O\n",
      "                             tacoma                 B-fromloc.city_name\n",
      "                                 to                                   O\n",
      "                            orlando                   B-toloc.city_name\n",
      "\n",
      "************************************************************\n",
      "\n",
      "                               WORD                               LABEL\n",
      "                              round                        B-round_trip\n",
      "                               trip                        I-round_trip\n",
      "                              fares                                   O\n",
      "                               from                                   O\n",
      "                         pittsburgh                 B-fromloc.city_name\n",
      "                                 to                                   O\n",
      "                       philadelphia                   B-toloc.city_name\n",
      "                              under                     B-cost_relative\n",
      "               DIGITDIGITDIGITDIGIT                       B-fare_amount\n",
      "                            dollars                       I-fare_amount\n",
      "\n",
      "************************************************************\n",
      "\n",
      "test\n",
      "                               WORD                               LABEL\n",
      "                                  i                                   O\n",
      "                              would                                   O\n",
      "                               like                                   O\n",
      "                                 to                                   O\n",
      "                               find                                   O\n",
      "                                  a                                   O\n",
      "                             flight                                   O\n",
      "                               from                                   O\n",
      "                          charlotte                 B-fromloc.city_name\n",
      "                                 to                                   O\n",
      "                                las                   B-toloc.city_name\n",
      "                              vegas                   I-toloc.city_name\n",
      "                               that                                   O\n",
      "                              makes                                   O\n",
      "                                  a                                   O\n",
      "                               stop                                   O\n",
      "                                 in                                   O\n",
      "                                st.                 B-stoploc.city_name\n",
      "                              louis                 I-stoploc.city_name\n",
      "\n",
      "************************************************************\n",
      "\n",
      "                               WORD                               LABEL\n",
      "                                 on                                   O\n",
      "                              april            B-depart_date.month_name\n",
      "                              first            B-depart_date.day_number\n",
      "                                  i                                   O\n",
      "                               need                                   O\n",
      "                                  a                                   O\n",
      "                             ticket                                   O\n",
      "                               from                                   O\n",
      "                             tacoma                 B-fromloc.city_name\n",
      "                                 to                                   O\n",
      "                                san                   B-toloc.city_name\n",
      "                               jose                   I-toloc.city_name\n",
      "                          departing                                   O\n",
      "                             before         B-depart_time.time_relative\n",
      "                              DIGIT                  B-depart_time.time\n",
      "                                 am                  I-depart_time.time\n",
      "\n",
      "************************************************************\n",
      "\n",
      "                               WORD                               LABEL\n",
      "                                 on                                   O\n",
      "                              april            B-depart_date.month_name\n",
      "                              first            B-depart_date.day_number\n",
      "                                  i                                   O\n",
      "                               need                                   O\n",
      "                                  a                                   O\n",
      "                             flight                                   O\n",
      "                              going                                   O\n",
      "                               from                                   O\n",
      "                            phoenix                 B-fromloc.city_name\n",
      "                                 to                                   O\n",
      "                                san                   B-toloc.city_name\n",
      "                              diego                   I-toloc.city_name\n",
      "\n",
      "************************************************************\n",
      "\n",
      "                               WORD                               LABEL\n",
      "                                  i                                   O\n",
      "                              would                                   O\n",
      "                               like                                   O\n",
      "                                  a                                   O\n",
      "                             flight                                   O\n",
      "                          traveling                                   O\n",
      "                                one                        B-round_trip\n",
      "                                way                        I-round_trip\n",
      "                               from                                   O\n",
      "                            phoenix                 B-fromloc.city_name\n",
      "                                 to                                   O\n",
      "                                san                   B-toloc.city_name\n",
      "                              diego                   I-toloc.city_name\n",
      "                                 on                                   O\n",
      "                              april            B-depart_date.month_name\n",
      "                              first            B-depart_date.day_number\n",
      "\n",
      "************************************************************\n",
      "\n",
      "                               WORD                               LABEL\n",
      "                                  i                                   O\n",
      "                              would                                   O\n",
      "                               like                                   O\n",
      "                                  a                                   O\n",
      "                             flight                                   O\n",
      "                               from                                   O\n",
      "                            orlando                 B-fromloc.city_name\n",
      "                                 to                                   O\n",
      "                               salt                   B-toloc.city_name\n",
      "                               lake                   I-toloc.city_name\n",
      "                               city                   I-toloc.city_name\n",
      "                                for                                   O\n",
      "                              april            B-depart_date.month_name\n",
      "                              first            B-depart_date.day_number\n",
      "                                 on                                   O\n",
      "                              delta                      B-airline_name\n",
      "                           airlines                      I-airline_name\n",
      "\n",
      "************************************************************\n",
      "\n"
     ]
    }
   ],
   "source": [
    "# Visualize data\n",
    "\n",
    "#w2idx, ne2idx, labels2idx = dicts['words2idx'], dicts['tables2idx'], dicts['labels2idx']\n",
    "#idx2w  = dict((v,k) for k,v in w2idx.iteritems())\n",
    "#idx2ne = dict((v,k) for k,v in ne2idx.iteritems())\n",
    "#idx2la = dict((v,k) for k,v in labels2idx.iteritems())\n",
    "\n",
    "\n",
    "w2idx, ne2idx, labels2idx = dicts[b'words2idx'], dicts[b'tables2idx'], dicts[b'labels2idx']\n",
    "    \n",
    "idx2w  = dict((v,k) for k,v in w2idx.items())\n",
    "idx2ne = dict((v,k) for k,v in ne2idx.items())\n",
    "idx2la = dict((v,k) for k,v in labels2idx.items())\n",
    "\n",
    "train_x, train_ne, train_label = train\n",
    "test_x,  test_ne,  test_label  = test\n",
    "wlength = 35\n",
    "\n",
    "for e in ['train','test']:\n",
    "    print(e)\n",
    "    for sw, se, sl in zip(eval(e+'_x')[:5], eval(e+'_ne')[:5], eval(e+'_label')[:10]):\n",
    "        print( 'WORD'.rjust(wlength), 'LABEL'.rjust(wlength))\n",
    "        for wx, la in zip(sw, sl): print( idx2w[wx].rjust(wlength), idx2la[la].rjust(wlength))\n",
    "        print( '\\n'+'**'*30+'\\n')\n"
   ]
  },
  {
   "cell_type": "markdown",
   "metadata": {},
   "source": [
    "# Model\n",
    "\n",
    "For each word in the sentence, predict the label\n",
    "\n",
    "First, for each word in each sentence, generate  the context with the previous and next words in the sentence.\n",
    "This create a train dataset of num_sentences*"
   ]
  },
  {
   "cell_type": "code",
   "execution_count": 6,
   "metadata": {
    "collapsed": false
   },
   "outputs": [
    {
     "data": {
      "text/plain": [
       "[[572, 0, 1], [0, 1, 2], [1, 2, 3], [2, 3, 4], [3, 4, 572]]"
      ]
     },
     "execution_count": 6,
     "metadata": {},
     "output_type": "execute_result"
    }
   ],
   "source": [
    "def context(l, size=3):\n",
    "    l = list(l)\n",
    "    lpadded = size // 2 * [572] + l + size // 2 * [572]\n",
    "    out = [lpadded[i:(i + size)] for i in range(len(l))]\n",
    "    return out\n",
    "\n",
    "x = np.array([0, 1, 2, 3, 4], dtype=np.int32)\n",
    "context(x)"
   ]
  },
  {
   "cell_type": "code",
   "execution_count": 8,
   "metadata": {
    "collapsed": false
   },
   "outputs": [
    {
     "name": "stdout",
     "output_type": "stream",
     "text": [
      "(56590, 10) (9198, 10)\n"
     ]
    }
   ],
   "source": [
    "X_trn=[]\n",
    "for s in train_x:\n",
    "    X_trn += context(s,size=10)\n",
    "X_trn = np.array(X_trn)\n",
    "\n",
    "X_tst=[]\n",
    "for s in test_x:\n",
    "    X_tst += context(s,size=10)\n",
    "X_tst = np.array(X_tst)\n",
    "\n",
    "print(X_trn.shape, X_tst.shape)"
   ]
  },
  {
   "cell_type": "code",
   "execution_count": 9,
   "metadata": {
    "collapsed": false
   },
   "outputs": [
    {
     "name": "stdout",
     "output_type": "stream",
     "text": [
      "(56590,)\n",
      "(9198,)\n"
     ]
    }
   ],
   "source": [
    "y_trn=[]\n",
    "for s in train_label:\n",
    "    y_trn += list(s)\n",
    "y_trn = np.array(y_trn)\n",
    "print(y_trn.shape)\n",
    "\n",
    "y_tst=[]\n",
    "for s in test_label:\n",
    "    y_tst += list(s)\n",
    "y_tst = np.array(y_tst)\n",
    "print(y_tst.shape)"
   ]
  },
  {
   "cell_type": "code",
   "execution_count": 10,
   "metadata": {
    "collapsed": false
   },
   "outputs": [
    {
     "name": "stdout",
     "output_type": "stream",
     "text": [
      "121\n",
      "572\n"
     ]
    }
   ],
   "source": [
    "print(len(set(y_trn)))\n",
    "print(len(set(idx2w)))"
   ]
  },
  {
   "cell_type": "code",
   "execution_count": 11,
   "metadata": {
    "collapsed": false
   },
   "outputs": [],
   "source": [
    "#Model parameters\n",
    "\n",
    "input_seq_length = X_trn.shape[1]\n",
    "input_vocabulary_size = len(set(idx2w)) + 1\n",
    "output_length = 127\n",
    "num_hidden_lstm = 128"
   ]
  },
  {
   "cell_type": "code",
   "execution_count": 12,
   "metadata": {
    "collapsed": false
   },
   "outputs": [
    {
     "name": "stdout",
     "output_type": "stream",
     "text": [
      "Build model 1\n",
      "____________________________________________________________________________________________________\n",
      "Layer (type)                     Output Shape          Param #     Connected to                     \n",
      "====================================================================================================\n",
      "prev (InputLayer)                (None, 10)            0                                            \n",
      "____________________________________________________________________________________________________\n",
      "embedding_1 (Embedding)          (None, 10, 64)        36672       prev[0][0]                       \n",
      "____________________________________________________________________________________________________\n",
      "lstm_1 (LSTM)                    (None, 128)           98816       embedding_1[0][0]                \n",
      "____________________________________________________________________________________________________\n",
      "dense_1 (Dense)                  (None, 127)           16383       lstm_1[0][0]                     \n",
      "====================================================================================================\n",
      "Total params: 151871\n",
      "____________________________________________________________________________________________________\n"
     ]
    }
   ],
   "source": [
    "# build the model: Simple LSTM with embedings\n",
    "from keras.models import Model\n",
    "from keras.layers import Input, Dense, Dropout, LSTM, Embedding\n",
    "\n",
    "print('Build model 1')\n",
    "seq_input = Input(shape=([input_seq_length]), name='prev') \n",
    "    \n",
    "embeds = Embedding(input_vocabulary_size, 64)(seq_input)\n",
    "    \n",
    "# apply forwards LSTM\n",
    "#forwards1 = LSTM(512, dropout_W=0.3, dropout_U=0.3, return_sequences=True)(embed)\n",
    "\n",
    "forwards = LSTM(num_hidden_lstm, return_sequences=False)(embeds)\n",
    "\n",
    "output = Dense(output_length, activation='softmax')(forwards)\n",
    "\n",
    "model1 = Model(input=seq_input, output=output)\n",
    "model1.summary()\n",
    "\n",
    "# Optimizer\n",
    "model1.compile(loss='sparse_categorical_crossentropy', optimizer='adam', metrics=['accuracy'])\n"
   ]
  },
  {
   "cell_type": "code",
   "execution_count": 13,
   "metadata": {
    "collapsed": false
   },
   "outputs": [
    {
     "data": {
      "image/svg+xml": [
       "<svg height=\"268pt\" viewBox=\"0.00 0.00 174.00 268.00\" width=\"174pt\" xmlns=\"http://www.w3.org/2000/svg\" xmlns:xlink=\"http://www.w3.org/1999/xlink\">\n",
       "<g class=\"graph\" id=\"graph0\" transform=\"scale(1 1) rotate(0) translate(4 264)\">\n",
       "<title>G</title>\n",
       "<polygon fill=\"white\" points=\"-4,4 -4,-264 170,-264 170,4 -4,4\" stroke=\"none\"/>\n",
       "<!-- 139998098996816 -->\n",
       "<g class=\"node\" id=\"node1\"><title>139998098996816</title>\n",
       "<polygon fill=\"none\" points=\"26.5,-223 26.5,-259 139.5,-259 139.5,-223 26.5,-223\" stroke=\"black\"/>\n",
       "<text font-family=\"Times,serif\" font-size=\"14.00\" text-anchor=\"middle\" x=\"83\" y=\"-237.3\">prev (InputLayer)</text>\n",
       "</g>\n",
       "<!-- 139998678718608 -->\n",
       "<g class=\"node\" id=\"node2\"><title>139998678718608</title>\n",
       "<polygon fill=\"none\" points=\"-0.5,-149 -0.5,-185 166.5,-185 166.5,-149 -0.5,-149\" stroke=\"black\"/>\n",
       "<text font-family=\"Times,serif\" font-size=\"14.00\" text-anchor=\"middle\" x=\"83\" y=\"-163.3\">embedding_1 (Embedding)</text>\n",
       "</g>\n",
       "<!-- 139998098996816&#45;&gt;139998678718608 -->\n",
       "<g class=\"edge\" id=\"edge1\"><title>139998098996816-&gt;139998678718608</title>\n",
       "<path d=\"M83,-222.937C83,-214.807 83,-204.876 83,-195.705\" fill=\"none\" stroke=\"black\"/>\n",
       "<polygon fill=\"black\" points=\"86.5001,-195.441 83,-185.441 79.5001,-195.441 86.5001,-195.441\" stroke=\"black\"/>\n",
       "</g>\n",
       "<!-- 139998098804432 -->\n",
       "<g class=\"node\" id=\"node3\"><title>139998098804432</title>\n",
       "<polygon fill=\"none\" points=\"31,-75 31,-111 135,-111 135,-75 31,-75\" stroke=\"black\"/>\n",
       "<text font-family=\"Times,serif\" font-size=\"14.00\" text-anchor=\"middle\" x=\"83\" y=\"-89.3\">lstm_1 (LSTM)</text>\n",
       "</g>\n",
       "<!-- 139998678718608&#45;&gt;139998098804432 -->\n",
       "<g class=\"edge\" id=\"edge2\"><title>139998678718608-&gt;139998098804432</title>\n",
       "<path d=\"M83,-148.937C83,-140.807 83,-130.876 83,-121.705\" fill=\"none\" stroke=\"black\"/>\n",
       "<polygon fill=\"black\" points=\"86.5001,-121.441 83,-111.441 79.5001,-121.441 86.5001,-121.441\" stroke=\"black\"/>\n",
       "</g>\n",
       "<!-- 139998098803728 -->\n",
       "<g class=\"node\" id=\"node4\"><title>139998098803728</title>\n",
       "<polygon fill=\"none\" points=\"29.5,-1 29.5,-37 136.5,-37 136.5,-1 29.5,-1\" stroke=\"black\"/>\n",
       "<text font-family=\"Times,serif\" font-size=\"14.00\" text-anchor=\"middle\" x=\"83\" y=\"-15.3\">dense_1 (Dense)</text>\n",
       "</g>\n",
       "<!-- 139998098804432&#45;&gt;139998098803728 -->\n",
       "<g class=\"edge\" id=\"edge3\"><title>139998098804432-&gt;139998098803728</title>\n",
       "<path d=\"M83,-74.937C83,-66.8072 83,-56.8761 83,-47.7047\" fill=\"none\" stroke=\"black\"/>\n",
       "<polygon fill=\"black\" points=\"86.5001,-47.4406 83,-37.4407 79.5001,-47.4407 86.5001,-47.4406\" stroke=\"black\"/>\n",
       "</g>\n",
       "</g>\n",
       "</svg>"
      ],
      "text/plain": [
       "<IPython.core.display.SVG object>"
      ]
     },
     "execution_count": 13,
     "metadata": {},
     "output_type": "execute_result"
    }
   ],
   "source": [
    "#Plot the model graph\n",
    "from IPython.display import SVG\n",
    "from keras.utils.visualize_util import model_to_dot\n",
    "\n",
    "SVG(model_to_dot(model1).create(prog='dot', format='svg'))"
   ]
  },
  {
   "cell_type": "code",
   "execution_count": 14,
   "metadata": {
    "collapsed": false
   },
   "outputs": [
    {
     "name": "stdout",
     "output_type": "stream",
     "text": [
      "Train on 56590 samples, validate on 9198 samples\n",
      "Epoch 1/10\n",
      "56590/56590 [==============================] - 19s - loss: 1.5004 - acc: 0.6934 - val_loss: 0.9554 - val_acc: 0.7648\n",
      "Epoch 2/10\n",
      "56590/56590 [==============================] - 19s - loss: 0.5813 - acc: 0.8644 - val_loss: 0.4528 - val_acc: 0.9033\n",
      "Epoch 3/10\n",
      "56590/56590 [==============================] - 19s - loss: 0.2789 - acc: 0.9392 - val_loss: 0.3014 - val_acc: 0.9357\n",
      "Epoch 4/10\n",
      "56590/56590 [==============================] - 19s - loss: 0.1744 - acc: 0.9612 - val_loss: 0.2381 - val_acc: 0.9481\n",
      "Epoch 5/10\n",
      "56590/56590 [==============================] - 19s - loss: 0.1210 - acc: 0.9736 - val_loss: 0.2257 - val_acc: 0.9559\n",
      "Epoch 6/10\n",
      "56590/56590 [==============================] - 19s - loss: 0.0907 - acc: 0.9797 - val_loss: 0.1876 - val_acc: 0.9630\n",
      "Epoch 7/10\n",
      "56590/56590 [==============================] - 19s - loss: 0.0735 - acc: 0.9834 - val_loss: 0.1928 - val_acc: 0.9626\n",
      "Epoch 8/10\n",
      "56590/56590 [==============================] - 19s - loss: 0.0571 - acc: 0.9869 - val_loss: 0.1992 - val_acc: 0.9592\n",
      "Epoch 9/10\n",
      "56590/56590 [==============================] - 19s - loss: 0.0479 - acc: 0.9885 - val_loss: 0.1699 - val_acc: 0.9691\n",
      "Epoch 10/10\n",
      "56590/56590 [==============================] - 19s - loss: 0.0431 - acc: 0.9898 - val_loss: 0.1593 - val_acc: 0.9705\n"
     ]
    }
   ],
   "source": [
    "#Fit model\n",
    "history = model1.fit(X_trn, y_trn, batch_size=128, nb_epoch=10,\n",
    "           validation_data=(X_tst, y_tst))\n"
   ]
  },
  {
   "cell_type": "code",
   "execution_count": 15,
   "metadata": {
    "collapsed": false
   },
   "outputs": [
    {
     "data": {
      "image/png": "[encoded data removed]",
      "text/plain": [
       "<matplotlib.figure.Figure at 0x7f53af2de690>"
      ]
     },
     "metadata": {},
     "output_type": "display_data"
    }
   ],
   "source": [
    "#Plot graphs in the notebook output\n",
    "import matplotlib.pyplot as plt\n",
    "%matplotlib inline\n",
    "\n",
    "plt.plot(history.history['acc'])\n",
    "plt.plot(history.history['val_acc'])\n",
    "plt.show()"
   ]
  },
  {
   "cell_type": "code",
   "execution_count": null,
   "metadata": {
    "collapsed": true
   },
   "outputs": [],
   "source": []
  },
  {
   "cell_type": "code",
   "execution_count": 16,
   "metadata": {
    "collapsed": false
   },
   "outputs": [
    {
     "name": "stdout",
     "output_type": "stream",
     "text": [
      "Build model 2\n",
      "____________________________________________________________________________________________________\n",
      "Layer (type)                     Output Shape          Param #     Connected to                     \n",
      "====================================================================================================\n",
      "prev (InputLayer)                (None, 10)            0                                            \n",
      "____________________________________________________________________________________________________\n",
      "embedding_2 (Embedding)          (None, 10, 64)        36672       prev[0][0]                       \n",
      "____________________________________________________________________________________________________\n",
      "bidirectional_1 (Bidirectional)  (None, 256)           197632      embedding_2[0][0]                \n",
      "____________________________________________________________________________________________________\n",
      "dense_2 (Dense)                  (None, 127)           32639       bidirectional_1[0][0]            \n",
      "====================================================================================================\n",
      "Total params: 266943\n",
      "____________________________________________________________________________________________________\n"
     ]
    }
   ],
   "source": [
    "# build the model: Bidirectional LSTM with embedings\n",
    "from keras.models import Model\n",
    "from keras.layers import Input, Dense, Dropout, LSTM, Embedding, Merge, Bidirectional\n",
    "\n",
    "print('Build model 2')\n",
    "seq_input = Input(shape=([input_seq_length]), name='prev') \n",
    "    \n",
    "embeds = Embedding(input_vocabulary_size, 64)(seq_input)\n",
    "    \n",
    "# Bidirectional wrapper\n",
    "rnn_out = Bidirectional(LSTM(num_hidden_lstm))(embeds)\n",
    "\n",
    "output = Dense(output_length, activation='softmax')(rnn_out)\n",
    "\n",
    "model2 = Model(input=seq_input, output=output)\n",
    "model2.summary()\n",
    "\n",
    "# Optimizer\n",
    "model2.compile(loss='sparse_categorical_crossentropy', optimizer='adam', metrics=['accuracy'])\n"
   ]
  },
  {
   "cell_type": "code",
   "execution_count": null,
   "metadata": {
    "collapsed": true
   },
   "outputs": [],
   "source": [
    "SVG(model_to_dot(model2).create(prog='dot', format='svg'))"
   ]
  },
  {
   "cell_type": "code",
   "execution_count": 17,
   "metadata": {
    "collapsed": false
   },
   "outputs": [
    {
     "name": "stdout",
     "output_type": "stream",
     "text": [
      "Train on 56590 samples, validate on 9198 samples\n",
      "Epoch 1/10\n",
      "56590/56590 [==============================] - 35s - loss: 1.3485 - acc: 0.7166 - val_loss: 0.7889 - val_acc: 0.8124\n",
      "Epoch 2/10\n",
      "56590/56590 [==============================] - 35s - loss: 0.4338 - acc: 0.8907 - val_loss: 0.3672 - val_acc: 0.9127\n",
      "Epoch 3/10\n",
      "56590/56590 [==============================] - 35s - loss: 0.1900 - acc: 0.9544 - val_loss: 0.2221 - val_acc: 0.9522\n",
      "Epoch 4/10\n",
      "56590/56590 [==============================] - 35s - loss: 0.1129 - acc: 0.9736 - val_loss: 0.2094 - val_acc: 0.9572\n",
      "Epoch 5/10\n",
      "56590/56590 [==============================] - 35s - loss: 0.0805 - acc: 0.9808 - val_loss: 0.1971 - val_acc: 0.9573\n",
      "Epoch 6/10\n",
      "56590/56590 [==============================] - 34s - loss: 0.0598 - acc: 0.9852 - val_loss: 0.1719 - val_acc: 0.9662\n",
      "Epoch 7/10\n",
      "56590/56590 [==============================] - 35s - loss: 0.0488 - acc: 0.9873 - val_loss: 0.1666 - val_acc: 0.9679\n",
      "Epoch 8/10\n",
      "56590/56590 [==============================] - 35s - loss: 0.0403 - acc: 0.9894 - val_loss: 0.1712 - val_acc: 0.9679\n",
      "Epoch 9/10\n",
      "56590/56590 [==============================] - 35s - loss: 0.0333 - acc: 0.9911 - val_loss: 0.1754 - val_acc: 0.9701\n",
      "Epoch 10/10\n",
      "56590/56590 [==============================] - 27s - loss: 0.0311 - acc: 0.9913 - val_loss: 0.1633 - val_acc: 0.9690\n"
     ]
    }
   ],
   "source": [
    "#Fit model\n",
    "history2 = model2.fit(X_trn, y_trn, batch_size=128, nb_epoch=10,\n",
    "           validation_data=(X_tst, y_tst))\n"
   ]
  },
  {
   "cell_type": "code",
   "execution_count": 18,
   "metadata": {
    "collapsed": false
   },
   "outputs": [
    {
     "data": {
      "image/png": "[encoded data removed]",
      "text/plain": [
       "<matplotlib.figure.Figure at 0x7f53c61fdc90>"
      ]
     },
     "metadata": {},
     "output_type": "display_data"
    }
   ],
   "source": [
    "#Plot graphs in the notebook output\n",
    "import matplotlib.pyplot as plt\n",
    "%matplotlib inline\n",
    "\n",
    "plt.plot(history2.history['acc'])\n",
    "plt.plot(history2.history['val_acc'])\n",
    "plt.show()"
   ]
  },
  {
   "cell_type": "code",
   "execution_count": null,
   "metadata": {
    "collapsed": true
   },
   "outputs": [],
   "source": []
  },
  {
   "cell_type": "code",
   "execution_count": null,
   "metadata": {
    "collapsed": true
   },
   "outputs": [],
   "source": []
  }
 ],
 "metadata": {
  "anaconda-cloud": {},
  "kernelspec": {
   "display_name": "Python 2",
   "language": "python",
   "name": "python2"
  },
  "language_info": {
   "codemirror_mode": {
    "name": "ipython",
    "version": 2
   },
   "file_extension": ".py",
   "mimetype": "text/x-python",
   "name": "python",
   "nbconvert_exporter": "python",
   "pygments_lexer": "ipython2",
   "version": "2.7.6"
  }
 },
 "nbformat": 4,
 "nbformat_minor": 1
}
