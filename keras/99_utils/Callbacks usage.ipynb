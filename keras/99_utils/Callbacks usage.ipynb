{
 "cells": [
  {
   "cell_type": "markdown",
   "metadata": {},
   "source": [
    "# Examples of usage of callbacks in Keras\n",
    "\n",
    "- Save trained model and load it to continue training.\n"
   ]
  },
  {
   "cell_type": "code",
   "execution_count": null,
   "metadata": {
    "collapsed": false
   },
   "outputs": [],
   "source": [
    "#First define a model\n",
    "from keras.datasets import mnist\n",
    "from keras.layers import Input, Dense\n",
    "from keras.models import Model\n",
    "from keras.utils import np_utils\n",
    "\n",
    "(X_train, y_train), (X_test, y_test) = mnist.load_data()\n",
    "\n",
    "X_train = X_train.reshape(60000, 784)\n",
    "X_test = X_test.reshape(10000, 784)\n",
    "X_train = X_train.astype('float32')\n",
    "X_test = X_test.astype('float32')\n",
    "X_train /= 255\n",
    "X_test /= 255\n",
    "print(X_train.shape[0], 'train samples')\n",
    "print(X_test.shape[0], 'test samples')\n",
    "\n",
    "batch_size = 64\n",
    "nb_classes = 10\n",
    "nb_epoch = 4\n",
    "\n",
    "\n",
    "# convert class vectors to binary class matrices\n",
    "Y_train = np_utils.to_categorical(y_train, nb_classes)\n",
    "Y_test = np_utils.to_categorical(y_test, nb_classes)\n",
    "\n",
    "\n",
    "\n",
    "# Model\n",
    "inputs = Input(shape=(784,))\n",
    "\n",
    "x = Dense(64, activation='relu')(inputs)\n",
    "x = Dense(64, activation='relu')(x)\n",
    "predictions = Dense(10, activation='softmax')(x)\n",
    "\n",
    "model = Model(input=inputs, output=predictions)\n",
    "\n",
    "model.compile(optimizer='rmsprop',\n",
    "              loss='categorical_crossentropy',\n",
    "              metrics=['accuracy'])\n",
    "\n",
    "# train the model\n",
    "model.fit(X_train, Y_train,\n",
    "          batch_size=batch_size, nb_epoch=nb_epoch,\n",
    "          verbose=1, validation_data=(X_test, Y_test))\n",
    "\n"
   ]
  },
  {
   "cell_type": "code",
   "execution_count": null,
   "metadata": {
    "collapsed": false
   },
   "outputs": [],
   "source": [
    "# Model checkpoint\n",
    "from keras.callbacks import ModelCheckpoint\n",
    "import pickle\n",
    "\n",
    "model_path = '/tmp/keras/'\n",
    "\n",
    "#Save model structure\n",
    "print 'Saving architecture...'\n",
    "json_string = model.to_json()\n",
    "open(model_path + 'model_architecture.json', 'w').write(json_string)\n",
    "\n",
    "#TRain and save checkpoints\n",
    "print 'Train...'\n",
    "checkpointer = ModelCheckpoint(filepath=model_path+\"weights.{epoch:02d}-{val_acc:.5f}.hdf5\", verbose=1)\n",
    "history = model.fit(X_train, Y_train,\n",
    "          batch_size=batch_size, nb_epoch=nb_epoch,\n",
    "          verbose=1, validation_data=(X_test, Y_test),\n",
    "          callbacks=[checkpointer])\n",
    "\n",
    "#Save history\n",
    "pickle.dump( history.history, open( model_path + \"history.p\", \"wb\" ) )\n",
    "\n",
    "print 'Done!'"
   ]
  },
  {
   "cell_type": "code",
   "execution_count": null,
   "metadata": {
    "collapsed": false
   },
   "outputs": [],
   "source": [
    "for h in history.history.iteritems():\n",
    "    print h"
   ]
  },
  {
   "cell_type": "code",
   "execution_count": null,
   "metadata": {
    "collapsed": false
   },
   "outputs": [],
   "source": [
    "# Train starting on a previous weigths\n",
    "from keras.models import model_from_json\n",
    "from keras.optimizers import SGD\n",
    "\n",
    "model3 = model_from_json(open(model_path + 'model_architecture.json').read())\n",
    "\n",
    "model3.load_weights(model_path + 'weights.03-0.97610.hdf5')\n",
    "\n",
    "model3.compile(optimizer='rmsprop',\n",
    "              loss='categorical_crossentropy',\n",
    "              metrics=['accuracy'])\n",
    "    \n",
    "history2 = model3.fit(X_train, Y_train,\n",
    "                      batch_size=batch_size, nb_epoch=nb_epoch,\n",
    "                      validation_data=(X_test, Y_test))"
   ]
  },
  {
   "cell_type": "code",
   "execution_count": null,
   "metadata": {
    "collapsed": true
   },
   "outputs": [],
   "source": []
  }
 ],
 "metadata": {
  "kernelspec": {
   "display_name": "Python 2",
   "language": "python",
   "name": "python2"
  },
  "language_info": {
   "codemirror_mode": {
    "name": "ipython",
    "version": 2
   },
   "file_extension": ".py",
   "mimetype": "text/x-python",
   "name": "python",
   "nbconvert_exporter": "python",
   "pygments_lexer": "ipython2",
   "version": "2.7.6"
  }
 },
 "nbformat": 4,
 "nbformat_minor": 0
}
