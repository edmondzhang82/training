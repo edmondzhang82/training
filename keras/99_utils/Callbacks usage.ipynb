{
 "cells": [
  {
   "cell_type": "markdown",
   "metadata": {},
   "source": [
    "# Examples of usage of callbacks in Keras\n",
    "\n",
    "- Save trained model and load it to continue training.\n"
   ]
  },
  {
   "cell_type": "code",
   "execution_count": 4,
   "metadata": {
    "collapsed": false
   },
   "outputs": [
    {
     "name": "stdout",
     "output_type": "stream",
     "text": [
      "(60000, 'train samples')\n",
      "(10000, 'test samples')\n",
      "Train on 60000 samples, validate on 10000 samples\n",
      "Epoch 1/4\n",
      "60000/60000 [==============================] - 5s - loss: 0.3123 - acc: 0.9099 - val_loss: 0.1724 - val_acc: 0.9478\n",
      "Epoch 2/4\n",
      "60000/60000 [==============================] - 6s - loss: 0.1480 - acc: 0.9552 - val_loss: 0.1274 - val_acc: 0.9607\n",
      "Epoch 3/4\n",
      "60000/60000 [==============================] - 4s - loss: 0.1083 - acc: 0.9676 - val_loss: 0.1027 - val_acc: 0.9694\n",
      "Epoch 4/4\n",
      "60000/60000 [==============================] - 6s - loss: 0.0875 - acc: 0.9737 - val_loss: 0.0963 - val_acc: 0.9716\n"
     ]
    },
    {
     "data": {
      "text/plain": [
       "<keras.callbacks.History at 0x7f67877b4410>"
      ]
     },
     "execution_count": 4,
     "metadata": {},
     "output_type": "execute_result"
    }
   ],
   "source": [
    "#First define a model\n",
    "from keras.datasets import mnist\n",
    "from keras.layers import Input, Dense\n",
    "from keras.models import Model\n",
    "from keras.utils import np_utils\n",
    "\n",
    "(X_train, y_train), (X_test, y_test) = mnist.load_data()\n",
    "\n",
    "X_train = X_train.reshape(60000, 784)\n",
    "X_test = X_test.reshape(10000, 784)\n",
    "X_train = X_train.astype('float32')\n",
    "X_test = X_test.astype('float32')\n",
    "X_train /= 255\n",
    "X_test /= 255\n",
    "print(X_train.shape[0], 'train samples')\n",
    "print(X_test.shape[0], 'test samples')\n",
    "\n",
    "batch_size = 64\n",
    "nb_classes = 10\n",
    "nb_epoch = 4\n",
    "\n",
    "\n",
    "# convert class vectors to binary class matrices\n",
    "Y_train = np_utils.to_categorical(y_train, nb_classes)\n",
    "Y_test = np_utils.to_categorical(y_test, nb_classes)\n",
    "\n",
    "\n",
    "\n",
    "# Model\n",
    "inputs = Input(shape=(784,))\n",
    "\n",
    "x = Dense(64, activation='relu')(inputs)\n",
    "x = Dense(64, activation='relu')(x)\n",
    "predictions = Dense(10, activation='softmax')(x)\n",
    "\n",
    "model = Model(input=inputs, output=predictions)\n",
    "\n",
    "model.compile(optimizer='rmsprop',\n",
    "              loss='categorical_crossentropy',\n",
    "              metrics=['accuracy'])\n",
    "\n",
    "# train the model\n",
    "model.fit(X_train, Y_train,\n",
    "          batch_size=batch_size, nb_epoch=nb_epoch,\n",
    "          verbose=1, validation_data=(X_test, Y_test))\n",
    "\n"
   ]
  },
  {
   "cell_type": "code",
   "execution_count": 16,
   "metadata": {
    "collapsed": false
   },
   "outputs": [
    {
     "name": "stdout",
     "output_type": "stream",
     "text": [
      "Train on 60000 samples, validate on 10000 samples\n",
      "Epoch 1/4\n",
      "59904/60000 [============================>.] - ETA: 0s - loss: 0.0127 - acc: 0.9962Epoch 00000: saving model to /tmp/keras/weights.00-0.97320.hdf5\n",
      "60000/60000 [==============================] - 4s - loss: 0.0128 - acc: 0.9962 - val_loss: 0.1477 - val_acc: 0.9732\n",
      "Epoch 2/4\n",
      "59968/60000 [============================>.] - ETA: 0s - loss: 0.0122 - acc: 0.9965Epoch 00001: saving model to /tmp/keras/weights.01-0.97650.hdf5\n",
      "60000/60000 [==============================] - 5s - loss: 0.0122 - acc: 0.9966 - val_loss: 0.1376 - val_acc: 0.9765\n",
      "Epoch 3/4\n",
      "59904/60000 [============================>.] - ETA: 0s - loss: 0.0107 - acc: 0.9968Epoch 00002: saving model to /tmp/keras/weights.02-0.97580.hdf5\n",
      "60000/60000 [==============================] - 7s - loss: 0.0107 - acc: 0.9969 - val_loss: 0.1348 - val_acc: 0.9758\n",
      "Epoch 4/4\n",
      "59840/60000 [============================>.] - ETA: 0s - loss: 0.0102 - acc: 0.9969Epoch 00003: saving model to /tmp/keras/weights.03-0.97610.hdf5\n",
      "60000/60000 [==============================] - 4s - loss: 0.0102 - acc: 0.9969 - val_loss: 0.1435 - val_acc: 0.9761\n"
     ]
    }
   ],
   "source": [
    "# Model checkpoint\n",
    "from keras.callbacks import ModelCheckpoint\n",
    "import pickle\n",
    "\n",
    "model_path = '/tmp/keras/'\n",
    "\n",
    "#Save model structure\n",
    "print 'Saving architecture...'\n",
    "json_string = model.to_json()\n",
    "open(model_path + 'model_architecture.json', 'w').write(json_string)\n",
    "\n",
    "#TRain and save checkpoints\n",
    "print 'Train...'\n",
    "checkpointer = ModelCheckpoint(filepath=model_path+\"weights.{epoch:02d}-{val_acc:.5f}.hdf5\", verbose=1)\n",
    "history = model.fit(X_train, Y_train,\n",
    "          batch_size=batch_size, nb_epoch=nb_epoch,\n",
    "          verbose=1, validation_data=(X_test, Y_test),\n",
    "          callbacks=[checkpointer])\n",
    "\n",
    "#Save history\n",
    "pickle.dump( history.history, open( model_path + \"history.p\", \"wb\" ) )\n",
    "\n",
    "print 'Done!'"
   ]
  },
  {
   "cell_type": "code",
   "execution_count": 23,
   "metadata": {
    "collapsed": false
   },
   "outputs": [
    {
     "name": "stdout",
     "output_type": "stream",
     "text": [
      "('acc', [0.99621666666666664, 0.99655000000000005, 0.99685000000000001, 0.99693333333333334])\n",
      "('loss', [0.01282193367408181, 0.012193267197232004, 0.010729612696704983, 0.010205493709328585])\n",
      "('val_acc', [0.97319999999999995, 0.97650000000000003, 0.9758, 0.97609999999999997])\n",
      "('val_loss', [0.14774294006241434, 0.13756020433594826, 0.1348387435936805, 0.14346895182569375])\n"
     ]
    }
   ],
   "source": [
    "for h in history.history.iteritems():\n",
    "    print h"
   ]
  },
  {
   "cell_type": "code",
   "execution_count": 27,
   "metadata": {
    "collapsed": false
   },
   "outputs": [
    {
     "ename": "Exception",
     "evalue": "You must compile a model before training/testing. Use `model.compile(optimizer, loss)`.",
     "output_type": "error",
     "traceback": [
      "\u001b[1;31m\u001b[0m",
      "\u001b[1;31mException\u001b[0mTraceback (most recent call last)",
      "\u001b[1;32m<ipython-input-27-03ce9375ef08>\u001b[0m in \u001b[0;36m<module>\u001b[1;34m()\u001b[0m\n\u001b[0;32m     13\u001b[0m history2 = model3.fit(X_train, Y_train,\n\u001b[0;32m     14\u001b[0m                       \u001b[0mbatch_size\u001b[0m\u001b[1;33m=\u001b[0m\u001b[0mbatch_size\u001b[0m\u001b[1;33m,\u001b[0m \u001b[0mnb_epoch\u001b[0m\u001b[1;33m=\u001b[0m\u001b[0mnb_epoch\u001b[0m\u001b[1;33m,\u001b[0m\u001b[1;33m\u001b[0m\u001b[0m\n\u001b[1;32m---> 15\u001b[1;33m                       validation_data=(X_test, Y_test))\n\u001b[0m",
      "\u001b[1;32m/usr/local/lib/python2.7/dist-packages/keras/engine/training.pyc\u001b[0m in \u001b[0;36mfit\u001b[1;34m(self, x, y, batch_size, nb_epoch, verbose, callbacks, validation_split, validation_data, shuffle, class_weight, sample_weight)\u001b[0m\n\u001b[0;32m   1034\u001b[0m                                                            \u001b[0mclass_weight\u001b[0m\u001b[1;33m=\u001b[0m\u001b[0mclass_weight\u001b[0m\u001b[1;33m,\u001b[0m\u001b[1;33m\u001b[0m\u001b[0m\n\u001b[0;32m   1035\u001b[0m                                                            \u001b[0mcheck_batch_dim\u001b[0m\u001b[1;33m=\u001b[0m\u001b[0mFalse\u001b[0m\u001b[1;33m,\u001b[0m\u001b[1;33m\u001b[0m\u001b[0m\n\u001b[1;32m-> 1036\u001b[1;33m                                                            batch_size=batch_size)\n\u001b[0m\u001b[0;32m   1037\u001b[0m         \u001b[1;31m# prepare validation data\u001b[0m\u001b[1;33m\u001b[0m\u001b[1;33m\u001b[0m\u001b[0m\n\u001b[0;32m   1038\u001b[0m         \u001b[1;32mif\u001b[0m \u001b[0mvalidation_data\u001b[0m\u001b[1;33m:\u001b[0m\u001b[1;33m\u001b[0m\u001b[0m\n",
      "\u001b[1;32m/usr/local/lib/python2.7/dist-packages/keras/engine/training.pyc\u001b[0m in \u001b[0;36m_standardize_user_data\u001b[1;34m(self, x, y, sample_weight, class_weight, check_batch_dim, batch_size)\u001b[0m\n\u001b[0;32m    947\u001b[0m                                check_batch_dim=True, batch_size=None):\n\u001b[0;32m    948\u001b[0m         \u001b[1;32mif\u001b[0m \u001b[1;32mnot\u001b[0m \u001b[0mhasattr\u001b[0m\u001b[1;33m(\u001b[0m\u001b[0mself\u001b[0m\u001b[1;33m,\u001b[0m \u001b[1;34m'optimizer'\u001b[0m\u001b[1;33m)\u001b[0m\u001b[1;33m:\u001b[0m\u001b[1;33m\u001b[0m\u001b[0m\n\u001b[1;32m--> 949\u001b[1;33m             raise Exception('You must compile a model before training/testing.'\n\u001b[0m\u001b[0;32m    950\u001b[0m                             ' Use `model.compile(optimizer, loss)`.')\n\u001b[0;32m    951\u001b[0m \u001b[1;33m\u001b[0m\u001b[0m\n",
      "\u001b[1;31mException\u001b[0m: You must compile a model before training/testing. Use `model.compile(optimizer, loss)`."
     ]
    }
   ],
   "source": [
    "# Train starting on a previous weigths\n",
    "from keras.models import model_from_json\n",
    "from keras.optimizers import SGD\n",
    "\n",
    "model3 = model_from_json(open(model_path + 'model_architecture.json').read())\n",
    "\n",
    "model3.load_weights(model_path + 'weights.03-0.97610.hdf5')\n",
    "\n",
    "model3.compile(optimizer='rmsprop',\n",
    "              loss='categorical_crossentropy',\n",
    "              metrics=['accuracy'])\n",
    "    \n",
    "history2 = model3.fit(X_train, Y_train,\n",
    "                      batch_size=batch_size, nb_epoch=nb_epoch,\n",
    "                      validation_data=(X_test, Y_test))"
   ]
  },
  {
   "cell_type": "code",
   "execution_count": null,
   "metadata": {
    "collapsed": true
   },
   "outputs": [],
   "source": []
  }
 ],
 "metadata": {
  "kernelspec": {
   "display_name": "Python 2",
   "language": "python",
   "name": "python2"
  },
  "language_info": {
   "codemirror_mode": {
    "name": "ipython",
    "version": 2
   },
   "file_extension": ".py",
   "mimetype": "text/x-python",
   "name": "python",
   "nbconvert_exporter": "python",
   "pygments_lexer": "ipython2",
   "version": "2.7.11"
  }
 },
 "nbformat": 4,
 "nbformat_minor": 0
}
