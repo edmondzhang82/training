{
 "cells": [
  {
   "cell_type": "markdown",
   "metadata": {},
   "source": [
    "# Model template\n",
    "    - Preprocess data.\n",
    "    - Prepare sequences to model.\n",
    "    - Build model.\n",
    "    - Validate it.\n"
   ]
  },
  {
   "cell_type": "markdown",
   "metadata": {},
   "source": [
    "## Preprocess data"
   ]
  },
  {
   "cell_type": "code",
   "execution_count": 1,
   "metadata": {
    "collapsed": false
   },
   "outputs": [
    {
     "name": "stdout",
     "output_type": "stream",
     "text": [
      "Tokenizing... Done!\n",
      "Tokenizing... Done!\n",
      "Building dictionary.. 7056193  total words  135098  unique words\n",
      "Tokenizing... Done!\n",
      "Tokenizing... Done!\n",
      "Preprocess done!\n"
     ]
    }
   ],
   "source": [
    "#Imports \n",
    "import numpy as np\n",
    "import os\n",
    "import shutil\n",
    "import fnmatch\n",
    "\n",
    "from collections import OrderedDict\n",
    "from nltk import word_tokenize\n",
    "\n",
    "data_path='/home/jorge/data/training/keras/aclImdb/'\n",
    "\n",
    "\n",
    "\n",
    "# Generator of list of files in a folder and subfolders\n",
    "def gen_find(filepath,top):\n",
    "    for path, dirlist, filelist in os.walk(top):\n",
    "        for name in fnmatch.filter(filelist,filepath):\n",
    "            yield os.path.join(path,name)\n",
    "\n",
    "def read_sentences(path):\n",
    "    sentences = []\n",
    "    sentences_list = gen_find(\"*.txt\", path)\n",
    "    for ff in sentences_list:\n",
    "        with open(ff, 'r') as f:\n",
    "            sentences.append(f.readline().strip())\n",
    "    return sentences \n",
    "\n",
    "def tokenize(sentences):\n",
    "    print 'Tokenizing...',\n",
    "    tokens = []\n",
    "    for sentence in sentences:\n",
    "        tokens += [word_tokenize(sentence.decode('utf-8'))]\n",
    "    print('Done!')\n",
    "    return tokens\n",
    "\n",
    "def build_dict(sentences):\n",
    "    print 'Building dictionary..',\n",
    "    wordcount = dict()\n",
    "    for ss in sentences:\n",
    "        for w in ss:\n",
    "            if w not in wordcount:\n",
    "                wordcount[w] = 1\n",
    "            else:\n",
    "                wordcount[w] += 1\n",
    "\n",
    "    counts = wordcount.values()\n",
    "    keys = wordcount.keys()\n",
    "    sorted_idx = np.argsort(counts)[::-1]\n",
    "\n",
    "    worddict = dict()\n",
    "    for idx, ss in enumerate(sorted_idx):\n",
    "        worddict[keys[ss]] = idx+2  # leave 0 and 1 (UNK)\n",
    "    print np.sum(counts), ' total words ', len(keys), ' unique words'\n",
    "    return worddict, wordcount\n",
    "\n",
    "def generate_sequence(sentences, dictionary):\n",
    "    seqs = [None] * len(sentences)\n",
    "    for idx, ss in enumerate(sentences):\n",
    "        seqs[idx] = [dictionary[w] if w in dictionary else 1 for w in ss]\n",
    "    return seqs\n",
    "\n",
    "#Data extraction\n",
    "\n",
    "#Extract training sentences\n",
    "sentences_trn_pos = tokenize(read_sentences(data_path+'train/pos/'))\n",
    "sentences_trn_neg = tokenize(read_sentences(data_path+'train/neg/'))\n",
    "sentences_trn = sentences_trn_pos + sentences_trn_neg\n",
    "\n",
    "#Build train dictionary\n",
    "worddict, wordcount = build_dict(sentences_trn)\n",
    "\n",
    "#Generate train data\n",
    "train_x_pos = generate_sequence(sentences_trn_pos, worddict)\n",
    "train_x_neg = generate_sequence(sentences_trn_neg, worddict)\n",
    "X_train_full = train_x_pos + train_x_neg\n",
    "y_train_full = [1] * len(train_x_pos) + [0] * len(train_x_neg)\n",
    "\n",
    "\n",
    "#Read test sentences and generate target y\n",
    "sentences_tst_pos = read_sentences(data_path+'test/pos/')\n",
    "sentences_tst_neg = read_sentences(data_path+'test/neg/')\n",
    "\n",
    "test_x_pos = generate_sequence(tokenize(sentences_tst_pos), worddict)\n",
    "test_x_neg = generate_sequence(tokenize(sentences_tst_neg), worddict)\n",
    "X_test_full = test_x_pos + test_x_neg\n",
    "y_test_full = [1] * len(test_x_pos) + [0] * len(test_x_neg)\n",
    "\n",
    "\n",
    "print('Preprocess done!')"
   ]
  },
  {
   "cell_type": "markdown",
   "metadata": {},
   "source": [
    "## Prepare sequences to model\n"
   ]
  },
  {
   "cell_type": "code",
   "execution_count": 15,
   "metadata": {
    "collapsed": false
   },
   "outputs": [
    {
     "name": "stdout",
     "output_type": "stream",
     "text": [
      "Pad sequences (samples x time)\n",
      "('X_train shape:', (25000, 200))\n",
      "('X_test shape:', (25000, 200))\n"
     ]
    }
   ],
   "source": [
    "max_features = 50000 # Number of most frequent words selected. the less frequent recode to 0\n",
    "max_len = 200  # cut texts after this number of words (among top max_features most common words)\n",
    "\n",
    "\n",
    "#Select the most frequent max_features, recode others using 0\n",
    "def remove_features(x):\n",
    "    return [[0 if w >= max_features else w for w in sen] for sen in x]\n",
    "\n",
    "X_train = remove_features(X_train_full)\n",
    "X_test  = remove_features(X_test_full)\n",
    "y_train = y_train_full\n",
    "y_test = y_test_full\n",
    "\n",
    "\n",
    "# Shuffle data\n",
    "from sklearn.utils import shuffle\n",
    "X_train, y_train = shuffle(X_train, y_train, random_state=0)\n",
    "\n",
    "\n",
    "# Cut or complete the sentences to length = maxlen\n",
    "from keras.preprocessing import sequence\n",
    "\n",
    "print(\"Pad sequences (samples x time)\")\n",
    "X_train = sequence.pad_sequences(X_train, maxlen=max_len)\n",
    "X_test = sequence.pad_sequences(X_test, maxlen=max_len)\n",
    "print('X_train shape:', X_train.shape)\n",
    "print('X_test shape:', X_test.shape)\n"
   ]
  },
  {
   "cell_type": "markdown",
   "metadata": {},
   "source": [
    "## Build model"
   ]
  },
  {
   "cell_type": "code",
   "execution_count": 3,
   "metadata": {
    "collapsed": false
   },
   "outputs": [
    {
     "name": "stdout",
     "output_type": "stream",
     "text": [
      "Build model 1 - Basic model...\n"
     ]
    }
   ],
   "source": [
    "# Model\n",
    "dim_embedings = 32 #Dimension of the embedings vector\n",
    "num_hidden_rnn = 256 #Num of neurons in the Recurent network \n",
    "\n",
    "\n",
    "from keras.models import Model\n",
    "from keras.layers import Input, Embedding, SimpleRNN, LSTM, Dropout, Dense, merge\n",
    "from keras.optimizers import RMSprop\n",
    "\n",
    "print('Build model 1 - Basic model...')\n",
    "\n",
    "# LAYER 1: inputs\n",
    "seq_prev_input = Input(shape=(max_len, ), dtype='int32') \n",
    "\n",
    "# LAYER 2: Create embedings\n",
    "embeds = Embedding(max_features, dim_embedings, input_length=max_len)(seq_prev_input)\n",
    "\n",
    "# LAYERS 3: RNN - forwards LSTM with dropout\n",
    "#PUT YOUR MODEL HERE!!!\n",
    "rnn_out = LSTM(num_hidden_rnn, return_sequences=False, name='Forward')(embeds)\n",
    "\n",
    "\n",
    "# LAYER 4: Dense layer to outputs - softmax activation\n",
    "output = Dense(2, activation='softmax')(rnn_out)\n",
    "\n",
    "# Model Architecture defined\n",
    "model_1 = Model(input=seq_prev_input, output=output)\n",
    "\n",
    "# Compile model and select optimizer\n",
    "rms_optimizer = RMSprop(lr=0.001)\n",
    "model_1.compile(loss='sparse_categorical_crossentropy', optimizer=rms_optimizer, metrics=['accuracy'])\n"
   ]
  },
  {
   "cell_type": "raw",
   "metadata": {},
   "source": [
    "# LAYER 3: RNN \n",
    "rnn_out = SimpleRNN(num_hidden_rnn)(embeds)\n",
    "\n",
    "\n",
    "# LAYER 3: RNN \n",
    "rnn_out = LSTM(num_hidden_rnn, return_sequences=False, name='Forward')(embeds)\n",
    "\n",
    "\n",
    "\n",
    "# LAYER 3: RNN \n",
    "forwards = LSTM(num_hidden_rnn, return_sequences=False, name='Forward')(embeds)\n",
    "backwards = LSTM(num_hidden_rnn, return_sequences=False, go_backwards=True, name='Backward')(embeds)\n",
    "rnn_out = merge([forwards, backwards], mode='concat', concat_axis=-1, name='forward - backward')\n",
    "\n",
    "\n",
    "# LAYER 3: RNN \n",
    "forwards1 = LSTM(num_hidden_rnn, return_sequences=False, name='Forward')(embeds)\n",
    "backwards1 = LSTM(num_hidden_rnn, return_sequences=False, go_backwards=True, name='Backward')(embeds)\n",
    "merged1 = merge([forwards1, backwards1], mode='concat', concat_axis=-1, name='forward - backward')\n",
    "\n",
    "forwards2 = LSTM(num_hidden_rnn, return_sequences=False,\n",
    "                 dropout_W=0.5, dropout_U=0.5, name='Forward')(merged1)\n",
    "backwards2 = LSTM(num_hidden_rnn, return_sequences=False, go_backwards=True, \n",
    "                  dropout_W=0.5, dropout_U=0.5, name='Backward')(merged1)\n",
    "rnn_out = merge([forwards2, backwards2], mode='concat', concat_axis=-1, name='forward - backward')\n",
    "\n",
    "\n"
   ]
  },
  {
   "cell_type": "code",
   "execution_count": 4,
   "metadata": {
    "collapsed": false
   },
   "outputs": [
    {
     "data": {
      "image/svg+xml": [
       "<svg height=\"268pt\" viewBox=\"0.00 0.00 174.00 268.00\" width=\"174pt\" xmlns=\"http://www.w3.org/2000/svg\" xmlns:xlink=\"http://www.w3.org/1999/xlink\">\n",
       "<g class=\"graph\" id=\"graph0\" transform=\"scale(1 1) rotate(0) translate(4 264)\">\n",
       "<title>G</title>\n",
       "<polygon fill=\"white\" points=\"-4,4 -4,-264 170,-264 170,4 -4,4\" stroke=\"none\"/>\n",
       "<!-- 139714615605968 -->\n",
       "<g class=\"node\" id=\"node1\"><title>139714615605968</title>\n",
       "<polygon fill=\"none\" points=\"17.5,-223 17.5,-259 148.5,-259 148.5,-223 17.5,-223\" stroke=\"black\"/>\n",
       "<text font-family=\"Times,serif\" font-size=\"14.00\" text-anchor=\"middle\" x=\"83\" y=\"-237.3\">input_1 (InputLayer)</text>\n",
       "</g>\n",
       "<!-- 139714618150992 -->\n",
       "<g class=\"node\" id=\"node2\"><title>139714618150992</title>\n",
       "<polygon fill=\"none\" points=\"-0.5,-149 -0.5,-185 166.5,-185 166.5,-149 -0.5,-149\" stroke=\"black\"/>\n",
       "<text font-family=\"Times,serif\" font-size=\"14.00\" text-anchor=\"middle\" x=\"83\" y=\"-163.3\">embedding_1 (Embedding)</text>\n",
       "</g>\n",
       "<!-- 139714615605968&#45;&gt;139714618150992 -->\n",
       "<g class=\"edge\" id=\"edge1\"><title>139714615605968-&gt;139714618150992</title>\n",
       "<path d=\"M83,-222.937C83,-214.807 83,-204.876 83,-195.705\" fill=\"none\" stroke=\"black\"/>\n",
       "<polygon fill=\"black\" points=\"86.5001,-195.441 83,-185.441 79.5001,-195.441 86.5001,-195.441\" stroke=\"black\"/>\n",
       "</g>\n",
       "<!-- 139714618083856 -->\n",
       "<g class=\"node\" id=\"node3\"><title>139714618083856</title>\n",
       "<polygon fill=\"none\" points=\"27,-75 27,-111 139,-111 139,-75 27,-75\" stroke=\"black\"/>\n",
       "<text font-family=\"Times,serif\" font-size=\"14.00\" text-anchor=\"middle\" x=\"83\" y=\"-89.3\">Forward (LSTM)</text>\n",
       "</g>\n",
       "<!-- 139714618150992&#45;&gt;139714618083856 -->\n",
       "<g class=\"edge\" id=\"edge2\"><title>139714618150992-&gt;139714618083856</title>\n",
       "<path d=\"M83,-148.937C83,-140.807 83,-130.876 83,-121.705\" fill=\"none\" stroke=\"black\"/>\n",
       "<polygon fill=\"black\" points=\"86.5001,-121.441 83,-111.441 79.5001,-121.441 86.5001,-121.441\" stroke=\"black\"/>\n",
       "</g>\n",
       "<!-- 139713021318032 -->\n",
       "<g class=\"node\" id=\"node4\"><title>139713021318032</title>\n",
       "<polygon fill=\"none\" points=\"29.5,-1 29.5,-37 136.5,-37 136.5,-1 29.5,-1\" stroke=\"black\"/>\n",
       "<text font-family=\"Times,serif\" font-size=\"14.00\" text-anchor=\"middle\" x=\"83\" y=\"-15.3\">dense_1 (Dense)</text>\n",
       "</g>\n",
       "<!-- 139714618083856&#45;&gt;139713021318032 -->\n",
       "<g class=\"edge\" id=\"edge3\"><title>139714618083856-&gt;139713021318032</title>\n",
       "<path d=\"M83,-74.937C83,-66.8072 83,-56.8761 83,-47.7047\" fill=\"none\" stroke=\"black\"/>\n",
       "<polygon fill=\"black\" points=\"86.5001,-47.4406 83,-37.4407 79.5001,-47.4407 86.5001,-47.4406\" stroke=\"black\"/>\n",
       "</g>\n",
       "</g>\n",
       "</svg>"
      ],
      "text/plain": [
       "<IPython.core.display.SVG object>"
      ]
     },
     "execution_count": 4,
     "metadata": {},
     "output_type": "execute_result"
    }
   ],
   "source": [
    "#Plot the model graph\n",
    "from IPython.display import SVG\n",
    "from keras.utils.visualize_util import model_to_dot\n",
    "\n",
    "SVG(model_to_dot(model_1).create(prog='dot', format='svg'))"
   ]
  },
  {
   "cell_type": "code",
   "execution_count": 5,
   "metadata": {
    "collapsed": false
   },
   "outputs": [
    {
     "name": "stdout",
     "output_type": "stream",
     "text": [
      "Train...\n",
      "Train on 25000 samples, validate on 25000 samples\n",
      "Epoch 1/10\n",
      "25000/25000 [==============================] - 82s - loss: 0.6244 - acc: 0.6708 - val_loss: 0.7786 - val_acc: 0.6243\n",
      "Epoch 2/10\n",
      "25000/25000 [==============================] - 84s - loss: 0.4123 - acc: 0.8289 - val_loss: 0.4327 - val_acc: 0.8040\n",
      "Epoch 3/10\n",
      "25000/25000 [==============================] - 82s - loss: 0.3197 - acc: 0.8730 - val_loss: 0.3354 - val_acc: 0.8610\n",
      "Epoch 4/10\n",
      "25000/25000 [==============================] - 83s - loss: 0.2341 - acc: 0.9128 - val_loss: 0.3287 - val_acc: 0.8687\n",
      "Epoch 5/10\n",
      "25000/25000 [==============================] - 85s - loss: 0.1791 - acc: 0.9352 - val_loss: 0.3837 - val_acc: 0.8622\n",
      "Epoch 6/10\n",
      "25000/25000 [==============================] - 85s - loss: 0.1414 - acc: 0.9495 - val_loss: 0.5389 - val_acc: 0.8426\n",
      "Epoch 7/10\n",
      "25000/25000 [==============================] - 85s - loss: 0.1073 - acc: 0.9628 - val_loss: 0.4124 - val_acc: 0.8600\n",
      "Epoch 8/10\n",
      "25000/25000 [==============================] - 85s - loss: 0.0819 - acc: 0.9718 - val_loss: 0.4911 - val_acc: 0.8312\n",
      "Epoch 9/10\n",
      "25000/25000 [==============================] - 85s - loss: 0.0637 - acc: 0.9788 - val_loss: 0.5826 - val_acc: 0.7733\n",
      "Epoch 10/10\n",
      "25000/25000 [==============================] - 85s - loss: 0.0496 - acc: 0.9841 - val_loss: 0.5206 - val_acc: 0.8516\n"
     ]
    },
    {
     "data": {
      "text/plain": [
       "<keras.callbacks.History at 0x7f11701ac450>"
      ]
     },
     "execution_count": 5,
     "metadata": {},
     "output_type": "execute_result"
    }
   ],
   "source": [
    "# Train\n",
    "batch_size = 128\n",
    "\n",
    "print(\"Train...\")\n",
    "model_1.fit(X_train, y_train, batch_size=batch_size, nb_epoch=10,\n",
    "          validation_data=(X_test, y_test))"
   ]
  },
  {
   "cell_type": "markdown",
   "metadata": {},
   "source": [
    "## Validate it"
   ]
  },
  {
   "cell_type": "code",
   "execution_count": 6,
   "metadata": {
    "collapsed": false
   },
   "outputs": [
    {
     "name": "stdout",
     "output_type": "stream",
     "text": [
      "(25000, 2)\n"
     ]
    }
   ],
   "source": [
    "# Score and obtain probabilities\n",
    "pred_test = model_1.predict(X_test)\n",
    "print(pred_test.shape)"
   ]
  },
  {
   "cell_type": "code",
   "execution_count": 7,
   "metadata": {
    "collapsed": false
   },
   "outputs": [
    {
     "name": "stdout",
     "output_type": "stream",
     "text": [
      "0.85156\n",
      "AUC:  0.925247376\n"
     ]
    },
    {
     "data": {
      "text/plain": [
       "[<matplotlib.lines.Line2D at 0x7f116e548a50>]"
      ]
     },
     "execution_count": 7,
     "metadata": {},
     "output_type": "execute_result"
    },
    {
     "data": {
      "image/png": "[encoded data removed]",
      "text/plain": [
       "<matplotlib.figure.Figure at 0x7f11e2cb85d0>"
      ]
     },
     "metadata": {},
     "output_type": "display_data"
    }
   ],
   "source": [
    "#Import metrics\n",
    "from sklearn.metrics import roc_curve, auc, accuracy_score\n",
    "\n",
    "#Plot graphs in the notebook output\n",
    "import matplotlib.pyplot as plt\n",
    "%matplotlib inline\n",
    "\n",
    "#Calculate accuracy with sklearn\n",
    "print(accuracy_score(y_test, [1 if p>0.5 else 0 for p in pred_test[:,1]]))\n",
    "\n",
    "#Calculate ROC curve\n",
    "fpr, tpr, _ = roc_curve(y_test, pred_test[:,1])\n",
    "print 'AUC: ', auc(fpr, tpr)  \n",
    "\n",
    "#Plot ROC curve\n",
    "plt.plot(fpr, tpr)"
   ]
  },
  {
   "cell_type": "code",
   "execution_count": 8,
   "metadata": {
    "collapsed": false
   },
   "outputs": [
    {
     "name": "stdout",
     "output_type": "stream",
     "text": [
      "('Sentence: ', \"This short was the first short released by Paramount Famous Studios and was one of several done by the studio showing Popeye engaged directly against the enemy, most often the Japanese. While Warner Brothers, Disney and, to a lesser extent, other studios, did shorts often depicting Germans as foils, the majority of Famous Studios efforts focused on the Japanese. Given Pearl Harbor and Popeye's naval ties, this is quite understandable. This is an average short. Seein' Red, White an' Blue and Spinach For Britain have aged better. But it's still worth watching. Recommended.\")\n",
      "('target: ', 1)\n",
      "('Prediction [neg, pos]: ', array([  8.62136312e-06,   9.99991417e-01]))\n"
     ]
    }
   ],
   "source": [
    "#Evaluate one positive record\n",
    "i = 1 # 1, 2, ... , 25000\n",
    "print('Sentence: ',sentences_tst_pos[i])\n",
    "print('target: ',y_test_full[i])\n",
    "print('Prediction [neg, pos]: ', pred_test[i])"
   ]
  },
  {
   "cell_type": "code",
   "execution_count": 9,
   "metadata": {
    "collapsed": false
   },
   "outputs": [
    {
     "name": "stdout",
     "output_type": "stream",
     "text": [
      "('Sentence: ', \"You have to start worrying when you see that Michael Madsen is leading the Cast of any movie. I wont go through the list of shame that is his movie career.<br /><br />I watched 45 minutes and still was not sure what really was going on. The movie consisted of a love hate relationship between Madsen and Argento, Which basically was Madsen insulting her, threatening violence and generally treating her like dirt. She on the other hand loves him, then shes doesn't, then she does, the she desires him, then she loves him again......whats wrong with you woman !!!! <br /><br />The Script is awful, lousy soundtrack and pointless aggressive and crude sexuality which i believe was added to entice some viewers as the movie has little else to offer. I would have given the movie a 1 but it just about managed a 2 with a little excitement in the last 20 minutes. It did actually answer one question in the final few minutes but i am not going to share that, i will make you suffer for the full movie like i did.\")\n",
      "('target: ', 0)\n",
      "('Prediction [neg, pos]: ', array([ 0.99562812,  0.00437183]))\n"
     ]
    }
   ],
   "source": [
    "#Evaluate one negative record\n",
    "i = -2 # -2, -3, ... -25000\n",
    "print('Sentence: ',sentences_tst_neg[i])\n",
    "print('target: ',y_test[i])\n",
    "print('Prediction [neg, pos]: ', pred_test[i])"
   ]
  },
  {
   "cell_type": "code",
   "execution_count": 25,
   "metadata": {
    "collapsed": false
   },
   "outputs": [
    {
     "name": "stdout",
     "output_type": "stream",
     "text": [
      "Tokenizing... Done!\n",
      "('Positive score:', 0.0043718344531953335)\n"
     ]
    }
   ],
   "source": [
    "# Score new text\n",
    "def score_new_text(text):\n",
    "    seq = generate_sequence(tokenize([text]), worddict)\n",
    "    seq = remove_features(seq)\n",
    "    seq = sequence.pad_sequences(seq, maxlen=max_len)\n",
    "    pred_test = model_1.predict(seq, batch_size=1)\n",
    "    return float(pred_test[:,1])\n",
    "\n",
    "\n",
    "text = \"You have to start worrying when you see that Michael Madsen is leading the Cast of any movie. I wont go through the list of shame that is his movie career.<br /><br />I watched 45 minutes and still was not sure what really was going on. The movie consisted of a love hate relationship between Madsen and Argento, Which basically was Madsen insulting her, threatening violence and generally treating her like dirt. She on the other hand loves him, then shes doesn't, then she does, the she desires him, then she loves him again......whats wrong with you woman !!!! <br /><br />The Script is awful, lousy soundtrack and pointless aggressive and crude sexuality which i believe was added to entice some viewers as the movie has little else to offer. I would have given the movie a 1 but it just about managed a 2 with a little excitement in the last 20 minutes. It did actually answer one question in the final few minutes but i am not going to share that, i will make you suffer for the full movie like i did.\"\n",
    "print('Positive score:', score_new_text(text))"
   ]
  },
  {
   "cell_type": "code",
   "execution_count": null,
   "metadata": {
    "collapsed": true
   },
   "outputs": [],
   "source": []
  }
 ],
 "metadata": {
  "kernelspec": {
   "display_name": "Python 2",
   "language": "python",
   "name": "python2"
  },
  "language_info": {
   "codemirror_mode": {
    "name": "ipython",
    "version": 2
   },
   "file_extension": ".py",
   "mimetype": "text/x-python",
   "name": "python",
   "nbconvert_exporter": "python",
   "pygments_lexer": "ipython2",
   "version": "2.7.6"
  }
 },
 "nbformat": 4,
 "nbformat_minor": 0
}
