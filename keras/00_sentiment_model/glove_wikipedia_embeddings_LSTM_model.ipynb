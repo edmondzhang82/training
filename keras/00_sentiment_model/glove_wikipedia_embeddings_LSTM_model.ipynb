{
 "cells": [
  {
   "cell_type": "code",
   "execution_count": 1,
   "metadata": {
    "collapsed": true,
    "scrolled": true
   },
   "outputs": [],
   "source": [
    "#Init\n",
    "import numpy as np\n",
    "import cPickle as pkl\n",
    "import pandas as pd\n",
    "import csv\n",
    "\n",
    "path='/home/jorge/proyectos/tesis/RNN/sentiment/'\n"
   ]
  },
  {
   "cell_type": "code",
   "execution_count": 2,
   "metadata": {
    "collapsed": false,
    "scrolled": true
   },
   "outputs": [
    {
     "name": "stdout",
     "output_type": "stream",
     "text": [
      "25000 25000\n",
      "25000 25000\n",
      "101758\n"
     ]
    }
   ],
   "source": [
    "#Import sequences & dictionary generated in the notebook imdb_keras_preprocess_and_model\n",
    "with open(\"imdb.pkl\", \"rb\") as f:\n",
    "    (X_train, y_train) = pkl.load(f)\n",
    "    (X_test, y_test) = pkl.load(f)\n",
    "print len(X_train), len(y_train)\n",
    "print len(X_test), len(y_test)\n",
    "\n",
    "imdb_dict = pkl.load( open( \"imdb.dict.pkl\", \"rb\" ) )\n",
    "print len(imdb_dict)"
   ]
  },
  {
   "cell_type": "code",
   "execution_count": 3,
   "metadata": {
    "collapsed": false,
    "scrolled": true
   },
   "outputs": [
    {
     "name": "stdout",
     "output_type": "stream",
     "text": [
      "284.549\n"
     ]
    }
   ],
   "source": [
    "#Average length of sentences\n",
    "print np.mean([len(x) for x in X_train])"
   ]
  },
  {
   "cell_type": "code",
   "execution_count": 4,
   "metadata": {
    "collapsed": false,
    "scrolled": true
   },
   "outputs": [
    {
     "name": "stdout",
     "output_type": "stream",
     "text": [
      "(64083, 301)\n",
      "64083\n"
     ]
    },
    {
     "name": "stderr",
     "output_type": "stream",
     "text": [
      "/usr/local/lib/python2.7/dist-packages/pandas-0.17.0-py2.7-linux-x86_64.egg/pandas/core/index.py:1840: UnicodeWarning: Unicode equal comparison failed to convert both arguments to Unicode - interpreting them as being unequal\n",
      "  indexer = self._engine.get_indexer(target._values)\n"
     ]
    }
   ],
   "source": [
    "#Import wikipedia embeddings\n",
    "#Downloaded from http://nlp.stanford.edu/projects/glove/\n",
    "embed_dim=300\n",
    "\n",
    "df_glove = pd.read_csv(\"/home/jorge/data/text/glove/glove.6B.300d.txt\", index_col=0 ,sep=' ',\n",
    "                   header = None, quoting=csv.QUOTE_NONE, encoding='utf-8')\n",
    "\n",
    "#Merge with the dictionary of the current texts\n",
    "#Inner join, only words in the corpus and in glove.\n",
    "df_glove = df_glove.merge(pd.DataFrame.from_dict(imdb_dict, orient='index'), left_index=True, right_index=True)\n",
    "print df_glove.shape\n",
    "\n",
    "\n",
    "#Create dictionary: word_number_id --> [glove vector associated]\n",
    "glove={}\n",
    "for i,r in df_glove[:].iterrows():\n",
    "    glove[int(r[0])] = [r[j] for j in range(1,embed_dim+1)]\n",
    "    \n",
    "print len(glove)"
   ]
  },
  {
   "cell_type": "code",
   "execution_count": 5,
   "metadata": {
    "collapsed": true
   },
   "outputs": [
    {
     "data": {
      "text/plain": [
       "'\\nmax_features = 20000\\ndef remove_features(x):\\n    return [[0 if w >= max_features else w for w in sen] for sen in x]\\n\\nprint np.max(X_train)\\nprint np.max(X_test)\\nX_train = remove_features(X_train)\\nX_test  = remove_features(X_test)\\nprint np.max(X_train)\\nprint np.max(X_test)\\n'"
      ]
     },
     "execution_count": 5,
     "metadata": {},
     "output_type": "execute_result"
    }
   ],
   "source": [
    "#First version:\n",
    "# - Sequences of fixed length\n",
    "maxlen = 300  # cut texts after this number of words (among top max_features most common words)\n",
    "\n",
    "#Max features: No relevant here, the filter is the cross with the globe embedings\n",
    "'''\n",
    "max_features = 20000\n",
    "def remove_features(x):\n",
    "    return [[0 if w >= max_features else w for w in sen] for sen in x]\n",
    "\n",
    "print np.max(X_train)\n",
    "print np.max(X_test)\n",
    "X_train = remove_features(X_train)\n",
    "X_test  = remove_features(X_test)\n",
    "print np.max(X_train)\n",
    "print np.max(X_test)\n",
    "'''"
   ]
  },
  {
   "cell_type": "code",
   "execution_count": 6,
   "metadata": {
    "collapsed": false,
    "scrolled": true
   },
   "outputs": [
    {
     "name": "stdout",
     "output_type": "stream",
     "text": [
      "(25000, 300, 300)\n"
     ]
    }
   ],
   "source": [
    "#Create embeddings 3D tensors\n",
    "# - Complete with zeros at the begining. (better at the end?)\n",
    "\n",
    "def embedd(x):\n",
    "    r = np.zeros((maxlen,embed_dim))\n",
    "    pos = maxlen-1\n",
    "    for i in xrange(len(x),0,-1):\n",
    "        finded = True\n",
    "        try:\n",
    "            v = np.array([glove[x[i-1]]])\n",
    "        except:\n",
    "            finded = False\n",
    "        if finded and pos>=0:\n",
    "            r[pos,:] = v \n",
    "            pos += -1\n",
    "    return r\n",
    "        \n",
    "X_train_emb = np.array([embedd(s) for s in X_train])\n",
    "\n",
    "print X_train_emb.shape"
   ]
  },
  {
   "cell_type": "code",
   "execution_count": 7,
   "metadata": {
    "collapsed": true,
    "scrolled": true
   },
   "outputs": [],
   "source": [
    "X_test_emb = np.array([embedd(s) for s in X_test])"
   ]
  },
  {
   "cell_type": "code",
   "execution_count": 8,
   "metadata": {
    "collapsed": false,
    "scrolled": true
   },
   "outputs": [
    {
     "name": "stderr",
     "output_type": "stream",
     "text": [
      "Using gpu device 0: GeForce GTX TITAN Black (CNMeM is disabled)\n"
     ]
    }
   ],
   "source": [
    "#Define the model\n",
    "\n",
    "from keras.preprocessing import sequence\n",
    "from keras.utils import np_utils\n",
    "from keras.models import Sequential\n",
    "from keras.layers.core import Dense, Dropout, Activation\n",
    "from keras.layers.embeddings import Embedding\n",
    "from keras.layers.recurrent import LSTM\n",
    "from keras.datasets import imdb\n",
    "\n",
    "model = Sequential()\n",
    "model.add(LSTM(128, return_sequences=False, input_shape=(maxlen, embed_dim)))  # try using a GRU instead, for fun\n",
    "model.add(Dropout(0.5))\n",
    "model.add(Dense(1))\n",
    "model.add(Activation('sigmoid'))\n",
    "\n",
    "# try using different optimizers and different optimizer configs\n",
    "model.compile(loss='binary_crossentropy',\n",
    "              optimizer='Adam',\n",
    "              class_mode=\"binary\")\n"
   ]
  },
  {
   "cell_type": "code",
   "execution_count": 9,
   "metadata": {
    "collapsed": false,
    "scrolled": false
   },
   "outputs": [
    {
     "name": "stdout",
     "output_type": "stream",
     "text": [
      "Train...\n",
      "Train on 25000 samples, validate on 25000 samples\n",
      "Epoch 1/15\n",
      "25000/25000 [==============================] - 226s - loss: 0.5616 - acc: 0.7080 - val_loss: 0.5468 - val_acc: 0.7286\n",
      "Epoch 2/15\n",
      "25000/25000 [==============================] - 209s - loss: 0.4460 - acc: 0.8008 - val_loss: 0.3766 - val_acc: 0.8385\n",
      "Epoch 3/15\n",
      "25000/25000 [==============================] - 209s - loss: 0.3865 - acc: 0.8378 - val_loss: 0.3445 - val_acc: 0.8540\n",
      "Epoch 4/15\n",
      "25000/25000 [==============================] - 209s - loss: 0.3369 - acc: 0.8595 - val_loss: 0.3394 - val_acc: 0.8552\n",
      "Epoch 5/15\n",
      "25000/25000 [==============================] - 208s - loss: 0.3100 - acc: 0.8730 - val_loss: 0.2947 - val_acc: 0.8765\n",
      "Epoch 6/15\n",
      "25000/25000 [==============================] - 209s - loss: 0.2806 - acc: 0.8861 - val_loss: 0.2867 - val_acc: 0.8782\n",
      "Epoch 7/15\n",
      "25000/25000 [==============================] - 209s - loss: 0.2565 - acc: 0.8980 - val_loss: 0.2718 - val_acc: 0.8909\n",
      "Epoch 8/15\n",
      "25000/25000 [==============================] - 208s - loss: 0.2347 - acc: 0.9074 - val_loss: 0.2629 - val_acc: 0.8922\n",
      "Epoch 9/15\n",
      "25000/25000 [==============================] - 208s - loss: 0.2155 - acc: 0.9148 - val_loss: 0.3069 - val_acc: 0.8749\n",
      "Epoch 10/15\n",
      "25000/25000 [==============================] - 208s - loss: 0.2044 - acc: 0.9210 - val_loss: 0.2704 - val_acc: 0.8939\n",
      "Epoch 11/15\n",
      "25000/25000 [==============================] - 209s - loss: 0.1739 - acc: 0.9347 - val_loss: 0.2830 - val_acc: 0.8948\n",
      "Epoch 12/15\n",
      "25000/25000 [==============================] - 208s - loss: 0.1577 - acc: 0.9412 - val_loss: 0.2898 - val_acc: 0.8961\n",
      "Epoch 13/15\n",
      "25000/25000 [==============================] - 208s - loss: 0.1273 - acc: 0.9528 - val_loss: 0.3182 - val_acc: 0.8890\n",
      "Epoch 14/15\n",
      "25000/25000 [==============================] - 208s - loss: 0.1133 - acc: 0.9590 - val_loss: 0.3650 - val_acc: 0.8909\n",
      "Epoch 15/15\n",
      "25000/25000 [==============================] - 209s - loss: 0.0942 - acc: 0.9659 - val_loss: 0.3710 - val_acc: 0.8904\n"
     ]
    },
    {
     "data": {
      "text/plain": [
       "<keras.callbacks.History at 0x7fb88eba2890>"
      ]
     },
     "execution_count": 9,
     "metadata": {},
     "output_type": "execute_result"
    }
   ],
   "source": [
    "batch_size = 128\n",
    "\n",
    "print(\"Train...\")\n",
    "model.fit(X_train_emb, y_train, batch_size=batch_size, nb_epoch=15,\n",
    "          validation_data=(X_test_emb, y_test), show_accuracy=True)\n"
   ]
  },
  {
   "cell_type": "code",
   "execution_count": 10,
   "metadata": {
    "collapsed": false,
    "scrolled": true
   },
   "outputs": [
    {
     "name": "stdout",
     "output_type": "stream",
     "text": [
      "25000/25000 [==============================] - 71s    \n",
      "('Test score:', 0.37100702987670897)\n",
      "('Test accuracy:', 0.89039999999999997)\n",
      "25000/25000 [==============================] - 45s    \n",
      "0.9538336608\n"
     ]
    }
   ],
   "source": [
    "score, acc = model.evaluate(X_test_emb, y_test,\n",
    "                            batch_size=batch_size,\n",
    "                            show_accuracy=True)\n",
    "print('Test score:', score)\n",
    "print('Test accuracy:', acc)\n",
    "\n",
    "from sklearn.metrics import roc_auc_score\n",
    "print roc_auc_score(y_test, model.predict_proba(X_test_emb))\n"
   ]
  },
  {
   "cell_type": "code",
   "execution_count": 20,
   "metadata": {
    "collapsed": false,
    "scrolled": true
   },
   "outputs": [],
   "source": [
    "#Save model\n",
    "import cPickle as pkl\n",
    "import sys\n",
    "sys.setrecursionlimit(10000)\n",
    "\n",
    "pkl.dump( model, open('/home/jorge/proyectos/tesis/RNN/sentiment/glove_lstm128_imdb_model_keras_model.pkl', \"wb\" ) )\n"
   ]
  },
  {
   "cell_type": "code",
   "execution_count": 9,
   "metadata": {
    "collapsed": true,
    "scrolled": true
   },
   "outputs": [],
   "source": [
    "#Second model, two LSTM layers\n",
    "\n",
    "model2 = Sequential()\n",
    "model2.add(LSTM(512, return_sequences=False, input_shape=(maxlen, embed_dim)))\n",
    "model2.add(Dropout(0.5))\n",
    "model2.add(Dense(1))\n",
    "model2.add(Activation('sigmoid'))\n",
    "\n",
    "# try using different optimizers and different optimizer configs\n",
    "model2.compile(loss='binary_crossentropy',\n",
    "              optimizer='rmsprop',\n",
    "              class_mode=\"binary\")\n"
   ]
  },
  {
   "cell_type": "code",
   "execution_count": 10,
   "metadata": {
    "collapsed": false,
    "scrolled": true
   },
   "outputs": [
    {
     "name": "stdout",
     "output_type": "stream",
     "text": [
      "Train...\n",
      "Train on 25000 samples, validate on 25000 samples\n",
      "Epoch 1/15\n",
      "25000/25000 [==============================] - 126s - loss: 0.6777 - acc: 0.5933 - val_loss: 0.6149 - val_acc: 0.6782\n",
      "Epoch 2/15\n",
      "25000/25000 [==============================] - 134s - loss: 0.6306 - acc: 0.6590 - val_loss: 0.5700 - val_acc: 0.7150\n",
      "Epoch 3/15\n",
      "25000/25000 [==============================] - 133s - loss: 0.6013 - acc: 0.6858 - val_loss: 0.5548 - val_acc: 0.7344\n",
      "Epoch 4/15\n",
      "25000/25000 [==============================] - 134s - loss: 0.5434 - acc: 0.7318 - val_loss: 0.5270 - val_acc: 0.7566\n",
      "Epoch 5/15\n",
      "25000/25000 [==============================] - 134s - loss: 0.5154 - acc: 0.7589 - val_loss: 0.5142 - val_acc: 0.7519\n",
      "Epoch 6/15\n",
      "25000/25000 [==============================] - 134s - loss: 0.4780 - acc: 0.7785 - val_loss: 0.4552 - val_acc: 0.7948\n",
      "Epoch 7/15\n",
      "25000/25000 [==============================] - 134s - loss: 0.4521 - acc: 0.7962 - val_loss: 0.6143 - val_acc: 0.6431\n",
      "Epoch 8/15\n",
      "25000/25000 [==============================] - 134s - loss: 0.4107 - acc: 0.8150 - val_loss: 0.3467 - val_acc: 0.8496\n",
      "Epoch 9/15\n",
      "25000/25000 [==============================] - 134s - loss: 0.3574 - acc: 0.8430 - val_loss: 0.4080 - val_acc: 0.8160\n",
      "Epoch 10/15\n",
      "25000/25000 [==============================] - 134s - loss: 0.3256 - acc: 0.8604 - val_loss: 0.3066 - val_acc: 0.8692\n",
      "Epoch 11/15\n",
      "25000/25000 [==============================] - 134s - loss: 0.3072 - acc: 0.8709 - val_loss: 0.3075 - val_acc: 0.8688\n",
      "Epoch 12/15\n",
      "25000/25000 [==============================] - 134s - loss: 0.2904 - acc: 0.8789 - val_loss: 0.2977 - val_acc: 0.8739\n",
      "Epoch 13/15\n",
      "25000/25000 [==============================] - 134s - loss: 0.2795 - acc: 0.8831 - val_loss: 0.3132 - val_acc: 0.8686\n",
      "Epoch 14/15\n",
      "25000/25000 [==============================] - 134s - loss: 0.2704 - acc: 0.8886 - val_loss: 0.2922 - val_acc: 0.8754\n",
      "Epoch 15/15\n",
      "25000/25000 [==============================] - 134s - loss: 0.2556 - acc: 0.8953 - val_loss: 0.2910 - val_acc: 0.8770\n"
     ]
    },
    {
     "data": {
      "text/plain": [
       "<keras.callbacks.History at 0x7f9b9e778ad0>"
      ]
     },
     "execution_count": 10,
     "metadata": {},
     "output_type": "execute_result"
    }
   ],
   "source": [
    "batch_size = 256\n",
    "\n",
    "print(\"Train...\")\n",
    "model2.fit(X_train_emb, y_train, batch_size=batch_size, nb_epoch=15,\n",
    "          validation_data=(X_test_emb, y_test), show_accuracy=True)\n"
   ]
  },
  {
   "cell_type": "code",
   "execution_count": 12,
   "metadata": {
    "collapsed": false,
    "scrolled": true
   },
   "outputs": [
    {
     "name": "stdout",
     "output_type": "stream",
     "text": [
      "25000/25000 [==============================] - 34s    \n",
      "('Test score:', 0.29102582094192503)\n",
      "('Test accuracy:', 0.877)\n",
      "25000/25000 [==============================] - 40s    \n",
      "0.9491958336\n"
     ]
    }
   ],
   "source": [
    "score, acc = model2.evaluate(X_test_emb, y_test,\n",
    "                            batch_size=batch_size,\n",
    "                            show_accuracy=True)\n",
    "print('Test score:', score)\n",
    "print('Test accuracy:', acc)\n",
    "\n",
    "from sklearn.metrics import roc_auc_score\n",
    "print roc_auc_score(y_test, model2.predict_proba(X_test_emb))\n"
   ]
  },
  {
   "cell_type": "markdown",
   "metadata": {},
   "source": [
    "\n",
    "Comparation of accuracy whit several models in http://ai.stanford.edu/~amaas/papers/wvSent_acl2011.pdf \n",
    "\n",
    "    Features                          Our Dataset \n",
    "    Bag of Words (bnc)                87.80 \n",
    "    Bag of Words (b∆t’c)              88.23\n",
    "    LDA                               67.425\n",
    "    LSA                               83.96\n",
    "    Our Semantic Only                 87.30\n",
    "    Our Full                          87.44\n",
    "    Our Full, Additional Unlabeled    87.99\n",
    "    Our Semantic + Bag of Words (bnc) 88.28\n",
    "    Our Full + Bag of Words (bnc)     88.33\n",
    "    Our Full, Add’l Unlabeled + Bag of Words (bnc) 88.89"
   ]
  }
 ],
 "metadata": {
  "kernelspec": {
   "display_name": "Python 2",
   "language": "python",
   "name": "python2"
  },
  "language_info": {
   "codemirror_mode": {
    "name": "ipython",
    "version": 2
   },
   "file_extension": ".py",
   "mimetype": "text/x-python",
   "name": "python",
   "nbconvert_exporter": "python",
   "pygments_lexer": "ipython2",
   "version": "2.7.11"
  }
 },
 "nbformat": 4,
 "nbformat_minor": 0
}
