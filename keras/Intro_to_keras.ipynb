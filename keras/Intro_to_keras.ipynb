{
 "cells": [
  {
   "cell_type": "code",
   "execution_count": 1,
   "metadata": {
    "collapsed": false
   },
   "outputs": [
    {
     "name": "stderr",
     "output_type": "stream",
     "text": [
      "Using Theano backend.\n",
      "Using gpu device 0: GeForce GTX TITAN Black (CNMeM is disabled, cuDNN 5103)\n",
      "/usr/local/lib/python2.7/dist-packages/theano/sandbox/cuda/__init__.py:599: UserWarning: Your cuDNN version is more recent than the one Theano officially supports. If you see any problems, try updating Theano or downgrading cuDNN to version 5.\n",
      "  warnings.warn(warn)\n"
     ]
    }
   ],
   "source": [
    "import numpy as np\n",
    "import keras"
   ]
  },
  {
   "cell_type": "code",
   "execution_count": 2,
   "metadata": {
    "collapsed": false,
    "scrolled": false
   },
   "outputs": [
    {
     "name": "stdout",
     "output_type": "stream",
     "text": [
      "(60000, 28, 28)\n",
      "1.0\n",
      "5\n"
     ]
    }
   ],
   "source": [
    "# Import mnist dataset and rescale between [0,1]\n",
    "from keras.datasets import mnist\n",
    "\n",
    "(X_train, y_train), (X_test, y_test) = mnist.load_data()\n",
    "X_train = X_train.astype('float32')\n",
    "X_test = X_test.astype('float32')\n",
    "X_train /= 255\n",
    "X_test /= 255\n",
    "\n",
    "print(X_train.shape)\n",
    "print(np.max(X_train[0]))\n",
    "print(y_train[0])"
   ]
  },
  {
   "cell_type": "code",
   "execution_count": 3,
   "metadata": {
    "collapsed": false,
    "scrolled": true
   },
   "outputs": [
    {
     "name": "stdout",
     "output_type": "stream",
     "text": [
      "Linear model\n",
      "____________________________________________________________________________________________________\n",
      "Layer (type)                     Output Shape          Param #     Connected to                     \n",
      "====================================================================================================\n",
      "Images (InputLayer)              (None, 28, 28)        0                                            \n",
      "____________________________________________________________________________________________________\n",
      "Flat image (Flatten)             (None, 784)           0           Images[0][0]                     \n",
      "____________________________________________________________________________________________________\n",
      "Dense output (Dense)             (None, 10)            7850        Flat image[0][0]                 \n",
      "====================================================================================================\n",
      "Total params: 7850\n",
      "____________________________________________________________________________________________________\n"
     ]
    }
   ],
   "source": [
    "from keras.models import Model\n",
    "from keras.layers import Input, Flatten, Dense\n",
    "\n",
    "print('Linear model')\n",
    "images = Input(batch_shape=(None, 28, 28), dtype='float32', name='Images') \n",
    "flat = Flatten(name='Flat image')(images)\n",
    "output = Dense(10, activation='softmax', name='Dense output')(flat)\n",
    "\n",
    "# Model Architecture defined\n",
    "model_linear = Model(input=images, output=output)\n",
    "model_linear.summary()\n"
   ]
  },
  {
   "cell_type": "code",
   "execution_count": 4,
   "metadata": {
    "collapsed": true
   },
   "outputs": [],
   "source": [
    "# Compile model and select optimizer\n",
    "from keras.optimizers import sgd\n",
    "\n",
    "sgd_optimizer = sgd(lr=0.01)\n",
    "model_linear.compile(loss='sparse_categorical_crossentropy', \n",
    "                     optimizer=sgd_optimizer, metrics=['accuracy'])\n"
   ]
  },
  {
   "cell_type": "code",
   "execution_count": 5,
   "metadata": {
    "collapsed": false
   },
   "outputs": [
    {
     "name": "stdout",
     "output_type": "stream",
     "text": [
      "Train on 60000 samples, validate on 10000 samples\n",
      "Epoch 1/30\n",
      "60000/60000 [==============================] - 0s - loss: 1.6090 - acc: 0.5970 - val_loss: 1.1285 - val_acc: 0.7902\n",
      "Epoch 2/30\n",
      "60000/60000 [==============================] - 0s - loss: 0.9692 - acc: 0.8082 - val_loss: 0.8146 - val_acc: 0.8369\n",
      "Epoch 3/30\n",
      "60000/60000 [==============================] - 0s - loss: 0.7667 - acc: 0.8362 - val_loss: 0.6818 - val_acc: 0.8527\n",
      "Epoch 4/30\n",
      "60000/60000 [==============================] - 0s - loss: 0.6676 - acc: 0.8493 - val_loss: 0.6076 - val_acc: 0.8629\n",
      "Epoch 5/30\n",
      "60000/60000 [==============================] - 0s - loss: 0.6075 - acc: 0.8573 - val_loss: 0.5596 - val_acc: 0.8698\n",
      "Epoch 6/30\n",
      "60000/60000 [==============================] - 0s - loss: 0.5665 - acc: 0.8632 - val_loss: 0.5253 - val_acc: 0.8751\n",
      "Epoch 7/30\n",
      "60000/60000 [==============================] - 0s - loss: 0.5366 - acc: 0.8673 - val_loss: 0.4997 - val_acc: 0.8783\n",
      "Epoch 8/30\n",
      "60000/60000 [==============================] - 0s - loss: 0.5134 - acc: 0.8704 - val_loss: 0.4796 - val_acc: 0.8832\n",
      "Epoch 9/30\n",
      "60000/60000 [==============================] - 0s - loss: 0.4949 - acc: 0.8737 - val_loss: 0.4631 - val_acc: 0.8844\n",
      "Epoch 10/30\n",
      "60000/60000 [==============================] - 0s - loss: 0.4797 - acc: 0.8766 - val_loss: 0.4496 - val_acc: 0.8870\n",
      "Epoch 11/30\n",
      "60000/60000 [==============================] - 0s - loss: 0.4669 - acc: 0.8790 - val_loss: 0.4380 - val_acc: 0.8891\n",
      "Epoch 12/30\n",
      "60000/60000 [==============================] - 0s - loss: 0.4559 - acc: 0.8813 - val_loss: 0.4282 - val_acc: 0.8913\n",
      "Epoch 13/30\n",
      "60000/60000 [==============================] - 0s - loss: 0.4464 - acc: 0.8829 - val_loss: 0.4195 - val_acc: 0.8922\n",
      "Epoch 14/30\n",
      "60000/60000 [==============================] - 0s - loss: 0.4380 - acc: 0.8842 - val_loss: 0.4121 - val_acc: 0.8935\n",
      "Epoch 15/30\n",
      "60000/60000 [==============================] - 0s - loss: 0.4305 - acc: 0.8857 - val_loss: 0.4053 - val_acc: 0.8953\n",
      "Epoch 16/30\n",
      "60000/60000 [==============================] - 0s - loss: 0.4239 - acc: 0.8873 - val_loss: 0.3992 - val_acc: 0.8968\n",
      "Epoch 17/30\n",
      "60000/60000 [==============================] - 0s - loss: 0.4179 - acc: 0.8882 - val_loss: 0.3937 - val_acc: 0.8970\n",
      "Epoch 18/30\n",
      "60000/60000 [==============================] - 0s - loss: 0.4124 - acc: 0.8895 - val_loss: 0.3887 - val_acc: 0.8985\n",
      "Epoch 19/30\n",
      "60000/60000 [==============================] - 0s - loss: 0.4074 - acc: 0.8906 - val_loss: 0.3841 - val_acc: 0.8988\n",
      "Epoch 20/30\n",
      "60000/60000 [==============================] - 0s - loss: 0.4028 - acc: 0.8916 - val_loss: 0.3799 - val_acc: 0.8995\n",
      "Epoch 21/30\n",
      "60000/60000 [==============================] - 0s - loss: 0.3986 - acc: 0.8924 - val_loss: 0.3763 - val_acc: 0.8996\n",
      "Epoch 22/30\n",
      "60000/60000 [==============================] - 0s - loss: 0.3947 - acc: 0.8931 - val_loss: 0.3725 - val_acc: 0.9008\n",
      "Epoch 23/30\n",
      "60000/60000 [==============================] - 0s - loss: 0.3911 - acc: 0.8940 - val_loss: 0.3693 - val_acc: 0.9018\n",
      "Epoch 24/30\n",
      "60000/60000 [==============================] - 0s - loss: 0.3877 - acc: 0.8946 - val_loss: 0.3661 - val_acc: 0.9023\n",
      "Epoch 25/30\n",
      "60000/60000 [==============================] - 0s - loss: 0.3845 - acc: 0.8953 - val_loss: 0.3633 - val_acc: 0.9024\n",
      "Epoch 26/30\n",
      "60000/60000 [==============================] - 0s - loss: 0.3815 - acc: 0.8961 - val_loss: 0.3606 - val_acc: 0.9030\n",
      "Epoch 27/30\n",
      "60000/60000 [==============================] - 0s - loss: 0.3787 - acc: 0.8966 - val_loss: 0.3580 - val_acc: 0.9033\n",
      "Epoch 28/30\n",
      "60000/60000 [==============================] - 0s - loss: 0.3760 - acc: 0.8974 - val_loss: 0.3556 - val_acc: 0.9039\n",
      "Epoch 29/30\n",
      "60000/60000 [==============================] - 0s - loss: 0.3735 - acc: 0.8978 - val_loss: 0.3534 - val_acc: 0.9037\n",
      "Epoch 30/30\n",
      "60000/60000 [==============================] - 0s - loss: 0.3711 - acc: 0.8983 - val_loss: 0.3513 - val_acc: 0.9041\n"
     ]
    }
   ],
   "source": [
    "# Train the model\n",
    "batch_size = 256\n",
    "nb_epoch = 30\n",
    "\n",
    "history = model_linear.fit(X_train, y_train,\n",
    "                    batch_size=batch_size, nb_epoch=nb_epoch,\n",
    "                    verbose=1, validation_data=(X_test, y_test))"
   ]
  },
  {
   "cell_type": "code",
   "execution_count": 6,
   "metadata": {
    "collapsed": false
   },
   "outputs": [
    {
     "data": {
      "image/png": "[encoded data removed]",
      "text/plain": [
       "<matplotlib.figure.Figure at 0x7f9993bdb4d0>"
      ]
     },
     "metadata": {},
     "output_type": "display_data"
    }
   ],
   "source": [
    "import matplotlib.pyplot as plt\n",
    "%matplotlib inline\n",
    "plt.rcParams['figure.figsize'] = (8, 8)\n",
    "\n",
    "plt.plot(history.history['acc'], label='acc')\n",
    "plt.plot(history.history['val_acc'], label='val acc')\n",
    "plt.legend(loc='lower right')\n",
    "plt.show()"
   ]
  },
  {
   "cell_type": "code",
   "execution_count": 7,
   "metadata": {
    "collapsed": false
   },
   "outputs": [
    {
     "name": "stdout",
     "output_type": "stream",
     "text": [
      "Linear model\n",
      "____________________________________________________________________________________________________\n",
      "Layer (type)                     Output Shape          Param #     Connected to                     \n",
      "====================================================================================================\n",
      "Images (InputLayer)              (None, 1, 28, 28)     0                                            \n",
      "____________________________________________________________________________________________________\n",
      "convolution2d_1 (Convolution2D)  (None, 20, 24, 24)    520         Images[0][0]                     \n",
      "____________________________________________________________________________________________________\n",
      "maxpooling2d_1 (MaxPooling2D)    (None, 20, 12, 12)    0           convolution2d_1[0][0]            \n",
      "____________________________________________________________________________________________________\n",
      "convolution2d_2 (Convolution2D)  (None, 50, 8, 8)      25050       maxpooling2d_1[0][0]             \n",
      "____________________________________________________________________________________________________\n",
      "maxpooling2d_2 (MaxPooling2D)    (None, 50, 4, 4)      0           convolution2d_2[0][0]            \n",
      "____________________________________________________________________________________________________\n",
      "Flat image (Flatten)             (None, 800)           0           maxpooling2d_2[0][0]             \n",
      "____________________________________________________________________________________________________\n",
      "Dense 1 (Dense)                  (None, 500)           400500      Flat image[0][0]                 \n",
      "____________________________________________________________________________________________________\n",
      "Dense output (Dense)             (None, 10)            5010        Dense 1[0][0]                    \n",
      "====================================================================================================\n",
      "Total params: 431080\n",
      "____________________________________________________________________________________________________\n"
     ]
    }
   ],
   "source": [
    "## Convolutional model\n",
    "\n",
    "from keras.models import Model\n",
    "from keras.layers import Input, Flatten, Dense, Convolution2D, Reshape, MaxPooling2D, Dropout\n",
    "from keras.optimizers import sgd\n",
    "\n",
    "print('Linear model')\n",
    "#images = Input(batch_shape=(None, 28, 28, 1), dtype='float32', name='Images') \n",
    "images = Input(batch_shape=(None, 1, 28, 28), dtype='float32', name='Images') \n",
    "\n",
    "#First convolution layers stack\n",
    "conv1 = Convolution2D(20, 5, 5)(images)\n",
    "pool1 = MaxPooling2D(pool_size=(2, 2))(conv1)\n",
    "\n",
    "#Second convolution layers stack\n",
    "conv2 = Convolution2D(50, 5, 5)(pool1)\n",
    "pool2 = MaxPooling2D(pool_size=(2, 2))(conv2)\n",
    "\n",
    "#Flatten and dense layers\n",
    "flat = Flatten(name='Flat image')(pool2)\n",
    "dense1 = Dense(500, activation='relu', name='Dense 1')(flat)\n",
    "\n",
    "output = Dense(10, activation='softmax', name='Dense output')(dense1)\n",
    "\n",
    "# Model Architecture defined\n",
    "model_conv = Model(input=images, output=output)\n",
    "model_conv.summary()\n"
   ]
  },
  {
   "cell_type": "code",
   "execution_count": 8,
   "metadata": {
    "collapsed": true
   },
   "outputs": [],
   "source": [
    "# Compile model and select optimizer\n",
    "sgd_optimizer = sgd(lr=0.01, momentum=0.99, decay=0.005, nesterov=True)\n",
    "model_conv.compile(loss='sparse_categorical_crossentropy', optimizer=sgd_optimizer, metrics=['accuracy'])\n"
   ]
  },
  {
   "cell_type": "code",
   "execution_count": 9,
   "metadata": {
    "collapsed": false
   },
   "outputs": [
    {
     "name": "stdout",
     "output_type": "stream",
     "text": [
      "Train on 60000 samples, validate on 10000 samples\n",
      "Epoch 1/30\n",
      "60000/60000 [==============================] - 2s - loss: 0.4388 - acc: 0.8842 - val_loss: 0.0972 - val_acc: 0.9707\n",
      "Epoch 2/30\n",
      "60000/60000 [==============================] - 2s - loss: 0.0757 - acc: 0.9788 - val_loss: 0.0513 - val_acc: 0.9843\n",
      "Epoch 3/30\n",
      "60000/60000 [==============================] - 2s - loss: 0.0361 - acc: 0.9892 - val_loss: 0.0418 - val_acc: 0.9875\n",
      "Epoch 4/30\n",
      "60000/60000 [==============================] - 2s - loss: 0.0214 - acc: 0.9936 - val_loss: 0.0372 - val_acc: 0.9888\n",
      "Epoch 5/30\n",
      "60000/60000 [==============================] - 2s - loss: 0.0145 - acc: 0.9959 - val_loss: 0.0354 - val_acc: 0.9904\n",
      "Epoch 6/30\n",
      "60000/60000 [==============================] - 2s - loss: 0.0099 - acc: 0.9975 - val_loss: 0.0325 - val_acc: 0.9914\n",
      "Epoch 7/30\n",
      "60000/60000 [==============================] - 2s - loss: 0.0076 - acc: 0.9983 - val_loss: 0.0341 - val_acc: 0.9904\n",
      "Epoch 8/30\n",
      "60000/60000 [==============================] - 2s - loss: 0.0063 - acc: 0.9987 - val_loss: 0.0345 - val_acc: 0.9909\n",
      "Epoch 9/30\n",
      "60000/60000 [==============================] - 2s - loss: 0.0052 - acc: 0.9991 - val_loss: 0.0348 - val_acc: 0.9903\n",
      "Epoch 10/30\n",
      "60000/60000 [==============================] - 2s - loss: 0.0046 - acc: 0.9992 - val_loss: 0.0347 - val_acc: 0.9910\n",
      "Epoch 11/30\n",
      "60000/60000 [==============================] - 2s - loss: 0.0040 - acc: 0.9994 - val_loss: 0.0353 - val_acc: 0.9911\n",
      "Epoch 12/30\n",
      "60000/60000 [==============================] - 2s - loss: 0.0037 - acc: 0.9995 - val_loss: 0.0360 - val_acc: 0.9906\n",
      "Epoch 13/30\n",
      "60000/60000 [==============================] - 2s - loss: 0.0032 - acc: 0.9996 - val_loss: 0.0356 - val_acc: 0.9912\n",
      "Epoch 14/30\n",
      "60000/60000 [==============================] - 2s - loss: 0.0030 - acc: 0.9996 - val_loss: 0.0362 - val_acc: 0.9910\n",
      "Epoch 15/30\n",
      "60000/60000 [==============================] - 2s - loss: 0.0029 - acc: 0.9997 - val_loss: 0.0366 - val_acc: 0.9909\n",
      "Epoch 16/30\n",
      "60000/60000 [==============================] - 2s - loss: 0.0026 - acc: 0.9997 - val_loss: 0.0369 - val_acc: 0.9907\n",
      "Epoch 17/30\n",
      "60000/60000 [==============================] - 2s - loss: 0.0025 - acc: 0.9998 - val_loss: 0.0370 - val_acc: 0.9907\n",
      "Epoch 18/30\n",
      "60000/60000 [==============================] - 2s - loss: 0.0023 - acc: 0.9998 - val_loss: 0.0373 - val_acc: 0.9908\n",
      "Epoch 19/30\n",
      "60000/60000 [==============================] - 2s - loss: 0.0023 - acc: 0.9998 - val_loss: 0.0373 - val_acc: 0.9906\n",
      "Epoch 20/30\n",
      "60000/60000 [==============================] - 2s - loss: 0.0021 - acc: 0.9999 - val_loss: 0.0377 - val_acc: 0.9906\n",
      "Epoch 21/30\n",
      "60000/60000 [==============================] - 2s - loss: 0.0021 - acc: 0.9999 - val_loss: 0.0379 - val_acc: 0.9910\n",
      "Epoch 22/30\n",
      "60000/60000 [==============================] - 2s - loss: 0.0020 - acc: 0.9999 - val_loss: 0.0378 - val_acc: 0.9907\n",
      "Epoch 23/30\n",
      "60000/60000 [==============================] - 2s - loss: 0.0019 - acc: 0.9999 - val_loss: 0.0380 - val_acc: 0.9909\n",
      "Epoch 24/30\n",
      "60000/60000 [==============================] - 2s - loss: 0.0019 - acc: 0.9999 - val_loss: 0.0380 - val_acc: 0.9907\n",
      "Epoch 25/30\n",
      "60000/60000 [==============================] - 2s - loss: 0.0018 - acc: 0.9999 - val_loss: 0.0383 - val_acc: 0.9910\n",
      "Epoch 26/30\n",
      "60000/60000 [==============================] - 2s - loss: 0.0018 - acc: 0.9999 - val_loss: 0.0385 - val_acc: 0.9909\n",
      "Epoch 27/30\n",
      "60000/60000 [==============================] - 2s - loss: 0.0017 - acc: 0.9999 - val_loss: 0.0385 - val_acc: 0.9907\n",
      "Epoch 28/30\n",
      "60000/60000 [==============================] - 2s - loss: 0.0017 - acc: 1.0000 - val_loss: 0.0385 - val_acc: 0.9907\n",
      "Epoch 29/30\n",
      "60000/60000 [==============================] - 2s - loss: 0.0016 - acc: 1.0000 - val_loss: 0.0388 - val_acc: 0.9910\n",
      "Epoch 30/30\n",
      "60000/60000 [==============================] - 2s - loss: 0.0016 - acc: 1.0000 - val_loss: 0.0389 - val_acc: 0.9908\n"
     ]
    }
   ],
   "source": [
    "# Train the model\n",
    "#X_train = X_train.reshape(X_train.shape[0], 28, 28, 1)\n",
    "#X_test = X_test.reshape(X_test.shape[0], 28, 28, 1)\n",
    "X_train = X_train.reshape(X_train.shape[0], 1, 28, 28)\n",
    "X_test = X_test.reshape(X_test.shape[0], 1, 28, 28)\n",
    "\n",
    "batch_size = 256\n",
    "nb_epoch = 10\n",
    "history = model_conv.fit(X_train, y_train,\n",
    "                    batch_size=batch_size, nb_epoch=nb_epoch,\n",
    "                    verbose=1, validation_data=(X_test, y_test))"
   ]
  },
  {
   "cell_type": "code",
   "execution_count": 10,
   "metadata": {
    "collapsed": false
   },
   "outputs": [
    {
     "name": "stdout",
     "output_type": "stream",
     "text": [
      "[[ 973    0    0    0    0    0    3    1    3    0]\n",
      " [   0 1129    2    0    0    0    1    0    3    0]\n",
      " [   1    0 1024    0    1    0    1    4    1    0]\n",
      " [   0    0    2 1000    0    3    0    3    2    0]\n",
      " [   0    0    0    0  970    0    6    1    0    5]\n",
      " [   1    0    0    4    0  884    1    1    1    0]\n",
      " [   2    2    0    1    3    3  945    0    2    0]\n",
      " [   0    2    3    0    0    0    0 1020    1    2]\n",
      " [   2    0    2    1    0    3    0    0  964    2]\n",
      " [   1    0    0    3    2    2    0    1    1  999]]\n"
     ]
    }
   ],
   "source": [
    "# Score and select prediction with max prob\n",
    "import numpy as np\n",
    "pred_test = np.argmax(model_conv.predict(X_test), axis=1)\n",
    "\n",
    "#Evaluate the confusion matrix\n",
    "from sklearn.metrics import confusion_matrix\n",
    "print(confusion_matrix(y_test,pred_test))"
   ]
  },
  {
   "cell_type": "code",
   "execution_count": 16,
   "metadata": {
    "collapsed": false
   },
   "outputs": [
    {
     "name": "stdout",
     "output_type": "stream",
     "text": [
      "('Num errors: ', 92)\n"
     ]
    },
    {
     "data": {
      "image/png": "[encoded data removed]",
      "text/plain": [
       "<matplotlib.figure.Figure at 0x7f9981ec7510>"
      ]
     },
     "metadata": {},
     "output_type": "display_data"
    }
   ],
   "source": [
    "#Plot errors\n",
    "import matplotlib.pyplot as plt\n",
    "%matplotlib inline\n",
    "\n",
    "# set display defaults\n",
    "plt.rcParams['figure.figsize'] = (10, 10)        # large images\n",
    "plt.rcParams['image.interpolation'] = 'nearest'  # don't interpolate: show square pixels\n",
    "plt.rcParams['image.cmap'] = 'gray'              # use grayscale output color heatmap\n",
    "\n",
    "\n",
    "test_errors=[]\n",
    "test_errors_real=[]\n",
    "test_errors_predict=[]\n",
    "\n",
    "for i in range(len(pred_test)):\n",
    "    if pred_test[i] != y_test[i]: #Error!\n",
    "        test_errors += [X_test[i,0,:,:]]\n",
    "        test_errors_real += [y_test[i]]\n",
    "        test_errors_predict += [pred_test[i]]  \n",
    "print(\"Num errors: \", len(test_errors))\n",
    "\n",
    "\n",
    "fig = plt.figure()\n",
    "for n, i in enumerate(range(32)): \n",
    "    a = fig.add_subplot(4,8,n+1)\n",
    "    a.set_title('R:'+str(test_errors_real[i])+' - P:'+str(test_errors_predict[i]))\n",
    "    fig.tight_layout()\n",
    "    plt.imshow(test_errors[i])\n",
    "    "
   ]
  },
  {
   "cell_type": "code",
   "execution_count": null,
   "metadata": {
    "collapsed": true
   },
   "outputs": [],
   "source": []
  }
 ],
 "metadata": {
  "kernelspec": {
   "display_name": "Python 2",
   "language": "python",
   "name": "python2"
  },
  "language_info": {
   "codemirror_mode": {
    "name": "ipython",
    "version": 2
   },
   "file_extension": ".py",
   "mimetype": "text/x-python",
   "name": "python",
   "nbconvert_exporter": "python",
   "pygments_lexer": "ipython2",
   "version": "2.7.6"
  }
 },
 "nbformat": 4,
 "nbformat_minor": 0
}
