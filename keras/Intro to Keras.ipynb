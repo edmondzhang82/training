{
 "cells": [
  {
   "cell_type": "code",
   "execution_count": 13,
   "metadata": {
    "collapsed": false
   },
   "outputs": [],
   "source": [
    "import numpy as np\n",
    "import keras"
   ]
  },
  {
   "cell_type": "code",
   "execution_count": 14,
   "metadata": {
    "collapsed": false,
    "scrolled": false
   },
   "outputs": [
    {
     "name": "stdout",
     "output_type": "stream",
     "text": [
      "1.0\n",
      "5\n"
     ]
    }
   ],
   "source": [
    "# Import mnist dataset and rescale between [0,1]\n",
    "from keras.datasets import mnist\n",
    "\n",
    "(X_train, y_train), (X_test, y_test) = mnist.load_data()\n",
    "X_train = X_train.astype('float32')\n",
    "X_test = X_test.astype('float32')\n",
    "X_train /= 255\n",
    "X_test /= 255\n",
    "\n",
    "print(X_train.shape)\n",
    "print(np.max(X_train[0]))\n",
    "print(y_train[0])"
   ]
  },
  {
   "cell_type": "code",
   "execution_count": 4,
   "metadata": {
    "collapsed": false,
    "scrolled": true
   },
   "outputs": [
    {
     "name": "stdout",
     "output_type": "stream",
     "text": [
      "Linear model\n",
      "____________________________________________________________________________________________________\n",
      "Layer (type)                     Output Shape          Param #     Connected to                     \n",
      "====================================================================================================\n",
      "Images (InputLayer)              (None, 28, 28)        0                                            \n",
      "____________________________________________________________________________________________________\n",
      "Flat image (Flatten)             (None, 784)           0           Images[0][0]                     \n",
      "____________________________________________________________________________________________________\n",
      "Dense output (Dense)             (None, 10)            7850        Flat image[0][0]                 \n",
      "====================================================================================================\n",
      "Total params: 7850\n",
      "____________________________________________________________________________________________________\n"
     ]
    }
   ],
   "source": [
    "from keras.models import Model\n",
    "from keras.layers import Input, Flatten, Dense\n",
    "\n",
    "print('Linear model')\n",
    "images = Input(batch_shape=(None, 28, 28), dtype='float32', name='Images') \n",
    "flat = Flatten(name='Flat image')(images)\n",
    "output = Dense(10, activation='softmax', name='Dense output')(flat)\n",
    "\n",
    "# Model Architecture defined\n",
    "model_linear = Model(input=images, output=output)\n",
    "model_linear.summary()\n"
   ]
  },
  {
   "cell_type": "code",
   "execution_count": 5,
   "metadata": {
    "collapsed": true
   },
   "outputs": [],
   "source": [
    "# Compile model and select optimizer\n",
    "from keras.optimizers import sgd\n",
    "\n",
    "sgd_optimizer = sgd(lr=0.01)\n",
    "model_linear.compile(loss='sparse_categorical_crossentropy', \n",
    "                     optimizer=sgd_optimizer, metrics=['accuracy'])\n"
   ]
  },
  {
   "cell_type": "code",
   "execution_count": 6,
   "metadata": {
    "collapsed": false
   },
   "outputs": [
    {
     "name": "stdout",
     "output_type": "stream",
     "text": [
      "Train on 60000 samples, validate on 10000 samples\n",
      "Epoch 1/30\n",
      "60000/60000 [==============================] - 0s - loss: 1.5827 - acc: 0.6098 - val_loss: 1.1098 - val_acc: 0.7886\n",
      "Epoch 2/30\n",
      "60000/60000 [==============================] - 0s - loss: 0.9538 - acc: 0.8103 - val_loss: 0.8062 - val_acc: 0.8351\n",
      "Epoch 3/30\n",
      "60000/60000 [==============================] - 0s - loss: 0.7584 - acc: 0.8362 - val_loss: 0.6777 - val_acc: 0.8535\n",
      "Epoch 4/30\n",
      "60000/60000 [==============================] - 0s - loss: 0.6623 - acc: 0.8484 - val_loss: 0.6050 - val_acc: 0.8647\n",
      "Epoch 5/30\n",
      "60000/60000 [==============================] - 0s - loss: 0.6038 - acc: 0.8571 - val_loss: 0.5578 - val_acc: 0.8713\n",
      "Epoch 6/30\n",
      "60000/60000 [==============================] - 0s - loss: 0.5638 - acc: 0.8627 - val_loss: 0.5240 - val_acc: 0.8755\n",
      "Epoch 7/30\n",
      "60000/60000 [==============================] - 0s - loss: 0.5344 - acc: 0.8675 - val_loss: 0.4985 - val_acc: 0.8795\n",
      "Epoch 8/30\n",
      "60000/60000 [==============================] - 0s - loss: 0.5116 - acc: 0.8709 - val_loss: 0.4786 - val_acc: 0.8817\n",
      "Epoch 9/30\n",
      "60000/60000 [==============================] - 0s - loss: 0.4934 - acc: 0.8742 - val_loss: 0.4624 - val_acc: 0.8829\n",
      "Epoch 10/30\n",
      "60000/60000 [==============================] - 0s - loss: 0.4783 - acc: 0.8767 - val_loss: 0.4488 - val_acc: 0.8854\n",
      "Epoch 11/30\n",
      "60000/60000 [==============================] - 0s - loss: 0.4657 - acc: 0.8791 - val_loss: 0.4373 - val_acc: 0.8888\n",
      "Epoch 12/30\n",
      "60000/60000 [==============================] - 0s - loss: 0.4548 - acc: 0.8812 - val_loss: 0.4275 - val_acc: 0.8901\n",
      "Epoch 13/30\n",
      "60000/60000 [==============================] - 0s - loss: 0.4454 - acc: 0.8831 - val_loss: 0.4191 - val_acc: 0.8917\n",
      "Epoch 14/30\n",
      "60000/60000 [==============================] - 0s - loss: 0.4371 - acc: 0.8844 - val_loss: 0.4114 - val_acc: 0.8929\n",
      "Epoch 15/30\n",
      "60000/60000 [==============================] - 0s - loss: 0.4298 - acc: 0.8860 - val_loss: 0.4047 - val_acc: 0.8940\n",
      "Epoch 16/30\n",
      "60000/60000 [==============================] - 0s - loss: 0.4232 - acc: 0.8872 - val_loss: 0.3988 - val_acc: 0.8952\n",
      "Epoch 17/30\n",
      "60000/60000 [==============================] - 0s - loss: 0.4173 - acc: 0.8885 - val_loss: 0.3933 - val_acc: 0.8960\n",
      "Epoch 18/30\n",
      "60000/60000 [==============================] - 0s - loss: 0.4119 - acc: 0.8895 - val_loss: 0.3884 - val_acc: 0.8966\n",
      "Epoch 19/30\n",
      "60000/60000 [==============================] - 0s - loss: 0.4070 - acc: 0.8909 - val_loss: 0.3838 - val_acc: 0.8975\n",
      "Epoch 20/30\n",
      "60000/60000 [==============================] - 0s - loss: 0.4024 - acc: 0.8917 - val_loss: 0.3798 - val_acc: 0.8975\n",
      "Epoch 21/30\n",
      "60000/60000 [==============================] - 0s - loss: 0.3983 - acc: 0.8923 - val_loss: 0.3759 - val_acc: 0.8986\n",
      "Epoch 22/30\n",
      "60000/60000 [==============================] - 0s - loss: 0.3944 - acc: 0.8932 - val_loss: 0.3724 - val_acc: 0.8996\n",
      "Epoch 23/30\n",
      "60000/60000 [==============================] - 0s - loss: 0.3908 - acc: 0.8939 - val_loss: 0.3691 - val_acc: 0.9005\n",
      "Epoch 24/30\n",
      "60000/60000 [==============================] - 0s - loss: 0.3874 - acc: 0.8951 - val_loss: 0.3662 - val_acc: 0.9011\n",
      "Epoch 25/30\n",
      "60000/60000 [==============================] - 0s - loss: 0.3843 - acc: 0.8955 - val_loss: 0.3631 - val_acc: 0.9014\n",
      "Epoch 26/30\n",
      "60000/60000 [==============================] - 0s - loss: 0.3813 - acc: 0.8962 - val_loss: 0.3605 - val_acc: 0.9026\n",
      "Epoch 27/30\n",
      "60000/60000 [==============================] - 0s - loss: 0.3785 - acc: 0.8968 - val_loss: 0.3579 - val_acc: 0.9033\n",
      "Epoch 28/30\n",
      "60000/60000 [==============================] - 0s - loss: 0.3759 - acc: 0.8974 - val_loss: 0.3554 - val_acc: 0.9039\n",
      "Epoch 29/30\n",
      "60000/60000 [==============================] - 0s - loss: 0.3734 - acc: 0.8981 - val_loss: 0.3532 - val_acc: 0.9044\n",
      "Epoch 30/30\n",
      "60000/60000 [==============================] - 0s - loss: 0.3710 - acc: 0.8984 - val_loss: 0.3512 - val_acc: 0.9055\n"
     ]
    }
   ],
   "source": [
    "# Train the model\n",
    "batch_size = 256\n",
    "nb_epoch = 30\n",
    "\n",
    "history = model_linear.fit(X_train, y_train,\n",
    "                    batch_size=batch_size, nb_epoch=nb_epoch,\n",
    "                    verbose=1, validation_data=(X_test, y_test))"
   ]
  },
  {
   "cell_type": "code",
   "execution_count": 7,
   "metadata": {
    "collapsed": false
   },
   "outputs": [
    {
     "data": {
      "image/png": "[encoded data removed]",
      "text/plain": [
       "<matplotlib.figure.Figure at 0x7fbd2acbda10>"
      ]
     },
     "metadata": {},
     "output_type": "display_data"
    }
   ],
   "source": [
    "import matplotlib.pyplot as plt\n",
    "%matplotlib inline\n",
    "plt.rcParams['figure.figsize'] = (8, 8)\n",
    "\n",
    "plt.plot(history.history['acc'], label='acc')\n",
    "plt.plot(history.history['val_acc'], label='val acc')\n",
    "plt.legend(loc='lower right')\n",
    "plt.show()"
   ]
  },
  {
   "cell_type": "code",
   "execution_count": 8,
   "metadata": {
    "collapsed": false
   },
   "outputs": [
    {
     "name": "stdout",
     "output_type": "stream",
     "text": [
      "Linear model\n",
      "____________________________________________________________________________________________________\n",
      "Layer (type)                     Output Shape          Param #     Connected to                     \n",
      "====================================================================================================\n",
      "Images (InputLayer)              (None, 28, 28)        0                                            \n",
      "____________________________________________________________________________________________________\n",
      "reshape_1 (Reshape)              (None, 1, 28, 28)     0           Images[0][0]                     \n",
      "____________________________________________________________________________________________________\n",
      "convolution2d_1 (Convolution2D)  (None, 20, 24, 24)    520         reshape_1[0][0]                  \n",
      "____________________________________________________________________________________________________\n",
      "maxpooling2d_1 (MaxPooling2D)    (None, 20, 12, 12)    0           convolution2d_1[0][0]            \n",
      "____________________________________________________________________________________________________\n",
      "convolution2d_2 (Convolution2D)  (None, 50, 8, 8)      25050       maxpooling2d_1[0][0]             \n",
      "____________________________________________________________________________________________________\n",
      "maxpooling2d_2 (MaxPooling2D)    (None, 50, 4, 4)      0           convolution2d_2[0][0]            \n",
      "____________________________________________________________________________________________________\n",
      "Flat image (Flatten)             (None, 800)           0           maxpooling2d_2[0][0]             \n",
      "____________________________________________________________________________________________________\n",
      "Dense 1 (Dense)                  (None, 500)           400500      Flat image[0][0]                 \n",
      "____________________________________________________________________________________________________\n",
      "Dense output (Dense)             (None, 10)            5010        Dense 1[0][0]                    \n",
      "====================================================================================================\n",
      "Total params: 431080\n",
      "____________________________________________________________________________________________________\n"
     ]
    }
   ],
   "source": [
    "## Convolutional model\n",
    "\n",
    "from keras.models import Model\n",
    "from keras.layers import Input, Flatten, Dense, Convolution2D, Reshape, MaxPooling2D, Dropout\n",
    "from keras.optimizers import sgd\n",
    "\n",
    "print('Linear model')\n",
    "images = Input(batch_shape=(None, 28, 28), dtype='float32', name='Images') \n",
    "images_reshaped = Reshape((1,28,28))(images)\n",
    "\n",
    "#First convolution layers stack\n",
    "conv1 = Convolution2D(20, 5, 5)(images_reshaped)\n",
    "pool1 = MaxPooling2D(pool_size=(2, 2))(conv1)\n",
    "\n",
    "#Second convolution layers stack\n",
    "conv2 = Convolution2D(50, 5, 5)(pool1)\n",
    "pool2 = MaxPooling2D(pool_size=(2, 2))(conv2)\n",
    "\n",
    "#Flatten and dense layers\n",
    "flat = Flatten(name='Flat image')(pool2)\n",
    "dense1 = Dense(500, activation='relu', name='Dense 1')(flat)\n",
    "\n",
    "output = Dense(10, activation='softmax', name='Dense output')(dense1)\n",
    "\n",
    "# Model Architecture defined\n",
    "model_conv = Model(input=images, output=output)\n",
    "model_conv.summary()\n"
   ]
  },
  {
   "cell_type": "code",
   "execution_count": 9,
   "metadata": {
    "collapsed": true
   },
   "outputs": [],
   "source": [
    "# Compile model and select optimizer\n",
    "sgd_optimizer = sgd(lr=0.01, momentum=0.99, decay=0.005, nesterov=True)\n",
    "model_conv.compile(loss='sparse_categorical_crossentropy', optimizer=sgd_optimizer, metrics=['accuracy'])\n"
   ]
  },
  {
   "cell_type": "code",
   "execution_count": 10,
   "metadata": {
    "collapsed": false
   },
   "outputs": [
    {
     "name": "stdout",
     "output_type": "stream",
     "text": [
      "Train on 60000 samples, validate on 10000 samples\n",
      "Epoch 1/30\n",
      "60000/60000 [==============================] - 2s - loss: 0.4263 - acc: 0.8892 - val_loss: 0.0974 - val_acc: 0.9715\n",
      "Epoch 2/30\n",
      "60000/60000 [==============================] - 2s - loss: 0.0729 - acc: 0.9788 - val_loss: 0.0496 - val_acc: 0.9851\n",
      "Epoch 3/30\n",
      "60000/60000 [==============================] - 2s - loss: 0.0360 - acc: 0.9897 - val_loss: 0.0378 - val_acc: 0.9885\n",
      "Epoch 4/30\n",
      "60000/60000 [==============================] - 2s - loss: 0.0233 - acc: 0.9927 - val_loss: 0.0374 - val_acc: 0.9884\n",
      "Epoch 5/30\n",
      "60000/60000 [==============================] - 2s - loss: 0.0162 - acc: 0.9954 - val_loss: 0.0343 - val_acc: 0.9892\n",
      "Epoch 6/30\n",
      "60000/60000 [==============================] - 2s - loss: 0.0124 - acc: 0.9968 - val_loss: 0.0354 - val_acc: 0.9889\n",
      "Epoch 7/30\n",
      "60000/60000 [==============================] - 3s - loss: 0.0105 - acc: 0.9975 - val_loss: 0.0362 - val_acc: 0.9892\n",
      "Epoch 8/30\n",
      "60000/60000 [==============================] - 2s - loss: 0.0084 - acc: 0.9981 - val_loss: 0.0368 - val_acc: 0.9890\n",
      "Epoch 9/30\n",
      "60000/60000 [==============================] - 3s - loss: 0.0075 - acc: 0.9982 - val_loss: 0.0364 - val_acc: 0.9893\n",
      "Epoch 10/30\n",
      "60000/60000 [==============================] - 3s - loss: 0.0062 - acc: 0.9989 - val_loss: 0.0372 - val_acc: 0.9889\n",
      "Epoch 11/30\n",
      "60000/60000 [==============================] - 3s - loss: 0.0055 - acc: 0.9991 - val_loss: 0.0368 - val_acc: 0.9897\n",
      "Epoch 12/30\n",
      "60000/60000 [==============================] - 3s - loss: 0.0049 - acc: 0.9992 - val_loss: 0.0370 - val_acc: 0.9891\n",
      "Epoch 13/30\n",
      "60000/60000 [==============================] - 3s - loss: 0.0045 - acc: 0.9993 - val_loss: 0.0379 - val_acc: 0.9890\n",
      "Epoch 14/30\n",
      "60000/60000 [==============================] - 3s - loss: 0.0042 - acc: 0.9994 - val_loss: 0.0382 - val_acc: 0.9885\n",
      "Epoch 15/30\n",
      "60000/60000 [==============================] - 3s - loss: 0.0040 - acc: 0.9994 - val_loss: 0.0384 - val_acc: 0.9891\n",
      "Epoch 16/30\n",
      "60000/60000 [==============================] - 3s - loss: 0.0037 - acc: 0.9995 - val_loss: 0.0383 - val_acc: 0.9891\n",
      "Epoch 17/30\n",
      "60000/60000 [==============================] - 3s - loss: 0.0035 - acc: 0.9995 - val_loss: 0.0384 - val_acc: 0.9892\n",
      "Epoch 18/30\n",
      "60000/60000 [==============================] - 3s - loss: 0.0033 - acc: 0.9996 - val_loss: 0.0388 - val_acc: 0.9889\n",
      "Epoch 19/30\n",
      "60000/60000 [==============================] - 3s - loss: 0.0032 - acc: 0.9996 - val_loss: 0.0393 - val_acc: 0.9892\n",
      "Epoch 20/30\n",
      "60000/60000 [==============================] - 3s - loss: 0.0030 - acc: 0.9996 - val_loss: 0.0391 - val_acc: 0.9894\n",
      "Epoch 21/30\n",
      "60000/60000 [==============================] - 3s - loss: 0.0029 - acc: 0.9997 - val_loss: 0.0396 - val_acc: 0.9894\n",
      "Epoch 22/30\n",
      "60000/60000 [==============================] - 3s - loss: 0.0028 - acc: 0.9996 - val_loss: 0.0394 - val_acc: 0.9892\n",
      "Epoch 23/30\n",
      "60000/60000 [==============================] - 3s - loss: 0.0027 - acc: 0.9997 - val_loss: 0.0397 - val_acc: 0.9893\n",
      "Epoch 24/30\n",
      "60000/60000 [==============================] - 3s - loss: 0.0026 - acc: 0.9997 - val_loss: 0.0400 - val_acc: 0.9893\n",
      "Epoch 25/30\n",
      "60000/60000 [==============================] - 3s - loss: 0.0025 - acc: 0.9998 - val_loss: 0.0399 - val_acc: 0.9893\n",
      "Epoch 26/30\n",
      "60000/60000 [==============================] - 3s - loss: 0.0024 - acc: 0.9998 - val_loss: 0.0404 - val_acc: 0.9894\n",
      "Epoch 27/30\n",
      "60000/60000 [==============================] - 3s - loss: 0.0024 - acc: 0.9998 - val_loss: 0.0406 - val_acc: 0.9891\n",
      "Epoch 28/30\n",
      "60000/60000 [==============================] - 3s - loss: 0.0023 - acc: 0.9998 - val_loss: 0.0406 - val_acc: 0.9891\n",
      "Epoch 29/30\n",
      "60000/60000 [==============================] - 3s - loss: 0.0022 - acc: 0.9999 - val_loss: 0.0409 - val_acc: 0.9894\n",
      "Epoch 30/30\n",
      "60000/60000 [==============================] - 3s - loss: 0.0022 - acc: 0.9998 - val_loss: 0.0407 - val_acc: 0.9893\n"
     ]
    }
   ],
   "source": [
    "# Train the model\n",
    "batch_size = 256\n",
    "nb_epoch = 30\n",
    "history = model_conv.fit(X_train, y_train,\n",
    "                    batch_size=batch_size, nb_epoch=nb_epoch,\n",
    "                    verbose=1, validation_data=(X_test, y_test))"
   ]
  },
  {
   "cell_type": "code",
   "execution_count": 11,
   "metadata": {
    "collapsed": false
   },
   "outputs": [
    {
     "name": "stdout",
     "output_type": "stream",
     "text": [
      "[[ 972    0    1    0    0    0    1    2    3    1]\n",
      " [   0 1128    1    1    0    0    1    2    2    0]\n",
      " [   2    0 1019    1    1    0    1    4    4    0]\n",
      " [   0    0    1 1000    0    4    0    1    2    2]\n",
      " [   0    0    0    0  972    0    2    1    0    7]\n",
      " [   2    0    0    6    0  881    1    1    1    0]\n",
      " [   2    2    0    0    1    2  950    0    1    0]\n",
      " [   0    2    4    1    0    0    0 1015    1    5]\n",
      " [   2    0    2    1    0    1    0    0  964    4]\n",
      " [   0    0    0    3    7    2    0    3    2  992]]\n"
     ]
    }
   ],
   "source": [
    "# Score and select prediction with max prob\n",
    "import numpy as np\n",
    "pred_test = np.argmax(model_conv.predict(X_test), axis=1)\n",
    "\n",
    "#Evaluate the confusion matrix\n",
    "from sklearn.metrics import confusion_matrix\n",
    "print(confusion_matrix(y_test,pred_test))"
   ]
  },
  {
   "cell_type": "code",
   "execution_count": null,
   "metadata": {
    "collapsed": false
   },
   "outputs": [],
   "source": []
  },
  {
   "cell_type": "code",
   "execution_count": null,
   "metadata": {
    "collapsed": true
   },
   "outputs": [],
   "source": []
  }
 ],
 "metadata": {
  "kernelspec": {
   "display_name": "Python 2",
   "language": "python",
   "name": "python2"
  },
  "language_info": {
   "codemirror_mode": {
    "name": "ipython",
    "version": 2
   },
   "file_extension": ".py",
   "mimetype": "text/x-python",
   "name": "python",
   "nbconvert_exporter": "python",
   "pygments_lexer": "ipython2",
   "version": "2.7.6"
  }
 },
 "nbformat": 4,
 "nbformat_minor": 0
}
