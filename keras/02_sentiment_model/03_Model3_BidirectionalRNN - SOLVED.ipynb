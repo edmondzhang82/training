{
 "cells": [
  {
   "cell_type": "markdown",
   "metadata": {},
   "source": [
    "# Model 3: Deep BLSTM\n",
    "    - A bidirectional LSTM layer"
   ]
  },
  {
   "cell_type": "code",
   "execution_count": 1,
   "metadata": {
    "collapsed": false
   },
   "outputs": [
    {
     "name": "stderr",
     "output_type": "stream",
     "text": [
      "Using TensorFlow backend.\n"
     ]
    }
   ],
   "source": [
    "# Header\n",
    "from __future__ import print_function\n",
    "\n",
    "import numpy as np\n",
    "import keras\n",
    "print('Keras version: ', keras.__version__)\n",
    "\n",
    "# GPU devices visible by python\n",
    "import os\n",
    "os.environ[\"CUDA_DEVICE_ORDER\"]=\"PCI_BUS_ID\" \n",
    "os.environ[\"CUDA_VISIBLE_DEVICES\"]=\"0\"\n",
    "\n",
    "# Limit memory usage\n",
    "import tensorflow as tf\n",
    "from keras.backend.tensorflow_backend import set_session\n",
    "\n",
    "config = tf.ConfigProto()\n",
    "config.gpu_options.allow_growth = True\n",
    "set_session(tf.Session(config=config))\n",
    "\n",
    "\n",
    "path = '/home/ubuntu/data/training/keras/'"
   ]
  },
  {
   "cell_type": "markdown",
   "metadata": {},
   "source": [
    "## Preprocess data"
   ]
  },
  {
   "cell_type": "code",
   "execution_count": 2,
   "metadata": {
    "collapsed": false
   },
   "outputs": [
    {
     "name": "stdout",
     "output_type": "stream",
     "text": [
      "Tokenizing...\n",
      "Done!\n",
      "Tokenizing...\n",
      "Done!\n",
      "Building dictionary..\n",
      "7056193  total words  135098  unique words\n",
      "Tokenizing...\n",
      "Done!\n",
      "Tokenizing...\n",
      "Done!\n",
      "Preprocess done!\n"
     ]
    }
   ],
   "source": [
    "#Imports \n",
    "from __future__ import print_function\n",
    "\n",
    "import numpy as np\n",
    "import os\n",
    "import shutil\n",
    "import fnmatch\n",
    "\n",
    "from collections import OrderedDict\n",
    "from nltk import word_tokenize\n",
    "\n",
    "data_path='/home/ubuntu/data/training/keras/aclImdb/'\n",
    "\n",
    "\n",
    "\n",
    "# Generator of list of files in a folder and subfolders\n",
    "def gen_find(filepath,top):\n",
    "    for path, dirlist, filelist in os.walk(top):\n",
    "        for name in fnmatch.filter(filelist,filepath):\n",
    "            yield os.path.join(path,name)\n",
    "\n",
    "def read_sentences(path):\n",
    "    sentences = []\n",
    "    sentences_list = gen_find(\"*.txt\", path)\n",
    "    for ff in sentences_list:\n",
    "        with open(ff, 'r') as f:\n",
    "            sentences.append(f.readline().strip())\n",
    "    return sentences \n",
    "\n",
    "def tokenize(sentences):\n",
    "    print( 'Tokenizing...',)\n",
    "    tokens = []\n",
    "    for sentence in sentences:\n",
    "        tokens += [word_tokenize(sentence.decode('utf-8'))]\n",
    "    print('Done!')\n",
    "    return tokens\n",
    "\n",
    "def build_dict(sentences):\n",
    "    print( 'Building dictionary..',)\n",
    "    wordcount = dict()\n",
    "    for ss in sentences:\n",
    "        for w in ss:\n",
    "            if w not in wordcount:\n",
    "                wordcount[w] = 1\n",
    "            else:\n",
    "                wordcount[w] += 1\n",
    "\n",
    "    counts = wordcount.values()\n",
    "    keys = wordcount.keys()\n",
    "    sorted_idx = np.argsort(counts)[::-1]\n",
    "\n",
    "    worddict = dict()\n",
    "    for idx, ss in enumerate(sorted_idx):\n",
    "        worddict[keys[ss]] = idx+2  # leave 0 and 1 (UNK)\n",
    "    print( np.sum(counts), ' total words ', len(keys), ' unique words')\n",
    "    return worddict, wordcount\n",
    "\n",
    "def generate_sequence(sentences, dictionary):\n",
    "    seqs = [None] * len(sentences)\n",
    "    for idx, ss in enumerate(sentences):\n",
    "        seqs[idx] = [dictionary[w] if w in dictionary else 1 for w in ss]\n",
    "    return seqs\n",
    "\n",
    "#Data extraction\n",
    "\n",
    "#Extract training sentences\n",
    "sentences_trn_pos = tokenize(read_sentences(data_path+'train/pos/'))\n",
    "sentences_trn_neg = tokenize(read_sentences(data_path+'train/neg/'))\n",
    "sentences_trn = sentences_trn_pos + sentences_trn_neg\n",
    "\n",
    "#Build train dictionary\n",
    "worddict, wordcount = build_dict(sentences_trn)\n",
    "\n",
    "#Generate train data\n",
    "train_x_pos = generate_sequence(sentences_trn_pos, worddict)\n",
    "train_x_neg = generate_sequence(sentences_trn_neg, worddict)\n",
    "X_train_full = train_x_pos + train_x_neg\n",
    "y_train_full = [1] * len(train_x_pos) + [0] * len(train_x_neg)\n",
    "\n",
    "\n",
    "#Read test sentences and generate target y\n",
    "sentences_tst_pos = read_sentences(data_path+'test/pos/')\n",
    "sentences_tst_neg = read_sentences(data_path+'test/neg/')\n",
    "\n",
    "test_x_pos = generate_sequence(tokenize(sentences_tst_pos), worddict)\n",
    "test_x_neg = generate_sequence(tokenize(sentences_tst_neg), worddict)\n",
    "X_test_full = test_x_pos + test_x_neg\n",
    "y_test_full = [1] * len(test_x_pos) + [0] * len(test_x_neg)\n",
    "\n",
    "\n",
    "print('Preprocess done!')"
   ]
  },
  {
   "cell_type": "markdown",
   "metadata": {},
   "source": [
    "## Prepare sequences to model\n"
   ]
  },
  {
   "cell_type": "code",
   "execution_count": 3,
   "metadata": {
    "collapsed": false
   },
   "outputs": [
    {
     "name": "stdout",
     "output_type": "stream",
     "text": [
      "Pad sequences (samples x time)\n",
      "X_train shape: (25000, 100)\n",
      "X_test shape: (25000, 100)\n"
     ]
    }
   ],
   "source": [
    "max_features = 20000 # Number of most frequent words selected. the less frequent recode to 0\n",
    "max_len = 100  # cut texts after this number of words (among top max_features most common words)\n",
    "\n",
    "\n",
    "#Select the most frequent max_features, recode others using 0\n",
    "def remove_features(x):\n",
    "    return [[0 if w >= max_features else w for w in sen] for sen in x]\n",
    "\n",
    "X_train = remove_features(X_train_full)\n",
    "X_test  = remove_features(X_test_full)\n",
    "y_train = y_train_full\n",
    "y_test = y_test_full\n",
    "\n",
    "\n",
    "# Shuffle data\n",
    "from sklearn.utils import shuffle\n",
    "X_train, y_train = shuffle(X_train, y_train, random_state=0)\n",
    "\n",
    "\n",
    "# Cut or complete the sentences to length = maxlen\n",
    "from keras.preprocessing import sequence\n",
    "\n",
    "print(\"Pad sequences (samples x time)\")\n",
    "X_train = sequence.pad_sequences(X_train, maxlen=max_len)\n",
    "X_test = sequence.pad_sequences(X_test, maxlen=max_len)\n",
    "print('X_train shape:', X_train.shape)\n",
    "print('X_test shape:', X_test.shape)\n"
   ]
  },
  {
   "cell_type": "markdown",
   "metadata": {},
   "source": [
    "## Build model"
   ]
  },
  {
   "cell_type": "code",
   "execution_count": 4,
   "metadata": {
    "collapsed": false
   },
   "outputs": [
    {
     "name": "stdout",
     "output_type": "stream",
     "text": [
      "Build model 1 - Basic model...\n",
      "____________________________________________________________________________________________________\n",
      "Layer (type)                     Output Shape          Param #     Connected to                     \n",
      "====================================================================================================\n",
      "input_1 (InputLayer)             (None, 100)           0                                            \n",
      "____________________________________________________________________________________________________\n",
      "embedding_1 (Embedding)          (None, 100, 128)      2560000     input_1[0][0]                    \n",
      "____________________________________________________________________________________________________\n",
      "Forward (LSTM)                   (None, 128)           131584      embedding_1[0][0]                \n",
      "____________________________________________________________________________________________________\n",
      "Backward (LSTM)                  (None, 128)           131584      embedding_1[0][0]                \n",
      "____________________________________________________________________________________________________\n",
      "forward - backward (Merge)       (None, 256)           0           Forward[0][0]                    \n",
      "                                                                   Backward[0][0]                   \n",
      "____________________________________________________________________________________________________\n",
      "dense_1 (Dense)                  (None, 2)             514         forward - backward[0][0]         \n",
      "====================================================================================================\n",
      "Total params: 2,823,682\n",
      "Trainable params: 2,823,682\n",
      "Non-trainable params: 0\n",
      "____________________________________________________________________________________________________\n"
     ]
    }
   ],
   "source": [
    "# Model\n",
    "dim_embedings = 128 #Dimension of the embedings vector\n",
    "num_hidden_rnn = 128 #Num of neurons in the Recurent network \n",
    "\n",
    "\n",
    "from keras.models import Model\n",
    "from keras.layers import Input, Embedding, SimpleRNN, LSTM, Dropout, Dense, merge\n",
    "from keras.optimizers import RMSprop\n",
    "\n",
    "print('Build model 1 - Basic model...')\n",
    "\n",
    "# LAYER 1: inputs\n",
    "seq_prev_input = Input(shape=(max_len, ), dtype='int32') \n",
    "\n",
    "# LAYER 2: Create embedings\n",
    "embeds = Embedding(max_features, dim_embedings, input_length=max_len)(seq_prev_input)\n",
    "\n",
    "# LAYERS 3: RNN - forwards LSTM with dropout\n",
    "\n",
    "forwards1 = LSTM(num_hidden_rnn, return_sequences=False,\n",
    "                 dropout_W=0.5, dropout_U=0.5, name='Forward')(embeds)\n",
    "backwards1 = LSTM(num_hidden_rnn, return_sequences=False,\n",
    "                 dropout_W=0.5, dropout_U=0.5, go_backwards=True, name='Backward')(embeds)\n",
    "rnn_out = merge([forwards1, backwards1], mode='concat', concat_axis=-1, name='forward - backward')\n",
    "\n",
    "\n",
    "# LAYER 4: Dense layer to outputs - softmax activation\n",
    "output = Dense(2, activation='softmax')(rnn_out)\n",
    "\n",
    "# Model Architecture defined\n",
    "model_1 = Model(input=seq_prev_input, output=output)\n",
    "model_1.summary()\n",
    "\n",
    "# Compile model and select optimizer\n",
    "rms_optimizer = RMSprop(lr=0.001)\n",
    "model_1.compile(loss='sparse_categorical_crossentropy', optimizer=rms_optimizer, metrics=['accuracy'])\n",
    "\n"
   ]
  },
  {
   "cell_type": "code",
   "execution_count": 5,
   "metadata": {
    "collapsed": false
   },
   "outputs": [
    {
     "data": {
      "image/svg+xml": [
       "<svg height=\"342pt\" viewBox=\"0.00 0.00 294.00 342.00\" width=\"294pt\" xmlns=\"http://www.w3.org/2000/svg\" xmlns:xlink=\"http://www.w3.org/1999/xlink\">\n",
       "<g class=\"graph\" id=\"graph0\" transform=\"scale(1 1) rotate(0) translate(4 338)\">\n",
       "<title>G</title>\n",
       "<polygon fill=\"white\" points=\"-4,4 -4,-338 290,-338 290,4 -4,4\" stroke=\"none\"/>\n",
       "<!-- 140556403682448 -->\n",
       "<g class=\"node\" id=\"node1\"><title>140556403682448</title>\n",
       "<polygon fill=\"none\" points=\"60,-297 60,-333 220,-333 220,-297 60,-297\" stroke=\"black\"/>\n",
       "<text font-family=\"Times,serif\" font-size=\"14.00\" text-anchor=\"middle\" x=\"140\" y=\"-311.3\">input_1: InputLayer</text>\n",
       "</g>\n",
       "<!-- 140556403682064 -->\n",
       "<g class=\"node\" id=\"node2\"><title>140556403682064</title>\n",
       "<polygon fill=\"none\" points=\"38.5,-223 38.5,-259 241.5,-259 241.5,-223 38.5,-223\" stroke=\"black\"/>\n",
       "<text font-family=\"Times,serif\" font-size=\"14.00\" text-anchor=\"middle\" x=\"140\" y=\"-237.3\">embedding_1: Embedding</text>\n",
       "</g>\n",
       "<!-- 140556403682448&#45;&gt;140556403682064 -->\n",
       "<g class=\"edge\" id=\"edge1\"><title>140556403682448-&gt;140556403682064</title>\n",
       "<path d=\"M140,-296.937C140,-288.807 140,-278.876 140,-269.705\" fill=\"none\" stroke=\"black\"/>\n",
       "<polygon fill=\"black\" points=\"143.5,-269.441 140,-259.441 136.5,-269.441 143.5,-269.441\" stroke=\"black\"/>\n",
       "</g>\n",
       "<!-- 140556403683216 -->\n",
       "<g class=\"node\" id=\"node3\"><title>140556403683216</title>\n",
       "<polygon fill=\"none\" points=\"0,-149 0,-185 128,-185 128,-149 0,-149\" stroke=\"black\"/>\n",
       "<text font-family=\"Times,serif\" font-size=\"14.00\" text-anchor=\"middle\" x=\"64\" y=\"-163.3\">Forward: LSTM</text>\n",
       "</g>\n",
       "<!-- 140556403682064&#45;&gt;140556403683216 -->\n",
       "<g class=\"edge\" id=\"edge2\"><title>140556403682064-&gt;140556403683216</title>\n",
       "<path d=\"M121.989,-222.937C112.311,-213.768 100.214,-202.308 89.5772,-192.231\" fill=\"none\" stroke=\"black\"/>\n",
       "<polygon fill=\"black\" points=\"91.8117,-189.527 82.145,-185.19 86.9975,-194.608 91.8117,-189.527\" stroke=\"black\"/>\n",
       "</g>\n",
       "<!-- 140556403682768 -->\n",
       "<g class=\"node\" id=\"node4\"><title>140556403682768</title>\n",
       "<polygon fill=\"none\" points=\"146,-149 146,-185 286,-185 286,-149 146,-149\" stroke=\"black\"/>\n",
       "<text font-family=\"Times,serif\" font-size=\"14.00\" text-anchor=\"middle\" x=\"216\" y=\"-163.3\">Backward: LSTM</text>\n",
       "</g>\n",
       "<!-- 140556403682064&#45;&gt;140556403682768 -->\n",
       "<g class=\"edge\" id=\"edge3\"><title>140556403682064-&gt;140556403682768</title>\n",
       "<path d=\"M158.011,-222.937C167.689,-213.768 179.786,-202.308 190.423,-192.231\" fill=\"none\" stroke=\"black\"/>\n",
       "<polygon fill=\"black\" points=\"193.003,-194.608 197.855,-185.19 188.188,-189.527 193.003,-194.608\" stroke=\"black\"/>\n",
       "</g>\n",
       "<!-- 140556403951952 -->\n",
       "<g class=\"node\" id=\"node5\"><title>140556403951952</title>\n",
       "<polygon fill=\"none\" points=\"33.5,-75 33.5,-111 246.5,-111 246.5,-75 33.5,-75\" stroke=\"black\"/>\n",
       "<text font-family=\"Times,serif\" font-size=\"14.00\" text-anchor=\"middle\" x=\"140\" y=\"-89.3\">forward - backward: Merge</text>\n",
       "</g>\n",
       "<!-- 140556403683216&#45;&gt;140556403951952 -->\n",
       "<g class=\"edge\" id=\"edge4\"><title>140556403683216-&gt;140556403951952</title>\n",
       "<path d=\"M82.0109,-148.937C91.6891,-139.768 103.786,-128.308 114.423,-118.231\" fill=\"none\" stroke=\"black\"/>\n",
       "<polygon fill=\"black\" points=\"117.003,-120.608 121.855,-111.19 112.188,-115.527 117.003,-120.608\" stroke=\"black\"/>\n",
       "</g>\n",
       "<!-- 140556403682768&#45;&gt;140556403951952 -->\n",
       "<g class=\"edge\" id=\"edge5\"><title>140556403682768-&gt;140556403951952</title>\n",
       "<path d=\"M197.989,-148.937C188.311,-139.768 176.214,-128.308 165.577,-118.231\" fill=\"none\" stroke=\"black\"/>\n",
       "<polygon fill=\"black\" points=\"167.812,-115.527 158.145,-111.19 162.997,-120.608 167.812,-115.527\" stroke=\"black\"/>\n",
       "</g>\n",
       "<!-- 140556294837648 -->\n",
       "<g class=\"node\" id=\"node6\"><title>140556294837648</title>\n",
       "<polygon fill=\"none\" points=\"76,-1 76,-37 204,-37 204,-1 76,-1\" stroke=\"black\"/>\n",
       "<text font-family=\"Times,serif\" font-size=\"14.00\" text-anchor=\"middle\" x=\"140\" y=\"-15.3\">dense_1: Dense</text>\n",
       "</g>\n",
       "<!-- 140556403951952&#45;&gt;140556294837648 -->\n",
       "<g class=\"edge\" id=\"edge6\"><title>140556403951952-&gt;140556294837648</title>\n",
       "<path d=\"M140,-74.937C140,-66.8072 140,-56.8761 140,-47.7047\" fill=\"none\" stroke=\"black\"/>\n",
       "<polygon fill=\"black\" points=\"143.5,-47.4406 140,-37.4407 136.5,-47.4407 143.5,-47.4406\" stroke=\"black\"/>\n",
       "</g>\n",
       "</g>\n",
       "</svg>"
      ],
      "text/plain": [
       "<IPython.core.display.SVG object>"
      ]
     },
     "execution_count": 5,
     "metadata": {},
     "output_type": "execute_result"
    }
   ],
   "source": [
    "#Plot the model graph\n",
    "from IPython.display import SVG\n",
    "from keras.utils.visualize_util import model_to_dot\n",
    "\n",
    "SVG(model_to_dot(model_1).create(prog='dot', format='svg'))"
   ]
  },
  {
   "cell_type": "code",
   "execution_count": 6,
   "metadata": {
    "collapsed": false
   },
   "outputs": [
    {
     "name": "stdout",
     "output_type": "stream",
     "text": [
      "Train...\n",
      "Train on 25000 samples, validate on 25000 samples\n",
      "Epoch 1/10\n",
      "25000/25000 [==============================] - 77s - loss: 0.6902 - acc: 0.5375 - val_loss: 0.6647 - val_acc: 0.6569\n",
      "Epoch 2/10\n",
      "25000/25000 [==============================] - 74s - loss: 0.5722 - acc: 0.7032 - val_loss: 0.4345 - val_acc: 0.7981\n",
      "Epoch 3/10\n",
      "25000/25000 [==============================] - 74s - loss: 0.4298 - acc: 0.8064 - val_loss: 0.3939 - val_acc: 0.8326\n",
      "Epoch 4/10\n",
      "25000/25000 [==============================] - 73s - loss: 0.3732 - acc: 0.8406 - val_loss: 0.3999 - val_acc: 0.8234\n",
      "Epoch 5/10\n",
      "25000/25000 [==============================] - 74s - loss: 0.3363 - acc: 0.8602 - val_loss: 0.6088 - val_acc: 0.7666\n",
      "Epoch 6/10\n",
      "25000/25000 [==============================] - 73s - loss: 0.2987 - acc: 0.8781 - val_loss: 0.4553 - val_acc: 0.8236\n",
      "Epoch 7/10\n",
      "25000/25000 [==============================] - 74s - loss: 0.2730 - acc: 0.8912 - val_loss: 0.4404 - val_acc: 0.8455\n",
      "Epoch 8/10\n",
      "25000/25000 [==============================] - 73s - loss: 0.2484 - acc: 0.9018 - val_loss: 0.4220 - val_acc: 0.8466\n",
      "Epoch 9/10\n",
      "25000/25000 [==============================] - 72s - loss: 0.2257 - acc: 0.9144 - val_loss: 0.3702 - val_acc: 0.8473\n",
      "Epoch 10/10\n",
      "25000/25000 [==============================] - 72s - loss: 0.1989 - acc: 0.9226 - val_loss: 0.4528 - val_acc: 0.8468\n"
     ]
    }
   ],
   "source": [
    "# Train\n",
    "batch_size = 128\n",
    "\n",
    "print(\"Train...\")\n",
    "history = model_1.fit(X_train, y_train, batch_size=batch_size, nb_epoch=10,\n",
    "                      validation_data=(X_test, y_test))"
   ]
  },
  {
   "cell_type": "code",
   "execution_count": 7,
   "metadata": {
    "collapsed": false
   },
   "outputs": [
    {
     "data": {
      "image/png": "[encoded data removed]",
      "text/plain": [
       "<matplotlib.figure.Figure at 0x7fd5ce4a0c10>"
      ]
     },
     "metadata": {},
     "output_type": "display_data"
    }
   ],
   "source": [
    "#Plot graphs in the notebook output\n",
    "import matplotlib.pyplot as plt\n",
    "%matplotlib inline\n",
    "\n",
    "plt.plot(history.history['acc'])\n",
    "plt.plot(history.history['val_acc'])\n",
    "plt.show()"
   ]
  },
  {
   "cell_type": "markdown",
   "metadata": {},
   "source": [
    "## Validate it"
   ]
  },
  {
   "cell_type": "code",
   "execution_count": 8,
   "metadata": {
    "collapsed": false
   },
   "outputs": [
    {
     "name": "stdout",
     "output_type": "stream",
     "text": [
      "(25000, 2)\n"
     ]
    }
   ],
   "source": [
    "# Score and obtain probabilities\n",
    "pred_test = model_1.predict(X_test)\n",
    "print(pred_test.shape)"
   ]
  },
  {
   "cell_type": "code",
   "execution_count": 9,
   "metadata": {
    "collapsed": false
   },
   "outputs": [
    {
     "name": "stdout",
     "output_type": "stream",
     "text": [
      "Accuracy:  0.84676\n",
      "AUC:  0.924525616\n"
     ]
    },
    {
     "data": {
      "text/plain": [
       "[<matplotlib.lines.Line2D at 0x7fd5d0867250>]"
      ]
     },
     "execution_count": 9,
     "metadata": {},
     "output_type": "execute_result"
    },
    {
     "data": {
      "image/png": "[encoded data removed]",
      "text/plain": [
       "<matplotlib.figure.Figure at 0x7fd5d14fed10>"
      ]
     },
     "metadata": {},
     "output_type": "display_data"
    }
   ],
   "source": [
    "#Import metrics\n",
    "from sklearn.metrics import roc_curve, auc, accuracy_score\n",
    "\n",
    "#Calculate accuracy with sklearn\n",
    "print('Accuracy: ',accuracy_score(y_test, [1 if p>0.5 else 0 for p in pred_test[:,1]]))\n",
    "\n",
    "#Calculate ROC curve\n",
    "fpr, tpr, _ = roc_curve(y_test, pred_test[:,1])\n",
    "print( 'AUC: ', auc(fpr, tpr)  )\n",
    "\n",
    "#Plot ROC curve\n",
    "plt.plot(fpr, tpr)"
   ]
  },
  {
   "cell_type": "code",
   "execution_count": 10,
   "metadata": {
    "collapsed": false
   },
   "outputs": [
    {
     "name": "stdout",
     "output_type": "stream",
     "text": [
      "Sentence:  Inglorious Basterds makes no apologies, asks for no forgiveness, it's a no holds barred assault on the senses. Tarantino doesn't care if he offends, if he steps all over stereotypes and clichés, this is film making at it purest. It's great to see a film maker whose work clearly isn't interfeared with by the powers that be. Tarantino is a master of effortlessly cranking up immense tension and suddenly mixing it with laugh out loud moments; you're not sure if you should be looking away in disgust or rolling around laughing, either way it's a roller coaster and one not to be missed! It's not for everyone and I'm unsure how Germans will take the film, certainly if you're not a fan of Tarantino's style, this may be a little hard to swallow, but never-the-less, it is a film which simply has to be seen. No self respecting film fan should miss this. And the performance of Christoph Waltz... Oscar don't you dare ignore him!!\n",
      "target:  1\n",
      "Prediction [neg, pos]:  [ 0.33388627  0.66611379]\n"
     ]
    }
   ],
   "source": [
    "#Evaluate one positive record\n",
    "i = 1 # 1, 2, ... , 25000\n",
    "print('Sentence: ',sentences_tst_pos[i])\n",
    "print('target: ',y_test_full[i])\n",
    "print('Prediction [neg, pos]: ', pred_test[i])"
   ]
  },
  {
   "cell_type": "code",
   "execution_count": 11,
   "metadata": {
    "collapsed": false
   },
   "outputs": [
    {
     "name": "stdout",
     "output_type": "stream",
     "text": [
      "Sentence:  The distribution was good, the subject could have been interessant and comic. whereas, he described the wandering of an old non credible communist looking for loving sensations. Instead of this, the atmosphere is nor lively nor heavy.\n",
      "target:  0\n",
      "Prediction [neg, pos]:  [ 0.22888817  0.77111185]\n"
     ]
    }
   ],
   "source": [
    "#Evaluate one negative record\n",
    "i = -2 # -2, -3, ... -25000\n",
    "print('Sentence: ',sentences_tst_neg[i])\n",
    "print('target: ',y_test[i])\n",
    "print('Prediction [neg, pos]: ', pred_test[i])"
   ]
  },
  {
   "cell_type": "code",
   "execution_count": 12,
   "metadata": {
    "collapsed": false
   },
   "outputs": [
    {
     "name": "stdout",
     "output_type": "stream",
     "text": [
      "Tokenizing...\n",
      "Done!\n",
      "Positive score: 0.00186763086822\n"
     ]
    }
   ],
   "source": [
    "# Score new text\n",
    "def score_new_text(text):\n",
    "    seq = generate_sequence(tokenize([text]), worddict)\n",
    "    seq = remove_features(seq)\n",
    "    seq = sequence.pad_sequences(seq, maxlen=max_len)\n",
    "    pred_test = model_1.predict(seq, batch_size=1)\n",
    "    return float(pred_test[:,1])\n",
    "\n",
    "\n",
    "text = \"You have to start worrying when you see that Michael Madsen is leading the Cast of any movie. I wont go through the list of shame that is his movie career.<br /><br />I watched 45 minutes and still was not sure what really was going on. The movie consisted of a love hate relationship between Madsen and Argento, Which basically was Madsen insulting her, threatening violence and generally treating her like dirt. She on the other hand loves him, then shes doesn't, then she does, the she desires him, then she loves him again......whats wrong with you woman !!!! <br /><br />The Script is awful, lousy soundtrack and pointless aggressive and crude sexuality which i believe was added to entice some viewers as the movie has little else to offer. I would have given the movie a 1 but it just about managed a 2 with a little excitement in the last 20 minutes. It did actually answer one question in the final few minutes but i am not going to share that, i will make you suffer for the full movie like i did.\"\n",
    "print('Positive score:', score_new_text(text))"
   ]
  }
 ],
 "metadata": {
  "anaconda-cloud": {},
  "kernelspec": {
   "display_name": "Python [conda env:py27]",
   "language": "python",
   "name": "conda-env-py27-py"
  },
  "language_info": {
   "codemirror_mode": {
    "name": "ipython",
    "version": 2
   },
   "file_extension": ".py",
   "mimetype": "text/x-python",
   "name": "python",
   "nbconvert_exporter": "python",
   "pygments_lexer": "ipython2",
   "version": "2.7.13"
  }
 },
 "nbformat": 4,
 "nbformat_minor": 0
}
