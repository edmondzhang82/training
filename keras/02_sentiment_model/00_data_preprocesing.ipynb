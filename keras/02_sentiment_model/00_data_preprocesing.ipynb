{
 "cells": [
  {
   "cell_type": "markdown",
   "metadata": {},
   "source": [
    "# Data preprocessing\n",
    "    - Download data in the server\n",
    "    - Convert test to sequences.\n",
    "    - Configure sequences for a RNN model."
   ]
  },
  {
   "cell_type": "markdown",
   "metadata": {},
   "source": [
    "## Download data in the server\n",
    "\n",
    "### Command line in the server\n",
    "    Path to data:\n",
    "        cd /home/ubuntu/data/training/keras\n",
    "    Download dataset: \n",
    "        wget http://ai.stanford.edu/~amaas/data/sentiment/aclImdb_v1.tar.gz\n",
    "    Uncompress it:\n",
    "        tar -zxvf aclImdb_v1.tar.gz"
   ]
  },
  {
   "cell_type": "markdown",
   "metadata": {
    "collapsed": true
   },
   "source": [
    "## Convert test to sequences\n",
    "    - List of all text files\n",
    "    - Read files into python\n",
    "    - Tokenize\n",
    "    - Create dictionaries to recode\n",
    "    - Recode tokens into ids and create sentences"
   ]
  },
  {
   "cell_type": "code",
   "execution_count": 1,
   "metadata": {
    "collapsed": true
   },
   "outputs": [],
   "source": [
    "#Imports and paths\n",
    "from __future__ import print_function\n",
    "\n",
    "import numpy as np\n",
    "\n",
    "data_path='/home/ubuntu/data/training/keras/aclImdb/'\n"
   ]
  },
  {
   "cell_type": "code",
   "execution_count": 2,
   "metadata": {
    "collapsed": false
   },
   "outputs": [
    {
     "name": "stdout",
     "output_type": "stream",
     "text": [
      "/home/ubuntu/data/training/keras/aclImdb/train/pos/5794_10.txt\n"
     ]
    }
   ],
   "source": [
    "# Generator of list of files in a folder and subfolders\n",
    "import os\n",
    "import shutil\n",
    "import fnmatch\n",
    "\n",
    "def gen_find(filepattern, toppath):\n",
    "    '''\n",
    "    Generator with a recursive list of files in the toppath that match filepattern \n",
    "    Inputs:\n",
    "        filepattern(str): Command stype pattern \n",
    "        toppath(str): Root path\n",
    "    '''\n",
    "    for path, dirlist, filelist in os.walk(toppath):\n",
    "        for name in fnmatch.filter(filelist, filepattern):\n",
    "            yield os.path.join(path, name)\n",
    "\n",
    "#Test\n",
    "print(gen_find(\"*.txt\", data_path+'train/pos/').next())"
   ]
  },
  {
   "cell_type": "code",
   "execution_count": 3,
   "metadata": {
    "collapsed": false
   },
   "outputs": [
    {
     "name": "stdout",
     "output_type": "stream",
     "text": [
      "['Michael Is King. This film contains some of the best stuff Mike has ever done. Smooth Criminal is pure genius. The cameos are wonderful, but as always, the main event is MJ himself. He is the best, hands down.', 'This comment does contain spoilers!!<br /><br />There are few actors that have an intangible to them. That innate quality which is an amalgamation of charisma, panache and swagger. It\\'s the quality that can separate good actors from the truly great. I think George Clooney has it and so does Jack Nicholson. You can look at Clooney\\'s subtle touches in scenes like his one word good-bye to Andy Garcia in Ocean\\'s 11 when they just utter each other\\'s name disdainfully. \"Terry.\" \"Danny.\" You can pick any number of Jack\\'s performances dating as far back as Five Easy Pieces in the diner to A Few Good Men and his court room interrogation scene. These guys just have it. You can add Denzel Washington to the small and exclusive list of actors who exudes that terrific trait in everything he does. If you look at some of his explosive borderline diatribes in The Siege to his impressive tribute to Malcolm X in Spike Lee\\'s film of the same name, you can see that there is no finer an actor working today. I don\\'t mention all of this to insinuate that Man On Fire is perfect just because of Denzel\\'s work, but he is definitely the cog of the production. I was literally mesmerized with some of his scenes that are raw, emotional and incendiary all at the same time.<br /><br />Washington plays Creasy a former spy or CIA agent or one of those covert government operatives. He has pretty much hit rock bottom as he has become disillusioned with the life that he has led. He has killed and perhaps done things that are best left unsaid and this has made him a hardened and bitter man. His friend and perhaps mentor, played very reservedly by Christopher Walken, is living in Mexico making a very comfortable living by providing body guard services for the rich. Apparently the kidnapping business in Mexico is so vibrant that these paid former S.E.A.L.s and such can do very well while providing a needed service. Creasey needs the work and accepts a job with a well to do family who seems to be in some financial difficulty. Marc Anthony is fine as Samuel, Radha Mitchell is tantalizingly sexy as his wife Lisa and Dakota Fanning is just unbelievably and precociously brilliant as Pita. I don\\'t know how a child of her age can have such range to play the characters that she does but her interpretation of Pita is nothing short of Oscar worthy. The film\\'s entire first half is dependent on the relationship between Pita and Creasy and if there was a weaker actress in the role, perhaps that emotional synergy would not have come across so succinctly. But Fanning is nothing short of remarkable in the role.<br /><br />It is the relationship between Pita and Creasy that drives this film to the apex of cinema. Together they are perfect and there is a real bond developed between them. Tony Scott directs with a frenetic urgency and his eye for visual flare has never been better. I am interested to see how his next film, Domino, turns out. I think Scott is one of today\\'s under rated directors and with more films like this one, his name will surely be elevated to icon status.<br /><br />The story has Creasy really taking to Pita, and vis-ca versa. There is a definite connection between the two of them and perhaps it stems from the fact that although Pita loves her dad, he is not around much. He is a philanthropist and obviously has little time to spend with his family. Soon, Creasy is taking Pita to her swimming competition. He is reading her bedtime stories and she is naming her teddy bear \"Creasy\". It\\'s not just a friendship between them, it is more of a kinship, and a deep parental love seems to be present. <br /><br />The film changes gears when Pita does get kidnapped and held for ransom and Creasy is is almost fatally injured trying to protect her. This is where the story becomes thick with innuendo and ripe with deceit as the plot pieces get unraveled like an onion. And this is where Denzel becomes a tour de force. Like I said earlier, I have seen Denzel give some outstanding performances in films like Crimson Tide and Training Day, but never have I seen him like this. He is a man possessed and with the possibility of Pita being dead, he becomes a literal man on fire. It rages in him as he hunts down and dishes out his brand of comeuppance. Denzel\\'s anger and acerbity are ubiquitous and not easily quelled as he hunts down each person responsible for Pita\\'s violation. This all vigilante justice as the Mexican authorities always seem to be one step behind. <br /><br />Also what is paramount to this film\\'s audacious brilliance is that there are few films that actually give the criminals their due comeuppance. I have often been frustrated to watch films where the bad guys get let off easily. They inflict all kinds of torment for the entire film and then they take a bullet and die. But not in this film. Writer Brian Helgeland sees to it that retribution here is unequivocal and it is painful. The perpetrators here feel Creasy\\'s wrath and they experience the torment that he unleashes. There is nothing gimmicky about his brand of justice. He needs information and someone loses a finger. He wants answers and a homemade bomb is placed in places that are meant for other things. There is no punches pulled here and this is one of the true strengths of the film.<br /><br />Man on Fire is one the five best films of 2004. Now that it is out on DVD, my recommendation is to get the SE. It is loaded with bonus features that include about 6 hours of documentaries and different commentary tracks. 10/10']\n"
     ]
    }
   ],
   "source": [
    "def read_sentences(path):\n",
    "    sentences = []\n",
    "    sentences_list = gen_find(\"*.txt\", path)\n",
    "    for ff in sentences_list:\n",
    "        with open(ff, 'r') as f:\n",
    "            sentences.append(f.readline().strip())\n",
    "    return sentences        \n",
    "\n",
    "#Test\n",
    "print(read_sentences(data_path+'train/pos/')[0:2])"
   ]
  },
  {
   "cell_type": "code",
   "execution_count": 4,
   "metadata": {
    "collapsed": false
   },
   "outputs": [
    {
     "name": "stdout",
     "output_type": "stream",
     "text": [
      "[\"After Chaplin made one of his best films: Dough & Dynamite, he made one of his worst: Gentlemen Of Nerve. During this first year in films, Chaplin made about a third of all his films. Many of them were experimental in terms of ad-libbing, editing, gags, location shooting, etc. This one takes place at a racetrack where Chaplin and his friend try to get in without paying. Mabel Normand is there with her friend also, and Chaplin manages to rid himself of both his and Mabel's friends. He then woos Mabel in the grandstand with no apparent repercussions from his behavior. Lots of slapstick in here, but there is very little else to recommend this film for other then watching Chaplin develop. The print I saw was badly deteriorated, which may have affected its enjoyment. Charley Chase can be glimpsed. * of 4 stars.\", \"Please, for the love of God, don't watch it. Now saying that, I know what you're thinking, it can't be that bad can it? If everyone says it as bad as they say, I have to watch it! Don't do it! It'll be like looking at a horrible accident involving little babies and a gasoline tanker! You'll be scarred for life...the image will never leave you! I could only watch a half hour of this before becoming violently sick. The acting is the worst I've ever seen, and I've seen Barbwire!!! If you do risk ripping your eyes out and rent this movie...don't say I haven't warned you! The cover and storyline are a trap!! Zombies? Satire? Shaun of the Dead was great! This movie must be the same....right? NO!! The writing = crap directing = garbage acting = there was no acting. Still not convinced? Then forever your soul will be tormented!!!\"]\n"
     ]
    }
   ],
   "source": [
    "print(read_sentences(data_path+'train/neg/')[0:2])"
   ]
  },
  {
   "cell_type": "code",
   "execution_count": 5,
   "metadata": {
    "collapsed": false
   },
   "outputs": [
    {
     "name": "stdout",
     "output_type": "stream",
     "text": [
      "Tokenizing...\n",
      "Done!\n",
      "[[u'Michael', u'Is', u'King', u'.', u'This', u'film', u'contains', u'some', u'of', u'the', u'best', u'stuff', u'Mike', u'has', u'ever', u'done', u'.', u'Smooth', u'Criminal', u'is', u'pure', u'genius', u'.', u'The', u'cameos', u'are', u'wonderful', u',', u'but', u'as', u'always', u',', u'the', u'main', u'event', u'is', u'MJ', u'himself', u'.', u'He', u'is', u'the', u'best', u',', u'hands', u'down', u'.'], [u'This', u'comment', u'does', u'contain', u'spoilers', u'!', u'!', u'<', u'br', u'/', u'>', u'<', u'br', u'/', u'>', u'There', u'are', u'few', u'actors', u'that', u'have', u'an', u'intangible', u'to', u'them', u'.', u'That', u'innate', u'quality', u'which', u'is', u'an', u'amalgamation', u'of', u'charisma', u',', u'panache', u'and', u'swagger', u'.', u'It', u\"'s\", u'the', u'quality', u'that', u'can', u'separate', u'good', u'actors', u'from', u'the', u'truly', u'great', u'.', u'I', u'think', u'George', u'Clooney', u'has', u'it', u'and', u'so', u'does', u'Jack', u'Nicholson', u'.', u'You', u'can', u'look', u'at', u'Clooney', u\"'s\", u'subtle', u'touches', u'in', u'scenes', u'like', u'his', u'one', u'word', u'good-bye', u'to', u'Andy', u'Garcia', u'in', u'Ocean', u\"'s\", u'11', u'when', u'they', u'just', u'utter', u'each', u'other', u\"'s\", u'name', u'disdainfully', u'.', u'``', u'Terry', u'.', u\"''\", u'``', u'Danny', u'.', u\"''\", u'You', u'can', u'pick', u'any', u'number', u'of', u'Jack', u\"'s\", u'performances', u'dating', u'as', u'far', u'back', u'as', u'Five', u'Easy', u'Pieces', u'in', u'the', u'diner', u'to', u'A', u'Few', u'Good', u'Men', u'and', u'his', u'court', u'room', u'interrogation', u'scene', u'.', u'These', u'guys', u'just', u'have', u'it', u'.', u'You', u'can', u'add', u'Denzel', u'Washington', u'to', u'the', u'small', u'and', u'exclusive', u'list', u'of', u'actors', u'who', u'exudes', u'that', u'terrific', u'trait', u'in', u'everything', u'he', u'does', u'.', u'If', u'you', u'look', u'at', u'some', u'of', u'his', u'explosive', u'borderline', u'diatribes', u'in', u'The', u'Siege', u'to', u'his', u'impressive', u'tribute', u'to', u'Malcolm', u'X', u'in', u'Spike', u'Lee', u\"'s\", u'film', u'of', u'the', u'same', u'name', u',', u'you', u'can', u'see', u'that', u'there', u'is', u'no', u'finer', u'an', u'actor', u'working', u'today', u'.', u'I', u'do', u\"n't\", u'mention', u'all', u'of', u'this', u'to', u'insinuate', u'that', u'Man', u'On', u'Fire', u'is', u'perfect', u'just', u'because', u'of', u'Denzel', u\"'s\", u'work', u',', u'but', u'he', u'is', u'definitely', u'the', u'cog', u'of', u'the', u'production', u'.', u'I', u'was', u'literally', u'mesmerized', u'with', u'some', u'of', u'his', u'scenes', u'that', u'are', u'raw', u',', u'emotional', u'and', u'incendiary', u'all', u'at', u'the', u'same', u'time.', u'<', u'br', u'/', u'>', u'<', u'br', u'/', u'>', u'Washington', u'plays', u'Creasy', u'a', u'former', u'spy', u'or', u'CIA', u'agent', u'or', u'one', u'of', u'those', u'covert', u'government', u'operatives', u'.', u'He', u'has', u'pretty', u'much', u'hit', u'rock', u'bottom', u'as', u'he', u'has', u'become', u'disillusioned', u'with', u'the', u'life', u'that', u'he', u'has', u'led', u'.', u'He', u'has', u'killed', u'and', u'perhaps', u'done', u'things', u'that', u'are', u'best', u'left', u'unsaid', u'and', u'this', u'has', u'made', u'him', u'a', u'hardened', u'and', u'bitter', u'man', u'.', u'His', u'friend', u'and', u'perhaps', u'mentor', u',', u'played', u'very', u'reservedly', u'by', u'Christopher', u'Walken', u',', u'is', u'living', u'in', u'Mexico', u'making', u'a', u'very', u'comfortable', u'living', u'by', u'providing', u'body', u'guard', u'services', u'for', u'the', u'rich', u'.', u'Apparently', u'the', u'kidnapping', u'business', u'in', u'Mexico', u'is', u'so', u'vibrant', u'that', u'these', u'paid', u'former', u'S.E.A.L.s', u'and', u'such', u'can', u'do', u'very', u'well', u'while', u'providing', u'a', u'needed', u'service', u'.', u'Creasey', u'needs', u'the', u'work', u'and', u'accepts', u'a', u'job', u'with', u'a', u'well', u'to', u'do', u'family', u'who', u'seems', u'to', u'be', u'in', u'some', u'financial', u'difficulty', u'.', u'Marc', u'Anthony', u'is', u'fine', u'as', u'Samuel', u',', u'Radha', u'Mitchell', u'is', u'tantalizingly', u'sexy', u'as', u'his', u'wife', u'Lisa', u'and', u'Dakota', u'Fanning', u'is', u'just', u'unbelievably', u'and', u'precociously', u'brilliant', u'as', u'Pita', u'.', u'I', u'do', u\"n't\", u'know', u'how', u'a', u'child', u'of', u'her', u'age', u'can', u'have', u'such', u'range', u'to', u'play', u'the', u'characters', u'that', u'she', u'does', u'but', u'her', u'interpretation', u'of', u'Pita', u'is', u'nothing', u'short', u'of', u'Oscar', u'worthy', u'.', u'The', u'film', u\"'s\", u'entire', u'first', u'half', u'is', u'dependent', u'on', u'the', u'relationship', u'between', u'Pita', u'and', u'Creasy', u'and', u'if', u'there', u'was', u'a', u'weaker', u'actress', u'in', u'the', u'role', u',', u'perhaps', u'that', u'emotional', u'synergy', u'would', u'not', u'have', u'come', u'across', u'so', u'succinctly', u'.', u'But', u'Fanning', u'is', u'nothing', u'short', u'of', u'remarkable', u'in', u'the', u'role.', u'<', u'br', u'/', u'>', u'<', u'br', u'/', u'>', u'It', u'is', u'the', u'relationship', u'between', u'Pita', u'and', u'Creasy', u'that', u'drives', u'this', u'film', u'to', u'the', u'apex', u'of', u'cinema', u'.', u'Together', u'they', u'are', u'perfect', u'and', u'there', u'is', u'a', u'real', u'bond', u'developed', u'between', u'them', u'.', u'Tony', u'Scott', u'directs', u'with', u'a', u'frenetic', u'urgency', u'and', u'his', u'eye', u'for', u'visual', u'flare', u'has', u'never', u'been', u'better', u'.', u'I', u'am', u'interested', u'to', u'see', u'how', u'his', u'next', u'film', u',', u'Domino', u',', u'turns', u'out', u'.', u'I', u'think', u'Scott', u'is', u'one', u'of', u'today', u\"'s\", u'under', u'rated', u'directors', u'and', u'with', u'more', u'films', u'like', u'this', u'one', u',', u'his', u'name', u'will', u'surely', u'be', u'elevated', u'to', u'icon', u'status.', u'<', u'br', u'/', u'>', u'<', u'br', u'/', u'>', u'The', u'story', u'has', u'Creasy', u'really', u'taking', u'to', u'Pita', u',', u'and', u'vis-ca', u'versa', u'.', u'There', u'is', u'a', u'definite', u'connection', u'between', u'the', u'two', u'of', u'them', u'and', u'perhaps', u'it', u'stems', u'from', u'the', u'fact', u'that', u'although', u'Pita', u'loves', u'her', u'dad', u',', u'he', u'is', u'not', u'around', u'much', u'.', u'He', u'is', u'a', u'philanthropist', u'and', u'obviously', u'has', u'little', u'time', u'to', u'spend', u'with', u'his', u'family', u'.', u'Soon', u',', u'Creasy', u'is', u'taking', u'Pita', u'to', u'her', u'swimming', u'competition', u'.', u'He', u'is', u'reading', u'her', u'bedtime', u'stories', u'and', u'she', u'is', u'naming', u'her', u'teddy', u'bear', u'``', u'Creasy', u\"''\", u'.', u'It', u\"'s\", u'not', u'just', u'a', u'friendship', u'between', u'them', u',', u'it', u'is', u'more', u'of', u'a', u'kinship', u',', u'and', u'a', u'deep', u'parental', u'love', u'seems', u'to', u'be', u'present', u'.', u'<', u'br', u'/', u'>', u'<', u'br', u'/', u'>', u'The', u'film', u'changes', u'gears', u'when', u'Pita', u'does', u'get', u'kidnapped', u'and', u'held', u'for', u'ransom', u'and', u'Creasy', u'is', u'is', u'almost', u'fatally', u'injured', u'trying', u'to', u'protect', u'her', u'.', u'This', u'is', u'where', u'the', u'story', u'becomes', u'thick', u'with', u'innuendo', u'and', u'ripe', u'with', u'deceit', u'as', u'the', u'plot', u'pieces', u'get', u'unraveled', u'like', u'an', u'onion', u'.', u'And', u'this', u'is', u'where', u'Denzel', u'becomes', u'a', u'tour', u'de', u'force', u'.', u'Like', u'I', u'said', u'earlier', u',', u'I', u'have', u'seen', u'Denzel', u'give', u'some', u'outstanding', u'performances', u'in', u'films', u'like', u'Crimson', u'Tide', u'and', u'Training', u'Day', u',', u'but', u'never', u'have', u'I', u'seen', u'him', u'like', u'this', u'.', u'He', u'is', u'a', u'man', u'possessed', u'and', u'with', u'the', u'possibility', u'of', u'Pita', u'being', u'dead', u',', u'he', u'becomes', u'a', u'literal', u'man', u'on', u'fire', u'.', u'It', u'rages', u'in', u'him', u'as', u'he', u'hunts', u'down', u'and', u'dishes', u'out', u'his', u'brand', u'of', u'comeuppance', u'.', u'Denzel', u\"'s\", u'anger', u'and', u'acerbity', u'are', u'ubiquitous', u'and', u'not', u'easily', u'quelled', u'as', u'he', u'hunts', u'down', u'each', u'person', u'responsible', u'for', u'Pita', u\"'s\", u'violation', u'.', u'This', u'all', u'vigilante', u'justice', u'as', u'the', u'Mexican', u'authorities', u'always', u'seem', u'to', u'be', u'one', u'step', u'behind', u'.', u'<', u'br', u'/', u'>', u'<', u'br', u'/', u'>', u'Also', u'what', u'is', u'paramount', u'to', u'this', u'film', u\"'s\", u'audacious', u'brilliance', u'is', u'that', u'there', u'are', u'few', u'films', u'that', u'actually', u'give', u'the', u'criminals', u'their', u'due', u'comeuppance', u'.', u'I', u'have', u'often', u'been', u'frustrated', u'to', u'watch', u'films', u'where', u'the', u'bad', u'guys', u'get', u'let', u'off', u'easily', u'.', u'They', u'inflict', u'all', u'kinds', u'of', u'torment', u'for', u'the', u'entire', u'film', u'and', u'then', u'they', u'take', u'a', u'bullet', u'and', u'die', u'.', u'But', u'not', u'in', u'this', u'film', u'.', u'Writer', u'Brian', u'Helgeland', u'sees', u'to', u'it', u'that', u'retribution', u'here', u'is', u'unequivocal', u'and', u'it', u'is', u'painful', u'.', u'The', u'perpetrators', u'here', u'feel', u'Creasy', u\"'s\", u'wrath', u'and', u'they', u'experience', u'the', u'torment', u'that', u'he', u'unleashes', u'.', u'There', u'is', u'nothing', u'gimmicky', u'about', u'his', u'brand', u'of', u'justice', u'.', u'He', u'needs', u'information', u'and', u'someone', u'loses', u'a', u'finger', u'.', u'He', u'wants', u'answers', u'and', u'a', u'homemade', u'bomb', u'is', u'placed', u'in', u'places', u'that', u'are', u'meant', u'for', u'other', u'things', u'.', u'There', u'is', u'no', u'punches', u'pulled', u'here', u'and', u'this', u'is', u'one', u'of', u'the', u'true', u'strengths', u'of', u'the', u'film.', u'<', u'br', u'/', u'>', u'<', u'br', u'/', u'>', u'Man', u'on', u'Fire', u'is', u'one', u'the', u'five', u'best', u'films', u'of', u'2004', u'.', u'Now', u'that', u'it', u'is', u'out', u'on', u'DVD', u',', u'my', u'recommendation', u'is', u'to', u'get', u'the', u'SE', u'.', u'It', u'is', u'loaded', u'with', u'bonus', u'features', u'that', u'include', u'about', u'6', u'hours', u'of', u'documentaries', u'and', u'different', u'commentary', u'tracks', u'.', u'10/10']]\n"
     ]
    }
   ],
   "source": [
    "def tokenize(sentences):\n",
    "    from nltk import word_tokenize\n",
    "    print( 'Tokenizing...',)\n",
    "    tokens = []\n",
    "    for sentence in sentences:\n",
    "        tokens += [word_tokenize(sentence.decode('utf-8'))]\n",
    "    print('Done!')\n",
    "\n",
    "    return tokens\n",
    "\n",
    "print(tokenize(read_sentences(data_path+'train/pos/')[0:2]))"
   ]
  },
  {
   "cell_type": "code",
   "execution_count": 6,
   "metadata": {
    "collapsed": false
   },
   "outputs": [
    {
     "name": "stdout",
     "output_type": "stream",
     "text": [
      "Tokenizing...\n",
      "Done!\n",
      "Tokenizing...\n",
      "Done!\n"
     ]
    }
   ],
   "source": [
    "sentences_trn_pos = tokenize(read_sentences(data_path+'train/pos/'))\n",
    "sentences_trn_neg = tokenize(read_sentences(data_path+'train/neg/'))\n",
    "sentences_trn = sentences_trn_pos + sentences_trn_neg\n"
   ]
  },
  {
   "cell_type": "code",
   "execution_count": 7,
   "metadata": {
    "collapsed": false
   },
   "outputs": [
    {
     "name": "stdout",
     "output_type": "stream",
     "text": [
      "Building dictionary..\n",
      "7056193  total words  135098  unique words\n",
      "2 289298\n"
     ]
    }
   ],
   "source": [
    "#create the dictionary to conver words to numbers. Order it with most frequent words first\n",
    "def build_dict(sentences):\n",
    "#    from collections import OrderedDict\n",
    "\n",
    "    '''\n",
    "    Build dictionary of train words\n",
    "    Outputs: \n",
    "     - Dictionary of word --> word index\n",
    "     - Dictionary of word --> word count freq\n",
    "    '''\n",
    "    print( 'Building dictionary..',)\n",
    "    wordcount = dict()\n",
    "    #For each worn in each sentence, cummulate frequency\n",
    "    for ss in sentences:\n",
    "        for w in ss:\n",
    "            if w not in wordcount:\n",
    "                wordcount[w] = 1\n",
    "            else:\n",
    "                wordcount[w] += 1\n",
    "\n",
    "    counts = wordcount.values() # List of frequencies\n",
    "    keys = wordcount.keys() #List of words\n",
    "    \n",
    "    sorted_idx = reversed(np.argsort(counts))\n",
    "    \n",
    "    worddict = dict()\n",
    "    for idx, ss in enumerate(sorted_idx):\n",
    "        worddict[keys[ss]] = idx+2  # leave 0 and 1 (UNK)\n",
    "    print( np.sum(counts), ' total words ', len(keys), ' unique words')\n",
    "\n",
    "    return worddict, wordcount\n",
    "\n",
    "\n",
    "worddict, wordcount = build_dict(sentences_trn)\n",
    "\n",
    "print(worddict['the'], wordcount['the'])"
   ]
  },
  {
   "cell_type": "code",
   "execution_count": 8,
   "metadata": {
    "collapsed": true
   },
   "outputs": [],
   "source": [
    "# \n",
    "def generate_sequence(sentences, dictionary):\n",
    "    '''\n",
    "    Convert tokenized text in sequences of integers\n",
    "    '''\n",
    "    seqs = [None] * len(sentences)\n",
    "    for idx, ss in enumerate(sentences):\n",
    "        seqs[idx] = [dictionary[w] if w in dictionary else 1 for w in ss]\n",
    "\n",
    "    return seqs"
   ]
  },
  {
   "cell_type": "code",
   "execution_count": 9,
   "metadata": {
    "collapsed": false
   },
   "outputs": [
    {
     "name": "stdout",
     "output_type": "stream",
     "text": [
      "[492, 797, 778, 4, 61, 26, 1405, 62, 7, 2, 145, 567, 1947, 56, 147, 250, 4, 13644, 10523, 9, 1102, 1290, 4, 21, 3304, 35, 424, 3, 29, 22, 228, 3, 2, 305, 1556, 9, 9833, 326, 4, 154, 9, 2, 145, 3, 1002, 211, 4] 1\n"
     ]
    }
   ],
   "source": [
    "# Create train and test data\n",
    "\n",
    "#Read train sentences and generate target y\n",
    "train_x_pos = generate_sequence(sentences_trn_pos, worddict)\n",
    "train_x_neg = generate_sequence(sentences_trn_neg, worddict)\n",
    "X_train_full = train_x_pos + train_x_neg\n",
    "y_train_full = [1] * len(train_x_pos) + [0] * len(train_x_neg)\n",
    "\n",
    "print(X_train_full[0], y_train_full[0])"
   ]
  },
  {
   "cell_type": "code",
   "execution_count": 10,
   "metadata": {
    "collapsed": false
   },
   "outputs": [
    {
     "name": "stdout",
     "output_type": "stream",
     "text": [
      "Tokenizing...\n",
      "Done!\n",
      "Tokenizing...\n",
      "Done!\n",
      "[712, 17837, 18, 25, 1206, 1, 92, 392, 55, 49, 2, 174, 144, 3726, 97, 2, 2532, 7, 484, 37942, 14, 6, 11889, 14, 1417, 18268, 14, 2, 1467, 18, 4, 214, 228, 3, 17837, 3, 129, 2, 29266, 17, 40, 9, 3, 392, 8, 2, 6007, 94, 50, 45, 2, 366, 7, 38, 299, 4, 15, 183, 273, 19, 25, 4222, 44, 9100, 1581, 4, 15, 3096, 14, 2, 2818, 5, 71, 395, 2, 3070, 7, 2, 2477, 43, 131774, 2676, 28, 5315, 2046, 44, 62, 27, 53, 19, 25, 71, 136, 249, 599, 22, 88, 31177, 9826, 18042, 92, 4, 15, 121, 19, 9, 6, 63, 25, 72, 9, 64, 29266, 93, 16, 9, 772, 4, 118, 202, 3, 121, 7, 2, 74, 873, 16, 20, 109, 28, 9100, 27, 5, 67, 96, 39, 1657, 5, 319, 33, 26, 43, 17, 74, 4, 15, 37, 228, 273, 712, 17837, 8, 39, 2372, 736, 5, 65, 4584, 4, 15, 139, 131, 37, 8158, 2, 26, 22, 11053, 5, 1485, 2572, 4, 153, 34, 256, 19, 115, 3, 130, 31177, 9826, 18042, 92, 23, 2826, 765, 50376, 4, 15, 265, 6, 17837, 359, 5, 376, 2, 25, 24, 16, 18, 4112, 3, 36, 5493, 4, 214, 15, 37, 319, 3, 17837, 2506, 14, 19, 757, 5, 1594, 21920, 8, 393, 1536, 1581, 28, 1, 3, 1752, 2074, 3, 90606, 637, 27, 4, 565, 886, 171, 5, 376, 19, 42, 49, 6, 65, 7276, 1536, 74, 873, 14, 19, 757, 4, 423, 30, 39, 119, 36616, 7, 629, 17837, 4, 1627, 44078, 1, 1]\n",
      "1\n"
     ]
    }
   ],
   "source": [
    "#Read test sentences and generate target y\n",
    "sentences_tst_pos = read_sentences(data_path+'test/pos/')\n",
    "sentences_tst_neg = read_sentences(data_path+'test/neg/')\n",
    "\n",
    "test_x_pos = generate_sequence(tokenize(sentences_tst_pos), worddict)\n",
    "test_x_neg = generate_sequence(tokenize(sentences_tst_neg), worddict)\n",
    "X_test_full = test_x_pos + test_x_neg\n",
    "y_test_full = [1] * len(test_x_pos) + [0] * len(test_x_neg)\n",
    "\n",
    "print(X_test_full[0])\n",
    "print(y_test_full[0])"
   ]
  },
  {
   "cell_type": "markdown",
   "metadata": {},
   "source": [
    "## Configure sequences for a RNN model\n",
    "    - Remove words with low frequency\n",
    "    - Truncate / complete sequences to the same length"
   ]
  },
  {
   "cell_type": "code",
   "execution_count": 11,
   "metadata": {
    "collapsed": false
   },
   "outputs": [
    {
     "name": "stdout",
     "output_type": "stream",
     "text": [
      "Median length:  208.0\n"
     ]
    }
   ],
   "source": [
    "#Median length of sentences\n",
    "print('Median length: ', np.median([len(x) for x in X_test_full]))"
   ]
  },
  {
   "cell_type": "code",
   "execution_count": 12,
   "metadata": {
    "collapsed": true
   },
   "outputs": [],
   "source": [
    "max_features = 50000 # Number of most frequent words selected. the less frequent recode to 0\n",
    "maxlen = 200  # cut texts after this number of words (among top max_features most common words)"
   ]
  },
  {
   "cell_type": "code",
   "execution_count": 13,
   "metadata": {
    "collapsed": false
   },
   "outputs": [
    {
     "name": "stdout",
     "output_type": "stream",
     "text": [
      "[43032, 0, 178, 85, 11808, 3, 1616, 24, 85, 9136, 3, 16, 18, 6, 85, 1783, 22329, 5724, 33, 2, 5788, 4, 5746, 88, 30, 491, 78, 40, 17350, 3, 78, 40, 3298, 45, 151, 2127, 5, 1843, 3, 19, 9, 26, 276, 43, 16, 18271, 4, 51, 18, 106, 8, 84, 6, 26, 4016, 625, 179, 737, 9, 30, 1, 23, 44, 2, 2191, 17, 39, 4, 5746, 9, 6, 1751, 7, 8819, 28983, 70, 7096, 1116, 5, 1176, 7103, 16, 23, 499, 58, 1408, 399, 125, 34, 195, 36, 300, 78, 34, 156, 39, 317, 271, 14, 7085, 54, 3179, 206, 1108, 3, 379, 115, 16, 18, 6, 9470, 10235, 5, 42, 36, 8, 39, 1066, 41, 51, 18, 36, 24, 352, 5, 15, 167, 6746, 114, 4746, 99, 217, 2, 26, 3, 475, 78, 34, 195, 36, 6, 359, 7, 5746, 18, 460, 3, 19, 227, 39, 6, 140, 296, 8, 7160, 3, 29, 0, 3, 16, 9, 6, 26, 72, 353, 56, 8, 39, 128, 4, 401, 1368, 30449, 26, 359, 156, 1056, 19, 4, 124, 2, 257, 7, 49784, 31302, 69, 835, 60, 30, 34, 3563, 2983, 104, 41, 41]\n"
     ]
    }
   ],
   "source": [
    "#Select the most frequent max_features, recode others using 0\n",
    "def remove_features(x):\n",
    "    return [[0 if w >= max_features else w for w in sen] for sen in x]\n",
    "\n",
    "X_train = remove_features(X_train_full)\n",
    "X_test  = remove_features(X_test_full)\n",
    "y_train = y_train_full\n",
    "y_test = y_test_full\n",
    "\n",
    "print(X_test[1])"
   ]
  },
  {
   "cell_type": "code",
   "execution_count": 14,
   "metadata": {
    "collapsed": false
   },
   "outputs": [
    {
     "name": "stderr",
     "output_type": "stream",
     "text": [
      "Using TensorFlow backend.\n"
     ]
    },
    {
     "name": "stdout",
     "output_type": "stream",
     "text": [
      "Pad sequences (samples x time)\n",
      "X_train shape: (25000, 200)\n",
      "X_test shape: (25000, 200)\n",
      "[ 9100  1581     4    15  3096    14     2  2818     5    71   395     2\n",
      "  3070     7     2  2477    43     0  2676    28  5315  2046    44    62\n",
      "    27    53    19    25    71   136   249   599    22    88 31177  9826\n",
      " 18042    92     4    15   121    19     9     6    63    25    72     9\n",
      "    64 29266    93    16     9   772     4   118   202     3   121     7\n",
      "     2    74   873    16    20   109    28  9100    27     5    67    96\n",
      "    39  1657     5   319    33    26    43    17    74     4    15    37\n",
      "   228   273   712 17837     8    39  2372   736     5    65  4584     4\n",
      "    15   139   131    37  8158     2    26    22 11053     5  1485  2572\n",
      "     4   153    34   256    19   115     3   130 31177  9826 18042    92\n",
      "    23  2826   765     0     4    15   265     6 17837   359     5   376\n",
      "     2    25    24    16    18  4112     3    36  5493     4   214    15\n",
      "    37   319     3 17837  2506    14    19   757     5  1594 21920     8\n",
      "   393  1536  1581    28     1     3  1752  2074     3     0   637    27\n",
      "     4   565   886   171     5   376    19    42    49     6    65  7276\n",
      "  1536    74   873    14    19   757     4   423    30    39   119 36616\n",
      "     7   629 17837     4  1627 44078     1     1]\n"
     ]
    }
   ],
   "source": [
    "from keras.preprocessing import sequence\n",
    "\n",
    "# Cut or complete the sentences to length = maxlen\n",
    "print(\"Pad sequences (samples x time)\")\n",
    "\n",
    "X_train = sequence.pad_sequences(X_train, maxlen=maxlen)\n",
    "X_test = sequence.pad_sequences(X_test, maxlen=maxlen)\n",
    "\n",
    "print('X_train shape:', X_train.shape)\n",
    "print('X_test shape:', X_test.shape)\n",
    "\n",
    "print(X_test[0])"
   ]
  },
  {
   "cell_type": "code",
   "execution_count": 15,
   "metadata": {
    "collapsed": true
   },
   "outputs": [],
   "source": [
    "# Shuffle data\n",
    "from sklearn.utils import shuffle\n",
    "X_train, y_train = shuffle(X_train, y_train, random_state=0)"
   ]
  },
  {
   "cell_type": "code",
   "execution_count": null,
   "metadata": {
    "collapsed": true
   },
   "outputs": [],
   "source": []
  }
 ],
 "metadata": {
  "anaconda-cloud": {},
  "kernelspec": {
   "display_name": "Python [conda env:py27]",
   "language": "python",
   "name": "conda-env-py27-py"
  },
  "language_info": {
   "codemirror_mode": {
    "name": "ipython",
    "version": 2
   },
   "file_extension": ".py",
   "mimetype": "text/x-python",
   "name": "python",
   "nbconvert_exporter": "python",
   "pygments_lexer": "ipython2",
   "version": "2.7.13"
  }
 },
 "nbformat": 4,
 "nbformat_minor": 0
}
