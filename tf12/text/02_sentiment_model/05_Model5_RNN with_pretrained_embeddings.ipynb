{
 "cells": [
  {
   "cell_type": "markdown",
   "metadata": {},
   "source": [
    "# Model with pretrained embeddings\n",
    "    - Glove embeddings. Vectors of 300 dim.\n",
    "    - Model: Basic LSTM.\n"
   ]
  },
  {
   "cell_type": "code",
   "execution_count": 1,
   "metadata": {
    "collapsed": false
   },
   "outputs": [
    {
     "name": "stdout",
     "output_type": "stream",
     "text": [
      "Tensorflow version:  1.2.1\n"
     ]
    }
   ],
   "source": [
    "# Header\n",
    "from __future__ import print_function\n",
    "\n",
    "import numpy as np\n",
    "import tensorflow as tf\n",
    "print('Tensorflow version: ', tf.__version__)\n",
    "import time\n",
    "\n",
    "#Show images\n",
    "import matplotlib.pyplot as plt\n",
    "%matplotlib inline\n",
    "# plt configuration\n",
    "plt.rcParams['figure.figsize'] = (10, 10)        # size of images\n",
    "plt.rcParams['image.interpolation'] = 'nearest'  # show exact image\n",
    "#plt.rcParams['image.cmap'] = 'gray'  # use grayscale \n",
    "\n",
    "\n",
    "# GPU devices visible by python\n",
    "import os\n",
    "os.environ[\"CUDA_DEVICE_ORDER\"]=\"PCI_BUS_ID\" \n",
    "os.environ[\"CUDA_VISIBLE_DEVICES\"]=\"0\"\n",
    "\n",
    "data_path = '/home/ubuntu/data/training/text/sentiment/'"
   ]
  },
  {
   "cell_type": "markdown",
   "metadata": {},
   "source": [
    "## Preprocess data"
   ]
  },
  {
   "cell_type": "code",
   "execution_count": 2,
   "metadata": {
    "collapsed": false
   },
   "outputs": [
    {
     "name": "stdout",
     "output_type": "stream",
     "text": [
      "(25000, 200) (25000,)\n",
      "(25000, 200) (25000,)\n"
     ]
    }
   ],
   "source": [
    "# Import train and test data\n",
    "X_train = np.load(data_path + 'aclImdb/X_train.npy')\n",
    "y_train = np.load(data_path + 'aclImdb/y_train.npy')\n",
    "X_test  = np.load(data_path + 'aclImdb/X_test.npy')\n",
    "y_test  = np.load(data_path + 'aclImdb/y_test.npy')\n",
    "\n",
    "print(X_train.shape, y_train.shape)\n",
    "print(X_test.shape,  y_test.shape)"
   ]
  },
  {
   "cell_type": "markdown",
   "metadata": {},
   "source": [
    "## Load embeddings and join with the current dictionary"
   ]
  },
  {
   "cell_type": "code",
   "execution_count": 3,
   "metadata": {
    "collapsed": false
   },
   "outputs": [
    {
     "name": "stdout",
     "output_type": "stream",
     "text": [
      "Merged words:  45942\n",
      "Dictionary length:  45942\n"
     ]
    }
   ],
   "source": [
    "#Load embeddings\n",
    "import pandas as pd\n",
    "import csv\n",
    "import pickle\n",
    "\n",
    "# Load worddict\n",
    "with open(data_path + 'worddict.pickle', 'rb') as pfile:\n",
    "    worddict = pickle.load(pfile)\n",
    "\n",
    "embed_dim = 300\n",
    "df_glove = pd.read_csv(data_path + \"glove.6B.\"+str(embed_dim)+\"d.txt\", index_col=0 ,sep=' ',\n",
    "                   header = None, quoting=csv.QUOTE_NONE, encoding='utf-8')\n",
    "\n",
    "#Merge with the dictionary of the current texts: Inner join, only words in the corpus and in glove.\n",
    "df_glove = df_glove.merge(pd.DataFrame.from_dict(worddict, orient='index'), left_index=True, right_index=True)\n",
    "print('Merged words: ', df_glove.shape[0])\n",
    "\n",
    "#Create dictionary: word_number_id --> [glove vector associated]\n",
    "glove={}\n",
    "for i,r in df_glove[:].iterrows():\n",
    "    glove[int(r[0])] = [r[j] for j in range(1,embed_dim+1)]\n",
    "print('Dictionary length: ', len(glove))"
   ]
  },
  {
   "cell_type": "markdown",
   "metadata": {},
   "source": [
    "## Prepare sequences to model\n"
   ]
  },
  {
   "cell_type": "code",
   "execution_count": 4,
   "metadata": {
    "collapsed": false
   },
   "outputs": [
    {
     "name": "stdout",
     "output_type": "stream",
     "text": [
      "Train shape: (25000, 100, 300)\n",
      "Test shape: (25000, 100, 300)\n"
     ]
    }
   ],
   "source": [
    "#Create embeddings 3D tensors\n",
    "max_len = 100\n",
    "\n",
    "def embedd(x):\n",
    "    r = np.zeros((max_len, embed_dim))\n",
    "    pos = max_len-1\n",
    "    for i in range(len(x),0,-1):\n",
    "        found = True\n",
    "        try:\n",
    "            v = np.array([glove[x[i-1]]])\n",
    "        except:\n",
    "            found = False\n",
    "        if found and pos>=0:\n",
    "            r[pos,:] = v \n",
    "            pos += -1\n",
    "    return r\n",
    "        \n",
    "X_train = np.array([embedd(s) for s in X_train], dtype=np.float32)\n",
    "print('Train shape:', X_train.shape)\n",
    "\n",
    "X_test = np.array([embedd(s) for s in X_test], dtype=np.float32)\n",
    "print('Test shape:', X_test.shape)"
   ]
  },
  {
   "cell_type": "code",
   "execution_count": 7,
   "metadata": {
    "collapsed": false
   },
   "outputs": [],
   "source": [
    "# Save data in HDF5 to use with a batch generator\n",
    "import h5py\n",
    "with h5py.File(data_path + 'sentiment_glove_data.h5') as hdf5_f:\n",
    "    hdf5_f.create_dataset('X_train', data=np.array(X_train))\n",
    "    hdf5_f.create_dataset('y_train', data=np.array(y_train))\n",
    "    hdf5_f.create_dataset('X_test' , data=np.array(X_test ))\n",
    "    hdf5_f.create_dataset('y_test' , data=np.array(y_test ))\n"
   ]
  },
  {
   "cell_type": "markdown",
   "metadata": {},
   "source": [
    "## Build model"
   ]
  },
  {
   "cell_type": "code",
   "execution_count": 5,
   "metadata": {
    "collapsed": false
   },
   "outputs": [
    {
     "name": "stdout",
     "output_type": "stream",
     "text": [
      "Build model 1 - Basic model...\n",
      "_________________________________________________________________\n",
      "Layer (type)                 Output Shape              Param #   \n",
      "=================================================================\n",
      "input_1 (InputLayer)         (None, 100, 300)          0         \n",
      "_________________________________________________________________\n",
      "Forward1 (LSTM)              (None, None, 128)         219648    \n",
      "_________________________________________________________________\n",
      "Forward2 (LSTM)              (None, 128)               131584    \n",
      "_________________________________________________________________\n",
      "dense_1 (Dense)              (None, 2)                 258       \n",
      "=================================================================\n",
      "Total params: 351,490\n",
      "Trainable params: 351,490\n",
      "Non-trainable params: 0\n",
      "_________________________________________________________________\n"
     ]
    }
   ],
   "source": [
    "# Model\n",
    "num_hidden_rnn = 128 #Num of neurons in the Recurent network \n",
    "\n",
    "from tensorflow.contrib.keras import layers, models, optimizers\n",
    "\n",
    "print('Build model 1 - Basic model...')\n",
    "\n",
    "# LAYER 1: inputs\n",
    "seq_prev_input = layers.Input(shape=(max_len, embed_dim), dtype='float32') \n",
    "\n",
    "# LAYER 2: Create embedings\n",
    "#embeds = layers.Embedding(max_features, dim_embedings, input_length=max_len)(seq_prev_input)\n",
    "\n",
    "# LAYERS 3: RNN - forwards LSTM with dropout\n",
    "forward = layers.LSTM(num_hidden_rnn, return_sequences=True,\n",
    "                 dropout=0.3, recurrent_dropout=0.3, name='Forward1')(seq_prev_input)\n",
    "rnn_out = layers.LSTM(num_hidden_rnn, return_sequences=False,\n",
    "                 dropout=0.3, recurrent_dropout=0.3, name='Forward2')(forward)\n",
    "\n",
    "\n",
    "# LAYER 4: Dense layer to outputs - softmax activation\n",
    "output = layers.Dense(2, activation='softmax')(rnn_out)\n",
    "\n",
    "# Model Architecture defined\n",
    "model_1 = models.Model(inputs=seq_prev_input, outputs=output)\n",
    "model_1.summary()\n",
    "\n",
    "# Compile model and select optimizer\n",
    "model_1.compile(loss='sparse_categorical_crossentropy', optimizer='Adam', metrics=['accuracy'])\n"
   ]
  },
  {
   "cell_type": "code",
   "execution_count": 6,
   "metadata": {
    "collapsed": false
   },
   "outputs": [
    {
     "data": {
      "text/plain": [
       "<matplotlib.image.AxesImage at 0x7f6b14412908>"
      ]
     },
     "execution_count": 6,
     "metadata": {},
     "output_type": "execute_result"
    },
    {
     "data": {
      "image/png": "[encoded data removed]",
      "text/plain": [
       "<matplotlib.figure.Figure at 0x7f6b146c5828>"
      ]
     },
     "metadata": {},
     "output_type": "display_data"
    }
   ],
   "source": [
    "#Plot the model graph\n",
    "from tensorflow.contrib.keras import utils\n",
    "\n",
    "# Create model image\n",
    "utils.plot_model(model_1, '/tmp/model1.png')\n",
    "\n",
    "# Show image\n",
    "plt.imshow(plt.imread('/tmp/model1.png'))\n"
   ]
  },
  {
   "cell_type": "code",
   "execution_count": 7,
   "metadata": {
    "collapsed": false
   },
   "outputs": [
    {
     "name": "stdout",
     "output_type": "stream",
     "text": [
      "Train...\n",
      "Train on 25000 samples, validate on 25000 samples\n",
      "Epoch 1/20\n",
      "25000/25000 [==============================] - 81s - loss: 0.5931 - acc: 0.6776 - val_loss: 0.4619 - val_acc: 0.7869\n",
      "Epoch 2/20\n",
      "25000/25000 [==============================] - 82s - loss: 0.4724 - acc: 0.7800 - val_loss: 0.3950 - val_acc: 0.8239\n",
      "Epoch 3/20\n",
      "25000/25000 [==============================] - 81s - loss: 0.4128 - acc: 0.8112 - val_loss: 0.3706 - val_acc: 0.8309\n",
      "Epoch 4/20\n",
      "25000/25000 [==============================] - 81s - loss: 0.3875 - acc: 0.8246 - val_loss: 0.3644 - val_acc: 0.8401\n",
      "Epoch 5/20\n",
      "25000/25000 [==============================] - 81s - loss: 0.3725 - acc: 0.8332 - val_loss: 0.3428 - val_acc: 0.8468\n",
      "Epoch 6/20\n",
      "25000/25000 [==============================] - 81s - loss: 0.3508 - acc: 0.8452 - val_loss: 0.3370 - val_acc: 0.8488\n",
      "Epoch 7/20\n",
      "25000/25000 [==============================] - 82s - loss: 0.3375 - acc: 0.8498 - val_loss: 0.3324 - val_acc: 0.8533\n",
      "Epoch 8/20\n",
      "25000/25000 [==============================] - 82s - loss: 0.3224 - acc: 0.8606 - val_loss: 0.3214 - val_acc: 0.8574\n",
      "Epoch 9/20\n",
      "25000/25000 [==============================] - 81s - loss: 0.3095 - acc: 0.8657 - val_loss: 0.3399 - val_acc: 0.8503\n",
      "Epoch 10/20\n",
      "25000/25000 [==============================] - 81s - loss: 0.2954 - acc: 0.8728 - val_loss: 0.3161 - val_acc: 0.8602\n",
      "Epoch 11/20\n",
      "25000/25000 [==============================] - 82s - loss: 0.2870 - acc: 0.8768 - val_loss: 0.3240 - val_acc: 0.8602\n",
      "Epoch 12/20\n",
      "25000/25000 [==============================] - 82s - loss: 0.2742 - acc: 0.8806 - val_loss: 0.3209 - val_acc: 0.8623\n",
      "Epoch 13/20\n",
      "25000/25000 [==============================] - 82s - loss: 0.2639 - acc: 0.8900 - val_loss: 0.3246 - val_acc: 0.8594\n",
      "Epoch 14/20\n",
      "25000/25000 [==============================] - 81s - loss: 0.2542 - acc: 0.8926 - val_loss: 0.3257 - val_acc: 0.8618\n",
      "Epoch 15/20\n",
      "25000/25000 [==============================] - 82s - loss: 0.2426 - acc: 0.8977 - val_loss: 0.3369 - val_acc: 0.8634\n",
      "Epoch 16/20\n",
      "25000/25000 [==============================] - 82s - loss: 0.2272 - acc: 0.9041 - val_loss: 0.3396 - val_acc: 0.8611\n",
      "Epoch 17/20\n",
      "25000/25000 [==============================] - 81s - loss: 0.2193 - acc: 0.9078 - val_loss: 0.3332 - val_acc: 0.8620\n",
      "Epoch 18/20\n",
      "25000/25000 [==============================] - 82s - loss: 0.2076 - acc: 0.9149 - val_loss: 0.3489 - val_acc: 0.8628\n",
      "Epoch 19/20\n",
      "25000/25000 [==============================] - 82s - loss: 0.2033 - acc: 0.9148 - val_loss: 0.3567 - val_acc: 0.8633\n",
      "Epoch 20/20\n",
      "25000/25000 [==============================] - 82s - loss: 0.1926 - acc: 0.9189 - val_loss: 0.3459 - val_acc: 0.8607\n"
     ]
    }
   ],
   "source": [
    "# Train\n",
    "batch_size = 128\n",
    "\n",
    "print(\"Train...\")\n",
    "history = model_1.fit(X_train, y_train, batch_size=batch_size, epochs=20,\n",
    "                      validation_data=(X_test, y_test))"
   ]
  },
  {
   "cell_type": "code",
   "execution_count": 8,
   "metadata": {
    "collapsed": false
   },
   "outputs": [
    {
     "data": {
      "image/png": "[encoded data removed]",
      "text/plain": [
       "<matplotlib.figure.Figure at 0x7f6b146d2b00>"
      ]
     },
     "metadata": {},
     "output_type": "display_data"
    }
   ],
   "source": [
    "#Plot graphs in the notebook output\n",
    "import matplotlib.pyplot as plt\n",
    "%matplotlib inline\n",
    "\n",
    "plt.plot(history.history['acc'])\n",
    "plt.plot(history.history['val_acc'])\n",
    "plt.show()"
   ]
  },
  {
   "cell_type": "markdown",
   "metadata": {},
   "source": [
    "## Validate it"
   ]
  },
  {
   "cell_type": "code",
   "execution_count": 9,
   "metadata": {
    "collapsed": false
   },
   "outputs": [
    {
     "name": "stdout",
     "output_type": "stream",
     "text": [
      "(25000, 2)\n"
     ]
    }
   ],
   "source": [
    "# Score and obtain probabilities\n",
    "pred_test = model_1.predict(X_test)\n",
    "print(pred_test.shape)"
   ]
  },
  {
   "cell_type": "code",
   "execution_count": 10,
   "metadata": {
    "collapsed": false
   },
   "outputs": [
    {
     "name": "stdout",
     "output_type": "stream",
     "text": [
      "Accuracy:  0.86068\n",
      "AUC:  0.9397282624\n"
     ]
    },
    {
     "data": {
      "text/plain": [
       "[<matplotlib.lines.Line2D at 0x7f6ab00afc50>]"
      ]
     },
     "execution_count": 10,
     "metadata": {},
     "output_type": "execute_result"
    },
    {
     "data": {
      "image/png": "[encoded data removed]",
      "text/plain": [
       "<matplotlib.figure.Figure at 0x7f6ae64faa90>"
      ]
     },
     "metadata": {},
     "output_type": "display_data"
    }
   ],
   "source": [
    "#Import metrics\n",
    "from sklearn.metrics import roc_curve, auc, accuracy_score\n",
    "\n",
    "#Calculate accuracy with sklearn\n",
    "print('Accuracy: ',accuracy_score(y_test, [1 if p>0.5 else 0 for p in pred_test[:,1]]))\n",
    "\n",
    "#Calculate ROC curve\n",
    "fpr, tpr, _ = roc_curve(y_test, pred_test[:,1])\n",
    "print('AUC: ', auc(fpr, tpr) ) \n",
    "\n",
    "#Plot ROC curve\n",
    "plt.plot(fpr, tpr)"
   ]
  },
  {
   "cell_type": "code",
   "execution_count": null,
   "metadata": {
    "collapsed": true
   },
   "outputs": [],
   "source": []
  }
 ],
 "metadata": {
  "anaconda-cloud": {},
  "kernelspec": {
   "display_name": "Python [conda env:tf12]",
   "language": "python",
   "name": "conda-env-tf12-py"
  },
  "language_info": {
   "codemirror_mode": {
    "name": "ipython",
    "version": 3
   },
   "file_extension": ".py",
   "mimetype": "text/x-python",
   "name": "python",
   "nbconvert_exporter": "python",
   "pygments_lexer": "ipython3",
   "version": "3.6.2"
  }
 },
 "nbformat": 4,
 "nbformat_minor": 0
}
