{
 "cells": [
  {
   "cell_type": "markdown",
   "metadata": {},
   "source": [
    "# Identify tags in airline database\n",
    "\n",
    "## Recurrent neural network\n",
    "\n",
    "    - Improving the model of: 01_identify_tags_in_airline_database_LSTM adding a inverse RNN and combine it.  \n"
   ]
  },
  {
   "cell_type": "code",
   "execution_count": 1,
   "metadata": {
    "collapsed": false
   },
   "outputs": [
    {
     "name": "stdout",
     "output_type": "stream",
     "text": [
      "0.11.0rc2\n"
     ]
    }
   ],
   "source": [
    "from __future__ import print_function\n",
    "\n",
    "import os \n",
    "import numpy as np \n",
    "\n",
    "import tensorflow as tf \n",
    "print(tf.__version__)\n"
   ]
  },
  {
   "cell_type": "markdown",
   "metadata": {},
   "source": [
    "## Read data and create training datasets\n",
    "    - Previous code sumarized"
   ]
  },
  {
   "cell_type": "code",
   "execution_count": 2,
   "metadata": {
    "collapsed": false
   },
   "outputs": [
    {
     "name": "stdout",
     "output_type": "stream",
     "text": [
      "ID_PAD:  572\n"
     ]
    }
   ],
   "source": [
    "# Read data\n",
    "import pickle\n",
    "\n",
    "atis_file = '/home/jorge/data/training/text/atis/atis.pkl'\n",
    "with open(atis_file,'rb') as f:\n",
    "    train, test, dicts = pickle.load(f)\n",
    "\n",
    "#Dictionaries and train test partition\n",
    "w2idx, ne2idx, labels2idx = dicts[b'words2idx'], dicts[b'tables2idx'], dicts[b'labels2idx']\n",
    "    \n",
    "idx2w  = dict((v,k) for k,v in w2idx.items())\n",
    "idx2la = dict((v,k) for k,v in labels2idx.items())\n",
    "\n",
    "train_x, _, train_label = train\n",
    "test_x,  _,  test_label  = test\n",
    "\n",
    "\n",
    "# Max value of word coding to assign the ID_PAD\n",
    "ID_PAD = np.max([np.max(tx) for tx in train_x]) + 1\n",
    "print('ID_PAD: ', ID_PAD)\n",
    "\n",
    "def context(l, size=3):\n",
    "    l = list(l)\n",
    "    lpadded = size // 2 * [ID_PAD] + l + size // 2 * [ID_PAD]\n",
    "    out = [lpadded[i:(i + size)] for i in range(len(l))]\n",
    "    return out\n",
    "\n",
    "\n",
    "# Create train and test X y.\n",
    "X_trn=[]\n",
    "for s in train_x:\n",
    "    X_trn += context(s,size=10)\n",
    "X_trn = np.array(X_trn)\n",
    "\n",
    "X_tst=[]\n",
    "for s in test_x:\n",
    "    X_tst += context(s,size=10)\n",
    "X_tst = np.array(X_tst)\n",
    "\n",
    "y_trn=[]\n",
    "for s in train_label:\n",
    "    y_trn += list(s)\n",
    "y_trn = np.array(y_trn)\n",
    "\n",
    "y_tst=[]\n",
    "for s in test_label:\n",
    "    y_tst += list(s)\n",
    "y_tst = np.array(y_tst)\n"
   ]
  },
  {
   "cell_type": "markdown",
   "metadata": {},
   "source": [
    "# Model\n",
    "\n",
    "## Architecture\n",
    "    - tf.nn.embedding_lookup\n",
    "    - tf.nn.dynamic_rnn layer\n",
    "    - Dense layer: tf.nn.relu(tf.matmul(x, W) + b)\n",
    "    \n",
    "## Features\n",
    "    - Dropout\n",
    "    - Saver"
   ]
  },
  {
   "cell_type": "code",
   "execution_count": 4,
   "metadata": {
    "collapsed": false
   },
   "outputs": [],
   "source": [
    "#General parameters\n",
    "LOG_DIR = '/tmp/tensorboard/airline/lstm/'\n",
    "\n",
    "# data attributes\n",
    "input_seq_length = X_trn.shape[1]\n",
    "input_vocabulary_size = len(set(idx2w)) + 1\n",
    "output_length = 127\n",
    "\n",
    "#Model parameters\n",
    "embedding_size = 64\n",
    "num_hidden_lstm = 128\n"
   ]
  },
  {
   "cell_type": "code",
   "execution_count": null,
   "metadata": {
    "collapsed": true
   },
   "outputs": [],
   "source": [
    "cell = tf.nn.rnn_cell.MultiRNNCell([single_cell] * num_layers)"
   ]
  },
  {
   "cell_type": "code",
   "execution_count": 13,
   "metadata": {
    "collapsed": false
   },
   "outputs": [
    {
     "name": "stdout",
     "output_type": "stream",
     "text": [
      "embedding_layer:  Output(\"Embeddings/embedding_lookup:0\", shape=(?, 10, 64), dtype=float32)\n",
      "embedding_layer_split [<tf.Output 'RNN/split:0' shape=(?, 1, 64) dtype=float32>, <tf.Output 'RNN/split:1' shape=(?, 1, 64) dtype=float32>, <tf.Output 'RNN/split:2' shape=(?, 1, 64) dtype=float32>, <tf.Output 'RNN/split:3' shape=(?, 1, 64) dtype=float32>, <tf.Output 'RNN/split:4' shape=(?, 1, 64) dtype=float32>, <tf.Output 'RNN/split:5' shape=(?, 1, 64) dtype=float32>, <tf.Output 'RNN/split:6' shape=(?, 1, 64) dtype=float32>, <tf.Output 'RNN/split:7' shape=(?, 1, 64) dtype=float32>, <tf.Output 'RNN/split:8' shape=(?, 1, 64) dtype=float32>, <tf.Output 'RNN/split:9' shape=(?, 1, 64) dtype=float32>]\n",
      "embedding_layer_split [<tf.Output 'RNN/Reshape:0' shape=(?, 64) dtype=float32>, <tf.Output 'RNN/Reshape_1:0' shape=(?, 64) dtype=float32>, <tf.Output 'RNN/Reshape_2:0' shape=(?, 64) dtype=float32>, <tf.Output 'RNN/Reshape_3:0' shape=(?, 64) dtype=float32>, <tf.Output 'RNN/Reshape_4:0' shape=(?, 64) dtype=float32>, <tf.Output 'RNN/Reshape_5:0' shape=(?, 64) dtype=float32>, <tf.Output 'RNN/Reshape_6:0' shape=(?, 64) dtype=float32>, <tf.Output 'RNN/Reshape_7:0' shape=(?, 64) dtype=float32>, <tf.Output 'RNN/Reshape_8:0' shape=(?, 64) dtype=float32>, <tf.Output 'RNN/Reshape_9:0' shape=(?, 64) dtype=float32>]\n",
      "lstm_outputs:  [<tf.Output 'RNN/concat:0' shape=(?, 256) dtype=float32>, <tf.Output 'RNN/concat_1:0' shape=(?, 256) dtype=float32>, <tf.Output 'RNN/concat_2:0' shape=(?, 256) dtype=float32>, <tf.Output 'RNN/concat_3:0' shape=(?, 256) dtype=float32>, <tf.Output 'RNN/concat_4:0' shape=(?, 256) dtype=float32>, <tf.Output 'RNN/concat_5:0' shape=(?, 256) dtype=float32>, <tf.Output 'RNN/concat_6:0' shape=(?, 256) dtype=float32>, <tf.Output 'RNN/concat_7:0' shape=(?, 256) dtype=float32>, <tf.Output 'RNN/concat_8:0' shape=(?, 256) dtype=float32>, <tf.Output 'RNN/concat_9:0' shape=(?, 256) dtype=float32>]\n",
      "final_lstm_outputs:  Output(\"RNN/concat_10:0\", shape=(?, 512), dtype=float32)\n",
      "dense_output:  Output(\"Dense/Relu:0\", shape=(?, 127), dtype=float32)\n"
     ]
    }
   ],
   "source": [
    "from tensorflow.contrib.tensorboard.plugins import projector\n",
    "\n",
    "# Define the tensorflow graph\n",
    "graph = tf.Graph()\n",
    "with graph.as_default():\n",
    "    # graph definition\n",
    "    # Inputs\n",
    "    with tf.name_scope('Inputs') as scope:\n",
    "        x = tf.placeholder(tf.int32, shape=[None, input_seq_length], name='x')\n",
    "        y = tf.placeholder(tf.int64, shape=[None], name='y')\n",
    "\n",
    "    with tf.name_scope('Embeddings') as scope:\n",
    "        W_embedding = tf.Variable(tf.random_uniform([input_vocabulary_size, embedding_size], -1.0, 1.0) ,name=\"W\")\n",
    "        embedding_layer = tf.nn.embedding_lookup(W_embedding, x)\n",
    "        print('embedding_layer: ', embedding_layer)\n",
    "        \n",
    "\n",
    "    with tf.name_scope('RNN') as scope:\n",
    "        # Dropout parameter\n",
    "        keep_prob = tf.placeholder(tf.float32, name='keep_prob')\n",
    "        \n",
    "        # Forward RNN cell\n",
    "        cell_fw = tf.nn.rnn_cell.LSTMCell(num_hidden_lstm, \n",
    "                                          initializer=tf.random_uniform_initializer(-0.1, 0.1, seed=123))\n",
    "        cell_fw = tf.nn.rnn_cell.DropoutWrapper(cell_fw, output_keep_prob=keep_prob)\n",
    "        \n",
    "        # Backward RNN cell\n",
    "        cell_bw = tf.nn.rnn_cell.LSTMCell(num_hidden_lstm, \n",
    "                                          initializer=tf.random_uniform_initializer(-0.1, 0.1, seed=113))\n",
    "        cell_bw = tf.nn.rnn_cell.DropoutWrapper(cell_bw, output_keep_prob=keep_prob)\n",
    "        \n",
    "        # Convert tensor in a list of tensors\n",
    "        embedding_layer_split = tf.split(1, input_seq_length, embedding_layer)\n",
    "        \n",
    "        # Remove dimensions of shape 1\n",
    "        embedding_layer_split = [tf.reshape(l, [-1, embedding_size]) for l in embedding_layer_split]\n",
    "        \n",
    "        # Bidirectional RR: output: list of concatenate outputs of the fw and bw networks.\n",
    "        lstm_outputs, _, _ = tf.nn.bidirectional_rnn(cell_fw, cell_bw,\n",
    "                                                                embedding_layer_split, dtype=tf.float32)\n",
    "        print('lstm_outputs: ', lstm_outputs)\n",
    "        \n",
    "        # Concat the first and the last outputs of the network.\n",
    "        final_lstm_outputs = tf.concat(1, [lstm_outputs[0], lstm_outputs[-1]])\n",
    "        print('final_lstm_outputs: ', final_lstm_outputs)\n",
    "        \n",
    "    \n",
    "    #Dense layer form RNN outs to prediction\n",
    "    with tf.name_scope('Dense') as scope:\n",
    "        W_dense = tf.Variable(tf.truncated_normal([num_hidden_lstm*2*2, output_length], stddev=0.1), name='W_dense')\n",
    "        b_dense = tf.Variable(tf.constant(0.1, shape=[output_length]), name='b_dense')\n",
    "        dense_output = tf.nn.relu(tf.matmul(final_lstm_outputs, W_dense) + b_dense)\n",
    "        print('dense_output: ', dense_output)\n",
    "\n",
    "        \n",
    "    #Prediction\n",
    "    y_pred = tf.nn.softmax(dense_output, name='y_pred')\n",
    "\n",
    "    # Loss function\n",
    "    with tf.name_scope(\"xent\") as scope:\n",
    "        cross_entropy = tf.nn.sparse_softmax_cross_entropy_with_logits(dense_output, y, name='cross_entropy')\n",
    "        ce_summary = tf.scalar_summary(\"cross_entropy\", tf.reduce_mean(cross_entropy))\n",
    "\n",
    "    #Optimizer\n",
    "    with tf.name_scope(\"train\") as scope:\n",
    "        optimizer = tf.train.AdamOptimizer(0.001)\n",
    "        train_op = optimizer.minimize(cross_entropy, name='train_op')\n",
    "\n",
    "\n",
    "    #Accuracy\n",
    "    with tf.name_scope(\"test\") as scope:\n",
    "        correct_prediction = tf.equal(tf.argmax(dense_output,1), y)\n",
    "        accuracy = tf.reduce_mean(tf.cast(correct_prediction, tf.float32), name='accuracy')\n",
    "        accuracy_summary = tf.scalar_summary(\"accuracy\", accuracy)\n",
    "\n",
    "    # Merge all the summaries and write them out to /tmp/mnist_logs\n",
    "    with tf.name_scope('summaries') as scope:\n",
    "        merged = tf.merge_all_summaries()\n",
    "        \n",
    "        \n",
    "    # Create a saver and save weigths.\n",
    "    saver = tf.train.Saver()\n"
   ]
  },
  {
   "cell_type": "code",
   "execution_count": 14,
   "metadata": {
    "collapsed": false
   },
   "outputs": [
    {
     "name": "stdout",
     "output_type": "stream",
     "text": [
      "(array([[572, 572, 572, 572, 572, 232, 542, 502, 196, 208],\n",
      "       [572, 572, 572, 572, 232, 542, 502, 196, 208,  77],\n",
      "       [572, 572, 572, 232, 542, 502, 196, 208,  77,  62],\n",
      "       [572, 572, 232, 542, 502, 196, 208,  77,  62,  10],\n",
      "       [572, 232, 542, 502, 196, 208,  77,  62,  10,  35],\n",
      "       [232, 542, 502, 196, 208,  77,  62,  10,  35,  40],\n",
      "       [542, 502, 196, 208,  77,  62,  10,  35,  40,  58],\n",
      "       [502, 196, 208,  77,  62,  10,  35,  40,  58, 234],\n",
      "       [196, 208,  77,  62,  10,  35,  40,  58, 234, 137],\n",
      "       [208,  77,  62,  10,  35,  40,  58, 234, 137,  62],\n",
      "       [ 77,  62,  10,  35,  40,  58, 234, 137,  62,  11],\n",
      "       [ 62,  10,  35,  40,  58, 234, 137,  62,  11, 234],\n",
      "       [ 10,  35,  40,  58, 234, 137,  62,  11, 234, 481],\n",
      "       [ 35,  40,  58, 234, 137,  62,  11, 234, 481, 321],\n",
      "       [ 40,  58, 234, 137,  62,  11, 234, 481, 321, 572],\n",
      "       [ 58, 234, 137,  62,  11, 234, 481, 321, 572, 572],\n",
      "       [234, 137,  62,  11, 234, 481, 321, 572, 572, 572],\n",
      "       [137,  62,  11, 234, 481, 321, 572, 572, 572, 572],\n",
      "       [572, 572, 572, 572, 572, 554, 194,  50,  66, 208],\n",
      "       [572, 572, 572, 572, 554, 194,  50,  66, 208, 379]]), array([126, 126, 126, 126, 126,  48, 126,  35,  99, 126, 126, 126,  78,\n",
      "       126,  14, 126, 126,  12, 126, 126], dtype=int32))\n"
     ]
    }
   ],
   "source": [
    "#batch generator\n",
    "def batch_generator(x, y, batch_size=128):\n",
    "    for i in range(0, x.shape[0]-batch_size, batch_size):\n",
    "        x_batch = x[i:i+batch_size,:]\n",
    "        y_batch = y[i:i+batch_size]\n",
    "        yield x_batch, y_batch\n",
    "    \n",
    "seq = batch_generator(X_trn, y_trn, batch_size=20)\n",
    "print(next(seq))"
   ]
  },
  {
   "cell_type": "code",
   "execution_count": 16,
   "metadata": {
    "collapsed": false
   },
   "outputs": [
    {
     "name": "stdout",
     "output_type": "stream",
     "text": [
      "Initializing\n",
      "Epoch - Loss(trn) -  Acc(trn)   -   Loss(tst) -   Acc(tst)\n",
      "0   -   1.08675   -   0.7792   -   0.765317   -   0.855292\n",
      "1   -   0.504932   -   0.902326   -   0.478807   -   0.913981\n",
      "2   -   0.359555   -   0.932551   -   0.425067   -   0.924869\n",
      "3   -   0.300212   -   0.94282   -   0.356184   -   0.936629\n",
      "4   -   0.252965   -   0.951057   -   0.358319   -   0.937391\n",
      "5   -   0.238466   -   0.953567   -   0.363465   -   0.938262\n",
      "6   -   0.229458   -   0.954999   -   0.359496   -   0.939678\n",
      "7   -   0.225761   -   0.955175   -   0.359718   -   0.940658\n",
      "8   -   0.219023   -   0.95643   -   0.358461   -   0.939569\n",
      "9   -   0.217709   -   0.956607   -   0.362791   -   0.94142\n",
      "10   -   0.21533   -   0.956713   -   0.355786   -   0.943706\n",
      "11   -   0.213216   -   0.957067   -   0.360127   -   0.944033\n",
      "12   -   0.211042   -   0.957721   -   0.3654   -   0.943598\n",
      "13   -   0.209642   -   0.957738   -   0.358799   -   0.94436\n",
      "14   -   0.211111   -   0.957402   -   0.376811   -   0.942291\n",
      "15   -   0.207492   -   0.958233   -   0.365613   -   0.944686\n",
      "16   -   0.207404   -   0.95841   -   0.382451   -   0.942618\n",
      "17   -   0.207281   -   0.958357   -   0.358794   -   0.942726\n",
      "18   -   0.205909   -   0.958392   -   0.379159   -   0.944033\n",
      "19   -   0.204808   -   0.958816   -   0.384885   -   0.944578\n",
      "20   -   0.204112   -   0.958746   -   0.381361   -   0.944033\n",
      "21   -   0.205051   -   0.958392   -   0.395394   -   0.943598\n",
      "22   -   0.206177   -   0.958286   -   0.393233   -   0.94338\n",
      "23   -   0.203091   -   0.959029   -   0.3882   -   0.943815\n",
      "24   -   0.205273   -   0.958445   -   0.390785   -   0.943489\n",
      "25   -   0.203328   -   0.958799   -   0.394784   -   0.944469\n",
      "26   -   0.204359   -   0.958534   -   0.415431   -   0.942073\n",
      "27   -   0.203865   -   0.958622   -   0.403188   -   0.944578\n",
      "28   -   0.204165   -   0.958657   -   0.401431   -   0.944142\n",
      "29   -   0.203668   -   0.95894   -   0.41552   -   0.944795\n"
     ]
    }
   ],
   "source": [
    "# Execute the graph to train a network\n",
    "batch_size = 32\n",
    "nEpochs = 30\n",
    "\n",
    "gpu_options = tf.GPUOptions(allow_growth = True)\n",
    "with tf.Session(graph=graph, config=tf.ConfigProto(gpu_options=gpu_options)) as session:\n",
    "    \n",
    "    #Create sumaries writers\n",
    "    summaries_dir = '/tmp/tensorboard/airline/blstm'\n",
    "    train_writer = tf.train.SummaryWriter(summaries_dir + '/train', session.graph, flush_secs=2)\n",
    "    test_writer = tf.train.SummaryWriter(summaries_dir + '/test', flush_secs=2)\n",
    "\n",
    "    print('Initializing')\n",
    "    print('Epoch - Loss(trn) -  Acc(trn)   -   Loss(tst) -   Acc(tst)')\n",
    "    tf.global_variables_initializer().run()\n",
    "    for epoch in range(nEpochs):\n",
    "        ce_c=[]\n",
    "        acc_c=[]\n",
    "        ce_c_tst=[]\n",
    "        acc_c_tst=[]\n",
    "        \n",
    "        batch_list = batch_generator(X_trn, y_trn, batch_size=batch_size)\n",
    "        for i, batch in enumerate(batch_list):\n",
    "            feedDict = {x: batch[0], y: batch[1], keep_prob: 0.5} \n",
    "            _, ce, acc = session.run([train_op, cross_entropy, accuracy], feed_dict=feedDict)\n",
    "            ce_c += [ce]\n",
    "            acc_c += [acc]\n",
    "        # Sumaries train    \n",
    "        summary_str_trn = session.run(merged, feedDict)\n",
    "        train_writer.add_summary(summary_str_trn, epoch)            \n",
    "            \n",
    "        batch_list_tst = batch_generator(X_tst, y_tst, batch_size=batch_size)\n",
    "        for x_batch, y_batch in batch_list_tst:\n",
    "            feedDict = {x: x_batch, y: y_batch, keep_prob: 1} \n",
    "            ce_tst, acc_tst = session.run([cross_entropy, accuracy], feed_dict=feedDict)\n",
    "            ce_c_tst += [ce_tst]\n",
    "            acc_c_tst += [acc_tst]\n",
    "        # Sumaries test    \n",
    "        summary_str_tst = session.run(merged, feedDict)\n",
    "        test_writer.add_summary(summary_str_tst, epoch)            \n",
    "        \n",
    "        saver.save(session, os.path.join(LOG_DIR, \"model.ckpt\"), epoch)\n",
    "\n",
    "        print(epoch, np.mean(ce_c), np.mean(acc_c), np.mean(ce_c_tst), np.mean(acc_c_tst), sep='   -   ')"
   ]
  },
  {
   "cell_type": "code",
   "execution_count": null,
   "metadata": {
    "collapsed": true
   },
   "outputs": [],
   "source": []
  }
 ],
 "metadata": {
  "anaconda-cloud": {},
  "kernelspec": {
   "display_name": "Python 2",
   "language": "python",
   "name": "python2"
  },
  "language_info": {
   "codemirror_mode": {
    "name": "ipython",
    "version": 2
   },
   "file_extension": ".py",
   "mimetype": "text/x-python",
   "name": "python",
   "nbconvert_exporter": "python",
   "pygments_lexer": "ipython2",
   "version": "2.7.6"
  }
 },
 "nbformat": 4,
 "nbformat_minor": 1
}
