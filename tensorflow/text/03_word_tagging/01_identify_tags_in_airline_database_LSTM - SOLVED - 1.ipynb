{
 "cells": [
  {
   "cell_type": "markdown",
   "metadata": {},
   "source": [
    "# Identify tags in airline database\n",
    "\n",
    "## Recurrent neural network\n",
    "\n",
    "    - Improving the model of: 00_identify_tags_in_airline_database_embedings - SOLVED  \n"
   ]
  },
  {
   "cell_type": "code",
   "execution_count": null,
   "metadata": {
    "collapsed": false
   },
   "outputs": [],
   "source": [
    "from __future__ import print_function\n",
    "\n",
    "import os \n",
    "import numpy as np \n",
    "import tensorflow as tf \n",
    "\n",
    "print(tf.__version__)"
   ]
  },
  {
   "cell_type": "markdown",
   "metadata": {},
   "source": [
    "## Dataset transformation\n"
   ]
  },
  {
   "cell_type": "code",
   "execution_count": 2,
   "metadata": {
    "collapsed": false
   },
   "outputs": [
    {
     "name": "stdout",
     "output_type": "stream",
     "text": [
      "ID_PAD:  572\n",
      "X trn shape:  (56590, 10)\n",
      "X_tst shape:  (9198, 10)\n",
      "y_trn shape:  (56590,)\n",
      "y_tst shape:  (9198,)\n",
      "Num labels:  121\n",
      "Num words:  572\n"
     ]
    }
   ],
   "source": [
    "# Read data\n",
    "import pickle\n",
    "\n",
    "atis_file = '/home/ubuntu/data/training/text/atis/atis.pkl'\n",
    "with open(atis_file,'rb') as f:\n",
    "    train, test, dicts = pickle.load(f)\n",
    "\n",
    "#Dictionaries and train test partition\n",
    "w2idx, ne2idx, labels2idx = dicts[b'words2idx'], dicts[b'tables2idx'], dicts[b'labels2idx']\n",
    "    \n",
    "idx2w  = dict((v,k) for k,v in w2idx.items())\n",
    "idx2la = dict((v,k) for k,v in labels2idx.items())\n",
    "\n",
    "train_x, _, train_label = train\n",
    "test_x,  _,  test_label  = test\n",
    "\n",
    "\n",
    "# Max value of word coding to assign the ID_PAD\n",
    "ID_PAD = np.max([np.max(tx) for tx in train_x]) + 1\n",
    "print('ID_PAD: ', ID_PAD)\n",
    "\n",
    "def context(l, size=3):\n",
    "    l = list(l)\n",
    "    lpadded = size // 2 * [ID_PAD] + l + size // 2 * [ID_PAD]\n",
    "    out = [lpadded[i:(i + size)] for i in range(len(l))]\n",
    "    return out\n",
    "\n",
    "\n",
    "# Create train and test X y.\n",
    "X_trn=[]\n",
    "for s in train_x:\n",
    "    X_trn += context(s,size=10)\n",
    "X_trn = np.array(X_trn)\n",
    "\n",
    "X_tst=[]\n",
    "for s in test_x:\n",
    "    X_tst += context(s,size=10)\n",
    "X_tst = np.array(X_tst)\n",
    "print('X trn shape: ', X_trn.shape)\n",
    "print('X_tst shape: ',X_tst.shape)\n",
    "\n",
    "y_trn=[]\n",
    "for s in train_label:\n",
    "    y_trn += list(s)\n",
    "y_trn = np.array(y_trn)\n",
    "print('y_trn shape: ',y_trn.shape)\n",
    "\n",
    "y_tst=[]\n",
    "for s in test_label:\n",
    "    y_tst += list(s)\n",
    "y_tst = np.array(y_tst)\n",
    "print('y_tst shape: ',y_tst.shape)\n",
    "\n",
    "print('Num labels: ',len(set(y_trn)))\n",
    "print('Num words: ',len(set(idx2w)))"
   ]
  },
  {
   "cell_type": "markdown",
   "metadata": {},
   "source": [
    "# Simpe LSTM model\n",
    "\n",
    "## Architecture\n",
    "    - tf.nn.embedding_lookup\n",
    "    - tf.nn.dynamic_rnn layer\n",
    "    - Dense layer: tf.nn.relu(tf.matmul(x, W) + b)\n",
    "    \n",
    "## Features\n",
    "    - Dropout\n",
    "    - Saver\n",
    "    - Cross entropy with loss regularization\n",
    "    - Score function"
   ]
  },
  {
   "cell_type": "code",
   "execution_count": 3,
   "metadata": {
    "collapsed": false
   },
   "outputs": [],
   "source": [
    "#General parameters\n",
    "LOG_DIR = '/tmp/tensorboard/airline/LSTM/'\n",
    "\n",
    "# data attributes\n",
    "input_seq_length = X_trn.shape[1]\n",
    "input_vocabulary_size = len(set(idx2w)) + 1\n",
    "output_length = 127\n",
    "\n",
    "#Model parameters\n",
    "embedding_size=64\n",
    "num_hidden_lstm = 128\n"
   ]
  },
  {
   "cell_type": "code",
   "execution_count": 4,
   "metadata": {
    "collapsed": false
   },
   "outputs": [
    {
     "name": "stdout",
     "output_type": "stream",
     "text": [
      "embedding_layer:  Tensor(\"Embeddings/embedding_lookup:0\", shape=(?, 10, 64), dtype=float32)\n",
      "lstm_outputs:  Tensor(\"RNN/rnn1/transpose:0\", shape=(?, 10, 128), dtype=float32)\n",
      "dense_output:  Tensor(\"Dense/Relu:0\", shape=(?, 127), dtype=float32)\n"
     ]
    }
   ],
   "source": [
    "# Define the tensorflow graph\n",
    "\n",
    "graph = tf.Graph()\n",
    "\n",
    "with graph.as_default():\n",
    "    # graph definition\n",
    "    # Inputs\n",
    "    with tf.name_scope('Inputs') as scope:\n",
    "        x = tf.placeholder(tf.int32, shape=[None, input_seq_length], name='x')\n",
    "        y = tf.placeholder(tf.int64, shape=[None], name='y')\n",
    "        keep_prob = tf.placeholder(tf.float32, name='keep_prob')\n",
    "\n",
    "    with tf.name_scope('Embeddings') as scope:\n",
    "        W_embedding = tf.Variable(tf.random_uniform([input_vocabulary_size, embedding_size], -1.0, 1.0) ,name=\"W\")\n",
    "        embedding_layer = tf.nn.embedding_lookup(W_embedding, x)\n",
    "        print('embedding_layer: ', embedding_layer)\n",
    "\n",
    "    with tf.name_scope('RNN') as scope:\n",
    "        cell_1 = tf.nn.rnn_cell.LSTMCell(num_hidden_lstm, initializer=tf.random_uniform_initializer(-0.1, 0.1, seed=123))\n",
    "        cell_1 = tf.nn.rnn_cell.DropoutWrapper(cell_1, output_keep_prob=keep_prob)\n",
    "        lstm_outputs, lstm_state = tf.nn.dynamic_rnn(cell_1, embedding_layer, dtype=tf.float32, scope='rnn1')\n",
    "        print('lstm_outputs: ', lstm_outputs)\n",
    " \n",
    "\n",
    "    #Dense layer form RNN outs to prediction\n",
    "    with tf.name_scope('Dense') as scope:\n",
    "        W_dense = tf.Variable(tf.truncated_normal([num_hidden_lstm, output_length], stddev=0.1), name='W_dense')\n",
    "        b_dense = tf.Variable(tf.constant(0.1, shape=[output_length]), name='b_dense')\n",
    "        dense_output = tf.nn.relu(tf.matmul(lstm_outputs[:,-1,:], W_dense) + b_dense)\n",
    "        print('dense_output: ', dense_output)\n",
    "\n",
    "        \n",
    "    #Prediction\n",
    "    y_pred = tf.nn.softmax(dense_output, name='y_pred')\n",
    "\n",
    "    # Loss function\n",
    "    with tf.name_scope(\"xent\") as scope:\n",
    "        cross_entropy = tf.nn.sparse_softmax_cross_entropy_with_logits(dense_output, y, name='cross_entropy')\n",
    "        ce_summary = tf.summary.scalar(\"cross_entropy\", tf.reduce_mean(cross_entropy))\n",
    "\n",
    "    #Optimizer\n",
    "    with tf.name_scope(\"train\") as scope:\n",
    "        optimizer = tf.train.AdamOptimizer(0.001)\n",
    "        train_op = optimizer.minimize(cross_entropy, name='train_op')\n",
    "\n",
    "\n",
    "    #Accuracy\n",
    "    with tf.name_scope(\"test\") as scope:\n",
    "        correct_prediction = tf.equal(tf.argmax(dense_output,1), y)\n",
    "        accuracy = tf.reduce_mean(tf.cast(correct_prediction, tf.float32), name='accuracy')\n",
    "        accuracy_summary = tf.summary.scalar(\"accuracy\", accuracy)\n",
    "\n",
    "\n",
    "    # Merge all the summaries and write them out to /tmp/mnist_logs\n",
    "    with tf.name_scope('summaries') as scope:\n",
    "        merged = tf.summary.merge_all()\n",
    " "
   ]
  },
  {
   "cell_type": "code",
   "execution_count": 6,
   "metadata": {
    "collapsed": false
   },
   "outputs": [
    {
     "name": "stdout",
     "output_type": "stream",
     "text": [
      "(array([[554, 241, 481, 165, 193, 197, 208, 379, 502,  64],\n",
      "       [193, 514, 208,  77, 502, 137, 359, 544,  40, 481],\n",
      "       [232, 331, 237, 358,  13, 193, 208,  77, 502, 137],\n",
      "       [ 32, 194,  40, 183, 208, 137, 502, 415, 205, 572],\n",
      "       [232, 331,  13, 277, 353, 194, 208, 452, 375, 195],\n",
      "       [572, 193, 348, 208, 313, 502, 282,  71, 358, 249],\n",
      "       [193, 208, 128, 502, 415, 205, 572, 572, 572, 572],\n",
      "       [358, 481, 174, 353,  65, 524, 435, 572, 572, 572],\n",
      "       [208, 481,  29, 234, 379, 502, 159, 572, 572, 572],\n",
      "       [572, 572, 572, 439, 301, 481, 194, 208, 415, 205],\n",
      "       [481, 265, 193, 208,  64, 502, 137, 358, 248, 435],\n",
      "       [157,  37,  26, 221, 561,  13, 105, 353, 430, 111],\n",
      "       [534, 358, 481, 190, 105,  37,  26, 193, 208, 376],\n",
      "       [572, 572, 572, 383, 276, 530, 194,  73,  77,  40],\n",
      "       [572, 572, 572, 572, 554, 194,  50, 389,  86,  37],\n",
      "       [481, 193, 501, 481, 321, 358, 530,  26, 200, 426],\n",
      "       [572, 572, 572, 572,  13, 190, 105, 193, 358,  37],\n",
      "       [502, 268, 448, 234, 481, 321, 572, 572, 572, 572],\n",
      "       [ 50, 481, 183, 208, 128, 502, 415, 205, 358, 193],\n",
      "       [572, 572, 572, 572, 572, 383, 212, 217, 512,  62]]), array([126,  78, 126,  48, 126, 126, 123,  27, 126, 126, 126, 126,   2,\n",
      "         2, 126, 126,  18,  33, 126, 126], dtype=int32))\n"
     ]
    }
   ],
   "source": [
    "#batch generator\n",
    "def batch_generator(x=X_trn, y=y_trn, batch_size=128):\n",
    "    from sklearn.utils import shuffle\n",
    "    x_shuffle, y_shuffle = shuffle(x, y, random_state=0)\n",
    "    for i in range(0, x.shape[0]-batch_size, batch_size):\n",
    "        x_batch = x_shuffle[i:i+batch_size,:]\n",
    "        y_batch = y_shuffle[i:i+batch_size]\n",
    "        yield x_batch, y_batch\n",
    "    \n",
    "seq = batch_generator(x=X_trn, y=y_trn, batch_size=20)\n",
    "print(next(seq))"
   ]
  },
  {
   "cell_type": "code",
   "execution_count": 7,
   "metadata": {
    "collapsed": false
   },
   "outputs": [
    {
     "name": "stdout",
     "output_type": "stream",
     "text": [
      "Initializing\n",
      "Epoch - Loss(trn) -  Acc(trn)   -   Loss(tst) -   Acc(tst)\n",
      "0   -   1.88998   -   0.628906   -   1.48609   -   0.640513\n",
      "1   -   1.15227   -   0.736143   -   0.986506   -   0.776004\n",
      "2   -   0.729264   -   0.838377   -   0.667009   -   0.871205\n",
      "3   -   0.503624   -   0.89416   -   0.490451   -   0.904799\n",
      "4   -   0.372221   -   0.924244   -   0.39086   -   0.921652\n",
      "5   -   0.302464   -   0.941247   -   0.354184   -   0.930469\n",
      "6   -   0.255713   -   0.95065   -   0.299162   -   0.941518\n",
      "7   -   0.216347   -   0.958322   -   0.279167   -   0.946429\n",
      "8   -   0.187519   -   0.964561   -   0.265659   -   0.949219\n",
      "9   -   0.163389   -   0.968715   -   0.243421   -   0.955134\n",
      "10   -   0.152386   -   0.971189   -   0.243236   -   0.95558\n",
      "11   -   0.138483   -   0.974035   -   0.230687   -   0.959152\n",
      "12   -   0.125719   -   0.976792   -   0.232689   -   0.959933\n",
      "13   -   0.116256   -   0.978613   -   0.219605   -   0.959598\n",
      "14   -   0.106701   -   0.979656   -   0.198723   -   0.964174\n",
      "15   -   0.094498   -   0.981865   -   0.212601   -   0.963616\n",
      "16   -   0.0884603   -   0.982625   -   0.203099   -   0.96529\n",
      "17   -   0.0847634   -   0.983191   -   0.200241   -   0.966183\n",
      "18   -   0.0787702   -   0.984428   -   0.203678   -   0.966071\n",
      "19   -   0.0776658   -   0.984375   -   0.204539   -   0.966629\n"
     ]
    }
   ],
   "source": [
    "batch_size = 256\n",
    "nEpochs = 20\n",
    "\n",
    "gpu_options = tf.GPUOptions(allow_growth = True)\n",
    "with tf.Session(graph=graph, config=tf.ConfigProto(gpu_options=gpu_options)) as session:\n",
    "\n",
    "    #Create sumaries writers\n",
    "    train_writer = tf.summary.FileWriter(LOG_DIR + 'train', session.graph, flush_secs=2)\n",
    "    test_writer  = tf.summary.FileWriter(LOG_DIR + 'test', flush_secs=2)\n",
    "\n",
    "        \n",
    "    print('Initializing')\n",
    "    print('Epoch - Loss(trn) -  Acc(trn)   -   Loss(tst) -   Acc(tst)')\n",
    "    session.run(tf.global_variables_initializer())\n",
    "    for epoch in range(nEpochs):\n",
    "        ce_c=[]\n",
    "        acc_c=[]\n",
    "        ce_c_tst=[]\n",
    "        acc_c_tst=[]\n",
    "        \n",
    "        batch_list = batch_generator(x=X_trn, y=y_trn, batch_size=batch_size)\n",
    "        for batch in (atch_list:\n",
    "            feedDict = {x: batch[0], y: batch[1], keep_prob: 0.5} # dictionary of batch data to run the graph\n",
    "            _, ce, acc = session.run([train_op, cross_entropy, accuracy], feed_dict=feedDict)\n",
    "            ce_c += [ce]\n",
    "            acc_c += [acc]\n",
    "        # Sumaries train    \n",
    "        summary_str_trn = session.run(merged, feedDict)\n",
    "        train_writer.add_summary(summary_str_trn, epoch)            \n",
    "            \n",
    "        batch_list_tst = batch_generator(x=X_tst, y=y_tst, batch_size=batch_size)\n",
    "        for x_batch, y_batch in batch_list_tst:\n",
    "            feedDict = {x: x_batch, y: y_batch, keep_prob: 1} # dictionary of batch data to run the graph\n",
    "            ce_tst, acc_tst = session.run([cross_entropy, accuracy], feed_dict=feedDict)\n",
    "            ce_c_tst += [ce_tst]\n",
    "            acc_c_tst += [acc_tst]\n",
    "        # Sumaries test    \n",
    "        summary_str_tst = session.run(merged, feedDict)\n",
    "        test_writer.add_summary(summary_str_tst, epoch)            \n",
    "                    \n",
    "        print(epoch, np.mean(ce_c), np.mean(acc_c), np.mean(ce_c_tst), np.mean(acc_c_tst), sep='   -   ')"
   ]
  },
  {
   "cell_type": "code",
   "execution_count": null,
   "metadata": {
    "collapsed": true
   },
   "outputs": [],
   "source": []
  },
  {
   "cell_type": "code",
   "execution_count": null,
   "metadata": {
    "collapsed": true
   },
   "outputs": [],
   "source": []
  }
 ],
 "metadata": {
  "anaconda-cloud": {},
  "kernelspec": {
   "display_name": "Python [conda env:py27]",
   "language": "python",
   "name": "conda-env-py27-py"
  },
  "language_info": {
   "codemirror_mode": {
    "name": "ipython",
    "version": 2
   },
   "file_extension": ".py",
   "mimetype": "text/x-python",
   "name": "python",
   "nbconvert_exporter": "python",
   "pygments_lexer": "ipython2",
   "version": "2.7.13"
  }
 },
 "nbformat": 4,
 "nbformat_minor": 1
}
