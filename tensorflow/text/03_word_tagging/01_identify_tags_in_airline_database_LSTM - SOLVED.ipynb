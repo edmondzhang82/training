{
 "cells": [
  {
   "cell_type": "markdown",
   "metadata": {},
   "source": [
    "# Identify tags in airline database\n",
    "\n",
    "## Recurrent neural network\n",
    "\n",
    "    - Improving the model of: 00_identify_tags_in_airline_database_embedings - SOLVED  \n"
   ]
  },
  {
   "cell_type": "code",
   "execution_count": 1,
   "metadata": {
    "collapsed": false
   },
   "outputs": [
    {
     "name": "stdout",
     "output_type": "stream",
     "text": [
      "0.12.0-rc0\n"
     ]
    }
   ],
   "source": [
    "from __future__ import print_function\n",
    "\n",
    "import os \n",
    "import numpy as np \n",
    "\n",
    "import tensorflow as tf \n",
    "print(tf.__version__)\n"
   ]
  },
  {
   "cell_type": "markdown",
   "metadata": {},
   "source": [
    "## Read data and create training datasets\n",
    "    - Previous code sumarized"
   ]
  },
  {
   "cell_type": "code",
   "execution_count": 2,
   "metadata": {
    "collapsed": false
   },
   "outputs": [
    {
     "name": "stdout",
     "output_type": "stream",
     "text": [
      "ID_PAD:  572\n"
     ]
    }
   ],
   "source": [
    "# Read data\n",
    "import pickle\n",
    "\n",
    "atis_file = '/Users/jorge/data/training/text/atis/atis.pkl'\n",
    "with open(atis_file,'rb') as f:\n",
    "    train, test, dicts = pickle.load(f)\n",
    "\n",
    "#Dictionaries and train test partition\n",
    "w2idx, ne2idx, labels2idx = dicts[b'words2idx'], dicts[b'tables2idx'], dicts[b'labels2idx']\n",
    "    \n",
    "idx2w  = dict((v,k) for k,v in w2idx.items())\n",
    "idx2la = dict((v,k) for k,v in labels2idx.items())\n",
    "\n",
    "train_x, _, train_label = train\n",
    "test_x,  _,  test_label  = test\n",
    "\n",
    "\n",
    "# Max value of word coding to assign the ID_PAD\n",
    "ID_PAD = np.max([np.max(tx) for tx in train_x]) + 1\n",
    "print('ID_PAD: ', ID_PAD)\n",
    "\n",
    "def context(l, size=3):\n",
    "    l = list(l)\n",
    "    lpadded = size // 2 * [ID_PAD] + l + size // 2 * [ID_PAD]\n",
    "    out = [lpadded[i:(i + size)] for i in range(len(l))]\n",
    "    return out\n",
    "\n",
    "\n",
    "# Create train and test X y.\n",
    "X_trn=[]\n",
    "for s in train_x:\n",
    "    X_trn += context(s,size=10)\n",
    "X_trn = np.array(X_trn)\n",
    "\n",
    "X_tst=[]\n",
    "for s in test_x:\n",
    "    X_tst += context(s,size=10)\n",
    "X_tst = np.array(X_tst)\n",
    "\n",
    "y_trn=[]\n",
    "for s in train_label:\n",
    "    y_trn += list(s)\n",
    "y_trn = np.array(y_trn)\n",
    "\n",
    "y_tst=[]\n",
    "for s in test_label:\n",
    "    y_tst += list(s)\n",
    "y_tst = np.array(y_tst)\n"
   ]
  },
  {
   "cell_type": "markdown",
   "metadata": {},
   "source": [
    "# Model\n",
    "\n",
    "## Architecture\n",
    "    - tf.nn.embedding_lookup\n",
    "    - tf.nn.dynamic_rnn layer\n",
    "    - Dense layer: tf.nn.relu(tf.matmul(x, W) + b)\n",
    "    \n",
    "## Features\n",
    "    - Dropout\n",
    "    - Saver"
   ]
  },
  {
   "cell_type": "code",
   "execution_count": 11,
   "metadata": {
    "collapsed": false
   },
   "outputs": [],
   "source": [
    "#General parameters\n",
    "LOG_DIR = '/tmp/tensorboard/airline/lstm/'\n",
    "\n",
    "# data attributes\n",
    "input_seq_length = X_trn.shape[1]\n",
    "input_vocabulary_size = len(set(idx2w)) + 1\n",
    "output_length = 127\n",
    "\n",
    "#Model parameters\n",
    "embedding_size = 64\n",
    "num_hidden_lstm = 128\n"
   ]
  },
  {
   "cell_type": "code",
   "execution_count": 8,
   "metadata": {
    "collapsed": false
   },
   "outputs": [
    {
     "name": "stdout",
     "output_type": "stream",
     "text": [
      "embedding_layer:  Tensor(\"Embeddings/embedding_lookup:0\", shape=(?, 10, 64), dtype=float32)\n",
      "lstm_outputs:  Tensor(\"RNN/rnn1/transpose:0\", shape=(?, 10, 128), dtype=float32)\n",
      "dense_output:  Tensor(\"Dense/Relu:0\", shape=(?, 127), dtype=float32)\n"
     ]
    }
   ],
   "source": [
    "from tensorflow.contrib.tensorboard.plugins import projector\n",
    "\n",
    "# Define the tensorflow graph\n",
    "graph = tf.Graph()\n",
    "with graph.as_default():\n",
    "    # graph definition\n",
    "    # Inputs\n",
    "    with tf.name_scope('Inputs') as scope:\n",
    "        x = tf.placeholder(tf.int32, shape=[None, input_seq_length], name='x')\n",
    "        y = tf.placeholder(tf.int64, shape=[None], name='y')\n",
    "\n",
    "    with tf.name_scope('Embeddings') as scope:\n",
    "        W_embedding = tf.Variable(tf.random_uniform([input_vocabulary_size, embedding_size], -1.0, 1.0) ,name=\"W\")\n",
    "        embedding_layer = tf.nn.embedding_lookup(W_embedding, x)\n",
    "        print('embedding_layer: ', embedding_layer)\n",
    "\n",
    "    with tf.name_scope('RNN') as scope:\n",
    "        keep_prob = tf.placeholder(tf.float32, name='keep_prob')\n",
    "        cell_1 = tf.nn.rnn_cell.LSTMCell(num_hidden_lstm, initializer=tf.random_uniform_initializer(-0.1, 0.1, seed=123))\n",
    "        cell_1 = tf.nn.rnn_cell.DropoutWrapper(cell_1, output_keep_prob=keep_prob)\n",
    "        lstm_outputs, lstm_state = tf.nn.dynamic_rnn(cell_1, embedding_layer, dtype=tf.float32, scope='rnn1')\n",
    "        print('lstm_outputs: ', lstm_outputs)\n",
    "    \n",
    "    #Dense layer form RNN outs to prediction\n",
    "    with tf.name_scope('Dense') as scope:\n",
    "        W_dense = tf.Variable(tf.truncated_normal([num_hidden_lstm, output_length], stddev=0.1), name='W_dense')\n",
    "        b_dense = tf.Variable(tf.constant(0.1, shape=[output_length]), name='b_dense')\n",
    "        dense_output = tf.nn.relu(tf.matmul(lstm_outputs[:,-1,:], W_dense) + b_dense)\n",
    "        print('dense_output: ', dense_output)\n",
    "\n",
    "        \n",
    "    #Prediction\n",
    "    y_pred = tf.nn.softmax(dense_output, name='y_pred')\n",
    "\n",
    "    # Loss function\n",
    "    with tf.name_scope(\"xent\") as scope:\n",
    "        cross_entropy = tf.nn.sparse_softmax_cross_entropy_with_logits(dense_output, y, name='cross_entropy')\n",
    "        ce_summary = tf.scalar_summary(\"cross_entropy\", tf.reduce_mean(cross_entropy))\n",
    "\n",
    "    #Optimizer\n",
    "    with tf.name_scope(\"train\") as scope:\n",
    "        optimizer = tf.train.AdamOptimizer(0.001)\n",
    "        train_op = optimizer.minimize(cross_entropy, name='train_op')\n",
    "\n",
    "\n",
    "    #Accuracy\n",
    "    with tf.name_scope(\"test\") as scope:\n",
    "        correct_prediction = tf.equal(tf.argmax(dense_output,1), y)\n",
    "        accuracy = tf.reduce_mean(tf.cast(correct_prediction, tf.float32), name='accuracy')\n",
    "        accuracy_summary = tf.scalar_summary(\"accuracy\", accuracy)\n",
    "\n",
    "    # Merge all the summaries and write them out to /tmp/mnist_logs\n",
    "    with tf.name_scope('summaries') as scope:\n",
    "        merged = tf.merge_all_summaries()\n",
    "        \n",
    "        \n",
    "    # Create a saver and save weigths.\n",
    "    saver = tf.train.Saver()\n"
   ]
  },
  {
   "cell_type": "code",
   "execution_count": 9,
   "metadata": {
    "collapsed": false
   },
   "outputs": [
    {
     "name": "stdout",
     "output_type": "stream",
     "text": [
      "(array([[572, 572, 572, 572, 572, 232, 542, 502, 196, 208],\n",
      "       [572, 572, 572, 572, 232, 542, 502, 196, 208,  77],\n",
      "       [572, 572, 572, 232, 542, 502, 196, 208,  77,  62],\n",
      "       [572, 572, 232, 542, 502, 196, 208,  77,  62,  10],\n",
      "       [572, 232, 542, 502, 196, 208,  77,  62,  10,  35],\n",
      "       [232, 542, 502, 196, 208,  77,  62,  10,  35,  40],\n",
      "       [542, 502, 196, 208,  77,  62,  10,  35,  40,  58],\n",
      "       [502, 196, 208,  77,  62,  10,  35,  40,  58, 234],\n",
      "       [196, 208,  77,  62,  10,  35,  40,  58, 234, 137],\n",
      "       [208,  77,  62,  10,  35,  40,  58, 234, 137,  62],\n",
      "       [ 77,  62,  10,  35,  40,  58, 234, 137,  62,  11],\n",
      "       [ 62,  10,  35,  40,  58, 234, 137,  62,  11, 234],\n",
      "       [ 10,  35,  40,  58, 234, 137,  62,  11, 234, 481],\n",
      "       [ 35,  40,  58, 234, 137,  62,  11, 234, 481, 321],\n",
      "       [ 40,  58, 234, 137,  62,  11, 234, 481, 321, 572],\n",
      "       [ 58, 234, 137,  62,  11, 234, 481, 321, 572, 572],\n",
      "       [234, 137,  62,  11, 234, 481, 321, 572, 572, 572],\n",
      "       [137,  62,  11, 234, 481, 321, 572, 572, 572, 572],\n",
      "       [572, 572, 572, 572, 572, 554, 194,  50,  66, 208],\n",
      "       [572, 572, 572, 572, 554, 194,  50,  66, 208, 379]]), array([126, 126, 126, 126, 126,  48, 126,  35,  99, 126, 126, 126,  78,\n",
      "       126,  14, 126, 126,  12, 126, 126], dtype=int32))\n"
     ]
    }
   ],
   "source": [
    "#batch generator\n",
    "def batch_generator(x, y, batch_size=128):\n",
    "    for i in range(0, x.shape[0]-batch_size, batch_size):\n",
    "        x_batch = x[i:i+batch_size,:]\n",
    "        y_batch = y[i:i+batch_size]\n",
    "        yield x_batch, y_batch\n",
    "    \n",
    "seq = batch_generator(X_trn, y_trn, batch_size=20)\n",
    "print(next(seq))"
   ]
  },
  {
   "cell_type": "code",
   "execution_count": 12,
   "metadata": {
    "collapsed": false
   },
   "outputs": [
    {
     "name": "stdout",
     "output_type": "stream",
     "text": [
      "Initializing\n",
      "Epoch - Loss(trn) -  Acc(trn)   -   Loss(tst) -   Acc(tst)\n",
      "WARNING:tensorflow:From <ipython-input-12-a3f5b549a0f4>:14 in <module>.: initialize_all_variables (from tensorflow.python.ops.variables) is deprecated and will be removed after 2017-03-02.\n",
      "Instructions for updating:\n",
      "Use `tf.global_variables_initializer` instead.\n",
      "0   -   1.2524   -   0.749099   -   0.88166   -   0.823824\n",
      "1   -   0.560052   -   0.893223   -   0.513505   -   0.907012\n",
      "2   -   0.386007   -   0.929493   -   0.46716   -   0.914634\n",
      "3   -   0.337404   -   0.937076   -   0.429908   -   0.920187\n",
      "4   -   0.312868   -   0.941389   -   0.421346   -   0.924216\n",
      "5   -   0.29961   -   0.943386   -   0.419283   -   0.925305\n",
      "6   -   0.293196   -   0.944111   -   0.412249   -   0.925414\n",
      "7   -   0.284435   -   0.945047   -   0.422135   -   0.92476\n",
      "8   -   0.280139   -   0.945631   -   0.412406   -   0.926829\n",
      "9   -   0.278778   -   0.945383   -   0.408296   -   0.927809\n",
      "10   -   0.274598   -   0.946002   -   0.428794   -   0.926938\n",
      "11   -   0.268545   -   0.946921   -   0.433645   -   0.926829\n",
      "12   -   0.269514   -   0.946656   -   0.415547   -   0.928898\n",
      "13   -   0.265881   -   0.947345   -   0.425607   -   0.927918\n",
      "14   -   0.264485   -   0.947239   -   0.436521   -   0.927809\n",
      "15   -   0.263265   -   0.947398   -   0.421266   -   0.929551\n",
      "16   -   0.265411   -   0.94708   -   0.426403   -   0.92868\n",
      "17   -   0.259772   -   0.948088   -   0.436587   -   0.928354\n",
      "18   -   0.260269   -   0.947928   -   0.447212   -   0.928354\n",
      "19   -   0.260141   -   0.947699   -   0.421068   -   0.929769\n",
      "20   -   0.258091   -   0.947999   -   0.440535   -   0.929007\n",
      "21   -   0.261434   -   0.947822   -   0.42993   -   0.929443\n",
      "22   -   0.25678   -   0.948141   -   0.456869   -   0.929769\n",
      "23   -   0.256651   -   0.948052   -   0.442728   -   0.928136\n",
      "24   -   0.256548   -   0.947981   -   0.452009   -   0.929443\n",
      "25   -   0.255931   -   0.948282   -   0.450543   -   0.930749\n",
      "26   -   0.253874   -   0.9486   -   0.442691   -   0.930531\n",
      "27   -   0.256345   -   0.947893   -   0.470134   -   0.926938\n",
      "28   -   0.255897   -   0.9483   -   0.467013   -   0.925196\n",
      "29   -   0.257045   -   0.948088   -   0.446421   -   0.928136\n"
     ]
    }
   ],
   "source": [
    "# Execute the graph to train a network\n",
    "batch_size = 32\n",
    "nEpochs = 30\n",
    "\n",
    "with tf.Session(graph=graph) as session:\n",
    "    \n",
    "    #Create sumaries writers\n",
    "    summaries_dir = '/tmp/tensorboard/airline/lstm'\n",
    "    train_writer = tf.train.SummaryWriter(summaries_dir + '/train', session.graph, flush_secs=2)\n",
    "    test_writer = tf.train.SummaryWriter(summaries_dir + '/test', flush_secs=2)\n",
    "\n",
    "    print('Initializing')\n",
    "    print('Epoch - Loss(trn) -  Acc(trn)   -   Loss(tst) -   Acc(tst)')\n",
    "    session.run(tf.initialize_all_variables())\n",
    "    for epoch in range(nEpochs):\n",
    "        ce_c=[]\n",
    "        acc_c=[]\n",
    "        ce_c_tst=[]\n",
    "        acc_c_tst=[]\n",
    "        \n",
    "        batch_list = batch_generator(X_trn, y_trn, batch_size=batch_size)\n",
    "        for i, batch in enumerate(batch_list):\n",
    "            feedDict = {x: batch[0], y: batch[1], keep_prob: 0.5} \n",
    "            _, ce, acc = session.run([train_op, cross_entropy, accuracy], feed_dict=feedDict)\n",
    "            ce_c += [ce]\n",
    "            acc_c += [acc]\n",
    "        # Sumaries train    \n",
    "        summary_str_trn = session.run(merged, feedDict)\n",
    "        train_writer.add_summary(summary_str_trn, epoch)            \n",
    "            \n",
    "        batch_list_tst = batch_generator(X_tst, y_tst, batch_size=batch_size)\n",
    "        for x_batch, y_batch in batch_list_tst:\n",
    "            feedDict = {x: x_batch, y: y_batch, keep_prob: 1} \n",
    "            ce_tst, acc_tst = session.run([cross_entropy, accuracy], feed_dict=feedDict)\n",
    "            ce_c_tst += [ce_tst]\n",
    "            acc_c_tst += [acc_tst]\n",
    "        # Sumaries test    \n",
    "        summary_str_tst = session.run(merged, feedDict)\n",
    "        test_writer.add_summary(summary_str_tst, epoch)            \n",
    "        \n",
    "        saver.save(session, os.path.join(LOG_DIR, \"model.ckpt\"), epoch)\n",
    "\n",
    "        print(epoch, np.mean(ce_c), np.mean(acc_c), np.mean(ce_c_tst), np.mean(acc_c_tst), sep='   -   ')"
   ]
  },
  {
   "cell_type": "code",
   "execution_count": null,
   "metadata": {
    "collapsed": true
   },
   "outputs": [],
   "source": []
  }
 ],
 "metadata": {
  "anaconda-cloud": {},
  "kernelspec": {
   "display_name": "Python [conda env:py27]",
   "language": "python",
   "name": "conda-env-py27-py"
  },
  "language_info": {
   "codemirror_mode": {
    "name": "ipython",
    "version": 2
   },
   "file_extension": ".py",
   "mimetype": "text/x-python",
   "name": "python",
   "nbconvert_exporter": "python",
   "pygments_lexer": "ipython2",
   "version": "2.7.10"
  }
 },
 "nbformat": 4,
 "nbformat_minor": 1
}
