{
 "cells": [
  {
   "cell_type": "markdown",
   "metadata": {},
   "source": [
    "# Sentiment model with CNNs\n",
    "\n",
    " - Use Convolutions to create a sentiment model.\n",
    " - Based on: http://www.wildml.com/2015/12/implementing-a-cnn-for-text-classification-in-tensorflow/ "
   ]
  },
  {
   "cell_type": "code",
   "execution_count": 1,
   "metadata": {
    "collapsed": false
   },
   "outputs": [
    {
     "name": "stdout",
     "output_type": "stream",
     "text": [
      "0.12.0\n"
     ]
    }
   ],
   "source": [
    "#Imports \n",
    "from __future__ import print_function\n",
    "\n",
    "import numpy as np\n",
    "\n",
    "import tensorflow as tf\n",
    "print(tf.__version__)\n",
    "\n",
    "data_path='/home/ubuntu/data/training/keras/aclImdb/'\n"
   ]
  },
  {
   "cell_type": "markdown",
   "metadata": {},
   "source": [
    "## Read data and create sequences"
   ]
  },
  {
   "cell_type": "code",
   "execution_count": 2,
   "metadata": {
    "collapsed": true
   },
   "outputs": [],
   "source": [
    "# Generator of list of files in a folder and subfolders\n",
    "import os\n",
    "import fnmatch\n",
    "\n",
    "def gen_find(filefilter, top):\n",
    "    for path, dirlist, filelist in os.walk(top):\n",
    "        for name in fnmatch.filter(filelist, filefilter):\n",
    "            yield os.path.join(path, name)\n",
    "\n",
    "def read_sentences(path):\n",
    "    sentences = []\n",
    "    sentences_list = gen_find(\"*.txt\", path)\n",
    "    for ff in sentences_list:\n",
    "        with open(ff, 'r') as f:\n",
    "            sentences.append(f.readline().strip())\n",
    "    return sentences "
   ]
  },
  {
   "cell_type": "code",
   "execution_count": 3,
   "metadata": {
    "collapsed": false
   },
   "outputs": [
    {
     "name": "stdout",
     "output_type": "stream",
     "text": [
      "max_document_length trn:  2470\n",
      "(25000, 2)\n",
      "[[ 1.  0.]\n",
      " [ 1.  0.]\n",
      " [ 1.  0.]\n",
      " ..., \n",
      " [ 0.  1.]\n",
      " [ 0.  1.]\n",
      " [ 0.  1.]]\n"
     ]
    }
   ],
   "source": [
    "# Read train sentences and create train target\n",
    "\n",
    "sentences_trn_pos = read_sentences(data_path+'train/pos/')\n",
    "sentences_trn_neg = read_sentences(data_path+'train/neg/')\n",
    "\n",
    "sentences_trn_ini = sentences_trn_pos + sentences_trn_neg\n",
    "print('max_document_length trn: ', max([len(x.split(\" \")) for x in sentences_trn_ini]))\n",
    "\n",
    "y_trn_ini = np.array([[1.,0.]]*len(sentences_trn_pos) + [[0.,1.]]*len(sentences_trn_neg), dtype=np.float32)\n",
    "\n",
    "print(y_trn_ini.shape)\n",
    "print(y_trn_ini)\n"
   ]
  },
  {
   "cell_type": "code",
   "execution_count": 4,
   "metadata": {
    "collapsed": false
   },
   "outputs": [
    {
     "name": "stdout",
     "output_type": "stream",
     "text": [
      "[[ 0.  1.]\n",
      " [ 0.  1.]\n",
      " [ 1.  0.]\n",
      " ..., \n",
      " [ 1.  0.]\n",
      " [ 1.  0.]\n",
      " [ 0.  1.]]\n"
     ]
    }
   ],
   "source": [
    "# Shuffle train data\n",
    "from sklearn.utils import shuffle\n",
    "sentences_trn, y_trn = shuffle(sentences_trn_ini, y_trn_ini)\n",
    "\n",
    "print(y_trn)"
   ]
  },
  {
   "cell_type": "code",
   "execution_count": 5,
   "metadata": {
    "collapsed": false
   },
   "outputs": [
    {
     "name": "stdout",
     "output_type": "stream",
     "text": [
      "max_document_length tst:  2278\n",
      "(25000, 2)\n"
     ]
    }
   ],
   "source": [
    "# Read test sentences and create test target\n",
    "\n",
    "sentences_tst_pos = read_sentences(data_path+'test/pos/')\n",
    "sentences_tst_neg = read_sentences(data_path+'test/neg/')\n",
    "\n",
    "sentences_tst = sentences_tst_pos + sentences_tst_neg\n",
    "print('max_document_length tst: ', max([len(x.split(\" \")) for x in sentences_tst]))\n",
    "\n",
    "y_tst = np.array([[1.,0.]]*len(sentences_tst_pos) + [[0.,1.]]*len(sentences_tst_neg), dtype=np.float32)\n",
    "\n",
    "print(y_tst.shape)\n"
   ]
  },
  {
   "cell_type": "code",
   "execution_count": 6,
   "metadata": {
    "collapsed": false
   },
   "outputs": [
    {
     "name": "stdout",
     "output_type": "stream",
     "text": [
      "Vocab size:  21761\n",
      "X trn shape:  (25000, 100)\n",
      "X tst shape:  (25000, 100)\n",
      "First sentence:  [  153     3   209   691    17  4726     2    12   529    13    39    82\n",
      "     9   422  3013    18    24    58     1   161    20    93     1   186\n",
      "     2     1   360 11863     4     3  1520    34   169   283    23   292\n",
      "    52    18    12  6141     7     7   768     1   456  1579   545    46\n",
      "    86  8049   648     4     3   783     2    30     0    46   484    40\n",
      "   810  1065    26    78    51   274    36     3  1091    48  1187     2\n",
      "   884  2629  5938   397   396   217     9   487    30     1  2629  5938\n",
      "   454   160    12   633     9   702   183   255    21     2   646   160\n",
      "  2245 16604   371   148]\n",
      "house id:  417\n"
     ]
    }
   ],
   "source": [
    "# Build vocabulary and transform sentences\n",
    "from tensorflow.contrib import learn\n",
    "\n",
    "sequence_length  =100\n",
    "\n",
    "# Train vocab and apply to train\n",
    "vocab_processor = learn.preprocessing.VocabularyProcessor(sequence_length, min_frequency=10)\n",
    "X_trn = np.array(list(vocab_processor.fit_transform(sentences_trn)))\n",
    "\n",
    "# Apply trained vocab to test \n",
    "X_tst = np.array(list(vocab_processor.transform(sentences_tst)))\n",
    "\n",
    "# Size vocabulary\n",
    "vocab_size = len(vocab_processor.vocabulary_)\n",
    "\n",
    "# Check results\n",
    "print('Vocab size: ', vocab_size)\n",
    "print('X trn shape: ', X_trn.shape)\n",
    "print('X tst shape: ', X_tst.shape)\n",
    "print('First sentence: ', X_trn[0])\n",
    "print('house id: ', vocab_processor.vocabulary_.get('house'))"
   ]
  },
  {
   "cell_type": "code",
   "execution_count": null,
   "metadata": {
    "collapsed": true
   },
   "outputs": [],
   "source": []
  },
  {
   "cell_type": "markdown",
   "metadata": {
    "collapsed": true
   },
   "source": [
    "## The model\n",
    " - Declare placeholders\n",
    " - Embedding layers\n",
    " - Convolutional and max pooling layers\n",
    " - Merge convolutions oputput\n",
    " - Dense layer to predictions"
   ]
  },
  {
   "cell_type": "code",
   "execution_count": 7,
   "metadata": {
    "collapsed": true
   },
   "outputs": [],
   "source": [
    "# Model parameters\n",
    "embedding_size = 128\n",
    "num_filters = 32\n",
    "filter_sizes = [3, 6, 12]"
   ]
  },
  {
   "cell_type": "code",
   "execution_count": 8,
   "metadata": {
    "collapsed": true
   },
   "outputs": [],
   "source": [
    "# Start an interactive session\n",
    "gpu_options = tf.GPUOptions(allow_growth = True)\n",
    "sess = tf.InteractiveSession(config=tf.ConfigProto(gpu_options=gpu_options, log_device_placement=True))\n"
   ]
  },
  {
   "cell_type": "code",
   "execution_count": 9,
   "metadata": {
    "collapsed": false
   },
   "outputs": [
    {
     "name": "stdout",
     "output_type": "stream",
     "text": [
      "Tensor(\"input_x:0\", shape=(?, 100), dtype=int32)\n",
      "Tensor(\"input_y:0\", shape=(?, 2), dtype=int32)\n"
     ]
    }
   ],
   "source": [
    "# Inputs\n",
    "input_x = tf.placeholder(tf.int32, shape=[None, sequence_length], name=\"input_x\")\n",
    "print(input_x)\n",
    "\n",
    "input_y = tf.placeholder(tf.int32, shape=[None, 2], name=\"input_y\")\n",
    "print(input_y)\n",
    "\n",
    "dropout_keep_prob = tf.placeholder(tf.float32, name=\"dropout_keep_prob\")\n"
   ]
  },
  {
   "cell_type": "code",
   "execution_count": 10,
   "metadata": {
    "collapsed": false
   },
   "outputs": [
    {
     "name": "stdout",
     "output_type": "stream",
     "text": [
      "Tensor(\"embedding/embedding_lookup:0\", shape=(?, 100, 128), dtype=float32)\n",
      "Tensor(\"embedding/ExpandDims:0\", shape=(?, 100, 128, 1), dtype=float32)\n"
     ]
    }
   ],
   "source": [
    "# Embedding layer\n",
    "with tf.name_scope(\"embedding\"):\n",
    "    W_embedding = tf.Variable(tf.random_uniform([vocab_size, embedding_size], -1.0, 1.0), name=\"W_embedding\")\n",
    "    embedded_chars = tf.nn.embedding_lookup(W_embedding, input_x)\n",
    "    print(embedded_chars)\n",
    "    \n",
    "    # Add an aditional dimension to match to the convolution requirements\n",
    "    embedded_chars_expanded = tf.expand_dims(embedded_chars, -1)\n",
    "    print(embedded_chars_expanded)\n",
    "    "
   ]
  },
  {
   "cell_type": "code",
   "execution_count": 11,
   "metadata": {
    "collapsed": false
   },
   "outputs": [
    {
     "name": "stdout",
     "output_type": "stream",
     "text": [
      "[<tf.Tensor 'conv-maxpool-3/pool:0' shape=(?, 1, 1, 32) dtype=float32>, <tf.Tensor 'conv-maxpool-6/pool:0' shape=(?, 1, 1, 32) dtype=float32>, <tf.Tensor 'conv-maxpool-12/pool:0' shape=(?, 1, 1, 32) dtype=float32>]\n"
     ]
    }
   ],
   "source": [
    "# Create a convolution + maxpool layer for each filter size\n",
    "\n",
    "def conv_layer(x, size_x=2, size_y=2, input_channels=1, output_channels=32):\n",
    "    W_conv = tf.Variable(tf.truncated_normal([size_x, size_y, input_channels, output_channels], stddev=0.1), name='W')\n",
    "    \n",
    "    b_conv = tf.Variable(tf.constant(0.1, shape=[output_channels]), name='b')\n",
    "    \n",
    "    conv_out = tf.nn.relu(tf.nn.conv2d(x, W_conv, strides=[1, 1, 1, 1], padding='VALID') + b_conv, name='conv')\n",
    "    \n",
    "    pooled = tf.nn.max_pool(conv_out, \n",
    "                            ksize=[1, sequence_length - filter_size + 1, 1, 1], \n",
    "                            strides=[1, 1, 1, 1], \n",
    "                            padding='VALID', \n",
    "                            name=\"pool\")\n",
    "    return pooled\n",
    "\n",
    "\n",
    "pooled_outputs = []\n",
    "for i, filter_size in enumerate(filter_sizes):\n",
    "    with tf.name_scope(\"conv-maxpool-%s\" % filter_size):\n",
    "        pooled = conv_layer(embedded_chars_expanded, size_x=filter_size, size_y=embedding_size, input_channels=1, output_channels=num_filters)\n",
    "        pooled_outputs.append(pooled)\n",
    "\n",
    "print(pooled_outputs)"
   ]
  },
  {
   "cell_type": "code",
   "execution_count": 12,
   "metadata": {
    "collapsed": false
   },
   "outputs": [
    {
     "name": "stdout",
     "output_type": "stream",
     "text": [
      "Tensor(\"concat:0\", shape=(?, 1, 1, 96), dtype=float32)\n",
      "Tensor(\"Reshape:0\", shape=(?, 96), dtype=float32)\n"
     ]
    }
   ],
   "source": [
    "# Combine all the pooled features\n",
    "h_pool = tf.concat(3, pooled_outputs)\n",
    "print(h_pool)\n",
    "\n",
    "# Reshape to flat the tensor: f\n",
    "num_filters_total = num_filters * len(filter_sizes)\n",
    "h_pool_flat = tf.reshape(h_pool, [-1, num_filters_total])\n",
    "print(h_pool_flat)"
   ]
  },
  {
   "cell_type": "code",
   "execution_count": 13,
   "metadata": {
    "collapsed": true
   },
   "outputs": [],
   "source": [
    "# Add dropout\n",
    "with tf.name_scope(\"dropout\"):\n",
    "    h_drop = tf.nn.dropout(h_pool_flat, dropout_keep_prob)\n"
   ]
  },
  {
   "cell_type": "code",
   "execution_count": 14,
   "metadata": {
    "collapsed": false
   },
   "outputs": [
    {
     "name": "stdout",
     "output_type": "stream",
     "text": [
      "Tensor(\"output/scores:0\", shape=(?, 2), dtype=float32)\n",
      "Tensor(\"output/predictions:0\", shape=(?,), dtype=int64)\n"
     ]
    }
   ],
   "source": [
    "# Final (unnormalized) scores and predictions\n",
    "with tf.name_scope(\"output\"):\n",
    "    W = tf.get_variable(\"W\", shape=[num_filters_total, 2], initializer=tf.contrib.layers.xavier_initializer())\n",
    "    b = tf.Variable(tf.constant(0.1, shape=[2]), name=\"b\")\n",
    "    \n",
    "    # scores = h_drop * W + b\n",
    "    scores = tf.nn.xw_plus_b(h_drop, W, b, name=\"scores\")\n",
    "    print(scores)\n",
    "    \n",
    "    # predictions: position of the max value of scores\n",
    "    predictions = tf.argmax(scores, 1, name=\"predictions\")\n",
    "    print(predictions)"
   ]
  },
  {
   "cell_type": "code",
   "execution_count": 15,
   "metadata": {
    "collapsed": true
   },
   "outputs": [],
   "source": [
    "# Calculate the Mean of the cross-entropy loss in the batch\n",
    "with tf.name_scope(\"loss\"):\n",
    "    loss = tf.reduce_mean(tf.nn.softmax_cross_entropy_with_logits(scores, input_y), name='loss')\n"
   ]
  },
  {
   "cell_type": "code",
   "execution_count": 16,
   "metadata": {
    "collapsed": true
   },
   "outputs": [],
   "source": [
    "# Accuracy: percent of correct predictions\n",
    "with tf.name_scope(\"accuracy\"):\n",
    "    accuracy = tf.reduce_mean(tf.cast(tf.equal(predictions, tf.argmax(input_y, 1)), \"float\"), name=\"accuracy\")"
   ]
  },
  {
   "cell_type": "code",
   "execution_count": 17,
   "metadata": {
    "collapsed": true
   },
   "outputs": [],
   "source": [
    "#Optimizer\n",
    "with tf.name_scope(\"train\") as scope:\n",
    "    train_step = tf.train.AdamOptimizer(1e-3).minimize(loss)\n"
   ]
  },
  {
   "cell_type": "code",
   "execution_count": null,
   "metadata": {
    "collapsed": true
   },
   "outputs": [],
   "source": []
  },
  {
   "cell_type": "code",
   "execution_count": null,
   "metadata": {
    "collapsed": true
   },
   "outputs": [],
   "source": []
  },
  {
   "cell_type": "markdown",
   "metadata": {
    "collapsed": true
   },
   "source": [
    "# Training procces\n",
    " - Create a generator to create the batches of inputs and targets. Train & test.\n",
    " - Iterate over the data to train the model\n",
    "   - Each iteration over all the data is an epoch\n",
    "   - For each epoch iterate overt the batches"
   ]
  },
  {
   "cell_type": "code",
   "execution_count": 18,
   "metadata": {
    "collapsed": false
   },
   "outputs": [
    {
     "name": "stdout",
     "output_type": "stream",
     "text": [
      "(array([[  224,     1,   786,     4,     3,     0,    13,    10,  1627,\n",
      "          116,    82,   331,   312,     2,     1,   263,  4288,   783,\n",
      "          141,   131,   386,   662,    14,    58,   714,   156,   145,\n",
      "           13,     0,    34,    61,     3,   341,  2074,    15,     3,\n",
      "        10248,    44,  1123,   327,     1,   354,     4,     1,    19,\n",
      "            6,   406,     2,   365,   119,    24,    64,    39,    82,\n",
      "           26,    66,   487,    41,    11,   560,  1069,   633,   106,\n",
      "         3857, 11176,    12,     5,     1,  2458,  1226,  4213,   240,\n",
      "           15,    87,  1790, 14855, 14828,     5,  7230,  1701,    87,\n",
      "         6614,    30,   217,    68,    13,  7773,  7687,     8, 14855,\n",
      "        14828,   309,    44,     4,   163,     0,     0,     0,     0,\n",
      "            0],\n",
      "       [   45, 12515,  1893,    19,     6,   251,  6415,     5,   413,\n",
      "            3,  1334,   368,  2102,    75,   132,    73,  1625,     4,\n",
      "            1,  4867, 12479,    44,    68,     9,    64,   485,    37,\n",
      "          235,    52,    16,     3,   775,     0,     0,     0,     0,\n",
      "            0,     0,     0,     0,     0,     0,     0,     0,     0,\n",
      "            0,     0,     0,     0,     0,     0,     0,     0,     0,\n",
      "            0,     0,     0,     0,     0,     0,     0,     0,     0,\n",
      "            0,     0,     0,     0,     0,     0,     0,     0,     0,\n",
      "            0,     0,     0,     0,     0,     0,     0,     0,     0,\n",
      "            0,     0,     0,     0,     0,     0,     0,     0,     0,\n",
      "            0,     0,     0,     0,     0,     0,     0,     0,     0,\n",
      "            0]]), array([[ 0.,  1.],\n",
      "       [ 1.,  0.]], dtype=float32))\n"
     ]
    }
   ],
   "source": [
    "def batch_iter(X, y, batch_size):\n",
    "    \"\"\"\n",
    "    Generates a batch iterator for inputs (X) and targets (y) of batch_size size.\n",
    "    \"\"\"\n",
    "    data_size = len(X)\n",
    "    # Shuffle the data at each epoch\n",
    "    shuffle_indices = np.random.permutation(np.arange(data_size))    \n",
    "    shuffled_X = X[shuffle_indices]\n",
    "    shuffled_y = y[shuffle_indices]\n",
    "        \n",
    "    num_batches = int((data_size-1)/batch_size) + 1\n",
    "    for batch_num in range(num_batches):\n",
    "        start_index = batch_num * batch_size\n",
    "        end_index = min((batch_num + 1) * batch_size, data_size)\n",
    "        yield shuffled_X[start_index:end_index], shuffled_y[start_index:end_index]\n",
    "        \n",
    "# Test the generator function      \n",
    "b_iter= batch_iter(X_trn, y_trn, 2)\n",
    "print(b_iter.next())"
   ]
  },
  {
   "cell_type": "code",
   "execution_count": 19,
   "metadata": {
    "collapsed": false
   },
   "outputs": [
    {
     "name": "stdout",
     "output_type": "stream",
     "text": [
      "0 0.727666 0.585196 0.654947 0.612915\n",
      "1 0.61425 0.694149 0.646389 0.667195\n",
      "2 0.6116 0.740609 0.622049 0.697704\n",
      "3 0.577645 0.750367 0.608896 0.652519\n",
      "4 0.540379 0.775343 0.57499 0.697895\n",
      "5 0.497367 0.792769 0.539301 0.728683\n",
      "6 0.435658 0.832876 0.515183 0.739621\n",
      "7 0.371692 0.864931 0.490399 0.759208\n",
      "8 0.298081 0.89898 0.479837 0.76753\n",
      "9 0.230177 0.929353 0.478223 0.774306\n",
      "10 0.167533 0.954839 0.502586 0.771006\n",
      "11 0.115544 0.974011 0.517476 0.776754\n",
      "12 0.0771081 0.98632 0.549173 0.777129\n",
      "13 0.0514949 0.993104 0.574853 0.779265\n",
      "14 0.0348384 0.996524 0.61709 0.777766\n",
      "15 0.0235893 0.998525 0.650424 0.778707\n",
      "16 0.0167062 0.999283 0.690798 0.775861\n",
      "17 0.0120797 0.999681 0.731185 0.77791\n",
      "18 0.00899534 0.999721 0.76118 0.778316\n",
      "19 0.00710625 0.999801 0.801183 0.773445\n",
      "20 0.00543528 0.99992 0.842062 0.776299\n",
      "21 0.00450631 0.999841 0.875954 0.774346\n",
      "22 0.00379325 0.99992 0.912555 0.776666\n",
      "23 0.0030486 0.99992 0.937864 0.774928\n",
      "24 0.00239829 0.99992 0.984604 0.775805\n",
      "25 0.00207962 0.99996 1.00826 0.776172\n",
      "26 0.00177669 0.99992 1.04197 0.775837\n",
      "27 0.00150079 0.99996 1.10206 0.772377\n",
      "28 0.00141906 0.99992 1.12934 0.770671\n",
      "29 0.00136692 0.99992 1.12885 0.773445\n"
     ]
    }
   ],
   "source": [
    "#Inicialization.\n",
    "sess.run(tf.global_variables_initializer())\n",
    "\n",
    "# Train proccess parameters\n",
    "num_epochs = 20\n",
    "batch_size = 128\n",
    "\n",
    "loss_trn_epoch = []\n",
    "loss_tst_epoch = []\n",
    "acc_trn_epoch = []\n",
    "acc_tst_epoch = []\n",
    "\n",
    "for epoch in range(num_epochs):\n",
    "    loss_trn = []\n",
    "    acc_trn = []\n",
    "    loss_tst = []\n",
    "    acc_tst = []\n",
    "    \n",
    "    # Train step\n",
    "    for x_batch, y_batch in batch_iter(X_trn, y_trn, batch_size):\n",
    "        train_step.run(feed_dict={input_x: x_batch, input_y: y_batch, dropout_keep_prob: 0.5})\n",
    "        loss_step, acc_step = sess.run([loss, accuracy], \n",
    "                                       feed_dict={input_x: x_batch, input_y: y_batch, dropout_keep_prob: 1})\n",
    "        loss_trn += [loss_step]\n",
    "        acc_trn += [acc_step]\n",
    "    \n",
    "    # Validation step\n",
    "    for x_batch_test, y_batch_test in batch_iter(X_tst, y_tst, batch_size):\n",
    "        loss_step, acc_step = sess.run([loss, accuracy], \n",
    "                                       feed_dict={input_x: x_batch_test, input_y: y_batch_test, dropout_keep_prob: 1})\n",
    "        loss_tst += [loss_step]\n",
    "        acc_tst += [acc_step]\n",
    "    \n",
    "    # Summary\n",
    "    print(epoch, np.mean(loss_trn), np.mean(acc_trn), np.mean(loss_tst), np.mean(acc_tst))\n",
    "    loss_trn_epoch += [np.mean(loss_trn)]\n",
    "    loss_tst_epoch += [np.mean(loss_tst)]\n",
    "    acc_trn_epoch += [np.mean(acc_trn)]\n",
    "    acc_tst_epoch += [np.mean(acc_tst)]\n",
    "    "
   ]
  },
  {
   "cell_type": "markdown",
   "metadata": {},
   "source": [
    "## Results"
   ]
  },
  {
   "cell_type": "code",
   "execution_count": 20,
   "metadata": {
    "collapsed": false
   },
   "outputs": [
    {
     "data": {
      "image/png": "[encoded data removed]",
      "text/plain": [
       "<matplotlib.figure.Figure at 0x7f42b77308d0>"
      ]
     },
     "metadata": {},
     "output_type": "display_data"
    }
   ],
   "source": [
    "# Plot loss\n",
    "import matplotlib.pyplot as plt\n",
    "%matplotlib inline\n",
    "\n",
    "plt.plot(loss_trn_epoch)\n",
    "plt.plot(loss_tst_epoch)\n",
    "plt.show()"
   ]
  },
  {
   "cell_type": "code",
   "execution_count": 21,
   "metadata": {
    "collapsed": false
   },
   "outputs": [
    {
     "data": {
      "image/png": "[encoded data removed]",
      "text/plain": [
       "<matplotlib.figure.Figure at 0x7f42b6c792d0>"
      ]
     },
     "metadata": {},
     "output_type": "display_data"
    }
   ],
   "source": [
    "# Plot accuracy\n",
    "plt.plot(acc_trn_epoch)\n",
    "plt.plot(acc_tst_epoch)\n",
    "plt.show()"
   ]
  },
  {
   "cell_type": "code",
   "execution_count": null,
   "metadata": {
    "collapsed": true
   },
   "outputs": [],
   "source": []
  }
 ],
 "metadata": {
  "anaconda-cloud": {},
  "kernelspec": {
   "display_name": "Python [conda env:py27]",
   "language": "python",
   "name": "conda-env-py27-py"
  },
  "language_info": {
   "codemirror_mode": {
    "name": "ipython",
    "version": 2
   },
   "file_extension": ".py",
   "mimetype": "text/x-python",
   "name": "python",
   "nbconvert_exporter": "python",
   "pygments_lexer": "ipython2",
   "version": "2.7.13"
  }
 },
 "nbformat": 4,
 "nbformat_minor": 1
}
