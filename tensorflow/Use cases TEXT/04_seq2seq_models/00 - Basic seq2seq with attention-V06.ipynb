{
 "cells": [
  {
   "cell_type": "markdown",
   "metadata": {},
   "source": [
    "# Basic seq2seq model\n",
    "    - Use attention builded model.\n",
    "    - Input vector of probs of each digit: Output of a lenet model.\n",
    "    - try to identify the original sequence encoded by embedings."
   ]
  },
  {
   "cell_type": "code",
   "execution_count": 1,
   "metadata": {
    "collapsed": true
   },
   "outputs": [],
   "source": [
    "from __future__ import print_function\n",
    "\n",
    "import tensorflow as tf\n",
    "import numpy as np\n",
    "import random\n",
    "\n",
    "import matplotlib.pyplot as plt\n",
    "%matplotlib inline\n",
    "plt.rcParams['figure.figsize'] = (10, 10) \n",
    "plt.rcParams['image.interpolation'] = 'nearest'  # don't interpolate: show square pixels\n",
    "plt.rcParams['image.cmap'] = 'gray'  # use grayscale output rather than a (potentially misleading) color heatmap\n"
   ]
  },
  {
   "cell_type": "code",
   "execution_count": 2,
   "metadata": {
    "collapsed": false
   },
   "outputs": [
    {
     "name": "stdout",
     "output_type": "stream",
     "text": [
      "{'1': 1, '0': 0, '3': 3, '2': 2, '5': 5, '4': 4, '7': 7, '6': 6, '9': 9, '8': 8}\n",
      "{0: '0', 1: '1', 2: '2', 3: '3', 4: '4', 5: '5', 6: '6', 7: '7', 8: '8', 9: '9', 10: '-PAD', 11: 'GO', 12: '-EOL'}\n"
     ]
    }
   ],
   "source": [
    "# Define lis of chars and translation dictionaries\n",
    "\n",
    "seq_length = 5\n",
    "\n",
    "PAD_ID = 10\n",
    "GO_ID = 11\n",
    "EOL_ID = 12\n",
    "char_list = '0123456789'\n",
    "\n",
    "encode_dict={}\n",
    "decode_dict={}\n",
    "for i, s in enumerate(char_list):\n",
    "    encode_dict[s]=i\n",
    "    decode_dict[i]=s\n",
    "\n",
    "decode_dict[10]='-PAD'\n",
    "decode_dict[11]='GO'\n",
    "decode_dict[12]='-EOL'\n",
    "\n",
    "print(encode_dict)\n",
    "print(decode_dict)\n",
    "\n"
   ]
  },
  {
   "cell_type": "code",
   "execution_count": 3,
   "metadata": {
    "collapsed": false
   },
   "outputs": [
    {
     "name": "stdout",
     "output_type": "stream",
     "text": [
      "Successfully downloaded train-images-idx3-ubyte.gz 9912422 bytes.\n",
      "Extracting /tmp/train-images-idx3-ubyte.gz\n",
      "Successfully downloaded train-labels-idx1-ubyte.gz 28881 bytes.\n",
      "Extracting /tmp/train-labels-idx1-ubyte.gz\n",
      "Successfully downloaded t10k-images-idx3-ubyte.gz 1648877 bytes.\n",
      "Extracting /tmp/t10k-images-idx3-ubyte.gz\n",
      "Successfully downloaded t10k-labels-idx1-ubyte.gz 4542 bytes.\n",
      "Extracting /tmp/t10k-labels-idx1-ubyte.gz\n",
      "(55000, 784)\n",
      "(10000, 784)\n",
      "(55000, 10)\n",
      "(10000, 10)\n"
     ]
    }
   ],
   "source": [
    "#Read MNIST data\n",
    "\n",
    "from tensorflow.examples.tutorials.mnist import input_data\n",
    "mnist = input_data.read_data_sets(\"/tmp\", one_hot=True)\n",
    "\n",
    "print(mnist.train.images.shape)\n",
    "print(mnist.test.images.shape)\n",
    "print(mnist.train.labels.shape)\n",
    "print(mnist.test.labels.shape)"
   ]
  },
  {
   "cell_type": "code",
   "execution_count": 4,
   "metadata": {
    "collapsed": false,
    "scrolled": false
   },
   "outputs": [
    {
     "name": "stdout",
     "output_type": "stream",
     "text": [
      "(2, 28, 28, 11)\n",
      "[ 5 11]\n",
      "[[[ 0.  0.  0.  0.  0.  0.  0.  0.  0.  0.  0.  1.  0.]\n",
      "  [ 0.  0.  0.  0.  0.  0.  0.  1.  0.  0.  0.  0.  0.]\n",
      "  [ 0.  0.  0.  0.  0.  0.  1.  0.  0.  0.  0.  0.  0.]\n",
      "  [ 0.  0.  0.  0.  0.  0.  0.  0.  0.  0.  1.  0.  0.]\n",
      "  [ 0.  0.  0.  0.  0.  0.  0.  0.  0.  0.  1.  0.  0.]]\n",
      "\n",
      " [[ 0.  0.  0.  0.  0.  0.  0.  0.  0.  0.  0.  1.  0.]\n",
      "  [ 0.  0.  0.  0.  0.  1.  0.  0.  0.  0.  0.  0.  0.]\n",
      "  [ 0.  0.  0.  1.  0.  0.  0.  0.  0.  0.  0.  0.  0.]\n",
      "  [ 0.  0.  0.  0.  1.  0.  0.  0.  0.  0.  0.  0.  0.]\n",
      "  [ 0.  0.  0.  0.  0.  1.  0.  0.  0.  0.  0.  0.  0.]]]\n",
      "[[ 1.  1.  1.  0.  0.]\n",
      " [ 1.  1.  1.  1.  1.]]\n",
      "[[ 7  6 12 10 10]\n",
      " [ 5  3  4  5 12]]\n"
     ]
    }
   ],
   "source": [
    "#Sequences generator\n",
    "def seq_generator(X=mnist.train.images, y=mnist.train.labels, batch_size=256, size_word=10, size=10, x_slides=10):    \n",
    "    '''\n",
    "    Generate a batch of character sequence of images with 1 to size digits of nmist\n",
    "    Return arrays with images in fixed size, words in fixed lenth and lengths of words\n",
    "    '''\n",
    "    X = np.reshape(X,[-1,28,28])\n",
    "    w = X.shape[2]\n",
    "    for i in range(200):\n",
    "        X_batch = np.zeros([batch_size,X.shape[1],X.shape[2]*size])\n",
    "        X_batch_seg = []\n",
    "        X_length = np.zeros([batch_size], dtype=np.uint16)\n",
    "        #enc_inp = np.zeros([batch_size, l], dtype=np.uint16)\n",
    "        dec_inp = np.zeros([batch_size, size+1, 13], dtype=np.float32)\n",
    "        weigth = np.zeros([batch_size, size+1], dtype=np.float32)\n",
    "        target = np.zeros([batch_size, size+1], dtype=np.uint16)\n",
    "        \n",
    "        for batch in range(batch_size):\n",
    "            l_word = random.randint(1,size_word)\n",
    "            X_length[batch] = int((float(l_word)/float(size)) * (x_slides+1))\n",
    "            digits_randomized = [int(rand) for rand in np.random.random_sample(l_word) * X.shape[0]]\n",
    "            #Initialize dec_inp with GO at begining\n",
    "            dec_inp[batch,0, GO_ID] = 1\n",
    "            #Initialize taget wit PAD\n",
    "            target[batch,:] = PAD_ID\n",
    "            weigth[batch,0] = 1.\n",
    "            for n, digit in enumerate(digits_randomized):\n",
    "                #Extract batch data\n",
    "                X_batch[batch, :, n*w:(n+1)*w] = X[digit]\n",
    "                dec_inp[batch, n+1, encode_dict[str(np.argmax(y[digit]))]] = 1\n",
    "                weigth[batch, n+1] = 1.\n",
    "                target[batch, n] = encode_dict[str(np.argmax(y[digit]))]\n",
    "            target[batch,n+1] = EOL_ID\n",
    "            #Complete dec_inp with PAD\n",
    "            for n2 in range(n+2, size+1):\n",
    "                dec_inp[batch, n2, PAD_ID] = 1 \n",
    "                \n",
    "            #Segment X with a sliding window\n",
    "            step = (X.shape[2]*(size-1)) / x_slides\n",
    "            X_batch_seg_batch = []\n",
    "            for i_xb in range(0, X.shape[2]*(size-1), step):\n",
    "                X_batch_seg_batch += [X_batch[batch, :, i_xb:i_xb+w]]\n",
    "            X_batch_seg += [X_batch_seg_batch]\n",
    "        X_batch_seg = np.transpose(X_batch_seg, axes=[0,2,3,1])\n",
    "               \n",
    "            \n",
    "        yield np.array(X_batch_seg), X_length, dec_inp, weigth, target\n",
    "        \n",
    "\n",
    "seq = seq_generator(batch_size=2, size_word=4, size=4)\n",
    "next_seq = seq.next()\n",
    "print(next_seq[0].shape)\n",
    "print(next_seq[1])\n",
    "print(next_seq[2])\n",
    "print(next_seq[3])\n",
    "print(next_seq[4])"
   ]
  },
  {
   "cell_type": "code",
   "execution_count": 5,
   "metadata": {
    "collapsed": false
   },
   "outputs": [
    {
     "data": {
      "image/png": "[encoded data removed]",
      "text/plain": [
       "<matplotlib.figure.Figure at 0x7fad8fa31090>"
      ]
     },
     "metadata": {},
     "output_type": "display_data"
    }
   ],
   "source": [
    "fig = plt.figure()\n",
    "for i in range(next_seq[0].shape[-1]):\n",
    "    a = fig.add_subplot(next_seq[0].shape[-1], 1, i+1)\n",
    "    plt.imshow(next_seq[0][1,:,:,i])"
   ]
  },
  {
   "cell_type": "markdown",
   "metadata": {},
   "source": [
    "# seq2seq Model"
   ]
  },
  {
   "cell_type": "code",
   "execution_count": 6,
   "metadata": {
    "collapsed": true
   },
   "outputs": [],
   "source": [
    "#Start interactive session\n",
    "gpu_options = tf.GPUOptions(allow_growth = True)\n",
    "sess = tf.InteractiveSession(config=tf.ConfigProto(gpu_options=gpu_options, log_device_placement=True))\n"
   ]
  },
  {
   "cell_type": "code",
   "execution_count": 7,
   "metadata": {
    "collapsed": true
   },
   "outputs": [],
   "source": [
    "def lenet_over_seq(img_seq, dropout_keep_prob):\n",
    "    #First convolution\n",
    "    W_conv_1 = tf.Variable(tf.truncated_normal([5, 5, 1, 20], stddev=0.1), name='W_conv_1')\n",
    "    b_conv_1 = tf.Variable(tf.constant(0.1, shape=[20]), name='b_conv_1')\n",
    "    conv1_out = [tf.nn.relu(tf.nn.conv2d(x_in, W_conv_1, strides=[1, 1, 1, 1], padding='SAME') + b_conv_1) for x_in in img_seq]\n",
    "    h_pool1 = [tf.nn.max_pool(h_conv1, ksize=[1, 2, 2, 1], strides=[1, 2, 2, 1], padding='SAME') for h_conv1 in conv1_out]\n",
    "\n",
    "    #Second convolution\n",
    "    W_conv_2 = tf.Variable(tf.truncated_normal([5, 5, 20, 50], stddev=0.1), name='W_conv_2')\n",
    "    b_conv_2 = tf.Variable(tf.constant(0.1, shape=[50]), name='b_conv_2')\n",
    "    conv2_out = [tf.nn.relu(tf.nn.conv2d(x_in, W_conv_2, strides=[1, 1, 1, 1], padding='SAME') + b_conv_2) for x_in in h_pool1]\n",
    "    h_pool2 = [tf.nn.max_pool(h_conv2, ksize=[1, 2, 2, 1], strides=[1, 2, 2, 1], padding='SAME') for h_conv2 in conv2_out]\n",
    "\n",
    "    #First dense layer\n",
    "    h_pool2_flat = [tf.reshape(hp, [-1, 7*7*50]) for hp in h_pool2]\n",
    "    \n",
    "    W_dense_1 = tf.Variable(tf.truncated_normal([7*7*50, 500], stddev=0.1), name='W_dense_1')\n",
    "    b_dense_1 = tf.Variable(tf.constant(0.1, shape=[500]), name='b_dense_1')\n",
    "    dense_output_1 = [tf.nn.relu(tf.matmul(x_in, W_dense_1) + b_dense_1) for x_in in h_pool2_flat]\n",
    "    \n",
    "    #Dropout over \n",
    "    h_fc1_drop = [tf.nn.dropout(h_fc1, dropout_keep_prob) for h_fc1 in dense_output_1]\n",
    "\n",
    "    #Second dense layer\n",
    "    W_dense_2 = tf.Variable(tf.truncated_normal([500, 11], stddev=0.1), name='W_dense_2')\n",
    "    b_dense_2 = tf.Variable(tf.constant(0.1, shape=[11]), name='b_dense_2')\n",
    "    dense_output_2 = [tf.nn.relu(tf.matmul(x_in, W_dense_2) + b_dense_2) for x_in in h_fc1_drop]\n",
    "    \n",
    "    return dense_output_2"
   ]
  },
  {
   "cell_type": "code",
   "execution_count": 8,
   "metadata": {
    "collapsed": true
   },
   "outputs": [],
   "source": [
    "def variable_summaries(var, name):\n",
    "    \"\"\"Attach a lot of summaries to a Tensor.\"\"\"\n",
    "    with tf.name_scope('summaries'):\n",
    "        mean = tf.reduce_mean(var)\n",
    "        tf.scalar_summary('mean/'   + name, mean)\n",
    "        tf.scalar_summary('sttdev/' + name, tf.sqrt(tf.reduce_mean(tf.square(var - mean))))\n",
    "        tf.scalar_summary('max/'    + name, tf.reduce_max(var))\n",
    "        tf.scalar_summary('min/'    + name, tf.reduce_min(var))\n",
    "        tf.histogram_summary(name, var)\n"
   ]
  },
  {
   "cell_type": "code",
   "execution_count": 9,
   "metadata": {
    "collapsed": false
   },
   "outputs": [
    {
     "name": "stdout",
     "output_type": "stream",
     "text": [
      "WARNING:tensorflow:<tensorflow.python.ops.rnn_cell.LSTMCell object at 0x7fad7aac9290>: Using a concatenated state is slower and will soon be deprecated.  Use state_is_tuple=True.\n",
      "WARNING:tensorflow:<tensorflow.python.ops.rnn_cell.LSTMCell object at 0x7fad506dadd0>: Using a concatenated state is slower and will soon be deprecated.  Use state_is_tuple=True.\n",
      "enc_state Output(\"encoder/BiRNN/FW/FW/cond_10/Merge_1:0\", shape=(?, 512), dtype=float32)\n",
      "WARNING:tensorflow:<tensorflow.python.ops.rnn_cell.LSTMCell object at 0x7fad50658c10>: Using a concatenated state is slower and will soon be deprecated.  Use state_is_tuple=True.\n",
      "dec_outputs [<tf.Output 'decoder/cond/Merge:0' shape=(?, 256) dtype=float32>, <tf.Output 'decoder/cond/Merge_1:0' shape=(?, 256) dtype=float32>, <tf.Output 'decoder/cond/Merge_2:0' shape=(?, 256) dtype=float32>, <tf.Output 'decoder/cond/Merge_3:0' shape=(?, 256) dtype=float32>, <tf.Output 'decoder/cond/Merge_4:0' shape=(?, 256) dtype=float32>]\n",
      "[<tf.Output 'outputs/Relu:0' shape=(?, 13) dtype=float32>, <tf.Output 'outputs/Relu_1:0' shape=(?, 13) dtype=float32>, <tf.Output 'outputs/Relu_2:0' shape=(?, 13) dtype=float32>, <tf.Output 'outputs/Relu_3:0' shape=(?, 13) dtype=float32>, <tf.Output 'outputs/Relu_4:0' shape=(?, 13) dtype=float32>]\n",
      "Output(\"outputs/concat:0\", shape=(?, 5, 13), dtype=float32)\n"
     ]
    }
   ],
   "source": [
    "seq_input_len = 11\n",
    "seq_length = 4\n",
    "\n",
    "vocab_size = len(char_list) + 3\n",
    "dim_lstm = 256\n",
    "\n",
    "#Placeholders\n",
    "# Input images\n",
    "with tf.name_scope('inputs') as scope:\n",
    "    enc_inp = [tf.placeholder(tf.float32, shape=(None,28,28), name=\"inp%i\" % t) for t in range(seq_input_len)]##Change to input images\n",
    "    enc_inp_reshape = [tf.reshape(img,[-1,28,28,1]) for img in enc_inp]\n",
    "\n",
    "    word_lens = tf.placeholder(tf.int32, shape=(None), name='word_lens')\n",
    "    \n",
    "    # Vectors of dummys variables\n",
    "    dec_inp = [tf.placeholder(tf.float32, shape=(None,vocab_size), name=\"labels%i\" % t) for t in range(seq_length+1)] # Change to vector of dummies\n",
    "\n",
    "    weights = [tf.placeholder(tf.float32, shape=(None,), name=\"weights%i\" % t) for t in range(seq_length+1)]\n",
    "    targets = [tf.placeholder(tf.int32, shape=(None,), name=\"targets%i\" % t) for t in range(seq_length+1)]\n",
    "\n",
    "    keep_prob = tf.placeholder(tf.float32)\n",
    "\n",
    "\n",
    "\n",
    "###Model\n",
    "\n",
    "##Encoder\n",
    "with tf.name_scope('encoder') as scope:\n",
    "    #Transform images to input to the LSTM\n",
    "    input_encoder = lenet_over_seq(enc_inp_reshape, keep_prob)\n",
    "    variable_summaries(input_encoder, 'input_encoder')\n",
    "\n",
    "    # LSTM\n",
    "    '''\n",
    "    cell_enc = tf.nn.rnn_cell.LSTMCell(dim_lstm,\n",
    "                                       initializer=tf.random_uniform_initializer(-0.1, 0.1, seed=113),\n",
    "                                       state_is_tuple=False)\n",
    "    cell_enc = tf.nn.rnn_cell.DropoutWrapper(cell_enc, output_keep_prob=keep_prob)\n",
    "    enc_outputs, enc_state = tf.nn.rnn(cell_enc, input_encoder, dtype=tf.float32)\n",
    "    variable_summaries(enc_outputs, 'enc_outputs')\n",
    "    '''\n",
    "    cell_fw = tf.nn.rnn_cell.LSTMCell(dim_lstm,\n",
    "              initializer=tf.random_uniform_initializer(-0.1, 0.1, seed=123),\n",
    "                                       state_is_tuple=False)\n",
    "    cell_bw = tf.nn.rnn_cell.LSTMCell(dim_lstm,\n",
    "              initializer=tf.random_uniform_initializer(-0.1, 0.1, seed=113),\n",
    "                                       state_is_tuple=False)\n",
    "    (enc_outputs, enc_state, _) = tf.nn.bidirectional_rnn(\n",
    "              cell_fw, cell_bw, input_encoder, dtype=tf.float32,\n",
    "              sequence_length=word_lens)    \n",
    "    variable_summaries(enc_outputs, 'enc_outputs')\n",
    "    print('enc_state',enc_state)\n",
    "    \n",
    "    \n",
    "    #Attention states\n",
    "    top_states = [tf.reshape(e, [-1, 1, cell_fw.output_size*2]) for e in enc_outputs]\n",
    "    attention_states = tf.concat(1, top_states)\n",
    "\n",
    "\n",
    "##Decoder\n",
    "with tf.name_scope('decoder') as scope:\n",
    "    W_decoder = tf.Variable(tf.truncated_normal([dim_lstm, vocab_size], stddev=0.1), name='W_decoder')\n",
    "    variable_summaries(W_decoder, 'W_decoder')\n",
    "    \n",
    "    b_decoder = tf.Variable(tf.constant(0.1, shape=[vocab_size]), name='b_decoder')\n",
    "    variable_summaries(b_decoder, 'b_decoder')\n",
    "\n",
    "    \n",
    "    cell_dec = tf.nn.rnn_cell.LSTMCell(dim_lstm,\n",
    "                                       initializer=tf.random_uniform_initializer(-0.1, 0.1, seed=113),\n",
    "                                       state_is_tuple=False)\n",
    "    cell_dec = tf.nn.rnn_cell.DropoutWrapper(cell_dec, output_keep_prob=keep_prob)\n",
    "    \n",
    "    \n",
    "    def loop_function(prev, _):\n",
    "        # The next input are a softmax of the previous input\n",
    "        relu_prev = tf.nn.relu(tf.matmul(prev, W_decoder) + b_decoder)\n",
    "        return tf.nn.softmax(relu_prev)    \n",
    "    \n",
    "    def decoder(feed_previous_bool):\n",
    "        loop_f = None if feed_previous_bool else loop_function\n",
    "        reuse = None if feed_previous_bool else True\n",
    "        with tf.variable_scope(\n",
    "            tf.get_variable_scope(), reuse=reuse) as scope:\n",
    "            dec_outputs, _ = tf.nn.seq2seq.attention_decoder(dec_inp, enc_state, attention_states, cell_dec,\n",
    "                                                     loop_function=loop_f)\n",
    "        return dec_outputs\n",
    "\n",
    "    # If feed_previous = True --> TEST: use the previous predicted output for the next output\n",
    "    # If feed_previous = False -->  TRAIN: use the real previous output to predict the next output\n",
    "    feed_previous = tf.placeholder(tf.bool)\n",
    "    dec_outputs = tf.cond(feed_previous, lambda: decoder(True), lambda: decoder(False))    \n",
    "    print('dec_outputs',dec_outputs)\n",
    "    \n",
    "    \n",
    "    \n",
    "with tf.name_scope('outputs') as scope:\n",
    "    dense_outputs = [tf.nn.relu(tf.matmul(dec_o, W_decoder) + b_decoder) for dec_o in dec_outputs]\n",
    "    variable_summaries(dense_outputs, 'dense_outputs')\n",
    "    print(dense_outputs)\n",
    "    #Prediction probs\n",
    "    output = tf.concat(1, [tf.expand_dims(tf.nn.softmax(t),1) for t in dense_outputs])\n",
    "    print(output)\n",
    "\n",
    "\n",
    "#Loss\n",
    "with tf.name_scope('loss') as scope:\n",
    "    loss = tf.nn.seq2seq.sequence_loss(dense_outputs, targets, weights, name='seq2seq')\n",
    "    loss_summary = tf.scalar_summary(\"loss\", loss)\n",
    "\n",
    "\n",
    "#Trainer\n",
    "with tf.name_scope('trainer') as scope:\n",
    "    learning_rate = tf.placeholder(tf.float32, name='learning_rate')\n",
    "    #optimizer = tf.train.AdamOptimizer(learning_rate, beta1=0.9, beta2=0.999, epsilon=1e-08)\n",
    "    optimizer = tf.train.GradientDescentOptimizer(learning_rate)\n",
    "    train_op = optimizer.minimize(loss)"
   ]
  },
  {
   "cell_type": "code",
   "execution_count": 10,
   "metadata": {
    "collapsed": true
   },
   "outputs": [],
   "source": [
    "# Merge all the summaries and write them out to /tmp/mnist_logs\n",
    "\n",
    "summaries_dir = '/tmp/tensorboard/seq2seq_01/run6_1'\n",
    "with tf.name_scope('summaries') as scope:\n",
    "    merged = tf.merge_all_summaries()\n",
    "    train_writer = tf.train.SummaryWriter(summaries_dir + '/train', sess.graph)\n",
    "    test_writer = tf.train.SummaryWriter(summaries_dir + '/test')\n",
    "\n",
    "    tf.add_to_collection('merged', merged)"
   ]
  },
  {
   "cell_type": "code",
   "execution_count": 11,
   "metadata": {
    "collapsed": false
   },
   "outputs": [
    {
     "name": "stdout",
     "output_type": "stream",
     "text": [
      "vars initialized\n"
     ]
    }
   ],
   "source": [
    "tf.global_variables_initializer().run()\n",
    "print('vars initialized')"
   ]
  },
  {
   "cell_type": "code",
   "execution_count": 12,
   "metadata": {
    "collapsed": false
   },
   "outputs": [
    {
     "name": "stdout",
     "output_type": "stream",
     "text": [
      "2-1-12\n"
     ]
    }
   ],
   "source": [
    "def decode_text(text_array):\n",
    "    '''\n",
    "    Decode the target from numbers to words\n",
    "    '''\n",
    "    text=[]\n",
    "    ind_eol=False\n",
    "    for c in text_array:\n",
    "        if ind_eol==False:\n",
    "            text += [str(c)]\n",
    "        if c==12:\n",
    "            ind_eol=True\n",
    "    return '-'.join(text)\n",
    "print(decode_text(np.array([2, 1, 12, 11], dtype=np.uint8))) #Sandra\n"
   ]
  },
  {
   "cell_type": "code",
   "execution_count": 13,
   "metadata": {
    "collapsed": false
   },
   "outputs": [],
   "source": [
    "def decode_response(response_array):\n",
    "    response_text = []\n",
    "    for i in range(response_array.shape[0]):\n",
    "        response_dec = [np.argmax(r) for r in response_array[i,:,:]]\n",
    "        #response_text += [''.join([decode_dict[r] for r in response_dec])]\n",
    "        response_text += [response_dec]\n",
    "    return response_text"
   ]
  },
  {
   "cell_type": "code",
   "execution_count": 14,
   "metadata": {
    "collapsed": false
   },
   "outputs": [],
   "source": [
    "def train_batch(n_epochs, batch_size, lr=0.001, size_word=1):\n",
    "    step_summary = 0\n",
    "    for epoch in range(n_epochs):\n",
    "        loss_cumm = []\n",
    "        seq = seq_generator(X=mnist.train.images, y=mnist.train.labels, batch_size=batch_size,\n",
    "                            size_word=size_word, size=seq_length, x_slides=10)\n",
    "        for s in seq:\n",
    "            encoder_input = s[0]\n",
    "            s_len = s[1]\n",
    "            decoder_input = s[2]\n",
    "            W = s[3]\n",
    "            T = s[4]\n",
    "            # Dimshuffle to seq_len * batch_size\n",
    "            W = np.array(W).T\n",
    "            T = np.array(T).T\n",
    "\n",
    "            feed_dict = {learning_rate: lr, feed_previous: False, keep_prob: 0.5, word_lens: s_len} # False feed_previous in the trainig process.\n",
    "            feed_dict.update({enc_inp[t]: encoder_input[:,:,:,t] for t in range(seq_input_len)})\n",
    "            feed_dict.update({dec_inp[t]: decoder_input[:,t,:] for t in range(seq_length+1)})\n",
    "            feed_dict.update({weights[t]: W[t] for t in range(seq_length+1)})\n",
    "            feed_dict.update({targets[t]: T[t] for t in range(seq_length+1)})\n",
    "\n",
    "            _, loss_t = sess.run([train_op, loss], feed_dict)\n",
    "            loss_cumm += [loss_t]\n",
    "            \n",
    "        # Sumaries train    \n",
    "        summary_str= sess.run(merged, feed_dict)\n",
    "        train_writer.add_summary(summary_str, step_summary)\n",
    "        \n",
    "        #Test\n",
    "        loss_cumm_tst = []\n",
    "        correct = 0\n",
    "        num_cases = 0\n",
    "        seq_tst = seq_generator(X=mnist.test.images, y=mnist.test.labels, batch_size=batch_size, size_word=size_word, size=seq_length)\n",
    "        for s_tst in seq_tst:\n",
    "            encoder_input_tst = s_tst[0]\n",
    "            s_len_tst = s_tst[1]\n",
    "            decoder_input_tst = s_tst[2]\n",
    "            W_tst = s_tst[3]\n",
    "            T_tst = s_tst[4]\n",
    "              # Dimshuffle to seq_len * batch_size\n",
    "            W_tst = np.array(W_tst).T\n",
    "            T_tst = np.array(T_tst).T\n",
    "\n",
    "            feed_dict_tst = {feed_previous: True, keep_prob: 1, word_lens: s_len_tst} # True feed_previous in the test process.\n",
    "            feed_dict_tst.update({enc_inp[t]: encoder_input_tst[:,:,:,t] for t in range(seq_input_len)})\n",
    "            feed_dict_tst.update({dec_inp[t]: decoder_input_tst[:,t,:] for t in range(seq_length+1)})\n",
    "            feed_dict_tst.update({weights[t]: W_tst[t] for t in range(seq_length+1)})\n",
    "            feed_dict_tst.update({targets[t]: T_tst[t] for t in range(seq_length+1)})\n",
    "\n",
    "            loss_tst, out_tst = sess.run([loss, output], feed_dict_tst)\n",
    "            loss_cumm_tst += [loss_tst]\n",
    "            \n",
    "            response_predict_text = decode_response(out_tst)\n",
    "            for resp in range(len(out_tst)):\n",
    "                num_cases += 1\n",
    "                if decode_text(s_tst[4][resp]) == decode_text(response_predict_text[resp]):\n",
    "                    correct += 1\n",
    "\n",
    "        # Sumaries test    \n",
    "        summary_str = sess.run(merged, feed_dict_tst)\n",
    "        test_writer.add_summary(summary_str, step_summary)\n",
    "        step_summary += 1\n",
    "           \n",
    "        print('Epoch: ',epoch, '- Loss trn: ', np.mean(loss_cumm), ' - Loss tst: ', np.mean(loss_cumm_tst))\n",
    "        print('Correct: ', correct, ' - pct correct: ', float(correct)/float(num_cases))\n",
    "        \n",
    "        # Print some results\n",
    "        '''\n",
    "        correct = 0\n",
    "        response_predict_text = decode_response(out_tst)\n",
    "        for resp in range(len(out_tst)):\n",
    "            #print(decode_text(s_tst[4][resp]), ' vs ', decode_text(response_predict_text[resp]))\n",
    "            if decode_text(s[4][resp]) == decode_text(response_predict_text[resp]):\n",
    "                correct += 1\n",
    "        print('pct correct: ', correct, float(correct)/(resp+1))\n",
    "        '''           \n",
    "    return loss_t, out_tst"
   ]
  },
  {
   "cell_type": "code",
   "execution_count": 15,
   "metadata": {
    "collapsed": false
   },
   "outputs": [
    {
     "name": "stdout",
     "output_type": "stream",
     "text": [
      "Epoch:  0 - Loss trn:  1.42536  - Loss tst:  0.99614\n",
      "Correct:  22036  - pct correct:  0.430390625\n",
      "Epoch:  1 - Loss trn:  0.765314  - Loss tst:  0.382447\n",
      "Correct:  39981  - pct correct:  0.78087890625\n",
      "Epoch:  2 - Loss trn:  0.389601  - Loss tst:  0.211067\n",
      "Correct:  45174  - pct correct:  0.8823046875\n",
      "Epoch:  3 - Loss trn:  0.256948  - Loss tst:  0.145337\n",
      "Correct:  46875  - pct correct:  0.91552734375\n",
      "Epoch:  4 - Loss trn:  0.196556  - Loss tst:  0.113187\n",
      "Correct:  47712  - pct correct:  0.931875\n",
      "Epoch:  5 - Loss trn:  0.159892  - Loss tst:  0.0965839\n",
      "Correct:  48234  - pct correct:  0.9420703125\n",
      "Epoch:  6 - Loss trn:  0.140841  - Loss tst:  0.0839459\n",
      "Correct:  48600  - pct correct:  0.94921875\n",
      "Epoch:  7 - Loss trn:  0.127243  - Loss tst:  0.0747517\n",
      "Correct:  48898  - pct correct:  0.9550390625\n",
      "Epoch:  8 - Loss trn:  0.111886  - Loss tst:  0.0684258\n",
      "Correct:  49088  - pct correct:  0.95875\n",
      "Epoch:  9 - Loss trn:  0.102721  - Loss tst:  0.0631743\n",
      "Correct:  49222  - pct correct:  0.9613671875\n",
      "Epoch:  10 - Loss trn:  0.0975783  - Loss tst:  0.0662758\n",
      "Correct:  49026  - pct correct:  0.9575390625\n",
      "Epoch:  11 - Loss trn:  0.0893166  - Loss tst:  0.0617941\n",
      "Correct:  49155  - pct correct:  0.96005859375\n",
      "Epoch:  12 - Loss trn:  0.0847398  - Loss tst:  0.0519812\n",
      "Correct:  49486  - pct correct:  0.9665234375\n",
      "Epoch:  13 - Loss trn:  0.0825066  - Loss tst:  0.0481007\n",
      "Correct:  49654  - pct correct:  0.9698046875\n",
      "Epoch:  14 - Loss trn:  0.0786629  - Loss tst:  0.0484478\n",
      "Correct:  49605  - pct correct:  0.96884765625\n"
     ]
    },
    {
     "ename": "ValueError",
     "evalue": "need more than 2 values to unpack",
     "output_type": "error",
     "traceback": [
      "\u001b[1;31m\u001b[0m",
      "\u001b[1;31mValueError\u001b[0mTraceback (most recent call last)",
      "\u001b[1;32m<ipython-input-15-181e336945a4>\u001b[0m in \u001b[0;36m<module>\u001b[1;34m()\u001b[0m\n\u001b[1;32m----> 1\u001b[1;33m \u001b[0mloss_t\u001b[0m\u001b[1;33m,\u001b[0m \u001b[0mout_tst\u001b[0m\u001b[1;33m,\u001b[0m \u001b[0mreal_text\u001b[0m \u001b[1;33m=\u001b[0m \u001b[0mtrain_batch\u001b[0m\u001b[1;33m(\u001b[0m\u001b[1;36m15\u001b[0m\u001b[1;33m,\u001b[0m \u001b[1;36m256\u001b[0m\u001b[1;33m,\u001b[0m \u001b[0mlr\u001b[0m\u001b[1;33m=\u001b[0m\u001b[1;36m0.03\u001b[0m\u001b[1;33m,\u001b[0m \u001b[0msize_word\u001b[0m\u001b[1;33m=\u001b[0m\u001b[1;36m1\u001b[0m\u001b[1;33m)\u001b[0m\u001b[1;33m\u001b[0m\u001b[0m\n\u001b[0m",
      "\u001b[1;31mValueError\u001b[0m: need more than 2 values to unpack"
     ]
    }
   ],
   "source": [
    "loss_t, out_tst, real_text = train_batch(15, 256, lr=0.03, size_word=1)"
   ]
  },
  {
   "cell_type": "code",
   "execution_count": null,
   "metadata": {
    "collapsed": false
   },
   "outputs": [],
   "source": [
    "loss_t, out_tst = train_batch(6, 256, lr=0.03, size_word=2)"
   ]
  },
  {
   "cell_type": "code",
   "execution_count": null,
   "metadata": {
    "collapsed": false
   },
   "outputs": [],
   "source": [
    "loss_t, out_tst = train_batch(6, 256, lr=0.03, size_word=3)"
   ]
  },
  {
   "cell_type": "code",
   "execution_count": null,
   "metadata": {
    "collapsed": false,
    "scrolled": false
   },
   "outputs": [],
   "source": [
    "loss_t, out_tst = train_batch(30, 256, lr=0.03, size_word=4)"
   ]
  },
  {
   "cell_type": "code",
   "execution_count": null,
   "metadata": {
    "collapsed": false
   },
   "outputs": [],
   "source": []
  },
  {
   "cell_type": "code",
   "execution_count": 55,
   "metadata": {
    "collapsed": false
   },
   "outputs": [],
   "source": [
    "seq = seq_generator(X=mnist.test.images, y=mnist.test.labels, batch_size=256,\n",
    "                    size_word=4, size=seq_length)\n",
    "s = next(seq)        \n",
    "encoder_input = s[0]\n",
    "s_len = s[1]\n",
    "decoder_input = s[2]\n",
    "W = s[3]\n",
    "T = s[4]\n",
    "# Dimshuffle to seq_len * batch_size\n",
    "W = np.array(W).T\n",
    "T = np.array(T).T\n"
   ]
  },
  {
   "cell_type": "code",
   "execution_count": 56,
   "metadata": {
    "collapsed": false
   },
   "outputs": [
    {
     "name": "stdout",
     "output_type": "stream",
     "text": [
      "(256, 5, 13)\n",
      "[[ 0.  0.  0.  0.  0.  0.  0.  0.  0.  0.  0.  1.  0.]\n",
      " [ 0.  1.  0.  0.  0.  0.  0.  0.  0.  0.  0.  0.  0.]\n",
      " [ 0.  0.  0.  0.  0.  0.  0.  0.  0.  1.  0.  0.  0.]\n",
      " [ 0.  0.  0.  0.  0.  0.  0.  0.  0.  1.  0.  0.  0.]\n",
      " [ 0.  0.  0.  0.  1.  0.  0.  0.  0.  0.  0.  0.  0.]]\n",
      "[[ 0.  0.  0.  0.  0.  0.  0.  0.  0.  0.  0.  1.  0.]\n",
      " [ 0.  0.  0.  0.  0.  0.  0.  0.  0.  0.  0.  1.  0.]\n",
      " [ 0.  0.  0.  0.  0.  0.  0.  0.  0.  0.  0.  1.  0.]\n",
      " [ 0.  0.  0.  0.  0.  0.  0.  0.  0.  0.  0.  1.  0.]\n",
      " [ 0.  0.  0.  0.  0.  0.  0.  0.  0.  0.  0.  1.  0.]]\n"
     ]
    }
   ],
   "source": [
    "#Recode the decoder input\n",
    "print(decoder_input.shape)\n",
    "print(decoder_input[0])\n",
    "decoder_input_noinfo = np.zeros_like(decoder_input)\n",
    "for i, di in enumerate(decoder_input_noinfo):\n",
    "    for j, dj in enumerate(di):\n",
    "        decoder_input_noinfo[i,j,-2]=1\n",
    "print(decoder_input_noinfo[0])\n"
   ]
  },
  {
   "cell_type": "code",
   "execution_count": 57,
   "metadata": {
    "collapsed": false
   },
   "outputs": [
    {
     "name": "stdout",
     "output_type": "stream",
     "text": [
      "(256, 13)\n",
      "0.0349198\n"
     ]
    }
   ],
   "source": [
    "\n",
    "feed_dict = { feed_previous: True, keep_prob: 1, word_lens: s_len} # False feed_previous in the trainig process.\n",
    "feed_dict.update({enc_inp[t]: encoder_input[:,:,:,t] for t in range(seq_input_len)})\n",
    "feed_dict.update({dec_inp[t]: decoder_input_noinfo[:,t,:] for t in range(seq_length+1)})\n",
    "feed_dict.update({weights[t]: W[t] for t in range(seq_length+1)})\n",
    "feed_dict.update({targets[t]: T[t] for t in range(seq_length+1)})\n",
    "\n",
    "out_tst, outs, l = sess.run([output, dense_outputs, loss], feed_dict)\n",
    "print(outs[0].shape)\n",
    "print(l)"
   ]
  },
  {
   "cell_type": "code",
   "execution_count": 61,
   "metadata": {
    "collapsed": false
   },
   "outputs": [
    {
     "name": "stdout",
     "output_type": "stream",
     "text": [
      "1-9-9-4-12  vs  1-9-9-4-12\n",
      "0-2-12  vs  0-2-12\n",
      "6-6-5-3-12  vs  6-6-5-3-12\n",
      "7-8-12  vs  7-8-12\n",
      "3-12  vs  5-12\n",
      "9-12  vs  9-12\n",
      "9-1-12  vs  9-1-12\n",
      "7-5-3-12  vs  7-5-3-12\n",
      "0-1-8-12  vs  0-1-8-12\n",
      "4-2-7-3-12  vs  4-2-7-3-12\n",
      "3-4-2-5-12  vs  3-4-2-5-12\n",
      "7-2-3-5-12  vs  7-2-3-5-12\n",
      "2-12  vs  2-12\n",
      "6-0-9-12  vs  6-0-9-12\n",
      "1-4-6-6-12  vs  1-4-6-6-12\n",
      "2-8-12  vs  2-8-12\n",
      "2-3-9-1-12  vs  2-3-9-1-12\n",
      "5-4-12  vs  5-4-12\n",
      "2-3-9-7-12  vs  2-3-9-7-12\n",
      "3-12  vs  3-12\n",
      "3-4-3-12  vs  3-4-3-12\n",
      "5-5-7-12  vs  5-5-7-12\n",
      "2-8-0-2-12  vs  2-8-0-2-12\n",
      "1-0-3-12  vs  1-0-3-12\n",
      "5-4-4-3-12  vs  5-4-4-3-12\n",
      "5-12  vs  5-12\n",
      "2-6-3-12  vs  2-6-3-12\n",
      "4-3-1-8-12  vs  4-3-1-8-12\n",
      "7-9-1-1-12  vs  7-9-1-1-12\n",
      "1-3-9-7-12  vs  1-3-9-7-12\n",
      "7-2-12  vs  7-2-12\n",
      "2-6-8-7-12  vs  2-6-8-7-12\n",
      "8-12  vs  8-12\n",
      "9-1-6-12  vs  9-1-6-12\n",
      "0-1-6-5-12  vs  0-1-6-5-12\n",
      "7-1-3-12  vs  7-1-3-12\n",
      "2-1-9-0-12  vs  2-1-9-0-12\n",
      "0-4-4-1-12  vs  0-4-4-1-12\n",
      "8-12  vs  8-12\n",
      "0-6-12  vs  0-6-12\n",
      "5-4-3-12  vs  5-4-3-12\n",
      "3-12  vs  3-12\n",
      "0-9-8-7-12  vs  0-9-8-1-12\n",
      "3-4-6-12  vs  3-4-6-12\n",
      "1-7-6-12  vs  1-7-6-12\n",
      "3-7-1-12  vs  3-7-1-12\n",
      "6-7-9-2-12  vs  6-7-9-2-12\n",
      "6-12  vs  6-12\n",
      "3-5-4-7-12  vs  3-5-4-7-12\n",
      "6-0-12  vs  6-0-12\n",
      "3-0-12  vs  3-0-12\n",
      "7-4-12  vs  7-4-12\n",
      "1-2-3-12  vs  1-2-3-12\n",
      "7-12  vs  7-12\n",
      "3-8-6-0-12  vs  3-8-6-0-12\n",
      "9-12  vs  9-12\n",
      "4-9-2-9-12  vs  4-9-2-9-12\n",
      "0-8-0-12  vs  0-6-0-12\n",
      "9-12  vs  9-12\n",
      "9-3-7-3-12  vs  9-8-7-3-12\n",
      "7-8-5-12  vs  7-8-5-12\n",
      "0-1-7-12  vs  0-1-7-12\n",
      "2-6-7-5-12  vs  2-6-7-5-12\n",
      "4-9-3-12  vs  4-9-3-12\n",
      "5-12  vs  5-12\n",
      "4-9-7-7-12  vs  4-9-7-7-12\n",
      "8-0-12  vs  8-0-12\n",
      "9-7-12  vs  9-7-12\n",
      "5-12  vs  5-12\n",
      "3-12  vs  3-12\n",
      "8-6-9-6-12  vs  8-6-9-6-12\n",
      "9-8-3-4-12  vs  9-8-3-4-12\n",
      "8-3-0-7-12  vs  8-3-0-7-12\n",
      "8-7-12  vs  8-7-12\n",
      "0-7-0-6-12  vs  0-7-0-6-12\n",
      "6-0-0-2-12  vs  6-0-0-2-12\n",
      "8-2-12  vs  8-7-12\n",
      "2-6-5-12  vs  2-6-5-12\n",
      "8-1-3-9-12  vs  8-1-3-9-12\n",
      "8-4-12  vs  8-4-12\n",
      "8-9-4-1-12  vs  8-9-4-1-12\n",
      "7-0-7-12  vs  7-0-7-12\n",
      "4-0-12  vs  4-0-12\n",
      "4-12  vs  4-12\n",
      "0-5-1-2-12  vs  0-5-1-2-12\n",
      "1-2-3-12  vs  1-2-3-12\n",
      "9-4-0-12  vs  9-4-0-12\n",
      "5-8-9-12  vs  5-8-9-12\n",
      "2-0-6-12  vs  2-0-6-12\n",
      "0-5-12  vs  0-5-12\n",
      "4-5-7-8-12  vs  4-5-7-8-12\n",
      "1-12  vs  1-12\n",
      "7-1-2-12  vs  7-1-2-12\n",
      "6-12  vs  6-12\n",
      "0-2-4-4-12  vs  0-2-4-4-12\n",
      "9-1-12  vs  9-1-12\n",
      "2-2-9-12  vs  2-2-9-12\n",
      "2-3-12  vs  2-3-12\n",
      "9-7-0-12  vs  9-7-0-12\n",
      "5-12  vs  5-12\n",
      "4-3-5-12  vs  4-3-5-12\n",
      "6-6-5-12  vs  6-5-5-12\n",
      "6-6-12  vs  6-6-12\n",
      "4-1-12  vs  4-1-12\n",
      "9-2-2-7-12  vs  9-2-2-7-12\n",
      "8-7-12  vs  8-7-12\n",
      "1-12  vs  1-12\n",
      "7-5-8-6-12  vs  7-5-8-6-12\n",
      "8-9-9-4-12  vs  8-9-9-4-12\n",
      "6-8-6-3-12  vs  6-8-6-3-12\n",
      "8-1-8-12  vs  8-1-8-12\n",
      "2-12  vs  2-12\n",
      "6-8-12  vs  6-8-12\n",
      "3-8-12  vs  3-8-12\n",
      "6-6-6-7-12  vs  6-6-1-7-12\n",
      "5-3-0-12  vs  5-3-0-12\n",
      "6-5-12  vs  6-5-12\n",
      "4-1-8-12  vs  4-1-8-12\n",
      "1-6-1-7-12  vs  1-6-1-7-12\n",
      "6-6-2-12  vs  6-6-2-12\n",
      "3-12  vs  3-12\n",
      "8-12  vs  8-12\n",
      "5-6-2-12  vs  5-6-2-12\n",
      "6-4-5-12  vs  6-4-5-12\n",
      "7-0-12  vs  7-0-12\n",
      "7-0-8-12  vs  7-0-8-12\n",
      "1-12  vs  1-12\n",
      "1-12  vs  1-12\n",
      "9-9-0-3-12  vs  9-9-0-3-12\n",
      "4-6-0-9-12  vs  4-6-0-9-12\n",
      "2-2-12  vs  2-2-12\n",
      "0-9-12  vs  0-9-12\n",
      "3-0-4-12  vs  3-0-4-12\n",
      "9-12  vs  9-12\n",
      "8-12  vs  8-12\n",
      "0-0-2-12  vs  0-0-2-12\n",
      "8-4-12  vs  8-4-12\n",
      "9-3-7-12  vs  9-3-7-12\n",
      "0-12  vs  0-12\n",
      "0-9-7-1-12  vs  0-9-7-1-12\n",
      "1-4-12  vs  1-4-12\n",
      "8-6-0-12  vs  6-6-0-12\n",
      "3-12  vs  3-12\n",
      "3-0-12  vs  3-0-12\n",
      "6-9-2-8-12  vs  6-9-2-8-12\n",
      "5-4-9-8-12  vs  5-4-9-8-12\n",
      "1-1-7-12  vs  1-1-7-12\n",
      "0-12  vs  0-12\n",
      "0-5-12  vs  0-5-12\n",
      "6-6-12  vs  6-6-12\n",
      "7-6-4-9-12  vs  7-6-4-9-12\n",
      "3-4-12  vs  3-4-12\n",
      "0-12  vs  0-12\n",
      "0-7-1-12  vs  0-7-1-12\n",
      "7-5-9-5-12  vs  7-5-9-5-12\n",
      "6-12  vs  6-12\n",
      "0-12  vs  0-12\n",
      "9-6-12  vs  9-6-12\n",
      "5-12  vs  5-12\n",
      "5-8-5-12  vs  6-8-5-12\n",
      "6-6-4-12  vs  6-6-4-12\n",
      "1-2-8-0-12  vs  1-2-8-0-12\n",
      "3-3-9-12  vs  3-3-9-12\n",
      "9-2-12  vs  9-2-12\n",
      "9-12  vs  9-12\n",
      "3-4-4-12  vs  3-4-4-12\n",
      "7-6-12  vs  7-6-12\n",
      "6-0-6-12  vs  6-0-6-12\n",
      "3-12  vs  8-12\n",
      "9-1-3-12  vs  4-1-3-12\n",
      "2-4-7-12  vs  2-4-7-12\n",
      "1-6-2-12  vs  1-6-2-12\n",
      "8-12  vs  8-12\n",
      "9-0-5-0-12  vs  9-0-5-0-12\n",
      "5-7-12  vs  5-7-12\n",
      "3-12  vs  3-12\n",
      "0-12  vs  0-12\n",
      "9-8-12  vs  9-8-12\n",
      "1-12  vs  1-12\n",
      "8-12  vs  8-12\n",
      "3-5-6-3-12  vs  2-6-6-3-12\n",
      "5-5-1-9-12  vs  6-5-1-9-12\n",
      "7-3-12  vs  7-3-12\n",
      "6-12  vs  6-12\n",
      "7-4-12  vs  7-4-12\n",
      "8-12  vs  8-12\n",
      "5-9-0-12  vs  5-9-0-12\n",
      "6-1-7-12  vs  6-1-7-12\n",
      "4-9-3-12  vs  4-9-3-12\n",
      "4-12  vs  4-12\n",
      "8-6-12  vs  8-6-12\n",
      "7-1-9-12  vs  7-1-9-12\n",
      "4-4-12  vs  4-4-12\n",
      "7-2-7-12  vs  7-2-7-12\n",
      "0-5-12  vs  0-5-12\n",
      "8-7-5-3-12  vs  8-7-5-8-12\n",
      "9-6-12  vs  9-6-12\n",
      "0-3-1-6-12  vs  0-3-1-6-12\n",
      "9-12  vs  9-12\n",
      "8-1-6-3-12  vs  8-1-6-3-12\n",
      "7-1-8-0-12  vs  7-1-8-0-12\n",
      "6-8-8-6-12  vs  6-8-8-6-12\n",
      "2-7-7-12  vs  2-7-7-12\n",
      "4-2-12  vs  4-2-12\n",
      "0-6-7-12  vs  0-6-7-12\n",
      "0-0-12  vs  0-0-12\n",
      "6-3-0-8-12  vs  6-3-0-8-12\n",
      "9-5-4-12  vs  9-5-4-12\n",
      "4-7-9-12  vs  4-7-9-12\n",
      "4-12  vs  4-12\n",
      "8-6-7-0-12  vs  8-6-7-0-12\n",
      "5-12  vs  5-12\n",
      "3-5-6-12  vs  3-5-6-12\n",
      "0-2-12  vs  0-2-12\n",
      "8-3-12  vs  8-3-12\n",
      "4-12  vs  4-12\n",
      "0-0-5-12  vs  0-0-5-12\n",
      "4-12  vs  4-12\n",
      "0-12  vs  0-12\n",
      "5-12  vs  5-12\n",
      "8-12  vs  8-12\n",
      "7-2-12  vs  7-2-12\n",
      "8-0-6-12  vs  8-0-6-12\n",
      "9-4-4-9-12  vs  9-4-4-9-12\n",
      "3-12  vs  3-12\n",
      "2-5-3-8-12  vs  2-5-3-8-12\n",
      "3-12  vs  3-12\n",
      "1-5-6-12  vs  1-5-6-12\n",
      "4-5-9-3-12  vs  4-5-9-3-12\n",
      "0-4-8-12  vs  0-4-8-12\n",
      "1-3-9-12  vs  1-3-9-12\n",
      "5-1-12  vs  5-1-12\n",
      "6-12  vs  6-12\n",
      "0-9-4-12  vs  0-9-9-12\n",
      "9-12  vs  9-12\n",
      "6-12  vs  6-12\n",
      "6-9-12  vs  6-9-12\n",
      "7-4-12  vs  7-4-12\n",
      "9-6-1-12  vs  9-6-1-12\n",
      "7-4-12  vs  7-4-12\n",
      "8-4-3-12  vs  8-4-3-12\n",
      "8-1-12  vs  8-1-12\n",
      "4-8-12  vs  4-8-12\n",
      "8-9-12  vs  8-7-12\n",
      "2-7-2-9-12  vs  2-7-2-9-12\n",
      "2-2-3-12  vs  2-2-3-12\n",
      "5-9-6-7-12  vs  5-9-6-7-12\n",
      "2-7-12  vs  2-7-12\n",
      "5-5-2-12  vs  5-5-2-12\n",
      "6-8-7-0-12  vs  6-8-7-0-12\n",
      "7-12  vs  7-12\n",
      "7-5-3-5-12  vs  7-5-3-5-12\n",
      "0-8-7-12  vs  0-8-7-12\n",
      "1-0-2-3-12  vs  1-0-2-3-12\n",
      "5-2-9-12  vs  5-2-9-12\n",
      "8-12  vs  8-12\n",
      "pct correct:  240 0.9375\n"
     ]
    }
   ],
   "source": [
    "# Print some results\n",
    "correct=0\n",
    "response_predict_text = decode_response(out_tst)\n",
    "#real_text = [''.join([decode_dict[r] for r in rr]) for rr in T.T]\n",
    "for resp in range(256):\n",
    "    print(decode_text(s[4][resp]), ' vs ', decode_text(response_predict_text[resp]))\n",
    "    if decode_text(s[4][resp]) == decode_text(response_predict_text[resp]):\n",
    "        correct += 1\n",
    "print('pct correct: ', correct, float(correct)/(resp+1))\n",
    "\n"
   ]
  },
  {
   "cell_type": "code",
   "execution_count": 59,
   "metadata": {
    "collapsed": false
   },
   "outputs": [
    {
     "name": "stdout",
     "output_type": "stream",
     "text": [
      "[ 3 12 10 10 10]\n",
      "[5, 12, 12, 12, 12]\n"
     ]
    },
    {
     "data": {
      "image/png": "[encoded data removed]",
      "text/plain": [
       "<matplotlib.figure.Figure at 0x7f321abc08d0>"
      ]
     },
     "metadata": {},
     "output_type": "display_data"
    }
   ],
   "source": [
    "#Plot probabilities for one case\n",
    "def plot_graph(logits3d, i):\n",
    "    #Graph\n",
    "    print(s[4][i])\n",
    "    response_dec = [np.argmax(r) for r in logits3d[:,i,:]]\n",
    "    response_text = [''.join([decode_dict[r] for r in response_dec])]\n",
    "    print(response_dec)\n",
    "    plt.figure(figsize=(20,10))\n",
    "    legend =[]\n",
    "    for position in range(logits3d.shape[2]):\n",
    "        plt.plot(range(logits3d.shape[0]), logits3d[:,i,position])\n",
    "        legend += [position]\n",
    "    plt.legend(legend)\n",
    "    plt.show()\n",
    "\n",
    "plot_graph(np.array(outs), 4)"
   ]
  },
  {
   "cell_type": "code",
   "execution_count": null,
   "metadata": {
    "collapsed": true
   },
   "outputs": [],
   "source": []
  }
 ],
 "metadata": {
  "kernelspec": {
   "display_name": "Python 2",
   "language": "python",
   "name": "python2"
  },
  "language_info": {
   "codemirror_mode": {
    "name": "ipython",
    "version": 2
   },
   "file_extension": ".py",
   "mimetype": "text/x-python",
   "name": "python",
   "nbconvert_exporter": "python",
   "pygments_lexer": "ipython2",
   "version": "2.7.6"
  }
 },
 "nbformat": 4,
 "nbformat_minor": 0
}
