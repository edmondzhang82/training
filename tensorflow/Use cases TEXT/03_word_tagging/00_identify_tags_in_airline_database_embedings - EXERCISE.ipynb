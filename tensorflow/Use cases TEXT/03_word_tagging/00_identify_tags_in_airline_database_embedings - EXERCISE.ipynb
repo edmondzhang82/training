{
 "cells": [
  {
   "cell_type": "markdown",
   "metadata": {},
   "source": [
    "# Identify tags in airline database\n",
    "\n",
    "## Minimal code\n",
    "\n",
    "    - Read dataset\n",
    "    - transform data\n",
    "    - Minimal model\n",
    "        - Embedings\n",
    "        - Dense\n",
    "        \n"
   ]
  },
  {
   "cell_type": "code",
   "execution_count": null,
   "metadata": {
    "collapsed": false
   },
   "outputs": [],
   "source": [
    "from __future__ import print_function\n",
    "\n",
    "import os \n",
    "import numpy as np \n",
    "\n",
    "import tensorflow as tf \n",
    "print(tf.__version__)\n",
    "\n",
    "os.environ[\"CUDA_DEVICE_ORDER\"]=\"PCI_BUS_ID\"\n",
    "os.environ[\"CUDA_VISIBLE_DEVICES\"]=\"0\"\n"
   ]
  },
  {
   "cell_type": "markdown",
   "metadata": {},
   "source": [
    "## Dataset\n",
    "\n",
    "ATIS (Airline Travel Information System) dataset. Available in: https://github.com/mesnilgr/is13/blob/master/data/load.py\n",
    "\n",
    "### Example:\n",
    "\n",
    "Input (words)\tshow\tflights\tfrom\tBoston\tto\tNew\tYork\ttoday\n",
    "\n",
    "Output (labels)\tO\tO\tO\tB-dept\tO\tB-arr\tI-arr\tB-date\n",
    "\n",
    "\n"
   ]
  },
  {
   "cell_type": "code",
   "execution_count": null,
   "metadata": {
    "collapsed": false
   },
   "outputs": [],
   "source": [
    "# Read data\n",
    "import pickle\n",
    "import sys\n",
    "\n",
    "atis_file = '/home/ubuntu/data/training/text/atis/atis.pkl'\n",
    "with open(atis_file,'rb') as f:\n",
    "    if sys.version_info.major==2:\n",
    "        train, test, dicts = pickle.load(f) #python2.7\n",
    "    else:\n",
    "        train, test, dicts = pickle.load(f, encoding='bytes') #python3\n"
   ]
  },
  {
   "cell_type": "markdown",
   "metadata": {},
   "source": [
    "## train / test sets:\n",
    "    - X: list of input sequences\n",
    "    - label: List of target labels asociated to each word in each sentence.\n",
    "## Dictionaries\n",
    "    - labels2idx:  To decode the labels\n",
    "    - words2idx: To decode the sentences"
   ]
  },
  {
   "cell_type": "code",
   "execution_count": null,
   "metadata": {
    "collapsed": false,
    "scrolled": true
   },
   "outputs": [],
   "source": [
    "#Dictionaries and train test partition\n",
    "w2idx, ne2idx, labels2idx = dicts[b'words2idx'], dicts[b'tables2idx'], dicts[b'labels2idx']\n",
    "    \n",
    "idx2w  = dict((v,k) for k,v in w2idx.items())\n",
    "idx2la = dict((v,k) for k,v in labels2idx.items())\n",
    "\n",
    "train_x, _, train_label = train\n",
    "test_x,  _,  test_label  = test\n",
    "\n",
    "\n",
    "\n",
    "# Visualize data\n",
    "wlength = 35\n",
    "for e in ['train','test']:\n",
    "    print(e)\n",
    "    for sw, sl in zip(eval(e+'_x')[:2], eval(e+'_label')[:2]):\n",
    "        print( 'WORD'.rjust(wlength), 'LABEL'.rjust(wlength))\n",
    "        for wx, la in zip(sw, sl): print( idx2w[wx].rjust(wlength), idx2la[la].rjust(wlength))\n",
    "        print( '\\n'+'**'*30+'\\n')\n"
   ]
  },
  {
   "cell_type": "code",
   "execution_count": null,
   "metadata": {
    "collapsed": false
   },
   "outputs": [],
   "source": [
    "#Select words for the label 48: b'B-fromloc.city_name' in train and test to check that are different:\n",
    "for e in ['train','test']:\n",
    "    print(e)\n",
    "    print('---------')\n",
    "    for sw, sl in zip(eval(e+'_x')[:5], eval(e+'_label')[:5]):\n",
    "        for wx, la in zip(sw, sl): \n",
    "            if la==48:\n",
    "                print( idx2w[wx])\n",
    "    print('\\n')\n"
   ]
  },
  {
   "cell_type": "markdown",
   "metadata": {},
   "source": [
    "## Data transformation\n",
    "    - Convert the list of sequences of words into an array of words x characteristics.\n",
    "    - The characteristics are the context of the word in the sentence.\n",
    "        - For each word in the sentence, generate the context with the previous and the next words in the sentence.\n",
    "        - For words at the beggining and the end, use padding to complete the context."
   ]
  },
  {
   "cell_type": "code",
   "execution_count": null,
   "metadata": {
    "collapsed": false
   },
   "outputs": [],
   "source": [
    "# Max value of word coding to assign the ID_PAD\n",
    "ID_PAD = np.max([np.max(tx) for tx in train_x]) + 1\n",
    "print('ID_PAD: ', ID_PAD)\n",
    "\n",
    "def context(l, size=3):\n",
    "    l = list(l)\n",
    "    lpadded = size // 2 * [ID_PAD] + l + size // 2 * [ID_PAD]\n",
    "    out = [lpadded[i:(i + size)] for i in range(len(l))]\n",
    "    return out\n",
    "\n",
    "#Example\n",
    "x = np.array([0, 1, 2, 3, 4], dtype=np.int32)\n",
    "print('Context vectors: ', context(x))"
   ]
  },
  {
   "cell_type": "code",
   "execution_count": null,
   "metadata": {
    "collapsed": false
   },
   "outputs": [],
   "source": [
    "# Create train and test X y.\n",
    "X_trn=[]\n",
    "for s in train_x:\n",
    "    X_trn += context(s,size=10)\n",
    "X_trn = np.array(X_trn)\n",
    "\n",
    "X_tst=[]\n",
    "for s in test_x:\n",
    "    X_tst += context(s,size=10)\n",
    "X_tst = np.array(X_tst)\n",
    "\n",
    "print('X trn shape: ', X_trn.shape)\n",
    "print('X_tst shape: ',X_tst.shape)\n",
    "\n",
    "\n",
    "y_trn=[]\n",
    "for s in train_label:\n",
    "    y_trn += list(s)\n",
    "y_trn = np.array(y_trn)\n",
    "print('y_trn shape: ',y_trn.shape)\n",
    "\n",
    "y_tst=[]\n",
    "for s in test_label:\n",
    "    y_tst += list(s)\n",
    "y_tst = np.array(y_tst)\n",
    "print('y_tst shape: ',y_tst.shape)\n"
   ]
  },
  {
   "cell_type": "code",
   "execution_count": null,
   "metadata": {
    "collapsed": false
   },
   "outputs": [],
   "source": [
    "print('Num labels: ',len(set(y_trn)))\n",
    "print('Num words: ',len(set(idx2w)))"
   ]
  },
  {
   "cell_type": "markdown",
   "metadata": {},
   "source": [
    "# First model\n",
    "\n",
    "## Architecture\n",
    "    - tf.nn.embedding_lookup\n",
    "    - Dense layer: tf.nn.relu(tf.matmul(x, W) + b)\n"
   ]
  },
  {
   "cell_type": "code",
   "execution_count": null,
   "metadata": {
    "collapsed": false
   },
   "outputs": [],
   "source": [
    "#General parameters\n",
    "LOG_DIR = '/tmp/tensorboard/airline/embeddings/'\n",
    "\n",
    "# data attributes\n",
    "input_seq_length = X_trn.shape[1]\n",
    "input_vocabulary_size = len(set(idx2w)) + 1\n",
    "output_length = 127\n",
    "\n",
    "#Model parameters\n",
    "embedding_size=64\n"
   ]
  },
  {
   "cell_type": "code",
   "execution_count": null,
   "metadata": {
    "collapsed": false
   },
   "outputs": [],
   "source": [
    "# Define the tensorflow graph\n",
    "\n",
    "graph = tf.Graph()\n",
    "\n",
    "with graph.as_default():\n",
    "    # graph definition\n",
    "    # Inputs\n",
    "    with tf.name_scope('Inputs') as scope:\n",
    "        x = tf.placeholder(tf.int32, shape=[None, input_seq_length], name='x')\n",
    "        y = tf.placeholder(tf.int64, shape=[None], name='y')\n",
    "\n",
    "    with tf.name_scope('Embeddings') as scope:\n",
    "        #----------------------------------------\n",
    "        # Put your embedding layer here\n",
    "        #----------------------------------------\n",
    "        print('embedding_layer: ', embedding_layer)\n",
    "        \n",
    "\n",
    "        #----------------------------------------\n",
    "        # You need to do some transformation to connect the embedding out to the dense layer?\n",
    "        #----------------------------------------\n",
    "        print('Flat embedding layer: ', flat_embedding)\n",
    " \n",
    "\n",
    "    \n",
    "    #Dense layer form RNN outs to prediction\n",
    "    with tf.name_scope('Dense') as scope:\n",
    "        #----------------------------------------\n",
    "        # Put your final dense layer layer here\n",
    "        #----------------------------------------\n",
    "        print('dense_output: ', dense_output)\n",
    "\n",
    "        \n",
    "\n",
    "    # Loss function\n",
    "    with tf.name_scope(\"xent\") as scope:\n",
    "        cross_entropy = tf.nn.sparse_softmax_cross_entropy_with_logits(logits=dense_output,\n",
    "                                                                       labels=y, name='cross_entropy')\n",
    "        #----------------------------------------\n",
    "        # Put your summary operation here\n",
    "        #----------------------------------------\n",
    "        \n",
    "        \n",
    "\n",
    "    #Optimizer\n",
    "    with tf.name_scope(\"train\") as scope:\n",
    "        optimizer = tf.train.AdamOptimizer(0.001)\n",
    "        train_op = optimizer.minimize(cross_entropy, name='train_op')\n",
    "\n",
    "\n",
    "    #Accuracy\n",
    "    with tf.name_scope(\"test\") as scope:\n",
    "        #Prediction\n",
    "        y_pred = tf.nn.softmax(dense_output, name='y_pred')\n",
    "        correct_prediction = tf.equal(tf.argmax(dense_output,1), y)\n",
    "        accuracy = tf.reduce_mean(tf.cast(correct_prediction, tf.float32), name='accuracy')\n",
    "        #----------------------------------------\n",
    "        # Put your summary operation here\n",
    "        #----------------------------------------\n",
    "        \n",
    "        \n",
    "\n",
    "    with tf.name_scope('summaries') as scope:\n",
    "        #----------------------------------------\n",
    "        # Put your merge all summaries here\n",
    "        #----------------------------------------\n",
    "        \n",
    "        \n",
    "        "
   ]
  },
  {
   "cell_type": "code",
   "execution_count": null,
   "metadata": {
    "collapsed": true
   },
   "outputs": [],
   "source": []
  },
  {
   "cell_type": "code",
   "execution_count": null,
   "metadata": {
    "collapsed": false
   },
   "outputs": [],
   "source": [
    "#batch generator\n",
    "def batch_generator(x, y, batch_size=128):\n",
    "    for i in range(0, x.shape[0]-batch_size, batch_size):\n",
    "        x_batch = x[i:i+batch_size,:]\n",
    "        y_batch = y[i:i+batch_size]\n",
    "        yield x_batch, y_batch\n",
    "    \n",
    "seq = batch_generator(x, y, batch_size=20)\n",
    "print(next(seq))"
   ]
  },
  {
   "cell_type": "code",
   "execution_count": null,
   "metadata": {
    "collapsed": false
   },
   "outputs": [],
   "source": [
    "# Execute the graph to train a network\n",
    "batch_size = 256\n",
    "nEpochs = 20\n",
    "\n",
    "gpu_options = tf.GPUOptions(allow_growth = True)\n",
    "with tf.Session(graph=graph, config=tf.ConfigProto(gpu_options=gpu_options)) as session:\n",
    "    \n",
    "    #----------------------------------------\n",
    "    # Define here the summary writers for train and test.\n",
    "    #----------------------------------------\n",
    "\n",
    "    print('Initializing')\n",
    "    print('Epoch - Loss(trn) -  Acc(trn)   -   Loss(tst) -   Acc(tst)')\n",
    "    tf.global_variables_initializer().run()\n",
    "    for epoch in range(nEpochs):\n",
    "        ce_c=[]\n",
    "        acc_c=[]\n",
    "        ce_c_tst=[]\n",
    "        acc_c_tst=[]\n",
    "        \n",
    "        batch_list = batch_generator(x, y, batch_size=batch_size)\n",
    "        for i, batch in enumerate(batch_list):\n",
    "            feedDict = {x: batch[0], y: batch[1]} # dictionary of batch data to run the graph\n",
    "            _, ce, acc = session.run([train_op, cross_entropy, accuracy], feed_dict=feedDict)\n",
    "            ce_c += [ce]\n",
    "            acc_c += [acc]\n",
    "        #----------------------------------------\n",
    "        # Add the summaries evaluator and writer for train here\n",
    "        #----------------------------------------\n",
    "        \n",
    "            \n",
    "        batch_list_tst = batch_generator(x, y, batch_size=batch_size)\n",
    "        for x_batch, y_batch in batch_list_tst:\n",
    "            feedDict = {x: x_batch, y: y_batch} # dictionary of batch data to run the graph\n",
    "            ce_tst, acc_tst = session.run([cross_entropy, accuracy], feed_dict=feedDict)\n",
    "            ce_c_tst += [ce_tst]\n",
    "            acc_c_tst += [acc_tst]\n",
    "        \n",
    "        #----------------------------------------\n",
    "        # Add the summaries evaluator and writer for test here\n",
    "        #----------------------------------------\n",
    "\n",
    "        print(epoch, np.mean(ce_c), np.mean(acc_c), np.mean(ce_c_tst), np.mean(acc_c_tst), sep='   -   ')"
   ]
  },
  {
   "cell_type": "code",
   "execution_count": null,
   "metadata": {
    "collapsed": true
   },
   "outputs": [],
   "source": []
  }
 ],
 "metadata": {
  "anaconda-cloud": {},
  "kernelspec": {
   "display_name": "Python [conda env:py3_tf1]",
   "language": "python",
   "name": "conda-env-py3_tf1-py"
  },
  "language_info": {
   "codemirror_mode": {
    "name": "ipython",
    "version": 3
   },
   "file_extension": ".py",
   "mimetype": "text/x-python",
   "name": "python",
   "nbconvert_exporter": "python",
   "pygments_lexer": "ipython3",
   "version": "3.6.0"
  }
 },
 "nbformat": 4,
 "nbformat_minor": 1
}
