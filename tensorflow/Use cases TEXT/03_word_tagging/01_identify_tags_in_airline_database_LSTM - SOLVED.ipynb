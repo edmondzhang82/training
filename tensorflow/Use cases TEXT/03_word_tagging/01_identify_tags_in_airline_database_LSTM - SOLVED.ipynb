{
 "cells": [
  {
   "cell_type": "markdown",
   "metadata": {},
   "source": [
    "# Identify tags in airline database\n",
    "\n",
    "## Recurrent neural network\n",
    "\n",
    "    - Improving the model of: 00_identify_tags_in_airline_database_embedings - SOLVED  \n"
   ]
  },
  {
   "cell_type": "code",
   "execution_count": 1,
   "metadata": {
    "collapsed": false
   },
   "outputs": [
    {
     "name": "stdout",
     "output_type": "stream",
     "text": [
      "Python version:  3.6.0 |Continuum Analytics, Inc.| (default, Dec 23 2016, 12:22:00) \n",
      "[GCC 4.4.7 20120313 (Red Hat 4.4.7-1)]\n",
      " Tensorflow version:  1.0.1\n"
     ]
    }
   ],
   "source": [
    "from __future__ import print_function\n",
    "\n",
    "import sys\n",
    "import os \n",
    "import numpy as np \n",
    "import tensorflow as tf \n",
    "\n",
    "print('Python version: ', sys.version)\n",
    "\n",
    "print(' Tensorflow version: ', tf.__version__)\n",
    "\n",
    "os.environ[\"CUDA_DEVICE_ORDER\"]=\"PCI_BUS_ID\"\n",
    "os.environ[\"CUDA_VISIBLE_DEVICES\"]=\"0\"\n"
   ]
  },
  {
   "cell_type": "markdown",
   "metadata": {},
   "source": [
    "## Dataset transformation\n"
   ]
  },
  {
   "cell_type": "code",
   "execution_count": 2,
   "metadata": {
    "collapsed": false
   },
   "outputs": [
    {
     "name": "stdout",
     "output_type": "stream",
     "text": [
      "ID_PAD:  572\n",
      "X trn shape:  (56590, 10)\n",
      "X_tst shape:  (9198, 10)\n",
      "y_trn shape:  (56590,)\n",
      "y_tst shape:  (9198,)\n",
      "Num labels:  121\n",
      "Num words:  572\n"
     ]
    }
   ],
   "source": [
    "# Read data\n",
    "import pickle\n",
    "\n",
    "atis_file = '/home/ubuntu/data/training/text/atis/atis.pkl'\n",
    "\n",
    "with open(atis_file,'rb') as f:\n",
    "    if sys.version_info.major==2:\n",
    "        train, test, dicts = pickle.load(f) #python2.7\n",
    "    else:\n",
    "        train, test, dicts = pickle.load(f, encoding='bytes') #python3\n",
    "\n",
    "#Dictionaries and train test partition\n",
    "w2idx, ne2idx, labels2idx = dicts[b'words2idx'], dicts[b'tables2idx'], dicts[b'labels2idx']\n",
    "    \n",
    "idx2w  = dict((v,k) for k,v in w2idx.items())\n",
    "idx2la = dict((v,k) for k,v in labels2idx.items())\n",
    "\n",
    "train_x, _, train_label = train\n",
    "test_x,  _,  test_label  = test\n",
    "\n",
    "\n",
    "# Max value of word coding to assign the ID_PAD\n",
    "ID_PAD = np.max([np.max(tx) for tx in train_x]) + 1\n",
    "print('ID_PAD: ', ID_PAD)\n",
    "\n",
    "def context(l, size=3):\n",
    "    l = list(l)\n",
    "    lpadded = size // 2 * [ID_PAD] + l + size // 2 * [ID_PAD]\n",
    "    out = [lpadded[i:(i + size)] for i in range(len(l))]\n",
    "    return out\n",
    "\n",
    "\n",
    "# Create train and test X y.\n",
    "X_trn=[]\n",
    "for s in train_x:\n",
    "    X_trn += context(s,size=10)\n",
    "X_trn = np.array(X_trn)\n",
    "\n",
    "X_tst=[]\n",
    "for s in test_x:\n",
    "    X_tst += context(s,size=10)\n",
    "X_tst = np.array(X_tst)\n",
    "print('X trn shape: ', X_trn.shape)\n",
    "print('X_tst shape: ',X_tst.shape)\n",
    "\n",
    "y_trn=[]\n",
    "for s in train_label:\n",
    "    y_trn += list(s)\n",
    "y_trn = np.array(y_trn)\n",
    "print('y_trn shape: ',y_trn.shape)\n",
    "\n",
    "y_tst=[]\n",
    "for s in test_label:\n",
    "    y_tst += list(s)\n",
    "y_tst = np.array(y_tst)\n",
    "print('y_tst shape: ',y_tst.shape)\n",
    "\n",
    "print('Num labels: ',len(set(y_trn)))\n",
    "print('Num words: ',len(set(idx2w)))"
   ]
  },
  {
   "cell_type": "markdown",
   "metadata": {},
   "source": [
    "# Simpe LSTM model\n",
    "\n",
    "## Architecture\n",
    "    - tf.nn.embedding_lookup\n",
    "    - tf.nn.dynamic_rnn layer\n",
    "    - Dense layer: tf.nn.relu(tf.matmul(x, W) + b)\n",
    "    \n",
    "## Features\n",
    "    - Dropout\n",
    "    - Saver\n",
    "    - Cross entropy with loss regularization\n",
    "    - Score function"
   ]
  },
  {
   "cell_type": "code",
   "execution_count": 3,
   "metadata": {
    "collapsed": false
   },
   "outputs": [],
   "source": [
    "#General parameters\n",
    "LOG_DIR = '/tmp/tensorboard/airline/LSTM/'\n",
    "\n",
    "# data attributes\n",
    "input_seq_length = X_trn.shape[1]\n",
    "input_vocabulary_size = len(set(idx2w)) + 1\n",
    "output_length = 127\n",
    "\n",
    "#Model parameters\n",
    "embedding_size=64\n",
    "num_hidden_lstm = 128\n"
   ]
  },
  {
   "cell_type": "code",
   "execution_count": 4,
   "metadata": {
    "collapsed": false
   },
   "outputs": [
    {
     "name": "stdout",
     "output_type": "stream",
     "text": [
      "embedding_layer:  Tensor(\"Embeddings/embedding_lookup:0\", shape=(?, 10, 64), dtype=float32)\n",
      "lstm_outputs:  Tensor(\"LSTM/rnn1/transpose:0\", shape=(?, 10, 128), dtype=float32)\n",
      "dense_output:  Tensor(\"Dense/Relu:0\", shape=(?, 127), dtype=float32)\n"
     ]
    }
   ],
   "source": [
    "# Define the tensorflow graph\n",
    "\n",
    "graph = tf.Graph()\n",
    "\n",
    "with graph.as_default():\n",
    "    # graph definition\n",
    "    # Inputs\n",
    "    with tf.name_scope('Inputs') as scope:\n",
    "        x = tf.placeholder(tf.int32, shape=[None, input_seq_length], name='x')\n",
    "        y = tf.placeholder(tf.int64, shape=[None], name='y')\n",
    "\n",
    "    with tf.name_scope('Embeddings') as scope:\n",
    "        W_embedding = tf.Variable(tf.random_uniform([input_vocabulary_size, embedding_size], -1.0, 1.0) ,name=\"W\")\n",
    "        embedding_layer = tf.nn.embedding_lookup(W_embedding, x)\n",
    "        print('embedding_layer: ', embedding_layer)\n",
    "\n",
    "    with tf.name_scope('LSTM') as scope:\n",
    "        keep_prob = tf.placeholder(tf.float32, name='keep_prob')\n",
    "        cell_1 = tf.contrib.rnn.LSTMCell(num_hidden_lstm, initializer=tf.random_uniform_initializer(-0.1, 0.1, seed=123))\n",
    "        cell_1 = tf.contrib.rnn.DropoutWrapper(cell_1, output_keep_prob=keep_prob)\n",
    "        lstm_outputs, lstm_state = tf.nn.dynamic_rnn(cell_1, embedding_layer, dtype=tf.float32, scope='rnn1')\n",
    "        print('lstm_outputs: ', lstm_outputs)\n",
    " \n",
    "\n",
    "    #Dense layer form RNN outs to prediction\n",
    "    with tf.name_scope('Dense') as scope:\n",
    "        W_dense = tf.Variable(tf.truncated_normal([num_hidden_lstm, output_length], stddev=0.1), name='W_dense')\n",
    "        b_dense = tf.Variable(tf.constant(0.1, shape=[output_length]), name='b_dense')\n",
    "        dense_output = tf.nn.relu(tf.matmul(lstm_outputs[:,-1,:], W_dense) + b_dense)\n",
    "        print('dense_output: ', dense_output)\n",
    "\n",
    "        \n",
    "    # Loss function\n",
    "    with tf.name_scope(\"xent\") as scope:\n",
    "        cross_entropy = tf.nn.sparse_softmax_cross_entropy_with_logits(logits=dense_output,\n",
    "                                                                       labels=y, name='cross_entropy')\n",
    "        ce_summary = tf.summary.scalar(\"cross_entropy\", tf.reduce_mean(cross_entropy))\n",
    "\n",
    "    #Optimizer\n",
    "    with tf.name_scope(\"train\") as scope:\n",
    "        optimizer = tf.train.AdamOptimizer(0.001)\n",
    "        train_op = optimizer.minimize(cross_entropy, name='train_op')\n",
    "\n",
    "\n",
    "    #Accuracy\n",
    "    with tf.name_scope(\"test\") as scope:\n",
    "        #Prediction\n",
    "        y_pred = tf.nn.softmax(dense_output, name='y_pred')\n",
    "        #Accuracy\n",
    "        correct_prediction = tf.equal(tf.argmax(dense_output,1), y)\n",
    "        accuracy = tf.reduce_mean(tf.cast(correct_prediction, tf.float32), name='accuracy')\n",
    "        accuracy_summary = tf.summary.scalar(\"accuracy\", accuracy)\n",
    "\n",
    "\n",
    "    # Merge all the summaries and write them out to /tmp/mnist_logs\n",
    "    with tf.name_scope('summaries') as scope:\n",
    "        merged = tf.summary.merge_all()\n",
    " \n",
    "    # Saver\n",
    "    saver = tf.train.Saver()\n"
   ]
  },
  {
   "cell_type": "code",
   "execution_count": 5,
   "metadata": {
    "collapsed": false
   },
   "outputs": [
    {
     "name": "stdout",
     "output_type": "stream",
     "text": [
      "(array([[554, 241, 481, 165, 193, 197, 208, 379, 502,  64],\n",
      "       [193, 514, 208,  77, 502, 137, 359, 544,  40, 481],\n",
      "       [232, 331, 237, 358,  13, 193, 208,  77, 502, 137],\n",
      "       [ 32, 194,  40, 183, 208, 137, 502, 415, 205, 572],\n",
      "       [232, 331,  13, 277, 353, 194, 208, 452, 375, 195],\n",
      "       [572, 193, 348, 208, 313, 502, 282,  71, 358, 249],\n",
      "       [193, 208, 128, 502, 415, 205, 572, 572, 572, 572],\n",
      "       [358, 481, 174, 353,  65, 524, 435, 572, 572, 572],\n",
      "       [208, 481,  29, 234, 379, 502, 159, 572, 572, 572],\n",
      "       [572, 572, 572, 439, 301, 481, 194, 208, 415, 205],\n",
      "       [481, 265, 193, 208,  64, 502, 137, 358, 248, 435],\n",
      "       [157,  37,  26, 221, 561,  13, 105, 353, 430, 111],\n",
      "       [534, 358, 481, 190, 105,  37,  26, 193, 208, 376],\n",
      "       [572, 572, 572, 383, 276, 530, 194,  73,  77,  40],\n",
      "       [572, 572, 572, 572, 554, 194,  50, 389,  86,  37],\n",
      "       [481, 193, 501, 481, 321, 358, 530,  26, 200, 426],\n",
      "       [572, 572, 572, 572,  13, 190, 105, 193, 358,  37],\n",
      "       [502, 268, 448, 234, 481, 321, 572, 572, 572, 572],\n",
      "       [ 50, 481, 183, 208, 128, 502, 415, 205, 358, 193],\n",
      "       [572, 572, 572, 572, 572, 383, 212, 217, 512,  62]]), array([126,  78, 126,  48, 126, 126, 123,  27, 126, 126, 126, 126,   2,\n",
      "         2, 126, 126,  18,  33, 126, 126], dtype=int32))\n"
     ]
    }
   ],
   "source": [
    "#batch generator\n",
    "def batch_generator(x=X_trn, y=y_trn, batch_size=128):\n",
    "    from sklearn.utils import shuffle\n",
    "    x_shuffle, y_shuffle = shuffle(x, y, random_state=0)\n",
    "    for i in range(0, x.shape[0]-batch_size, batch_size):\n",
    "        x_batch = x_shuffle[i:i+batch_size,:]\n",
    "        y_batch = y_shuffle[i:i+batch_size]\n",
    "        yield x_batch, y_batch\n",
    "    \n",
    "seq = batch_generator(x=X_trn, y=y_trn, batch_size=20)\n",
    "print(next(seq))"
   ]
  },
  {
   "cell_type": "code",
   "execution_count": 6,
   "metadata": {
    "collapsed": false
   },
   "outputs": [
    {
     "name": "stdout",
     "output_type": "stream",
     "text": [
      "Initializing\n",
      "Epoch - Loss(trn) -  Acc(trn)   -   Loss(tst) -   Acc(tst)\n",
      "0   -   1.87204   -   0.630868   -   1.45617   -   0.6625\n",
      "1   -   1.15484   -   0.737733   -   0.979719   -   0.790848\n",
      "2   -   0.777506   -   0.830688   -   0.724017   -   0.861719\n",
      "3   -   0.555806   -   0.886171   -   0.561016   -   0.892522\n",
      "4   -   0.420696   -   0.916201   -   0.453878   -   0.914509\n",
      "5   -   0.335807   -   0.935591   -   0.38196   -   0.925893\n",
      "6   -   0.274628   -   0.94708   -   0.331857   -   0.936719\n",
      "7   -   0.234708   -   0.95468   -   0.295101   -   0.942969\n",
      "8   -   0.200679   -   0.961963   -   0.278193   -   0.947768\n",
      "9   -   0.181275   -   0.966081   -   0.268913   -   0.951897\n",
      "10   -   0.161233   -   0.970606   -   0.251733   -   0.954576\n",
      "11   -   0.139056   -   0.975272   -   0.23101   -   0.959598\n",
      "12   -   0.126798   -   0.977075   -   0.221354   -   0.961272\n",
      "13   -   0.117139   -   0.978807   -   0.220976   -   0.959821\n",
      "14   -   0.109121   -   0.980769   -   0.219064   -   0.963616\n",
      "15   -   0.104567   -   0.981211   -   0.216562   -   0.962612\n",
      "16   -   0.101076   -   0.981618   -   0.215079   -   0.963393\n",
      "17   -   0.0950825   -   0.982307   -   0.212617   -   0.963951\n",
      "18   -   0.0920619   -   0.983173   -   0.216059   -   0.964063\n",
      "19   -   0.0893411   -   0.983403   -   0.209857   -   0.963951\n",
      "20   -   0.090966   -   0.982996   -   0.211423   -   0.96529\n",
      "21   -   0.0835262   -   0.984357   -   0.209573   -   0.966406\n",
      "22   -   0.0781969   -   0.985436   -   0.224114   -   0.964844\n",
      "23   -   0.0777536   -   0.985064   -   0.223415   -   0.966071\n",
      "24   -   0.0802599   -   0.984799   -   0.232519   -   0.963504\n",
      "25   -   0.0745101   -   0.985877   -   0.224795   -   0.964621\n",
      "26   -   0.0751083   -   0.985312   -   0.232713   -   0.963951\n",
      "27   -   0.0724519   -   0.986001   -   0.225198   -   0.967076\n",
      "28   -   0.0720395   -   0.986443   -   0.221818   -   0.966853\n",
      "29   -   0.0678221   -   0.98692   -   0.222531   -   0.966741\n",
      "30   -   0.0649824   -   0.987168   -   0.22977   -   0.966071\n",
      "31   -   0.0645648   -   0.987256   -   0.233952   -   0.966964\n",
      "32   -   0.063747   -   0.987539   -   0.244789   -   0.965402\n",
      "33   -   0.0610324   -   0.987998   -   0.241723   -   0.966406\n",
      "34   -   0.0703317   -   0.985771   -   0.221882   -   0.966071\n",
      "35   -   0.0613544   -   0.987592   -   0.234974   -   0.965737\n",
      "36   -   0.0598499   -   0.988016   -   0.230788   -   0.96596\n",
      "37   -   0.0573396   -   0.988423   -   0.232554   -   0.966629\n",
      "38   -   0.0560385   -   0.988741   -   0.241481   -   0.967411\n",
      "39   -   0.0568858   -   0.988352   -   0.244027   -   0.965737\n",
      "Time to train: 171.44504308700562\n"
     ]
    }
   ],
   "source": [
    "import time\n",
    "\n",
    "batch_size = 256\n",
    "nEpochs = 40\n",
    "\n",
    "start = time.time()\n",
    "\n",
    "gpu_options = tf.GPUOptions(allow_growth = True)\n",
    "with tf.Session(graph=graph, config=tf.ConfigProto(gpu_options=gpu_options)) as session:\n",
    "\n",
    "    #Create sumaries writers\n",
    "    train_writer = tf.summary.FileWriter(LOG_DIR + 'train', session.graph, flush_secs=2)\n",
    "    test_writer  = tf.summary.FileWriter(LOG_DIR + 'test', flush_secs=2)\n",
    "\n",
    "        \n",
    "    print('Initializing')\n",
    "    print('Epoch - Loss(trn) -  Acc(trn)   -   Loss(tst) -   Acc(tst)')\n",
    "    session.run(tf.global_variables_initializer())\n",
    "    for epoch in range(nEpochs):\n",
    "        ce_c=[]\n",
    "        acc_c=[]\n",
    "        ce_c_tst=[]\n",
    "        acc_c_tst=[]\n",
    "        \n",
    "        batch_list = batch_generator(x=X_trn, y=y_trn, batch_size=batch_size)\n",
    "        for batch in batch_list:\n",
    "            feedDict = {x: batch[0], y: batch[1], keep_prob: 0.5} # dictionary of batch data to run the graph\n",
    "            _, ce, acc = session.run([train_op, cross_entropy, accuracy], feed_dict=feedDict)\n",
    "            ce_c += [ce]\n",
    "            acc_c += [acc]\n",
    "        # Sumaries train    \n",
    "        summary_str_trn = session.run(merged, feedDict)\n",
    "        train_writer.add_summary(summary_str_trn, epoch)            \n",
    "            \n",
    "        batch_list_tst = batch_generator(x=X_tst, y=y_tst, batch_size=batch_size)\n",
    "        for x_batch, y_batch in batch_list_tst:\n",
    "            feedDict = {x: x_batch, y: y_batch, keep_prob: 1} # dictionary of batch data to run the graph\n",
    "            ce_tst, acc_tst = session.run([cross_entropy, accuracy], feed_dict=feedDict)\n",
    "            ce_c_tst += [ce_tst]\n",
    "            acc_c_tst += [acc_tst]\n",
    "        # Sumaries test    \n",
    "        summary_str_tst = session.run(merged, feedDict)\n",
    "        test_writer.add_summary(summary_str_tst, epoch) \n",
    "        \n",
    "        saver.save(session, os.path.join(LOG_DIR, 'model.ckpt'), epoch)\n",
    "\n",
    "                    \n",
    "        print(epoch, np.mean(ce_c), np.mean(acc_c), np.mean(ce_c_tst), np.mean(acc_c_tst), sep='   -   ')\n",
    "\n",
    "print('Time to train:', time.time() - start)\n",
    "# 473 sec in Mac GPU        "
   ]
  },
  {
   "cell_type": "code",
   "execution_count": null,
   "metadata": {
    "collapsed": true
   },
   "outputs": [],
   "source": []
  }
 ],
 "metadata": {
  "anaconda-cloud": {},
  "kernelspec": {
   "display_name": "Python [conda env:py3_tf1]",
   "language": "python",
   "name": "conda-env-py3_tf1-py"
  },
  "language_info": {
   "codemirror_mode": {
    "name": "ipython",
    "version": 3
   },
   "file_extension": ".py",
   "mimetype": "text/x-python",
   "name": "python",
   "nbconvert_exporter": "python",
   "pygments_lexer": "ipython3",
   "version": "3.6.0"
  }
 },
 "nbformat": 4,
 "nbformat_minor": 1
}
