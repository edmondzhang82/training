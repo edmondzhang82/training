{
 "cells": [
  {
   "cell_type": "markdown",
   "metadata": {},
   "source": [
    "# Identify tags in airline database\n",
    "\n",
    "## Minimal code\n",
    "\n",
    "    - Read dataset\n",
    "    - transform data\n",
    "    - Minimal model\n",
    "        - Embedings\n",
    "        - Dense\n",
    "        \n"
   ]
  },
  {
   "cell_type": "code",
   "execution_count": 1,
   "metadata": {
    "collapsed": false
   },
   "outputs": [
    {
     "name": "stdout",
     "output_type": "stream",
     "text": [
      "1.0.0\n"
     ]
    }
   ],
   "source": [
    "from __future__ import print_function\n",
    "\n",
    "import os \n",
    "import numpy as np \n",
    "\n",
    "import tensorflow as tf \n",
    "print(tf.__version__)\n"
   ]
  },
  {
   "cell_type": "markdown",
   "metadata": {},
   "source": [
    "## Dataset\n",
    "\n",
    "ATIS (Airline Travel Information System) dataset. Available in: https://github.com/mesnilgr/is13/blob/master/data/load.py\n",
    "\n",
    "### Example:\n",
    "\n",
    "Input (words)\tshow\tflights\tfrom\tBoston\tto\tNew\tYork\ttoday\n",
    "\n",
    "Output (labels)\tO\tO\tO\tB-dept\tO\tB-arr\tI-arr\tB-date\n",
    "\n",
    "\n"
   ]
  },
  {
   "cell_type": "code",
   "execution_count": 4,
   "metadata": {
    "collapsed": false
   },
   "outputs": [],
   "source": [
    "# Read data\n",
    "import pickle\n",
    "import sys\n",
    "\n",
    "atis_file = '/home/ubuntu/data/training/text/atis/atis.pkl'\n",
    "with open(atis_file,'rb') as f:\n",
    "    if sys.version_info.major==2:\n",
    "        train, test, dicts = pickle.load(f) #python2.7\n",
    "    else:\n",
    "        train, test, dicts = pickle.load(f, encoding='bytes') #python3\n"
   ]
  },
  {
   "cell_type": "markdown",
   "metadata": {},
   "source": [
    "## train / test sets:\n",
    "    - X: list of input sequences\n",
    "    - label: List of target labels asociated to each word in each sentence.\n",
    "## Dictionaries\n",
    "    - labels2idx:  To decode the labels\n",
    "    - words2idx: To decode the sentences"
   ]
  },
  {
   "cell_type": "code",
   "execution_count": 5,
   "metadata": {
    "collapsed": false
   },
   "outputs": [
    {
     "name": "stdout",
     "output_type": "stream",
     "text": [
      "train\n",
      "                               WORD                               LABEL\n",
      "b'                                  i' b'                                  O'\n",
      "b'                               want' b'                                  O'\n",
      "b'                                 to' b'                                  O'\n",
      "b'                                fly' b'                                  O'\n",
      "b'                               from' b'                                  O'\n",
      "b'                             boston' b'                B-fromloc.city_name'\n",
      "b'                                 at' b'                                  O'\n",
      "b'                    DIGITDIGITDIGIT' b'                 B-depart_time.time'\n",
      "b'                                 am' b'                 I-depart_time.time'\n",
      "b'                                and' b'                                  O'\n",
      "b'                             arrive' b'                                  O'\n",
      "b'                                 in' b'                                  O'\n",
      "b'                             denver' b'                  B-toloc.city_name'\n",
      "b'                                 at' b'                                  O'\n",
      "b'               DIGITDIGITDIGITDIGIT' b'                 B-arrive_time.time'\n",
      "b'                                 in' b'                                  O'\n",
      "b'                                the' b'                                  O'\n",
      "b'                            morning' b'        B-arrive_time.period_of_day'\n",
      "\n",
      "************************************************************\n",
      "\n",
      "                               WORD                               LABEL\n",
      "b'                               what' b'                                  O'\n",
      "b'                            flights' b'                                  O'\n",
      "b'                                are' b'                                  O'\n",
      "b'                          available' b'                                  O'\n",
      "b'                               from' b'                                  O'\n",
      "b'                         pittsburgh' b'                B-fromloc.city_name'\n",
      "b'                                 to' b'                                  O'\n",
      "b'                          baltimore' b'                  B-toloc.city_name'\n",
      "b'                                 on' b'                                  O'\n",
      "b'                           thursday' b'             B-depart_date.day_name'\n",
      "b'                            morning' b'        B-depart_time.period_of_day'\n",
      "\n",
      "************************************************************\n",
      "\n",
      "test\n",
      "                               WORD                               LABEL\n",
      "b'                                  i' b'                                  O'\n",
      "b'                              would' b'                                  O'\n",
      "b'                               like' b'                                  O'\n",
      "b'                                 to' b'                                  O'\n",
      "b'                               find' b'                                  O'\n",
      "b'                                  a' b'                                  O'\n",
      "b'                             flight' b'                                  O'\n",
      "b'                               from' b'                                  O'\n",
      "b'                          charlotte' b'                B-fromloc.city_name'\n",
      "b'                                 to' b'                                  O'\n",
      "b'                                las' b'                  B-toloc.city_name'\n",
      "b'                              vegas' b'                  I-toloc.city_name'\n",
      "b'                               that' b'                                  O'\n",
      "b'                              makes' b'                                  O'\n",
      "b'                                  a' b'                                  O'\n",
      "b'                               stop' b'                                  O'\n",
      "b'                                 in' b'                                  O'\n",
      "b'                                st.' b'                B-stoploc.city_name'\n",
      "b'                              louis' b'                I-stoploc.city_name'\n",
      "\n",
      "************************************************************\n",
      "\n",
      "                               WORD                               LABEL\n",
      "b'                                 on' b'                                  O'\n",
      "b'                              april' b'           B-depart_date.month_name'\n",
      "b'                              first' b'           B-depart_date.day_number'\n",
      "b'                                  i' b'                                  O'\n",
      "b'                               need' b'                                  O'\n",
      "b'                                  a' b'                                  O'\n",
      "b'                             ticket' b'                                  O'\n",
      "b'                               from' b'                                  O'\n",
      "b'                             tacoma' b'                B-fromloc.city_name'\n",
      "b'                                 to' b'                                  O'\n",
      "b'                                san' b'                  B-toloc.city_name'\n",
      "b'                               jose' b'                  I-toloc.city_name'\n",
      "b'                          departing' b'                                  O'\n",
      "b'                             before' b'        B-depart_time.time_relative'\n",
      "b'                              DIGIT' b'                 B-depart_time.time'\n",
      "b'                                 am' b'                 I-depart_time.time'\n",
      "\n",
      "************************************************************\n",
      "\n"
     ]
    }
   ],
   "source": [
    "#Dictionaries and train test partition\n",
    "w2idx, ne2idx, labels2idx = dicts[b'words2idx'], dicts[b'tables2idx'], dicts[b'labels2idx']\n",
    "    \n",
    "idx2w  = dict((v,k) for k,v in w2idx.items())\n",
    "idx2la = dict((v,k) for k,v in labels2idx.items())\n",
    "\n",
    "train_x, _, train_label = train\n",
    "test_x,  _,  test_label  = test\n",
    "\n",
    "\n",
    "\n",
    "# Visualize data\n",
    "wlength = 35\n",
    "for e in ['train','test']:\n",
    "    print(e)\n",
    "    for sw, sl in zip(eval(e+'_x')[:2], eval(e+'_label')[:2]):\n",
    "        print( 'WORD'.rjust(wlength), 'LABEL'.rjust(wlength))\n",
    "        for wx, la in zip(sw, sl): print( idx2w[wx].rjust(wlength), idx2la[la].rjust(wlength))\n",
    "        print( '\\n'+'**'*30+'\\n')\n"
   ]
  },
  {
   "cell_type": "code",
   "execution_count": 6,
   "metadata": {
    "collapsed": false
   },
   "outputs": [
    {
     "name": "stdout",
     "output_type": "stream",
     "text": [
      "train\n",
      "---------\n",
      "b'boston'\n",
      "b'pittsburgh'\n",
      "b'san'\n",
      "b'washington'\n",
      "b'tacoma'\n",
      "b'pittsburgh'\n",
      "\n",
      "\n",
      "test\n",
      "---------\n",
      "b'charlotte'\n",
      "b'tacoma'\n",
      "b'phoenix'\n",
      "b'phoenix'\n",
      "b'orlando'\n",
      "\n",
      "\n"
     ]
    }
   ],
   "source": [
    "#Select words for the label 48: b'B-fromloc.city_name' in train and test to check that are different:\n",
    "for e in ['train','test']:\n",
    "    print(e)\n",
    "    print('---------')\n",
    "    for sw, sl in zip(eval(e+'_x')[:5], eval(e+'_label')[:5]):\n",
    "        for wx, la in zip(sw, sl): \n",
    "            if la==48:\n",
    "                print( idx2w[wx])\n",
    "    print('\\n')\n"
   ]
  },
  {
   "cell_type": "markdown",
   "metadata": {},
   "source": [
    "## Data transformation\n",
    "    - Convert the list of sequences of words into an array of words x characteristics.\n",
    "    - The characteristics are the context of the word in the sentence.\n",
    "        - For each word in the sentence, generate the context with the previous and the next words in the sentence.\n",
    "        - For words at the beggining and the end, use padding to complete the context."
   ]
  },
  {
   "cell_type": "code",
   "execution_count": 7,
   "metadata": {
    "collapsed": false
   },
   "outputs": [
    {
     "name": "stdout",
     "output_type": "stream",
     "text": [
      "ID_PAD:  572\n",
      "Context vectors:  [[572, 0, 1], [0, 1, 2], [1, 2, 3], [2, 3, 4], [3, 4, 572]]\n"
     ]
    }
   ],
   "source": [
    "# Max value of word coding to assign the ID_PAD\n",
    "ID_PAD = np.max([np.max(tx) for tx in train_x]) + 1\n",
    "print('ID_PAD: ', ID_PAD)\n",
    "\n",
    "def context(l, size=3):\n",
    "    l = list(l)\n",
    "    lpadded = size // 2 * [ID_PAD] + l + size // 2 * [ID_PAD]\n",
    "    out = [lpadded[i:(i + size)] for i in range(len(l))]\n",
    "    return out\n",
    "\n",
    "x = np.array([0, 1, 2, 3, 4], dtype=np.int32)\n",
    "print('Context vectors: ', context(x))"
   ]
  },
  {
   "cell_type": "code",
   "execution_count": 8,
   "metadata": {
    "collapsed": false
   },
   "outputs": [
    {
     "name": "stdout",
     "output_type": "stream",
     "text": [
      "X trn shape:  (56590, 10)\n",
      "X_tst shape:  (9198, 10)\n",
      "y_trn shape:  (56590,)\n",
      "y_tst shape:  (9198,)\n"
     ]
    }
   ],
   "source": [
    "# Create train and test X y.\n",
    "X_trn=[]\n",
    "for s in train_x:\n",
    "    X_trn += context(s,size=10)\n",
    "X_trn = np.array(X_trn)\n",
    "\n",
    "X_tst=[]\n",
    "for s in test_x:\n",
    "    X_tst += context(s,size=10)\n",
    "X_tst = np.array(X_tst)\n",
    "\n",
    "print('X trn shape: ', X_trn.shape)\n",
    "print('X_tst shape: ',X_tst.shape)\n",
    "\n",
    "\n",
    "y_trn=[]\n",
    "for s in train_label:\n",
    "    y_trn += list(s)\n",
    "y_trn = np.array(y_trn)\n",
    "print('y_trn shape: ',y_trn.shape)\n",
    "\n",
    "y_tst=[]\n",
    "for s in test_label:\n",
    "    y_tst += list(s)\n",
    "y_tst = np.array(y_tst)\n",
    "print('y_tst shape: ',y_tst.shape)\n"
   ]
  },
  {
   "cell_type": "raw",
   "metadata": {
    "collapsed": false
   },
   "source": [
    "# Encode words wiht dummy vars\n",
    "X_trn_enc = np.zeros([X_trn.shape[0], X_trn.shape[1], ID_PAD+1])\n",
    "for ib, b in enumerate(X_trn):\n",
    "    for iw, w in enumerate(b):\n",
    "        X_trn_enc[ib, iw, X_trn[ib,iw]] = 1\n",
    "\n",
    "\n",
    "X_tst_enc = np.zeros([X_tst.shape[0], X_tst.shape[1], ID_PAD+1])\n",
    "for ib, b in enumerate(X_tst):\n",
    "    for iw, w in enumerate(b):\n",
    "        X_tst_enc[ib, iw, X_tst[ib,iw]] = 1\n",
    "\n",
    "\n",
    "print(X_trn_enc.shape, X_tst_enc.shape)\n",
    "print(X_trn[0])\n",
    "print(X_trn_enc[0,0])"
   ]
  },
  {
   "cell_type": "code",
   "execution_count": 9,
   "metadata": {
    "collapsed": false
   },
   "outputs": [
    {
     "name": "stdout",
     "output_type": "stream",
     "text": [
      "Num labels:  121\n",
      "Num words:  572\n"
     ]
    }
   ],
   "source": [
    "print('Num labels: ',len(set(y_trn)))\n",
    "print('Num words: ',len(set(idx2w)))"
   ]
  },
  {
   "cell_type": "markdown",
   "metadata": {},
   "source": [
    "# First model\n",
    "\n",
    "## Architecture\n",
    "    - tf.nn.embedding_lookup\n",
    "    - Dense layer: tf.nn.relu(tf.matmul(x, W) + b)\n",
    "    "
   ]
  },
  {
   "cell_type": "code",
   "execution_count": 10,
   "metadata": {
    "collapsed": false
   },
   "outputs": [],
   "source": [
    "#General parameters\n",
    "LOG_DIR = '/tmp/tensorboard/airline/embeddings/'\n",
    "\n",
    "# data attributes\n",
    "input_seq_length = X_trn.shape[1]\n",
    "input_vocabulary_size = len(set(idx2w)) + 1\n",
    "output_length = 127\n",
    "\n",
    "#Model parameters\n",
    "embedding_size=64\n"
   ]
  },
  {
   "cell_type": "code",
   "execution_count": 12,
   "metadata": {
    "collapsed": false
   },
   "outputs": [
    {
     "name": "stdout",
     "output_type": "stream",
     "text": [
      "embedding layer:  Tensor(\"Embeddings/embedding_lookup:0\", shape=(?, 10, 64), dtype=float32)\n",
      "Flat embedding layer:  Tensor(\"Embeddings/Reshape:0\", shape=(?, 640), dtype=float32)\n",
      "dense output:  Tensor(\"Dense/Relu:0\", shape=(?, 127), dtype=float32)\n"
     ]
    }
   ],
   "source": [
    "# Define the tensorflow graph\n",
    "\n",
    "graph = tf.Graph()\n",
    "\n",
    "with graph.as_default():\n",
    "    # graph definition\n",
    "    # Inputs\n",
    "    with tf.name_scope('Inputs') as scope:\n",
    "        x = tf.placeholder(tf.int32, shape=[None, input_seq_length], name='x')\n",
    "        y = tf.placeholder(tf.int64, shape=[None], name='y')\n",
    "\n",
    "    with tf.name_scope('Embeddings') as scope:\n",
    "        W_embedding = tf.Variable(tf.random_uniform([input_vocabulary_size, embedding_size], -1.0, 1.0) ,name=\"W\")\n",
    "        embedding_layer = tf.nn.embedding_lookup(W_embedding, x)\n",
    "        print('embedding layer: ', embedding_layer)\n",
    "        flat_embedding = tf.reshape(embedding_layer, [-1,10*embedding_size])\n",
    "        print('Flat embedding layer: ', flat_embedding)\n",
    "\n",
    "    \n",
    "    #Dense layer form RNN outs to prediction\n",
    "    with tf.name_scope('Dense') as scope:\n",
    "        W_dense = tf.Variable(tf.truncated_normal([embedding_size*10, output_length], stddev=0.1), name='W_dense')\n",
    "        b_dense = tf.Variable(tf.constant(0.1, shape=[output_length]), name='b_dense')\n",
    "        dense_output = tf.nn.relu(tf.matmul(flat_embedding, W_dense) + b_dense)\n",
    "        print('dense output: ', dense_output)\n",
    "\n",
    "        \n",
    "    # Loss function\n",
    "    with tf.name_scope(\"xent\") as scope:\n",
    "        cross_entropy = tf.nn.sparse_softmax_cross_entropy_with_logits(logits=dense_output,\n",
    "                                                                       labels=y, name='cross_entropy')\n",
    "        ce_summary = tf.summary.scalar(\"cross_entropy\", tf.reduce_mean(cross_entropy))\n",
    "\n",
    "    #Optimizer\n",
    "    with tf.name_scope(\"train\") as scope:\n",
    "        optimizer = tf.train.AdamOptimizer(0.001)\n",
    "        train_op = optimizer.minimize(cross_entropy, name='train_op')\n",
    "\n",
    "\n",
    "    #Accuracy\n",
    "    with tf.name_scope(\"test\") as scope:\n",
    "        #Prediction\n",
    "        y_pred = tf.nn.softmax(dense_output, name='y_pred')\n",
    "        #Accuracy\n",
    "        correct_prediction = tf.equal(tf.argmax(dense_output,1), y)\n",
    "        accuracy = tf.reduce_mean(tf.cast(correct_prediction, tf.float32), name='accuracy')\n",
    "        accuracy_summary = tf.summary.scalar(\"accuracy\", accuracy)\n",
    "\n",
    "\n",
    "    # Merge all the summaries and write them out to /tmp/mnist_logs\n",
    "    with tf.name_scope('summaries') as scope:\n",
    "        merged = tf.summary.merge_all()\n",
    "        \n"
   ]
  },
  {
   "cell_type": "code",
   "execution_count": 13,
   "metadata": {
    "collapsed": false
   },
   "outputs": [
    {
     "name": "stdout",
     "output_type": "stream",
     "text": [
      "(array([[572, 572, 572, 572, 572, 232, 542, 502, 196, 208],\n",
      "       [572, 572, 572, 572, 232, 542, 502, 196, 208,  77],\n",
      "       [572, 572, 572, 232, 542, 502, 196, 208,  77,  62],\n",
      "       [572, 572, 232, 542, 502, 196, 208,  77,  62,  10],\n",
      "       [572, 232, 542, 502, 196, 208,  77,  62,  10,  35],\n",
      "       [232, 542, 502, 196, 208,  77,  62,  10,  35,  40],\n",
      "       [542, 502, 196, 208,  77,  62,  10,  35,  40,  58],\n",
      "       [502, 196, 208,  77,  62,  10,  35,  40,  58, 234],\n",
      "       [196, 208,  77,  62,  10,  35,  40,  58, 234, 137],\n",
      "       [208,  77,  62,  10,  35,  40,  58, 234, 137,  62],\n",
      "       [ 77,  62,  10,  35,  40,  58, 234, 137,  62,  11],\n",
      "       [ 62,  10,  35,  40,  58, 234, 137,  62,  11, 234],\n",
      "       [ 10,  35,  40,  58, 234, 137,  62,  11, 234, 481],\n",
      "       [ 35,  40,  58, 234, 137,  62,  11, 234, 481, 321],\n",
      "       [ 40,  58, 234, 137,  62,  11, 234, 481, 321, 572],\n",
      "       [ 58, 234, 137,  62,  11, 234, 481, 321, 572, 572],\n",
      "       [234, 137,  62,  11, 234, 481, 321, 572, 572, 572],\n",
      "       [137,  62,  11, 234, 481, 321, 572, 572, 572, 572],\n",
      "       [572, 572, 572, 572, 572, 554, 194,  50,  66, 208],\n",
      "       [572, 572, 572, 572, 554, 194,  50,  66, 208, 379]]), array([126, 126, 126, 126, 126,  48, 126,  35,  99, 126, 126, 126,  78,\n",
      "       126,  14, 126, 126,  12, 126, 126], dtype=int32))\n"
     ]
    }
   ],
   "source": [
    "#batch generator\n",
    "def batch_generator(x, y, batch_size=128):\n",
    "    for i in range(0, x.shape[0]-batch_size, batch_size):\n",
    "        x_batch = x[i:i+batch_size,:]\n",
    "        y_batch = y[i:i+batch_size]\n",
    "        yield x_batch, y_batch\n",
    "    \n",
    "seq = batch_generator(X_trn, y_trn, batch_size=20)\n",
    "print(next(seq))"
   ]
  },
  {
   "cell_type": "code",
   "execution_count": 14,
   "metadata": {
    "collapsed": false
   },
   "outputs": [
    {
     "name": "stdout",
     "output_type": "stream",
     "text": [
      "Initializing\n",
      "Epoch - Loss(trn) -  Acc(trn)   -   Loss(tst) -   Acc(tst)\n",
      "0   -   1.51307   -   0.713218   -   0.767655   -   0.850558\n",
      "1   -   0.435937   -   0.915388   -   0.503559   -   0.908817\n",
      "2   -   0.270117   -   0.949784   -   0.407431   -   0.926674\n",
      "3   -   0.190284   -   0.965586   -   0.341099   -   0.936719\n",
      "4   -   0.145333   -   0.974636   -   0.30931   -   0.941071\n",
      "5   -   0.121997   -   0.979196   -   0.288765   -   0.945647\n",
      "6   -   0.107425   -   0.981812   -   0.274172   -   0.949554\n",
      "7   -   0.0943121   -   0.984163   -   0.254227   -   0.95279\n",
      "8   -   0.0833105   -   0.986143   -   0.246734   -   0.953571\n",
      "9   -   0.0765566   -   0.987185   -   0.241602   -   0.955134\n",
      "10   -   0.0718471   -   0.98791   -   0.23771   -   0.956138\n",
      "11   -   0.0681405   -   0.988582   -   0.234724   -   0.957478\n",
      "12   -   0.0651569   -   0.988988   -   0.232468   -   0.957589\n",
      "13   -   0.0627034   -   0.989342   -   0.23079   -   0.958259\n",
      "14   -   0.0606387   -   0.989536   -   0.22955   -   0.958259\n",
      "15   -   0.0588745   -   0.989695   -   0.228703   -   0.958594\n",
      "16   -   0.057351   -   0.98989   -   0.22822   -   0.95904\n",
      "17   -   0.0560244   -   0.989943   -   0.228044   -   0.958817\n",
      "18   -   0.0547112   -   0.990031   -   0.228206   -   0.959152\n",
      "19   -   0.0536093   -   0.990102   -   0.228459   -   0.959152\n"
     ]
    }
   ],
   "source": [
    "# Execute the graph to train a network\n",
    "batch_size = 256\n",
    "nEpochs = 20\n",
    "\n",
    "gpu_options = tf.GPUOptions(allow_growth = True)\n",
    "with tf.Session(graph=graph, config=tf.ConfigProto(gpu_options=gpu_options)) as session:\n",
    "\n",
    "    #Create sumaries writers\n",
    "    train_writer = tf.summary.FileWriter(LOG_DIR + 'train', session.graph, flush_secs=2)\n",
    "    test_writer  = tf.summary.FileWriter(LOG_DIR + 'test', flush_secs=2)\n",
    "\n",
    "        \n",
    "    print('Initializing')\n",
    "    print('Epoch - Loss(trn) -  Acc(trn)   -   Loss(tst) -   Acc(tst)')\n",
    "    tf.global_variables_initializer().run()\n",
    "    for epoch in range(nEpochs):\n",
    "        ce_c=[]\n",
    "        acc_c=[]\n",
    "        ce_c_tst=[]\n",
    "        acc_c_tst=[]\n",
    "        \n",
    "        batch_list = batch_generator(X_trn, y_trn, batch_size=batch_size)\n",
    "        for i, batch in enumerate(batch_list):\n",
    "            feedDict = {x: batch[0], y: batch[1]} # dictionary of batch data to run the graph\n",
    "            _, ce, acc = session.run([train_op, cross_entropy, accuracy], feed_dict=feedDict)\n",
    "            ce_c += [ce]\n",
    "            acc_c += [acc]\n",
    "        # Sumaries train    \n",
    "        summary_str_trn = session.run(merged, feedDict)\n",
    "        train_writer.add_summary(summary_str_trn, epoch)            \n",
    "            \n",
    "            \n",
    "        batch_list_tst = batch_generator(X_tst, y_tst, batch_size=batch_size)\n",
    "        for x_batch, y_batch in batch_list_tst:\n",
    "            feedDict = {x: x_batch, y: y_batch} # dictionary of batch data to run the graph\n",
    "            ce_tst, acc_tst = session.run([cross_entropy, accuracy], feed_dict=feedDict)\n",
    "            ce_c_tst += [ce_tst]\n",
    "            acc_c_tst += [acc_tst]\n",
    "        # Sumaries test    \n",
    "        summary_str_tst = session.run(merged, feedDict)\n",
    "        test_writer.add_summary(summary_str_tst, epoch)            \n",
    "        \n",
    "        print(epoch, np.mean(ce_c), np.mean(acc_c), np.mean(ce_c_tst), np.mean(acc_c_tst), sep='   -   ')"
   ]
  }
 ],
 "metadata": {
  "anaconda-cloud": {},
  "kernelspec": {
   "display_name": "Python [conda env:tf1_cpu_py3]",
   "language": "python",
   "name": "conda-env-tf1_cpu_py3-py"
  },
  "language_info": {
   "codemirror_mode": {
    "name": "ipython",
    "version": 3
   },
   "file_extension": ".py",
   "mimetype": "text/x-python",
   "name": "python",
   "nbconvert_exporter": "python",
   "pygments_lexer": "ipython3",
   "version": "3.6.0"
  }
 },
 "nbformat": 4,
 "nbformat_minor": 1
}
