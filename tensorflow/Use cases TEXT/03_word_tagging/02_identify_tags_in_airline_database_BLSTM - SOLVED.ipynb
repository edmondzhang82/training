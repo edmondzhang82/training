{
 "cells": [
  {
   "cell_type": "markdown",
   "metadata": {},
   "source": [
    "# Identify tags in airline database\n",
    "\n",
    "## Bidirectional recurrent neural network\n",
    "\n",
    "    - Improving the model of: 00_identify_tags_in_airline_database_LSTM - SOLVED  \n"
   ]
  },
  {
   "cell_type": "code",
   "execution_count": 1,
   "metadata": {
    "collapsed": false
   },
   "outputs": [
    {
     "name": "stdout",
     "output_type": "stream",
     "text": [
      "1.0.1\n"
     ]
    }
   ],
   "source": [
    "from __future__ import print_function\n",
    "\n",
    "import os \n",
    "import numpy as np \n",
    "import tensorflow as tf \n",
    "\n",
    "print(tf.__version__)"
   ]
  },
  {
   "cell_type": "markdown",
   "metadata": {},
   "source": [
    "## Dataset transformation\n"
   ]
  },
  {
   "cell_type": "code",
   "execution_count": 2,
   "metadata": {
    "collapsed": false
   },
   "outputs": [
    {
     "name": "stdout",
     "output_type": "stream",
     "text": [
      "ID_PAD:  572\n",
      "X trn shape:  (56590, 10)\n",
      "X_tst shape:  (9198, 10)\n",
      "y_trn shape:  (56590,)\n",
      "y_tst shape:  (9198,)\n",
      "Num labels:  121\n",
      "Num words:  572\n"
     ]
    }
   ],
   "source": [
    "# Read data\n",
    "import pickle\n",
    "import sys\n",
    "\n",
    "atis_file = '/home/ubuntu/data/training/text/atis/atis.pkl'\n",
    "\n",
    "with open(atis_file,'rb') as f:\n",
    "    if sys.version_info.major==2:\n",
    "        train, test, dicts = pickle.load(f) #python2.7\n",
    "    else:\n",
    "        train, test, dicts = pickle.load(f, encoding='bytes') #python3\n",
    "\n",
    "#Dictionaries and train test partition\n",
    "w2idx, ne2idx, labels2idx = dicts[b'words2idx'], dicts[b'tables2idx'], dicts[b'labels2idx']\n",
    "    \n",
    "idx2w  = dict((v,k) for k,v in w2idx.items())\n",
    "idx2la = dict((v,k) for k,v in labels2idx.items())\n",
    "\n",
    "train_x, _, train_label = train\n",
    "test_x,  _,  test_label  = test\n",
    "\n",
    "\n",
    "# Max value of word coding to assign the ID_PAD\n",
    "ID_PAD = np.max([np.max(tx) for tx in train_x]) + 1\n",
    "print('ID_PAD: ', ID_PAD)\n",
    "\n",
    "def context(l, size=3):\n",
    "    l = list(l)\n",
    "    lpadded = size // 2 * [ID_PAD] + l + size // 2 * [ID_PAD]\n",
    "    out = [lpadded[i:(i + size)] for i in range(len(l))]\n",
    "    return out\n",
    "\n",
    "\n",
    "# Create train and test X y.\n",
    "X_trn=[]\n",
    "for s in train_x:\n",
    "    X_trn += context(s,size=10)\n",
    "X_trn = np.array(X_trn)\n",
    "\n",
    "X_tst=[]\n",
    "for s in test_x:\n",
    "    X_tst += context(s,size=10)\n",
    "X_tst = np.array(X_tst)\n",
    "print('X trn shape: ', X_trn.shape)\n",
    "print('X_tst shape: ',X_tst.shape)\n",
    "\n",
    "y_trn=[]\n",
    "for s in train_label:\n",
    "    y_trn += list(s)\n",
    "y_trn = np.array(y_trn)\n",
    "print('y_trn shape: ',y_trn.shape)\n",
    "\n",
    "y_tst=[]\n",
    "for s in test_label:\n",
    "    y_tst += list(s)\n",
    "y_tst = np.array(y_tst)\n",
    "print('y_tst shape: ',y_tst.shape)\n",
    "\n",
    "print('Num labels: ',len(set(y_trn)))\n",
    "print('Num words: ',len(set(idx2w)))"
   ]
  },
  {
   "cell_type": "markdown",
   "metadata": {},
   "source": [
    "# Simpe LSTM model\n",
    "\n",
    "## Architecture\n",
    "    - tf.nn.embedding_lookup\n",
    "    - tf.nn.dynamic_rnn layer\n",
    "    - Dense layer: tf.nn.relu(tf.matmul(x, W) + b)\n",
    "    \n",
    "## Features\n",
    "    - Dropout\n",
    "    - Saver\n",
    "    - Cross entropy with loss regularization\n",
    "    - Score function"
   ]
  },
  {
   "cell_type": "code",
   "execution_count": 3,
   "metadata": {
    "collapsed": false
   },
   "outputs": [],
   "source": [
    "#General parameters\n",
    "LOG_DIR = '/tmp/tensorboard/airline/BLSTM/'\n",
    "\n",
    "# data attributes\n",
    "input_seq_length = X_trn.shape[1]\n",
    "input_vocabulary_size = len(set(idx2w)) + 1\n",
    "output_length = 127\n",
    "\n",
    "#Model parameters\n",
    "embedding_size=64\n",
    "num_hidden_lstm = 128\n"
   ]
  },
  {
   "cell_type": "code",
   "execution_count": 4,
   "metadata": {
    "collapsed": false
   },
   "outputs": [
    {
     "name": "stdout",
     "output_type": "stream",
     "text": [
      "embedding_layer:  Tensor(\"Embeddings/embedding_lookup:0\", shape=(?, 10, 64), dtype=float32)\n",
      "lstm_outputs:  (<tf.Tensor 'BLSTM/bidirectional_rnn/fw/fw/transpose:0' shape=(?, 10, 128) dtype=float32>, <tf.Tensor 'BLSTM/ReverseSequence:0' shape=(?, 10, 128) dtype=float32>)\n",
      "final_lstm_outputs:  Tensor(\"BLSTM/concat:0\", shape=(?, 256), dtype=float32)\n",
      "dense_output:  Tensor(\"Dense/Relu:0\", shape=(?, 127), dtype=float32)\n"
     ]
    }
   ],
   "source": [
    "# Define the tensorflow graph\n",
    "\n",
    "graph = tf.Graph()\n",
    "\n",
    "with graph.as_default():\n",
    "    # graph definition\n",
    "    # Inputs\n",
    "    with tf.name_scope('Inputs') as scope:\n",
    "        x = tf.placeholder(tf.int32, shape=[None, input_seq_length], name='x')\n",
    "        x_length = tf.placeholder(tf.int32, shape=[None], name='x_length')\n",
    "        y = tf.placeholder(tf.int64, shape=[None], name='y')\n",
    "\n",
    "    with tf.name_scope('Embeddings') as scope:\n",
    "        W_embedding = tf.Variable(tf.random_uniform([input_vocabulary_size, embedding_size], -1.0, 1.0) ,name=\"W\")\n",
    "        embedding_layer = tf.nn.embedding_lookup(W_embedding, x)\n",
    "        print('embedding_layer: ', embedding_layer)\n",
    "\n",
    "    with tf.name_scope('BLSTM') as scope:\n",
    "        # Dropout parameter\n",
    "        keep_prob = tf.placeholder(tf.float32, name='keep_prob')\n",
    "        \n",
    "        # Forward RNN cell\n",
    "        cell_fw = tf.contrib.rnn.LSTMCell(num_hidden_lstm, \n",
    "                                          initializer=tf.random_uniform_initializer(-0.1, 0.1, seed=123))\n",
    "        cell_fw = tf.contrib.rnn.DropoutWrapper(cell_fw, output_keep_prob=keep_prob)\n",
    "        \n",
    "        # Backward RNN cell\n",
    "        cell_bw = tf.contrib.rnn.LSTMCell(num_hidden_lstm, \n",
    "                                          initializer=tf.random_uniform_initializer(-0.1, 0.1, seed=113))\n",
    "        cell_bw = tf.contrib.rnn.DropoutWrapper(cell_bw, output_keep_prob=keep_prob)\n",
    "        \n",
    "        # Bidirectional RNN: output: list of concatenate outputs of the fw and bw networks.\n",
    "        lstm_outputs, _ = tf.nn.bidirectional_dynamic_rnn(cell_fw, cell_bw, embedding_layer,\n",
    "                                                          sequence_length=x_length, dtype=tf.float32)\n",
    "        print('lstm_outputs: ', lstm_outputs)\n",
    "        \n",
    "        # Concat the fw and bw outputs of the network.\n",
    "        final_lstm_outputs = tf.concat([lstm_outputs[0][:,-1,:], lstm_outputs[1][:,-1,:]], 1)\n",
    "        print('final_lstm_outputs: ', final_lstm_outputs)\n",
    "   \n",
    "\n",
    "    #Dense layer form RNN outs to prediction\n",
    "    with tf.name_scope('Dense') as scope:\n",
    "        W_dense = tf.Variable(tf.truncated_normal([num_hidden_lstm*2, output_length], stddev=0.1), name='W_dense')\n",
    "        b_dense = tf.Variable(tf.constant(0.1, shape=[output_length]), name='b_dense')\n",
    "        dense_output = tf.nn.relu(tf.matmul(final_lstm_outputs, W_dense) + b_dense)\n",
    "        print('dense_output: ', dense_output)\n",
    "\n",
    "        \n",
    "\n",
    "    # Loss function\n",
    "    with tf.name_scope(\"xent\") as scope:\n",
    "        cross_entropy = tf.nn.sparse_softmax_cross_entropy_with_logits(logits=dense_output, \n",
    "                                                                       labels=y, name='cross_entropy')\n",
    "        ce_summary = tf.summary.scalar(\"cross_entropy\", tf.reduce_mean(cross_entropy))\n",
    "\n",
    "    #Optimizer\n",
    "    with tf.name_scope(\"train\") as scope:\n",
    "        optimizer = tf.train.AdamOptimizer(0.001)\n",
    "        train_op = optimizer.minimize(cross_entropy, name='train_op')\n",
    "\n",
    "\n",
    "    #Accuracy\n",
    "    with tf.name_scope(\"test\") as scope:\n",
    "        #Prediction\n",
    "        y_pred = tf.nn.softmax(dense_output, name='y_pred')\n",
    "        #Accuracy\n",
    "        correct_prediction = tf.equal(tf.argmax(dense_output,1), y)\n",
    "        accuracy = tf.reduce_mean(tf.cast(correct_prediction, tf.float32), name='accuracy')\n",
    "        accuracy_summary = tf.summary.scalar(\"accuracy\", accuracy)\n",
    "\n",
    "\n",
    "    # Merge all the summaries\n",
    "    with tf.name_scope('summaries') as scope:\n",
    "        merged = tf.summary.merge_all()\n",
    " "
   ]
  },
  {
   "cell_type": "code",
   "execution_count": 5,
   "metadata": {
    "collapsed": false
   },
   "outputs": [
    {
     "name": "stdout",
     "output_type": "stream",
     "text": [
      "(array([[554, 241, 481, 165, 193, 197, 208, 379, 502,  64],\n",
      "       [193, 514, 208,  77, 502, 137, 359, 544,  40, 481],\n",
      "       [232, 331, 237, 358,  13, 193, 208,  77, 502, 137],\n",
      "       [ 32, 194,  40, 183, 208, 137, 502, 415, 205, 572],\n",
      "       [232, 331,  13, 277, 353, 194, 208, 452, 375, 195],\n",
      "       [572, 193, 348, 208, 313, 502, 282,  71, 358, 249],\n",
      "       [193, 208, 128, 502, 415, 205, 572, 572, 572, 572],\n",
      "       [358, 481, 174, 353,  65, 524, 435, 572, 572, 572],\n",
      "       [208, 481,  29, 234, 379, 502, 159, 572, 572, 572],\n",
      "       [572, 572, 572, 439, 301, 481, 194, 208, 415, 205],\n",
      "       [481, 265, 193, 208,  64, 502, 137, 358, 248, 435],\n",
      "       [157,  37,  26, 221, 561,  13, 105, 353, 430, 111],\n",
      "       [534, 358, 481, 190, 105,  37,  26, 193, 208, 376],\n",
      "       [572, 572, 572, 383, 276, 530, 194,  73,  77,  40],\n",
      "       [572, 572, 572, 572, 554, 194,  50, 389,  86,  37],\n",
      "       [481, 193, 501, 481, 321, 358, 530,  26, 200, 426],\n",
      "       [572, 572, 572, 572,  13, 190, 105, 193, 358,  37],\n",
      "       [502, 268, 448, 234, 481, 321, 572, 572, 572, 572],\n",
      "       [ 50, 481, 183, 208, 128, 502, 415, 205, 358, 193],\n",
      "       [572, 572, 572, 572, 572, 383, 212, 217, 512,  62]]), array([ 10.,  10.,  10.,  10.,  10.,  10.,  10.,  10.,  10.,  10.,  10.,\n",
      "        10.,  10.,  10.,  10.,  10.,  10.,  10.,  10.,  10.]), array([126,  78, 126,  48, 126, 126, 123,  27, 126, 126, 126, 126,   2,\n",
      "         2, 126, 126,  18,  33, 126, 126], dtype=int32))\n"
     ]
    }
   ],
   "source": [
    "#batch generator\n",
    "def batch_generator(x=X_trn, y=y_trn, batch_size=128):\n",
    "    from sklearn.utils import shuffle\n",
    "    x_shuffle, y_shuffle = shuffle(x, y, random_state=0)\n",
    "    for i in range(0, x.shape[0]-batch_size, batch_size):\n",
    "        x_batch = x_shuffle[i:i+batch_size,:]\n",
    "        y_batch = y_shuffle[i:i+batch_size]\n",
    "        x_length_batch = np.ones([batch_size])*10\n",
    "        yield x_batch, x_length_batch, y_batch\n",
    "    \n",
    "seq = batch_generator(x=X_trn, y=y_trn, batch_size=20)\n",
    "print(next(seq))"
   ]
  },
  {
   "cell_type": "code",
   "execution_count": 6,
   "metadata": {
    "collapsed": false
   },
   "outputs": [
    {
     "name": "stdout",
     "output_type": "stream",
     "text": [
      "Initializing\n",
      "Epoch - Loss(trn) -  Acc(trn)   -   Loss(tst) -   Acc(tst)\n",
      "0   -   1.86682   -   0.62051   -   1.48877   -   0.641629\n",
      "1   -   1.16012   -   0.73593   -   1.01125   -   0.771429\n",
      "2   -   0.728646   -   0.839632   -   0.698013   -   0.853795\n",
      "3   -   0.489408   -   0.89948   -   0.526808   -   0.895982\n",
      "4   -   0.363571   -   0.927849   -   0.401472   -   0.919754\n",
      "5   -   0.289783   -   0.944217   -   0.355297   -   0.929576\n",
      "6   -   0.240151   -   0.955016   -   0.315015   -   0.939844\n",
      "7   -   0.206883   -   0.961097   -   0.287135   -   0.947545\n",
      "8   -   0.182916   -   0.965303   -   0.280628   -   0.948884\n",
      "9   -   0.167358   -   0.96845   -   0.263884   -   0.953013\n",
      "10   -   0.148627   -   0.972762   -   0.260984   -   0.952567\n",
      "11   -   0.13538   -   0.974989   -   0.273389   -   0.950558\n",
      "12   -   0.125388   -   0.977181   -   0.25642   -   0.955022\n",
      "13   -   0.119496   -   0.977588   -   0.248145   -   0.955804\n",
      "14   -   0.114626   -   0.978436   -   0.245739   -   0.958482\n",
      "15   -   0.108213   -   0.979673   -   0.256502   -   0.956473\n",
      "16   -   0.102855   -   0.980504   -   0.24461   -   0.959263\n",
      "17   -   0.0966856   -   0.981724   -   0.246196   -   0.957366\n",
      "18   -   0.0941674   -   0.982148   -   0.246403   -   0.959152\n",
      "19   -   0.0909953   -   0.982448   -   0.254822   -   0.958594\n",
      "Time to train: 148.15357041358948\n"
     ]
    }
   ],
   "source": [
    "import time\n",
    "\n",
    "batch_size = 256\n",
    "nEpochs = 20\n",
    "\n",
    "start = time.time()\n",
    "\n",
    "gpu_options = tf.GPUOptions(allow_growth = True)\n",
    "with tf.Session(graph=graph, config=tf.ConfigProto(gpu_options=gpu_options)) as session:\n",
    "\n",
    "    #Create sumaries writers\n",
    "    train_writer = tf.summary.FileWriter(LOG_DIR + 'train', session.graph, flush_secs=2)\n",
    "    test_writer  = tf.summary.FileWriter(LOG_DIR + 'test', flush_secs=2)\n",
    "\n",
    "        \n",
    "    print('Initializing')\n",
    "    print('Epoch - Loss(trn) -  Acc(trn)   -   Loss(tst) -   Acc(tst)')\n",
    "    session.run(tf.global_variables_initializer())\n",
    "    for epoch in range(nEpochs):\n",
    "        ce_c=[]\n",
    "        acc_c=[]\n",
    "        ce_c_tst=[]\n",
    "        acc_c_tst=[]\n",
    "        \n",
    "        batch_list = batch_generator(x=X_trn, y=y_trn, batch_size=batch_size)\n",
    "        for batch in batch_list:\n",
    "            feedDict = {x: batch[0], x_length: batch[1], y: batch[2], keep_prob: 0.5} # dictionary of batch data to run the graph\n",
    "            _, ce, acc = session.run([train_op, cross_entropy, accuracy], feed_dict=feedDict)\n",
    "            ce_c += [ce]\n",
    "            acc_c += [acc]\n",
    "        # Sumaries train    \n",
    "        summary_str_trn = session.run(merged, feedDict)\n",
    "        train_writer.add_summary(summary_str_trn, epoch)            \n",
    "            \n",
    "        batch_list_tst = batch_generator(x=X_tst, y=y_tst, batch_size=batch_size)\n",
    "        for x_batch, x_length_batch, y_batch in batch_list_tst:\n",
    "            feedDict = {x: x_batch, x_length:x_length_batch, y: y_batch, keep_prob: 1} # dictionary of batch data to run the graph\n",
    "            ce_tst, acc_tst = session.run([cross_entropy, accuracy], feed_dict=feedDict)\n",
    "            ce_c_tst += [ce_tst]\n",
    "            acc_c_tst += [acc_tst]\n",
    "        # Sumaries test    \n",
    "        summary_str_tst = session.run(merged, feedDict)\n",
    "        test_writer.add_summary(summary_str_tst, epoch)            \n",
    "                    \n",
    "        print(epoch, np.mean(ce_c), np.mean(acc_c), np.mean(ce_c_tst), np.mean(acc_c_tst), sep='   -   ')\n",
    "print('Time to train:', time.time() - start)\n",
    "# 468 secs in CPU i7\n",
    "# 244 secs in GPU Mac"
   ]
  },
  {
   "cell_type": "code",
   "execution_count": null,
   "metadata": {
    "collapsed": true
   },
   "outputs": [],
   "source": []
  }
 ],
 "metadata": {
  "anaconda-cloud": {},
  "kernelspec": {
   "display_name": "Python [conda env:keras2_py36]",
   "language": "python",
   "name": "conda-env-keras2_py36-py"
  },
  "language_info": {
   "codemirror_mode": {
    "name": "ipython",
    "version": 3
   },
   "file_extension": ".py",
   "mimetype": "text/x-python",
   "name": "python",
   "nbconvert_exporter": "python",
   "pygments_lexer": "ipython3",
   "version": "3.6.0"
  }
 },
 "nbformat": 4,
 "nbformat_minor": 1
}
