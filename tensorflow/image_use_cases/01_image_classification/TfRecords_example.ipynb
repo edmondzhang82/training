{
 "cells": [
  {
   "cell_type": "code",
   "execution_count": null,
   "metadata": {
    "collapsed": true
   },
   "outputs": [],
   "source": [
    "\"\"\"Converts MNIST data to TFRecords file format with Example protos.\"\"\"\n",
    "from __future__ import print_function\n",
    "\n",
    "import argparse\n",
    "import os.path\n",
    "import sys\n",
    "import time\n",
    "import os\n",
    "\n",
    "import tensorflow as tf\n",
    "\n",
    "import matplotlib.pyplot as plt\n",
    "%matplotlib inline\n",
    "# plt configuration\n",
    "plt.rcParams['figure.figsize'] = (10, 10)        # size of images\n",
    "plt.rcParams['image.interpolation'] = 'nearest'  # show exact image\n",
    "plt.rcParams['image.cmap'] = 'gray'  # use grayscale \n"
   ]
  },
  {
   "cell_type": "code",
   "execution_count": 1,
   "metadata": {
    "collapsed": false
   },
   "outputs": [
    {
     "name": "stdout",
     "output_type": "stream",
     "text": [
      "Successfully downloaded train-images-idx3-ubyte.gz 9912422 bytes.\n",
      "Extracting /tmp/data/train-images-idx3-ubyte.gz\n",
      "Successfully downloaded train-labels-idx1-ubyte.gz 28881 bytes.\n",
      "Extracting /tmp/data/train-labels-idx1-ubyte.gz\n",
      "Successfully downloaded t10k-images-idx3-ubyte.gz 1648877 bytes.\n",
      "Extracting /tmp/data/t10k-images-idx3-ubyte.gz\n",
      "Successfully downloaded t10k-labels-idx1-ubyte.gz 4542 bytes.\n",
      "Extracting /tmp/data/t10k-labels-idx1-ubyte.gz\n",
      "Writing /tmp/data/train.tfrecords\n"
     ]
    },
    {
     "name": "stderr",
     "output_type": "stream",
     "text": [
      "/home/jorge/anaconda3/envs/py3_tf1/lib/python3.6/site-packages/ipykernel/__main__.py:48: DeprecationWarning: PyUnicode_AsEncodedObject() is deprecated; use PyUnicode_AsEncodedString() to encode from str to bytes or PyCodec_Encode() for generic encoding\n"
     ]
    },
    {
     "name": "stdout",
     "output_type": "stream",
     "text": [
      "Writing /tmp/data/validation.tfrecords\n",
      "Writing /tmp/data/test.tfrecords\n"
     ]
    },
    {
     "ename": "SystemExit",
     "evalue": "",
     "output_type": "error",
     "traceback": [
      "An exception has occurred, use %tb to see the full traceback.\n",
      "\u001b[0;31mSystemExit\u001b[0m\n"
     ]
    },
    {
     "name": "stderr",
     "output_type": "stream",
     "text": [
      "/home/jorge/anaconda3/envs/py3_tf1/lib/python3.6/site-packages/IPython/core/interactiveshell.py:2889: UserWarning: To exit: use 'exit', 'quit', or Ctrl-D.\n",
      "  warn(\"To exit: use 'exit', 'quit', or Ctrl-D.\", stacklevel=1)\n"
     ]
    }
   ],
   "source": [
    "from tensorflow.contrib.learn.python.learn.datasets import mnist\n",
    "\n",
    "def _int64_feature(value):\n",
    "    return tf.train.Feature(int64_list=tf.train.Int64List(value=[value]))\n",
    "\n",
    "def _bytes_feature(value):\n",
    "    return tf.train.Feature(bytes_list=tf.train.BytesList(value=[value]))\n",
    "\n",
    "def convert_to(data_set, name):\n",
    "    \"\"\"Converts a dataset to tfrecords.\"\"\"\n",
    "    images = data_set.images\n",
    "    labels = data_set.labels\n",
    "    num_examples = data_set.num_examples\n",
    "\n",
    "    rows = images.shape[1]\n",
    "    cols = images.shape[2]\n",
    "    depth = images.shape[3]\n",
    "\n",
    "    filename = os.path.join('/tmp/data', name + '.tfrecords')\n",
    "    print('Writing', filename)\n",
    "    writer = tf.python_io.TFRecordWriter(filename)\n",
    "    for index in range(num_examples):\n",
    "        image_raw = images[index].tostring()\n",
    "        example = tf.train.Example(features=tf.train.Features(feature={\n",
    "            'height': _int64_feature(rows),\n",
    "            'width' : _int64_feature(cols),\n",
    "            'depth' : _int64_feature(depth),\n",
    "            'label' : _int64_feature(int(labels[index])), \n",
    "            'image_raw': _bytes_feature(image_raw)}))\n",
    "        writer.write(example.SerializeToString())\n",
    "    writer.close()\n",
    "\n",
    "\n",
    "# Get the data.\n",
    "data_sets = mnist.read_data_sets('/tmp/data',\n",
    "                                   dtype=tf.uint8,\n",
    "                                   reshape=False,\n",
    "                                   validation_size=5000)\n",
    "\n",
    "# Convert to Examples and write the result to TFRecords.\n",
    "convert_to(data_sets.train, 'train')\n",
    "convert_to(data_sets.validation, 'validation')\n",
    "convert_to(data_sets.test, 'test')\n"
   ]
  },
  {
   "cell_type": "markdown",
   "metadata": {},
   "source": [
    "# Read and check TfRecords"
   ]
  },
  {
   "cell_type": "code",
   "execution_count": 22,
   "metadata": {
    "collapsed": true
   },
   "outputs": [],
   "source": [
    "def read_and_decode(filename_queue):\n",
    "    reader = tf.TFRecordReader()\n",
    "    _, serialized_example = reader.read(filename_queue)\n",
    "    features = tf.parse_single_example(\n",
    "          serialized_example,\n",
    "          # Defaults are not specified since both keys are required.\n",
    "          features={\n",
    "              'image_raw': tf.FixedLenFeature([], tf.string),\n",
    "              'label': tf.FixedLenFeature([], tf.int64),\n",
    "          })\n",
    "\n",
    "    # Convert from a scalar string tensor (whose single string has\n",
    "    # length mnist.IMAGE_PIXELS) to a uint8 tensor with shape\n",
    "    # [mnist.IMAGE_PIXELS].\n",
    "    image = tf.decode_raw(features['image_raw'], tf.uint8)\n",
    "    print(image)\n",
    "    image.set_shape(784)\n",
    "    \n",
    "\n",
    "    # OPTIONAL: Could reshape into a 28x28 image and apply distortions\n",
    "    # here.  Since we are not applying any distortions in this\n",
    "    # example, and the next step expects the image to be flattened\n",
    "    # into a vector, we don't bother.\n",
    "\n",
    "    # Convert from [0, 255] -> [-0.5, 0.5] floats.\n",
    "    image = tf.cast(image, tf.float32) * (1. / 255) - 0.5\n",
    "\n",
    "    # Convert label from a scalar uint8 tensor to an int32 scalar.\n",
    "    label = tf.cast(features['label'], tf.int32)\n",
    "\n",
    "    return image, label\n",
    "\n",
    "def inputs(train, batch_size, num_epochs):\n",
    "    \"\"\"Reads input data num_epochs times.\n",
    "    Args:\n",
    "      train: Selects between the training (True) and validation (False) data.\n",
    "      batch_size: Number of examples per returned batch.\n",
    "      num_epochs: Number of times to read the input data, or 0/None to\n",
    "         train forever.\n",
    "    Returns:\n",
    "      A tuple (images, labels), where:\n",
    "      * images is a float tensor with shape [batch_size, mnist.IMAGE_PIXELS]\n",
    "        in the range [-0.5, 0.5].\n",
    "      * labels is an int32 tensor with shape [batch_size] with the true label,\n",
    "        a number in the range [0, mnist.NUM_CLASSES).\n",
    "      Note that an tf.train.QueueRunner is added to the graph, which\n",
    "      must be run using e.g. tf.train.start_queue_runners().\n",
    "    \"\"\"\n",
    "    if not num_epochs: num_epochs = None\n",
    "    filename = os.path.join('/tmp/data',\n",
    "                          'train.tfrecords' if train else 'validation.tfrecords')\n",
    "\n",
    "    with tf.name_scope('input'):\n",
    "        filename_queue = tf.train.string_input_producer(\n",
    "            [filename], num_epochs=num_epochs)\n",
    "\n",
    "        # Even when reading in multiple threads, share the filename\n",
    "        # queue.\n",
    "        image, label = read_and_decode(filename_queue)\n",
    "\n",
    "        # Shuffle the examples and collect them into batch_size batches.\n",
    "        # (Internally uses a RandomShuffleQueue.)\n",
    "        # We run this in two threads to avoid being a bottleneck.\n",
    "        images, sparse_labels = tf.train.shuffle_batch(\n",
    "            [image, label], batch_size=batch_size, num_threads=2,\n",
    "            capacity=1000 + 3 * batch_size,\n",
    "            # Ensures a minimum amount of shuffling of examples.\n",
    "            min_after_dequeue=1000)\n",
    "\n",
    "        return images, sparse_labels"
   ]
  },
  {
   "cell_type": "code",
   "execution_count": 23,
   "metadata": {
    "collapsed": false
   },
   "outputs": [
    {
     "name": "stdout",
     "output_type": "stream",
     "text": [
      "Tensor(\"DecodeRaw_12:0\", shape=(?,), dtype=uint8)\n",
      "7\n"
     ]
    },
    {
     "data": {
      "image/png": "[encoded data removed]",
      "text/plain": [
       "<matplotlib.figure.Figure at 0x7fc9dc71a8d0>"
      ]
     },
     "metadata": {},
     "output_type": "display_data"
    },
    {
     "name": "stdout",
     "output_type": "stream",
     "text": [
      "3\n"
     ]
    },
    {
     "data": {
      "image/png": "[encoded data removed]",
      "text/plain": [
       "<matplotlib.figure.Figure at 0x7fc9dc6dacc0>"
      ]
     },
     "metadata": {},
     "output_type": "display_data"
    },
    {
     "name": "stdout",
     "output_type": "stream",
     "text": [
      "4\n"
     ]
    },
    {
     "data": {
      "image/png": "[encoded data removed]",
      "text/plain": [
       "<matplotlib.figure.Figure at 0x7fc9e41ec470>"
      ]
     },
     "metadata": {},
     "output_type": "display_data"
    },
    {
     "name": "stdout",
     "output_type": "stream",
     "text": [
      "Tensor(\"DecodeRaw_13:0\", shape=(?,), dtype=uint8)\n",
      "(784,)\n",
      "Tensor(\"Cast_27:0\", shape=(), dtype=int32)\n"
     ]
    }
   ],
   "source": [
    "#Show images\n",
    "filename = os.path.join('/tmp/data', TRAIN_FILE)\n",
    "filename_queue = tf.train.string_input_producer([filename], num_epochs=1)\n",
    "image, target = read_and_decode(filename_queue)\n",
    "\n",
    "init_op = tf.group(tf.global_variables_initializer(),\n",
    "                   tf.local_variables_initializer())\n",
    "\n",
    "with tf.Session()  as sess:\n",
    "    sess.run(init_op)\n",
    "    coord = tf.train.Coordinator()\n",
    "    threads = tf.train.start_queue_runners(coord=coord)\n",
    "    # Let's read off 3 batches just for example\n",
    "    for i in range(3):\n",
    "    \n",
    "        img, label = sess.run([image, target])\n",
    "        print(label)\n",
    "        plt.imshow(np.reshape(img,[28,28]))\n",
    "        plt.show()\n",
    "\n",
    "    coord.request_stop()\n",
    "    coord.join(threads)\n",
    "    \n",
    "    \n",
    "image, label = read_and_decode(filename_queue)\n",
    "print(image.shape)\n",
    "print(label)"
   ]
  },
  {
   "cell_type": "code",
   "execution_count": 8,
   "metadata": {
    "collapsed": false
   },
   "outputs": [
    {
     "name": "stdout",
     "output_type": "stream",
     "text": [
      "Step 0: loss = 2.30 (0.466 sec)\n",
      "Step 100: loss = 1.89 (0.078 sec)\n",
      "Step 200: loss = 1.81 (0.081 sec)\n",
      "Step 300: loss = 1.88 (0.080 sec)\n",
      "Step 400: loss = 1.86 (0.077 sec)\n",
      "Done training for 2 epochs, 429 steps.\n"
     ]
    }
   ],
   "source": [
    "from __future__ import print_function\n",
    "\n",
    "#Basic libraries\n",
    "import numpy as np\n",
    "import tensorflow as tf\n",
    "import time\n",
    "import os\n",
    "os.environ[\"CUDA_DEVICE_ORDER\"]=\"PCI_BUS_ID\"\n",
    "os.environ[\"CUDA_VISIBLE_DEVICES\"]=\"0\"\n",
    "\n",
    "# Tell TensorFlow that the model will be built into the default Graph.\n",
    "with tf.Graph().as_default():\n",
    "    # Input images and labels.\n",
    "    images, labels = inputs(train=True, batch_size=256,\n",
    "                            num_epochs=2)\n",
    "    \n",
    "    W = tf.Variable(tf.zeros([784,10]))\n",
    "    b = tf.Variable(tf.zeros([10]))\n",
    "    y_pred = tf.nn.softmax(tf.matmul(images,W) + b)\n",
    "    loss = tf.nn.sparse_softmax_cross_entropy_with_logits(logits=y_pred, labels=labels)\n",
    "    train_op = tf.train.AdamOptimizer(0.01).minimize(loss)\n",
    "\n",
    "    # The op for initializing the variables.\n",
    "    init_op = tf.group(tf.global_variables_initializer(),\n",
    "                       tf.local_variables_initializer())\n",
    "\n",
    "    # Create a session for running operations in the Graph.\n",
    "    gpu_options = tf.GPUOptions(allow_growth = True)\n",
    "    with tf.Session(config=tf.ConfigProto(gpu_options=gpu_options)) as sess:\n",
    "\n",
    "        # Initialize the variables (the trained variables and the\n",
    "        # epoch counter).\n",
    "        sess.run(init_op)\n",
    "\n",
    "        # Start input enqueue threads.\n",
    "        coord = tf.train.Coordinator()\n",
    "        threads = tf.train.start_queue_runners(sess=sess, coord=coord)\n",
    "\n",
    "        try:\n",
    "            step = 0\n",
    "            while not coord.should_stop():\n",
    "                start_time = time.time()\n",
    "                _, loss_value = sess.run([train_op, loss])\n",
    "                duration = time.time() - start_time\n",
    "\n",
    "                # Print an overview fairly often.\n",
    "                if step % 100 == 0:\n",
    "                    print('Step %d: loss = %.2f (%.3f sec)' % (step, np.mean(loss_value), duration))\n",
    "                step += 1\n",
    "        except tf.errors.OutOfRangeError:\n",
    "            print('Done training for %d epochs, %d steps.' % (2, step))\n",
    "        finally:\n",
    "            # When done, ask the threads to stop.\n",
    "            coord.request_stop()\n",
    "\n",
    "        # Wait for threads to finish.\n",
    "        coord.join(threads)\n"
   ]
  },
  {
   "cell_type": "code",
   "execution_count": 9,
   "metadata": {
    "collapsed": true
   },
   "outputs": [],
   "source": [
    "\n"
   ]
  },
  {
   "cell_type": "code",
   "execution_count": null,
   "metadata": {
    "collapsed": true
   },
   "outputs": [],
   "source": []
  }
 ],
 "metadata": {
  "anaconda-cloud": {},
  "kernelspec": {
   "display_name": "Python [conda env:py3_tf1]",
   "language": "python",
   "name": "conda-env-py3_tf1-py"
  },
  "language_info": {
   "codemirror_mode": {
    "name": "ipython",
    "version": 3
   },
   "file_extension": ".py",
   "mimetype": "text/x-python",
   "name": "python",
   "nbconvert_exporter": "python",
   "pygments_lexer": "ipython3",
   "version": "3.6.0"
  }
 },
 "nbformat": 4,
 "nbformat_minor": 1
}
