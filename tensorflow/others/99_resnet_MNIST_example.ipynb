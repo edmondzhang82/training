{
 "cells": [
  {
   "cell_type": "markdown",
   "metadata": {},
   "source": [
    "# Train model for MNIST \n",
    "    - MNIST data\n",
    "    - resnet network with dilated convolutions"
   ]
  },
  {
   "cell_type": "code",
   "execution_count": 1,
   "metadata": {
    "collapsed": false
   },
   "outputs": [],
   "source": [
    "from __future__ import absolute_import\n",
    "from __future__ import division\n",
    "from __future__ import print_function\n",
    "\n",
    "import tensorflow as tf\n",
    "import numpy as np\n",
    "import random\n",
    "import h5py\n",
    "\n",
    "import matplotlib.pyplot as plt\n",
    "# display plots in this notebook\n",
    "%matplotlib inline\n",
    "\n",
    "# set display defaults\n",
    "plt.rcParams['figure.figsize'] = (10, 10) \n",
    "plt.rcParams['image.interpolation'] = 'nearest'\n",
    "plt.rcParams['image.cmap'] = 'gray' \n",
    "\n",
    "\n",
    "path = '/home/jorge/data/tesis/handwriting/p06_dilated_convolutions/'"
   ]
  },
  {
   "cell_type": "code",
   "execution_count": 2,
   "metadata": {
    "collapsed": false
   },
   "outputs": [
    {
     "name": "stdout",
     "output_type": "stream",
     "text": [
      "Extracting /tmp/train-images-idx3-ubyte.gz\n",
      "Extracting /tmp/train-labels-idx1-ubyte.gz\n",
      "Extracting /tmp/t10k-images-idx3-ubyte.gz\n",
      "Extracting /tmp/t10k-labels-idx1-ubyte.gz\n",
      "(55000, 784)\n",
      "(10000, 784)\n",
      "(55000, 10)\n",
      "(10000, 10)\n"
     ]
    }
   ],
   "source": [
    "#Read MNIST data from tensorflow\n",
    "from tensorflow.examples.tutorials.mnist import input_data\n",
    "mnist = input_data.read_data_sets(\"/tmp\", one_hot=True)\n",
    "\n",
    "print(mnist.train.images.shape)\n",
    "print(mnist.test.images.shape)\n",
    "print(mnist.train.labels.shape)\n",
    "print(mnist.test.labels.shape)"
   ]
  },
  {
   "cell_type": "code",
   "execution_count": 3,
   "metadata": {
    "collapsed": true
   },
   "outputs": [],
   "source": [
    "import tensorflow as tf\n",
    "\n",
    "# Start an interactive session\n",
    "sess = tf.InteractiveSession()\n"
   ]
  },
  {
   "cell_type": "code",
   "execution_count": 4,
   "metadata": {
    "collapsed": true
   },
   "outputs": [],
   "source": [
    "def conv11(input_, output_channels=256, name='conv1'):\n",
    "    input_shape = input_.get_shape()\n",
    "    input_channels = int(input_shape[-1])\n",
    "    filter_ = tf.get_variable('w_'+name, [1, 1, input_channels, output_channels], \n",
    "                              initializer=tf.truncated_normal_initializer(stddev=0.001))\n",
    "    conv = tf.nn.convolution(input_, filter_, padding = 'SAME')\n",
    "    biases = tf.get_variable('biases_'+name, [output_channels], initializer=tf.constant_initializer(0.0))\n",
    "    conv = tf.nn.bias_add(conv, biases)\n",
    "    return conv\n",
    "\n",
    "def conv11_dilated(input_, dilation=1, output_channels=256, name='conv1'):\n",
    "    input_shape = input_.get_shape()\n",
    "    input_channels = int(input_shape[-1])\n",
    "    filter_ = tf.get_variable('w_'+name, [3, 3, input_channels, output_channels], \n",
    "                              initializer=tf.truncated_normal_initializer(stddev=0.001))\n",
    "    conv = tf.nn.convolution(input_, filter_, dilation_rate = [dilation, dilation], padding = 'SAME')\n",
    "    biases = tf.get_variable('biases_'+name, [output_channels], initializer=tf.constant_initializer(0.0))\n",
    "    conv = tf.nn.bias_add(conv, biases)\n",
    "    return conv\n",
    "\n",
    "\n",
    "\n",
    "def residual_layer(input_, dilation, channels=64, name='residual'):\n",
    "    '''\n",
    "    relu\n",
    "    relu(convolution([1, 1, x.size, n_channels1])\n",
    "    relu(convolution([1, 3, n_channels1, n_channels1])\n",
    "    \n",
    "    '''\n",
    "    cv1 = tf.nn.relu(conv11(input_, output_channels=channels, name=name+'_cv1'))\n",
    "    cv2 = tf.nn.relu(conv11_dilated(cv1, dilation=dilation, output_channels=channels, name=name+'_cv2'))\n",
    "    cv3 = tf.nn.relu(conv11(cv2, output_channels=channels, name=name+'_cv3'))\n",
    "    \n",
    "    return input_ + cv3\n",
    "   "
   ]
  },
  {
   "cell_type": "code",
   "execution_count": 5,
   "metadata": {
    "collapsed": true
   },
   "outputs": [],
   "source": [
    "def weight_variable(shape, name=None):\n",
    "    initial = tf.truncated_normal(shape, stddev=0.1)\n",
    "    return tf.Variable(initial, name=name)\n",
    "\n",
    "def softmax_layer(inpt, shape):\n",
    "    fc_w = weight_variable(shape)\n",
    "    fc_b = tf.Variable(tf.zeros([shape[1]]))\n",
    "\n",
    "    fc_h = tf.nn.softmax(tf.matmul(inpt, fc_w) + fc_b)\n",
    "\n",
    "    return fc_h\n",
    "\n",
    "def conv_layer(inpt, filter_shape, stride):\n",
    "    out_channels = filter_shape[3]\n",
    "\n",
    "    filter_ = weight_variable(filter_shape)\n",
    "    conv = tf.nn.convolution(inpt, filter_, \"SAME\", strides=[stride, stride])\n",
    "    mean, var = tf.nn.moments(conv, axes=[0,1,2])\n",
    "    beta = tf.Variable(tf.zeros([out_channels]), name=\"beta\")\n",
    "    gamma = weight_variable([out_channels], name=\"gamma\")\n",
    "    \n",
    "    batch_norm = tf.nn.batch_norm_with_global_normalization(\n",
    "        conv, mean, var, beta, gamma, 0.001,\n",
    "        scale_after_normalization=True)\n",
    "\n",
    "    out = tf.nn.relu(batch_norm)\n",
    "\n",
    "    return out\n",
    "\n",
    "def residual_block(inpt, output_depth, down_sample, projection=False):\n",
    "    input_depth = inpt.get_shape().as_list()[3]\n",
    "    if down_sample:\n",
    "        filter_ = [1,2,2,1]\n",
    "        inpt = tf.nn.max_pool(inpt, ksize=filter_, strides=filter_, padding='SAME')\n",
    "\n",
    "    conv1 = conv_layer(inpt, [3, 3, input_depth, output_depth], 1)\n",
    "    conv2 = conv_layer(conv1, [3, 3, output_depth, output_depth], 1)\n",
    "\n",
    "    if input_depth != output_depth:\n",
    "        if projection:\n",
    "            # Option B: Projection shortcut\n",
    "            input_layer = conv_layer(inpt, [1, 1, input_depth, output_depth], 2)\n",
    "        else:\n",
    "            # Option A: Zero-padding\n",
    "            input_layer = tf.pad(inpt, [[0,0], [0,0], [0,0], [0, output_depth - input_depth]])\n",
    "    else:\n",
    "        input_layer = inpt\n",
    "\n",
    "    res = conv2 + input_layer\n",
    "    return res"
   ]
  },
  {
   "cell_type": "code",
   "execution_count": 6,
   "metadata": {
    "collapsed": true
   },
   "outputs": [],
   "source": [
    "def dense_layer(x, input_dim=10, output_dim=10, name='dense'):\n",
    "    W = tf.Variable(tf.truncated_normal([input_dim, output_dim], stddev=0.1), name='W_'+name)\n",
    "    b = tf.Variable(tf.constant(0.1, shape=[output_dim]), name='b_'+name)\n",
    "    dense_output = tf.nn.relu(tf.matmul(x, W) + b)\n",
    "    return dense_output"
   ]
  },
  {
   "cell_type": "code",
   "execution_count": 7,
   "metadata": {
    "collapsed": false
   },
   "outputs": [
    {
     "name": "stdout",
     "output_type": "stream",
     "text": [
      "Output(\"conv1/add:0\", shape=(?, 14, 14, 8), dtype=float32)\n",
      "Output(\"conv2/add:0\", shape=(?, 7, 7, 16), dtype=float32)\n",
      "Output(\"conv3/add:0\", shape=(?, 4, 4, 32), dtype=float32)\n",
      "Output(\"dense1/Mean:0\", shape=(?, 32), dtype=float32)\n",
      "Model defined!\n"
     ]
    }
   ],
   "source": [
    "#Create the net\n",
    "# Inputs\n",
    "x = tf.placeholder(tf.float32, shape=[None, 784], name='x')\n",
    "y = tf.placeholder(tf.float32, shape=[None, 10], name='y')\n",
    "\n",
    "#Reshape input data to the original image shape\n",
    "x_image = tf.reshape(x, [-1,28,28,1])\n",
    "\n",
    "# First convolution\n",
    "# use a name scope to organize nodes in the graph visualizer\n",
    "with tf.name_scope(\"conv1\") as scope:\n",
    "    output1 = residual_block(x_image, 8, True)\n",
    "    #output1 = residual_layer(x_image, 1, channels=16, name='conv1')\n",
    "    print(output1)\n",
    "with tf.name_scope(\"conv2\") as scope:\n",
    "    output2 = residual_block(output1, 16, True)\n",
    "    #output2 = residual_layer(output1, 1, channels=16, name='conv2')\n",
    "    print(output2)\n",
    "with tf.name_scope(\"conv3\") as scope:\n",
    "    output3 = residual_block(output2, 32, True)\n",
    "    #output3 = residual_layer(output2, 1, channels=16, name='conv3')\n",
    "    print(output3)\n",
    "    \n",
    "        \n",
    "#First dense layer\n",
    "with tf.name_scope(\"dense1\") as scope:\n",
    "    #Average over each pixel across all channels\n",
    "    global_pool = tf.reduce_mean(output3, [1, 2])\n",
    "    #global_pool = tf.reshape(output3, [-1, 4*4*64])\n",
    "    print(global_pool)\n",
    "    #Prediction\n",
    "    y_pred = softmax_layer(global_pool, [32, 10])\n",
    "\n",
    "\n",
    "# Loss function\n",
    "with tf.name_scope(\"xent\") as scope:\n",
    "    cross_entropy = -tf.reduce_sum(y*tf.log(y_pred+0.00001))\n",
    "    ce_summ = tf.histogram_summary(\"cross entropy\", cross_entropy)\n",
    "\n",
    "#Optimizer\n",
    "learning_rate = tf.placeholder(tf.float32, name='learning_rate')\n",
    "with tf.name_scope(\"train\") as scope:\n",
    "    train_step = tf.train.MomentumOptimizer(learning_rate, 0.9).minimize(cross_entropy)\n",
    "\n",
    "#Accuracy\n",
    "with tf.name_scope(\"test\") as scope:\n",
    "    correct_prediction = tf.equal(tf.argmax(y_pred, 1), tf.argmax(y, 1))\n",
    "    accuracy = tf.reduce_mean(tf.cast(correct_prediction, \"float\"))\n",
    "    accuracy_summary = tf.scalar_summary(\"accuracy\", accuracy)\n",
    "\n",
    "print('Model defined!')"
   ]
  },
  {
   "cell_type": "code",
   "execution_count": 8,
   "metadata": {
    "collapsed": true
   },
   "outputs": [],
   "source": [
    "# Merge all the summaries and write them out to /tmp/mnist_logs\n",
    "merged = tf.merge_all_summaries()\n",
    "writer = tf.train.SummaryWriter(\"/tmp/tensorboard/mnist_resnet_logs\", sess.graph)"
   ]
  },
  {
   "cell_type": "code",
   "execution_count": 9,
   "metadata": {
    "collapsed": false
   },
   "outputs": [
    {
     "name": "stdout",
     "output_type": "stream",
     "text": [
      "WARNING:tensorflow:From <ipython-input-9-4777123a8d25>:2 in <module>.: initialize_all_variables (from tensorflow.python.ops.variables) is deprecated and will be removed after 2017-03-02.\n",
      "Instructions for updating:\n",
      "Use `tf.global_variables_initializer` instead.\n"
     ]
    }
   ],
   "source": [
    "#Inicialization.\n",
    "sess.run(tf.initialize_all_variables())"
   ]
  },
  {
   "cell_type": "code",
   "execution_count": 10,
   "metadata": {
    "collapsed": false
   },
   "outputs": [
    {
     "name": "stdout",
     "output_type": "stream",
     "text": [
      "step 0 - lr: 0.01, trn_ce: 46.6786, tst_ce 24.9526 - trn_acc: 0.763185, tst_acc 0.88722\n",
      "step 1 - lr: 0.01, trn_ce: 20.9761, tst_ce 13.9807 - trn_acc: 0.90778, tst_acc 0.945312\n",
      "step 2 - lr: 0.01, trn_ce: 16.4524, tst_ce 10.6093 - trn_acc: 0.929487, tst_acc 0.94992\n",
      "step 3 - lr: 0.01, trn_ce: 12.6658, tst_ce 10.8979 - trn_acc: 0.94249, tst_acc 0.949319\n",
      "step 4 - lr: 0.01, trn_ce: 11.5568, tst_ce 10.0237 - trn_acc: 0.947043, tst_acc 0.948317\n",
      "step 5 - lr: 0.01, trn_ce: 11.0276, tst_ce 8.82928 - trn_acc: 0.949774, tst_acc 0.957532\n",
      "step 6 - lr: 0.01, trn_ce: 10.5451, tst_ce 8.63504 - trn_acc: 0.952615, tst_acc 0.961739\n",
      "step 7 - lr: 0.01, trn_ce: 9.92061, tst_ce 10.351 - trn_acc: 0.954837, tst_acc 0.957332\n",
      "step 8 - lr: 0.01, trn_ce: 9.04096, tst_ce 7.9537 - trn_acc: 0.957969, tst_acc 0.967748\n",
      "step 9 - lr: 0.01, trn_ce: 9.23522, tst_ce 7.58811 - trn_acc: 0.956986, tst_acc 0.966346\n",
      "step 10 - lr: 0.01, trn_ce: 8.01408, tst_ce 6.67944 - trn_acc: 0.963833, tst_acc 0.967548\n",
      "step 11 - lr: 0.01, trn_ce: 8.09598, tst_ce 7.63789 - trn_acc: 0.963141, tst_acc 0.970152\n",
      "step 12 - lr: 0.01, trn_ce: 7.91143, tst_ce 9.53326 - trn_acc: 0.96336, tst_acc 0.955729\n",
      "step 13 - lr: 0.01, trn_ce: 8.14016, tst_ce 6.97107 - trn_acc: 0.962231, tst_acc 0.965946\n",
      "step 14 - lr: 0.01, trn_ce: 7.64479, tst_ce 9.99139 - trn_acc: 0.964052, tst_acc 0.953726\n",
      "step 15 - lr: 0.01, trn_ce: 7.46704, tst_ce 6.9158 - trn_acc: 0.964598, tst_acc 0.972155\n",
      "step 16 - lr: 0.01, trn_ce: 7.01051, tst_ce 7.99083 - trn_acc: 0.967257, tst_acc 0.963141\n",
      "step 17 - lr: 0.01, trn_ce: 7.33277, tst_ce 8.29516 - trn_acc: 0.966128, tst_acc 0.961939\n",
      "step 18 - lr: 0.01, trn_ce: 7.05439, tst_ce 6.24088 - trn_acc: 0.967548, tst_acc 0.972155\n",
      "step 19 - lr: 0.01, trn_ce: 7.05641, tst_ce 6.31546 - trn_acc: 0.968277, tst_acc 0.971354\n",
      "step 20 - lr: 0.01, trn_ce: 7.19026, tst_ce 7.44713 - trn_acc: 0.967512, tst_acc 0.969151\n",
      "step 21 - lr: 0.01, trn_ce: 7.25539, tst_ce 10.1841 - trn_acc: 0.966237, tst_acc 0.954527\n",
      "step 22 - lr: 0.01, trn_ce: 6.17822, tst_ce 8.10938 - trn_acc: 0.971445, tst_acc 0.966146\n",
      "step 23 - lr: 0.01, trn_ce: 7.29991, tst_ce 5.38853 - trn_acc: 0.967548, tst_acc 0.97516\n",
      "step 24 - lr: 0.01, trn_ce: 6.53576, tst_ce 6.93433 - trn_acc: 0.970644, tst_acc 0.969551\n",
      "step 25 - lr: 0.01, trn_ce: 6.79038, tst_ce 8.0051 - trn_acc: 0.968859, tst_acc 0.966747\n",
      "step 26 - lr: 0.01, trn_ce: 6.36455, tst_ce 9.56568 - trn_acc: 0.970316, tst_acc 0.959936\n",
      "step 27 - lr: 0.01, trn_ce: 6.44051, tst_ce 6.72697 - trn_acc: 0.970498, tst_acc 0.972957\n",
      "step 28 - lr: 0.01, trn_ce: 6.04359, tst_ce 9.87917 - trn_acc: 0.972247, tst_acc 0.960136\n",
      "step 29 - lr: 0.01, trn_ce: 6.01659, tst_ce 8.84404 - trn_acc: 0.972866, tst_acc 0.962941\n",
      "step 30 - lr: 0.01, trn_ce: 5.65584, tst_ce 6.20375 - trn_acc: 0.973339, tst_acc 0.972957\n",
      "step 31 - lr: 0.01, trn_ce: 6.21069, tst_ce 7.06573 - trn_acc: 0.971955, tst_acc 0.970353\n",
      "step 32 - lr: 0.01, trn_ce: 5.682, tst_ce 6.81921 - trn_acc: 0.973922, tst_acc 0.96895\n",
      "step 33 - lr: 0.01, trn_ce: 5.54722, tst_ce 8.1159 - trn_acc: 0.97272, tst_acc 0.964944\n",
      "step 34 - lr: 0.01, trn_ce: 5.42494, tst_ce 5.55815 - trn_acc: 0.974505, tst_acc 0.974159\n",
      "step 35 - lr: 0.01, trn_ce: 5.68914, tst_ce 7.70914 - trn_acc: 0.974104, tst_acc 0.965545\n",
      "step 36 - lr: 0.01, trn_ce: 5.15321, tst_ce 5.76222 - trn_acc: 0.975379, tst_acc 0.975361\n",
      "step 37 - lr: 0.01, trn_ce: 6.19903, tst_ce 5.61477 - trn_acc: 0.972101, tst_acc 0.975561\n",
      "step 38 - lr: 0.01, trn_ce: 5.48625, tst_ce 5.57944 - trn_acc: 0.974577, tst_acc 0.975361\n",
      "step 39 - lr: 0.01, trn_ce: 5.14392, tst_ce 6.60048 - trn_acc: 0.975816, tst_acc 0.974159\n",
      "step 40 - lr: 0.01, trn_ce: 5.56504, tst_ce 8.45985 - trn_acc: 0.97476, tst_acc 0.965745\n",
      "step 41 - lr: 0.01, trn_ce: 5.51176, tst_ce 6.92296 - trn_acc: 0.974869, tst_acc 0.970353\n",
      "step 42 - lr: 0.01, trn_ce: 5.5455, tst_ce 6.76141 - trn_acc: 0.975634, tst_acc 0.971755\n",
      "step 43 - lr: 0.01, trn_ce: 5.60346, tst_ce 7.08359 - trn_acc: 0.973485, tst_acc 0.969351\n",
      "step 44 - lr: 0.01, trn_ce: 6.28773, tst_ce 6.6349 - trn_acc: 0.972174, tst_acc 0.972155\n",
      "step 45 - lr: 0.01, trn_ce: 5.04247, tst_ce 5.28411 - trn_acc: 0.976508, tst_acc 0.976362\n",
      "step 46 - lr: 0.01, trn_ce: 4.44035, tst_ce 6.2272 - trn_acc: 0.978293, tst_acc 0.972756\n",
      "step 47 - lr: 0.01, trn_ce: 6.24694, tst_ce 7.60777 - trn_acc: 0.971737, tst_acc 0.966947\n",
      "step 48 - lr: 0.01, trn_ce: 5.00497, tst_ce 7.2182 - trn_acc: 0.978074, tst_acc 0.970152\n",
      "step 49 - lr: 0.01, trn_ce: 5.13024, tst_ce 5.40069 - trn_acc: 0.975998, tst_acc 0.978365\n"
     ]
    }
   ],
   "source": [
    "n_epoch = 50\n",
    "batch_size = 128\n",
    "lr = 0.01\n",
    "# Train proccess\n",
    "for epoch in range(n_epoch):\n",
    "    ce_trn=[]\n",
    "    acc_trn=[]\n",
    "    ce_tst=[]\n",
    "    acc_tst=[]\n",
    "    if epoch>50:\n",
    "        lr=0.001\n",
    "    if epoch>100:\n",
    "        lr=0.0001\n",
    "    for batch in range(int(mnist.train.labels.shape[0]/batch_size)):\n",
    "        batch = mnist.train.next_batch(64)\n",
    "        _, ce, acc = sess.run([train_step, cross_entropy, accuracy],\n",
    "                              feed_dict={x: batch[0], y: batch[1], learning_rate: lr})\n",
    "        ce_trn += [ce]\n",
    "        acc_trn += [acc]\n",
    "    for batch in range(int(mnist.test.labels.shape[0]/batch_size)):\n",
    "        batch = mnist.test.next_batch(64)\n",
    "        summary_str, ce, acc = sess.run([merged, cross_entropy, accuracy],\n",
    "                                        feed_dict={x: batch[0], y: batch[1]})\n",
    "        ce_tst += [ce]\n",
    "        acc_tst += [acc]\n",
    "        writer.add_summary(summary_str, epoch)\n",
    "    print(\"step %d - lr: %g, trn_ce: %g, tst_ce %g - trn_acc: %g, tst_acc %g\"%(epoch, lr,\n",
    "                    np.mean(ce_trn), np.mean(ce_tst), np.mean(acc_trn), np.mean(acc_tst)))\n"
   ]
  },
  {
   "cell_type": "code",
   "execution_count": 11,
   "metadata": {
    "collapsed": false
   },
   "outputs": [
    {
     "name": "stdout",
     "output_type": "stream",
     "text": [
      "(2, 14, 14, 8)\n",
      "(2, 7, 7, 16)\n",
      "(2, 4, 4, 32)\n"
     ]
    }
   ],
   "source": [
    "batch = mnist.test.next_batch(2)\n",
    "out1, out2, out3 = sess.run([output1, output2, output3], feed_dict={x: batch[0], y: batch[1]})\n",
    "print(out1.shape)\n",
    "print(out2.shape)\n",
    "print(out3.shape)\n"
   ]
  },
  {
   "cell_type": "code",
   "execution_count": 12,
   "metadata": {
    "collapsed": false
   },
   "outputs": [
    {
     "data": {
      "image/png": "[encoded data removed]",
      "text/plain": [
       "<matplotlib.figure.Figure at 0x7ff024f07a50>"
      ]
     },
     "metadata": {},
     "output_type": "display_data"
    }
   ],
   "source": [
    "fig = plt.figure()\n",
    "for i in xrange(8):\n",
    "    a = fig.add_subplot(4,4,i+1)\n",
    "    fig.tight_layout()\n",
    "    plt.imshow(out1[0,:,:,i])"
   ]
  },
  {
   "cell_type": "code",
   "execution_count": 13,
   "metadata": {
    "collapsed": false
   },
   "outputs": [
    {
     "data": {
      "image/png": "[encoded data removed]",
      "text/plain": [
       "<matplotlib.figure.Figure at 0x7fefb6874d50>"
      ]
     },
     "metadata": {},
     "output_type": "display_data"
    }
   ],
   "source": [
    "fig = plt.figure()\n",
    "for i in xrange(16):\n",
    "    a = fig.add_subplot(8,4,i+1)\n",
    "    fig.tight_layout()\n",
    "    plt.imshow(out2[0,:,:,i])"
   ]
  },
  {
   "cell_type": "code",
   "execution_count": null,
   "metadata": {
    "collapsed": true
   },
   "outputs": [],
   "source": []
  }
 ],
 "metadata": {
  "kernelspec": {
   "display_name": "Python 2",
   "language": "python",
   "name": "python2"
  },
  "language_info": {
   "codemirror_mode": {
    "name": "ipython",
    "version": 2
   },
   "file_extension": ".py",
   "mimetype": "text/x-python",
   "name": "python",
   "nbconvert_exporter": "python",
   "pygments_lexer": "ipython2",
   "version": "2.7.6"
  }
 },
 "nbformat": 4,
 "nbformat_minor": 0
}
