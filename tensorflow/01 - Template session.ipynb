{
 "cells": [
  {
   "cell_type": "markdown",
   "metadata": {},
   "source": [
    "## Use of tensoflow in non interactive session"
   ]
  },
  {
   "cell_type": "code",
   "execution_count": 4,
   "metadata": {
    "collapsed": true
   },
   "outputs": [],
   "source": [
    "from __future__ import print_function\n",
    "import tensorflow as tf"
   ]
  },
  {
   "cell_type": "code",
   "execution_count": null,
   "metadata": {
    "collapsed": true
   },
   "outputs": [],
   "source": [
    "#Pseudocode to basic usage in batch mode\n",
    "\n",
    "# Define a graph\n",
    "graph = tf.Graph()\n",
    "with graph.as_default():\n",
    "    # graph definition\n",
    "    saver = tf.train.Saver()\n",
    "\n",
    "\n",
    "# Execute a graph to train a network\n",
    "gpu_options = tf.GPUOptions(per_process_gpu_memory_fraction=0.333, allow_growth = True)\n",
    "\n",
    "with tf.Session(graph=graph, config=tf.ConfigProto(gpu_options=gpu_options)) as session:\n",
    "    print('Initializing')\n",
    "    tf.initialize_all_variables().run()\n",
    "    for epoch in range(nEpochs):\n",
    "        for batch in batch_list:\n",
    "            feedDict = {} # dictionary of batch data to run the graph\n",
    "            _, param1_out, param2_out = session.run([train_step, param1_tensor, param2_tensor], feed_dict=feedDict)\n",
    "    saver.save(session, 'path_to_model')    \n",
    "\n",
    "    \n",
    "    \n",
    "# Load & execute the trained graph to score new data  \n",
    "with tf.Session(graph=graph, config=tf.ConfigProto(gpu_options=gpu_options)) as session:\n",
    "    #Load model\n",
    "    loader = tf.train.import_meta_graph('path_to_model.meta')\n",
    "    loader.restore(session, 'path_to_model')\n",
    "    # Score data\n",
    "    feedDict = {} # dictionary of batch data to score\n",
    "    my_predictions = predicts.eval(feed_dict=feedDict)\n",
    "    \n"
   ]
  },
  {
   "cell_type": "markdown",
   "metadata": {},
   "source": [
    "## Example with the MNIST dataset"
   ]
  },
  {
   "cell_type": "code",
   "execution_count": 12,
   "metadata": {
    "collapsed": false
   },
   "outputs": [
    {
     "name": "stdout",
     "output_type": "stream",
     "text": [
      "Extracting /tmp/MNIST_data/train-images-idx3-ubyte.gz\n",
      "Extracting /tmp/MNIST_data/train-labels-idx1-ubyte.gz\n",
      "Extracting /tmp/MNIST_data/t10k-images-idx3-ubyte.gz\n",
      "Extracting /tmp/MNIST_data/t10k-labels-idx1-ubyte.gz\n",
      "Initializing\n",
      "WARNING:tensorflow:From <ipython-input-12-3c4c2d3dee8f>:26 in <module>.: initialize_all_variables (from tensorflow.python.ops.variables) is deprecated and will be removed after 2017-03-02.\n",
      "Instructions for updating:\n",
      "Use `tf.global_variables_initializer` instead.\n",
      "0 0.758188\n",
      "1 0.79953\n",
      "2 0.472074\n",
      "3 0.553901\n",
      "4 0.571241\n",
      "5 0.517454\n",
      "6 0.496778\n",
      "7 0.386795\n",
      "8 0.549113\n",
      "9 0.422646\n",
      "Test ce:  0.323629\n"
     ]
    }
   ],
   "source": [
    "# Load data\n",
    "from tensorflow.examples.tutorials.mnist import input_data\n",
    "mnist = input_data.read_data_sets('/tmp/MNIST_data', one_hot=True)\n",
    "\n",
    "\n",
    "# Define a graph\n",
    "graph = tf.Graph()\n",
    "with graph.as_default():\n",
    "    # graph definition\n",
    "    x = tf.placeholder(tf.float32, shape=[None, 784])\n",
    "    y = tf.placeholder(tf.float32, shape=[None, 10])\n",
    "    W = tf.Variable(tf.zeros([784,10]))\n",
    "    b = tf.Variable(tf.zeros([10]))\n",
    "    y_pred = tf.nn.softmax(tf.matmul(x,W) + b)\n",
    "    cross_entropy = tf.reduce_mean(-tf.reduce_sum(y * tf.log(y_pred), reduction_indices=[1]))\n",
    "    train_step = tf.train.GradientDescentOptimizer(0.5).minimize(cross_entropy)\n",
    "    saver = tf.train.Saver()\n",
    "\n",
    "\n",
    "# Execute a graph to train a network\n",
    "nEpochs = 10\n",
    "gpu_options = tf.GPUOptions(per_process_gpu_memory_fraction=0.333, allow_growth = True)\n",
    "\n",
    "with tf.Session(graph=graph, config=tf.ConfigProto(gpu_options=gpu_options)) as session:\n",
    "    print('Initializing')\n",
    "    tf.initialize_all_variables().run()\n",
    "    for epoch in range(nEpochs):\n",
    "        for i in range(10):\n",
    "            batch = mnist.train.next_batch(500)\n",
    "            _, ce = session.run([train_step, cross_entropy], feed_dict={x: batch[0], y: batch[1]})\n",
    "        print(epoch, ce)\n",
    "    saver.save(session, '/tmp/mnist_model')    \n",
    "\n",
    "    \n",
    "    \n",
    "# Load & execute the trained graph to score new data  \n",
    "with tf.Session(graph=graph, config=tf.ConfigProto(gpu_options=gpu_options)) as session:\n",
    "    #Load model\n",
    "    loader = tf.train.import_meta_graph('/tmp/mnist_model.meta')\n",
    "    loader.restore(session, '/tmp/mnist_model')\n",
    "    \n",
    "    # Score test data\n",
    "    feedDict = {x: mnist.test.images[:200], y: mnist.test.labels[:200]} # dictionary of batch data to score\n",
    "    my_predictions = y_pred.eval(feed_dict=feedDict)\n",
    "    \n",
    "    # Evaluate test data\n",
    "    print('Test ce: ', cross_entropy.eval(feed_dict=feedDict))\n"
   ]
  },
  {
   "cell_type": "code",
   "execution_count": null,
   "metadata": {
    "collapsed": true
   },
   "outputs": [],
   "source": []
  }
 ],
 "metadata": {
  "anaconda-cloud": {},
  "kernelspec": {
   "display_name": "Python [conda env:py27]",
   "language": "python",
   "name": "conda-env-py27-py"
  },
  "language_info": {
   "codemirror_mode": {
    "name": "ipython",
    "version": 2
   },
   "file_extension": ".py",
   "mimetype": "text/x-python",
   "name": "python",
   "nbconvert_exporter": "python",
   "pygments_lexer": "ipython2",
   "version": "2.7.13"
  }
 },
 "nbformat": 4,
 "nbformat_minor": 1
}
