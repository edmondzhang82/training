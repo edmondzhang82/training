{
 "cells": [
  {
   "cell_type": "markdown",
   "metadata": {},
   "source": [
    "# Create a RNN model to text generation\n",
    "- RNN model at character level\n",
    "    - Input: n character previous\n",
    "    - Output: next character\n",
    "    - Model LSTM\n",
    "- Use 'El Quijote' to train the generator\n"
   ]
  },
  {
   "cell_type": "code",
   "execution_count": 1,
   "metadata": {
    "collapsed": false
   },
   "outputs": [
    {
     "name": "stderr",
     "output_type": "stream",
     "text": [
      "Using TensorFlow backend.\n"
     ]
    },
    {
     "name": "stdout",
     "output_type": "stream",
     "text": [
      "Keras version:  2.0.0\n"
     ]
    }
   ],
   "source": [
    "# Header\n",
    "from __future__ import print_function\n",
    "\n",
    "import numpy as np\n",
    "import keras\n",
    "print('Keras version: ', keras.__version__)\n",
    "\n",
    "# GPU devices visible by python\n",
    "import os\n",
    "os.environ[\"CUDA_DEVICE_ORDER\"]=\"PCI_BUS_ID\" \n",
    "os.environ[\"CUDA_VISIBLE_DEVICES\"]=\"1\"\n",
    "\n",
    "# Limit memory usage\n",
    "import tensorflow as tf\n",
    "from keras.backend.tensorflow_backend import set_session\n",
    "\n",
    "config = tf.ConfigProto()\n",
    "config.gpu_options.allow_growth = True\n",
    "set_session(tf.Session(config=config))\n",
    "\n",
    "\n",
    "path = '/home/ubuntu/data/training/keras/'"
   ]
  },
  {
   "cell_type": "markdown",
   "metadata": {},
   "source": [
    "## Download data and generate sequences\n",
    "\n",
    "Download quijote from guttenberg project\n",
    "\n",
    "wget http://www.gutenberg.org/cache/epub/2000/pg2000.txt"
   ]
  },
  {
   "cell_type": "code",
   "execution_count": 2,
   "metadata": {
    "collapsed": false
   },
   "outputs": [
    {
     "name": "stdout",
     "output_type": "stream",
     "text": [
      "corpus length: 2117498\n",
      "corpus length deleted: 2108713\n",
      "Chars list:  ['\\n', ' ', '!', ',', '.', ':', ';', '?', 'a', 'b', 'c', 'd', 'e', 'f', 'g', 'h', 'i', 'j', 'k', 'l', 'm', 'n', 'o', 'p', 'q', 'r', 's', 't', 'u', 'v', 'w', 'x', 'y', 'z', '¡', '¿', 'á', 'é', 'í', 'ñ', 'ó', 'ú', 'ü']\n",
      "total chars: 43\n"
     ]
    }
   ],
   "source": [
    "#Read book\n",
    "text = open(path + \"pg2000.txt\").read().lower()\n",
    "print('corpus length:', len(text))\n",
    "\n",
    "# Simplify text to improve the semantic capacities of the model.\n",
    "delete_chars = [ '\"', '#', '$', '%', \"'\", '(', ')', '*', '-', '/', '0', '1', '2', '3', '4', '5', '6',\n",
    "                '7', '8', '9', '@', '[', ']', '«', '»', 'à', 'ï', 'ù', '\\ufeff']\n",
    "for ch in delete_chars:\n",
    "    text=text.replace(ch,\"\")\n",
    "\n",
    "print('corpus length deleted:', len(text))\n",
    "\n",
    "chars = sorted(list(set(text)))\n",
    "print('Chars list: ', chars)\n",
    "print('total chars:', len(chars))\n",
    "\n",
    "#Dictionaries to convert char to num & num to char\n",
    "char_indices = dict((c, i) for i, c in enumerate(chars))\n",
    "indices_char = dict((i, c) for i, c in enumerate(chars))\n"
   ]
  },
  {
   "cell_type": "code",
   "execution_count": null,
   "metadata": {
    "collapsed": true
   },
   "outputs": [],
   "source": []
  },
  {
   "cell_type": "code",
   "execution_count": 3,
   "metadata": {
    "collapsed": false
   },
   "outputs": [
    {
     "name": "stdout",
     "output_type": "stream",
     "text": [
      "nb sequences: 701898\n",
      "s de\n",
      "santos, sino pr - o\n"
     ]
    }
   ],
   "source": [
    "# cut the text in semi-redundant sequences of maxlen characters\n",
    "# One sentence of length 20 for each 3 characters\n",
    "maxlen = 20\n",
    "step = 3\n",
    "sentences = []\n",
    "next_chars = []\n",
    "for i in range(3000, len(text) - maxlen, step): #Start in character 3000 to exclude Gutenberg header.\n",
    "    sentences.append(text[i: i + maxlen])\n",
    "    next_chars.append(text[i + maxlen])\n",
    "print('nb sequences:', len(sentences))\n",
    "print(sentences[4996], '-', next_chars[4996])"
   ]
  },
  {
   "cell_type": "markdown",
   "metadata": {},
   "source": [
    "## Train the model"
   ]
  },
  {
   "cell_type": "code",
   "execution_count": 4,
   "metadata": {
    "collapsed": false
   },
   "outputs": [
    {
     "name": "stdout",
     "output_type": "stream",
     "text": [
      "Vectorization...\n",
      "X shape:  (701898, 20, 43)\n",
      "y shape:  (701898, 43)\n"
     ]
    }
   ],
   "source": [
    "'''\n",
    "X: One row by sentence\n",
    "    in each row a matrix of bool 0/1 of dim length_sentence x num_chars coding the sentence. Dummy variables\n",
    "y: One row by sentence\n",
    "    in each row a vector of bool of lengt num_chars with 1 in the next char position\n",
    "'''\n",
    "\n",
    "print('Vectorization...')\n",
    "X = np.zeros((len(sentences), maxlen, len(chars)), dtype=np.bool)\n",
    "y = np.zeros((len(sentences), len(chars)), dtype=np.bool)\n",
    "for i, sentence in enumerate(sentences):\n",
    "    for t, char in enumerate(sentence):\n",
    "        X[i, t, char_indices[char]] = 1\n",
    "    y[i, char_indices[next_chars[i]]] = 1\n",
    "\n",
    "print('X shape: ',X.shape)\n",
    "print('y shape: ',y.shape)"
   ]
  },
  {
   "cell_type": "code",
   "execution_count": 5,
   "metadata": {
    "collapsed": false
   },
   "outputs": [
    {
     "name": "stdout",
     "output_type": "stream",
     "text": [
      "Build model 1\n",
      "_________________________________________________________________\n",
      "Layer (type)                 Output Shape              Param #   \n",
      "=================================================================\n",
      "prev (InputLayer)            (None, 20, 43)            0         \n",
      "_________________________________________________________________\n",
      "lstm_1 (LSTM)                (None, 20, 1024)          4374528   \n",
      "_________________________________________________________________\n",
      "lstm_2 (LSTM)                (None, 20, 1024)          8392704   \n",
      "_________________________________________________________________\n",
      "lstm_3 (LSTM)                (None, 1024)              8392704   \n",
      "_________________________________________________________________\n",
      "dense_1 (Dense)              (None, 43)                44075     \n",
      "=================================================================\n",
      "Total params: 21,204,011.0\n",
      "Trainable params: 21,204,011.0\n",
      "Non-trainable params: 0.0\n",
      "_________________________________________________________________\n"
     ]
    }
   ],
   "source": [
    "# build the model: 2 stacked LSTM\n",
    "from keras.models import Model\n",
    "from keras.layers import Input, Dense, Dropout, LSTM\n",
    "from keras import optimizers\n",
    "\n",
    "print('Build model 1')\n",
    "seq_prev_input = Input(shape=(maxlen, len(chars)), name='prev') \n",
    "                \n",
    "# apply forwards LSTM\n",
    "forwards1 = LSTM(1024, return_sequences=True,  dropout=0.3, recurrent_dropout=0.3)(seq_prev_input)\n",
    "\n",
    "forwards2 = LSTM(1024, return_sequences=True,  dropout=0.3, recurrent_dropout=0.3)(forwards1)\n",
    "\n",
    "forwards3 = LSTM(1024, return_sequences=False, dropout=0.3, recurrent_dropout=0.3)(forwards2)\n",
    "\n",
    "output = Dense(len(chars), activation='softmax')(forwards3)\n",
    "\n",
    "model = Model(inputs=seq_prev_input, outputs=output)\n",
    "model.summary()\n",
    "\n",
    "# try using different optimizers and different optimizer configs\n",
    "Nadam = optimizers.Nadam(lr=0.0002, schedule_decay=0.000025)\n",
    "model.compile(loss='categorical_crossentropy', optimizer=Nadam, metrics=['accuracy'])\n"
   ]
  },
  {
   "cell_type": "code",
   "execution_count": 6,
   "metadata": {
    "collapsed": false
   },
   "outputs": [
    {
     "data": {
      "image/svg+xml": [
       "<svg height=\"337pt\" viewBox=\"0.00 0.00 116.00 337.00\" width=\"116pt\" xmlns=\"http://www.w3.org/2000/svg\" xmlns:xlink=\"http://www.w3.org/1999/xlink\">\n",
       "<g class=\"graph\" id=\"graph0\" transform=\"scale(1 1) rotate(0) translate(4 333)\">\n",
       "<title>G</title>\n",
       "<polygon fill=\"white\" points=\"-4,4 -4,-333 112,-333 112,4 -4,4\" stroke=\"none\"/>\n",
       "<!-- 140094013504424 -->\n",
       "<g class=\"node\" id=\"node1\"><title>140094013504424</title>\n",
       "<polygon fill=\"none\" points=\"0,-292.5 0,-328.5 108,-328.5 108,-292.5 0,-292.5\" stroke=\"black\"/>\n",
       "<text font-family=\"Times,serif\" font-size=\"14.00\" text-anchor=\"middle\" x=\"54\" y=\"-306.8\">prev: InputLayer</text>\n",
       "</g>\n",
       "<!-- 140094013504592 -->\n",
       "<g class=\"node\" id=\"node2\"><title>140094013504592</title>\n",
       "<polygon fill=\"none\" points=\"5,-219.5 5,-255.5 103,-255.5 103,-219.5 5,-219.5\" stroke=\"black\"/>\n",
       "<text font-family=\"Times,serif\" font-size=\"14.00\" text-anchor=\"middle\" x=\"54\" y=\"-233.8\">lstm_1: LSTM</text>\n",
       "</g>\n",
       "<!-- 140094013504424&#45;&gt;140094013504592 -->\n",
       "<g class=\"edge\" id=\"edge1\"><title>140094013504424-&gt;140094013504592</title>\n",
       "<path d=\"M54,-292.313C54,-284.289 54,-274.547 54,-265.569\" fill=\"none\" stroke=\"black\"/>\n",
       "<polygon fill=\"black\" points=\"57.5001,-265.529 54,-255.529 50.5001,-265.529 57.5001,-265.529\" stroke=\"black\"/>\n",
       "</g>\n",
       "<!-- 140094013504928 -->\n",
       "<g class=\"node\" id=\"node3\"><title>140094013504928</title>\n",
       "<polygon fill=\"none\" points=\"5,-146.5 5,-182.5 103,-182.5 103,-146.5 5,-146.5\" stroke=\"black\"/>\n",
       "<text font-family=\"Times,serif\" font-size=\"14.00\" text-anchor=\"middle\" x=\"54\" y=\"-160.8\">lstm_2: LSTM</text>\n",
       "</g>\n",
       "<!-- 140094013504592&#45;&gt;140094013504928 -->\n",
       "<g class=\"edge\" id=\"edge2\"><title>140094013504592-&gt;140094013504928</title>\n",
       "<path d=\"M54,-219.313C54,-211.289 54,-201.547 54,-192.569\" fill=\"none\" stroke=\"black\"/>\n",
       "<polygon fill=\"black\" points=\"57.5001,-192.529 54,-182.529 50.5001,-192.529 57.5001,-192.529\" stroke=\"black\"/>\n",
       "</g>\n",
       "<!-- 140096081782488 -->\n",
       "<g class=\"node\" id=\"node4\"><title>140096081782488</title>\n",
       "<polygon fill=\"none\" points=\"5,-73.5 5,-109.5 103,-109.5 103,-73.5 5,-73.5\" stroke=\"black\"/>\n",
       "<text font-family=\"Times,serif\" font-size=\"14.00\" text-anchor=\"middle\" x=\"54\" y=\"-87.8\">lstm_3: LSTM</text>\n",
       "</g>\n",
       "<!-- 140094013504928&#45;&gt;140096081782488 -->\n",
       "<g class=\"edge\" id=\"edge3\"><title>140094013504928-&gt;140096081782488</title>\n",
       "<path d=\"M54,-146.313C54,-138.289 54,-128.547 54,-119.569\" fill=\"none\" stroke=\"black\"/>\n",
       "<polygon fill=\"black\" points=\"57.5001,-119.529 54,-109.529 50.5001,-119.529 57.5001,-119.529\" stroke=\"black\"/>\n",
       "</g>\n",
       "<!-- 140092084496200 -->\n",
       "<g class=\"node\" id=\"node5\"><title>140092084496200</title>\n",
       "<polygon fill=\"none\" points=\"3,-0.5 3,-36.5 105,-36.5 105,-0.5 3,-0.5\" stroke=\"black\"/>\n",
       "<text font-family=\"Times,serif\" font-size=\"14.00\" text-anchor=\"middle\" x=\"54\" y=\"-14.8\">dense_1: Dense</text>\n",
       "</g>\n",
       "<!-- 140096081782488&#45;&gt;140092084496200 -->\n",
       "<g class=\"edge\" id=\"edge4\"><title>140096081782488-&gt;140092084496200</title>\n",
       "<path d=\"M54,-73.3129C54,-65.2895 54,-55.5475 54,-46.5691\" fill=\"none\" stroke=\"black\"/>\n",
       "<polygon fill=\"black\" points=\"57.5001,-46.5288 54,-36.5288 50.5001,-46.5289 57.5001,-46.5288\" stroke=\"black\"/>\n",
       "</g>\n",
       "</g>\n",
       "</svg>"
      ],
      "text/plain": [
       "<IPython.core.display.SVG object>"
      ]
     },
     "execution_count": 6,
     "metadata": {},
     "output_type": "execute_result"
    }
   ],
   "source": [
    "#Plot the model graph\n",
    "from IPython.display import SVG\n",
    "from keras.utils import vis_utils\n",
    "\n",
    "SVG(vis_utils.model_to_dot(model).create(prog='dot', format='svg'))"
   ]
  },
  {
   "cell_type": "code",
   "execution_count": 7,
   "metadata": {
    "collapsed": false,
    "scrolled": false
   },
   "outputs": [
    {
     "name": "stdout",
     "output_type": "stream",
     "text": [
      "Train on 600000 samples, validate on 101898 samples\n",
      "Epoch 1/12\n",
      "600000/600000 [==============================] - 498s - loss: 2.4591 - acc: 0.2761 - val_loss: 2.0847 - val_acc: 0.3696\n",
      "Epoch 2/12\n",
      "600000/600000 [==============================] - 502s - loss: 1.8640 - acc: 0.4239 - val_loss: 1.7899 - val_acc: 0.4668\n",
      "Epoch 3/12\n",
      "600000/600000 [==============================] - 500s - loss: 1.6327 - acc: 0.4928 - val_loss: 1.6655 - val_acc: 0.5043\n",
      "Epoch 4/12\n",
      "600000/600000 [==============================] - 498s - loss: 1.5090 - acc: 0.5279 - val_loss: 1.5971 - val_acc: 0.5277\n",
      "Epoch 5/12\n",
      "600000/600000 [==============================] - 502s - loss: 1.4298 - acc: 0.5502 - val_loss: 1.5617 - val_acc: 0.5406\n",
      "Epoch 6/12\n",
      "600000/600000 [==============================] - 499s - loss: 1.3731 - acc: 0.5663 - val_loss: 1.5364 - val_acc: 0.5490\n",
      "Epoch 7/12\n",
      "600000/600000 [==============================] - 503s - loss: 1.3293 - acc: 0.5780 - val_loss: 1.5153 - val_acc: 0.5558\n",
      "Epoch 8/12\n",
      "600000/600000 [==============================] - 498s - loss: 1.2930 - acc: 0.5880 - val_loss: 1.5035 - val_acc: 0.5598\n",
      "Epoch 9/12\n",
      "600000/600000 [==============================] - 484s - loss: 1.2626 - acc: 0.5956 - val_loss: 1.4958 - val_acc: 0.5621\n",
      "Epoch 10/12\n",
      "600000/600000 [==============================] - 484s - loss: 1.2349 - acc: 0.6040 - val_loss: 1.4885 - val_acc: 0.5675\n",
      "Epoch 11/12\n",
      "600000/600000 [==============================] - 484s - loss: 1.2103 - acc: 0.6106 - val_loss: 1.4891 - val_acc: 0.5670\n",
      "Epoch 12/12\n",
      "600000/600000 [==============================] - 484s - loss: 1.1856 - acc: 0.6176 - val_loss: 1.4867 - val_acc: 0.5681\n"
     ]
    }
   ],
   "source": [
    "#Fit model\n",
    "history = model.fit(X[:600000], y[:600000], batch_size=256, epochs=12,\n",
    "           validation_data=(X[600000:], y[600000:]))\n",
    "\n"
   ]
  },
  {
   "cell_type": "raw",
   "metadata": {
    "collapsed": true
   },
   "source": [
    "Train on 600000 samples, validate on 101898 samples\n",
    "Epoch 1/12\n",
    "600000/600000 [==============================] - 498s - loss: 2.4591 - acc: 0.2761 - val_loss: 2.0847 - val_acc: 0.3696\n",
    "Epoch 2/12\n",
    "600000/600000 [==============================] - 502s - loss: 1.8640 - acc: 0.4239 - val_loss: 1.7899 - val_acc: 0.4668\n",
    "Epoch 3/12\n",
    "600000/600000 [==============================] - 500s - loss: 1.6327 - acc: 0.4928 - val_loss: 1.6655 - val_acc: 0.5043\n",
    "Epoch 4/12\n",
    "600000/600000 [==============================] - 498s - loss: 1.5090 - acc: 0.5279 - val_loss: 1.5971 - val_acc: 0.5277\n",
    "Epoch 5/12\n",
    "600000/600000 [==============================] - 502s - loss: 1.4298 - acc: 0.5502 - val_loss: 1.5617 - val_acc: 0.5406\n",
    "Epoch 6/12\n",
    "600000/600000 [==============================] - 499s - loss: 1.3731 - acc: 0.5663 - val_loss: 1.5364 - val_acc: 0.5490\n",
    "Epoch 7/12\n",
    "600000/600000 [==============================] - 503s - loss: 1.3293 - acc: 0.5780 - val_loss: 1.5153 - val_acc: 0.5558\n",
    "Epoch 8/12\n",
    "600000/600000 [==============================] - 498s - loss: 1.2930 - acc: 0.5880 - val_loss: 1.5035 - val_acc: 0.5598\n",
    "Epoch 9/12\n",
    "600000/600000 [==============================] - 484s - loss: 1.2626 - acc: 0.5956 - val_loss: 1.4958 - val_acc: 0.5621\n",
    "Epoch 10/12\n",
    "600000/600000 [==============================] - 484s - loss: 1.2349 - acc: 0.6040 - val_loss: 1.4885 - val_acc: 0.5675\n",
    "Epoch 11/12\n",
    "600000/600000 [==============================] - 484s - loss: 1.2103 - acc: 0.6106 - val_loss: 1.4891 - val_acc: 0.5670\n",
    "Epoch 12/12\n",
    "600000/600000 [==============================] - 484s - loss: 1.1856 - acc: 0.6176 - val_loss: 1.4867 - val_acc: 0.5681"
   ]
  },
  {
   "cell_type": "code",
   "execution_count": 8,
   "metadata": {
    "collapsed": false
   },
   "outputs": [
    {
     "data": {
      "image/png": "[encoded data removed]",
      "text/plain": [
       "<matplotlib.figure.Figure at 0x7f6aa5c50e80>"
      ]
     },
     "metadata": {},
     "output_type": "display_data"
    }
   ],
   "source": [
    "import matplotlib.pyplot as plt\n",
    "%matplotlib inline\n",
    "plt.rcParams['figure.figsize'] = (8, 8)\n",
    "\n",
    "plt.plot(history.history['acc'])\n",
    "plt.plot(history.history['val_acc'])\n",
    "plt.show()"
   ]
  },
  {
   "cell_type": "code",
   "execution_count": 9,
   "metadata": {
    "collapsed": false
   },
   "outputs": [],
   "source": [
    "from keras.models import save_model\n",
    "\n",
    "save_model(model, path + 'models/text_generation_model1024.h5')\n"
   ]
  },
  {
   "cell_type": "markdown",
   "metadata": {},
   "source": [
    "## Evaluate model"
   ]
  },
  {
   "cell_type": "code",
   "execution_count": 10,
   "metadata": {
    "collapsed": true
   },
   "outputs": [],
   "source": [
    "from keras.models import load_model\n",
    "\n",
    "model1 = load_model(path + 'models/text_generation_model1024.h5')\n"
   ]
  },
  {
   "cell_type": "code",
   "execution_count": 11,
   "metadata": {
    "collapsed": true
   },
   "outputs": [],
   "source": [
    "maxlen = 20\n",
    "\n",
    "\n",
    "def sample(a, diversity=1.0):\n",
    "    '''\n",
    "    helper function to sample an index from a probability array\n",
    "    - Diversity control the level of randomless\n",
    "    '''\n",
    "    a = np.log(a) / diversity\n",
    "    a = np.exp(a) / np.sum(np.exp(a), axis=0)\n",
    "    a /= np.sum(a+0.0000001) #Precission error\n",
    "    return np.argmax(np.random.multinomial(1, a, 1))\n",
    "\n",
    "\n",
    "def generate_text(sentence, diversity, current_model, num_char=400):\n",
    "    sentence_init = sentence\n",
    "    generated = ''\n",
    "    for i in range(400):\n",
    "        x = np.zeros((1, maxlen, len(chars)))\n",
    "        for t, char in enumerate(sentence):\n",
    "            x[0, t, char_indices[char]] = 1.\n",
    "        preds = current_model.predict(x, verbose=0)[0]\n",
    "        next_index = sample(preds, diversity)\n",
    "        next_char = indices_char[next_index]\n",
    "        generated += next_char\n",
    "        sentence = sentence[1:] + next_char\n",
    "    print()\n",
    "    print('DIVERSITY: ',diversity)\n",
    "    print(sentence_init + generated)\n"
   ]
  },
  {
   "cell_type": "code",
   "execution_count": 14,
   "metadata": {
    "collapsed": false
   },
   "outputs": [
    {
     "name": "stdout",
     "output_type": "stream",
     "text": [
      "\n",
      "DIVERSITY:  0.2\n",
      "mire vuestra merced le había de ser todo el cuerpo, por medio de la mano, y de la cabeza y la primera parte de la mano, y que no se pone en la cabeza, y aun se le había de ser el mundo, y aun a las manos de la caballería que le había de ser todo lo que se le había de hacer noticia del toboso, y de la cabeza y de manera que el alma a su padre, y aun a su padre la duquesa, que no poco se pone en la memoria la cabeza, y\n",
      "\n",
      "DIVERSITY:  0.5\n",
      "mire vuestra merced que los que se le había de decir alguna cosa que a todos los sonetos, porque no ha de ser el mayordomo, y así, se lo dijese a esta sazón don quijote.\n",
      "\n",
      "pues es verdad que no se pone en la mitad del camino a la cabeza y todo con ellos que se llamaba de tener grandes espaciosos y con ellos, y de la venta a la leyes, y con las antiguas de las que don quijote, es posible que la hermosa morir en casa, d\n",
      "\n",
      "DIVERSITY:  1\n",
      "mire vuestra merced ha más poco mentira de lo que tan verdaderamente de su madre, que de lo que yo\n",
      "pisiómble y désta verdadera; y así, le advierte\n",
      "puede hacer más sombrado quintañe,\n",
      "ahora no me has dicho y no me descreha de la\n",
      "caballería,\n",
      "   dicado mi padre, y con brazos lo que responder, a lo que quisiese\n",
      "era el canónigo y antes, de mil gracias, sin que hallaron más\n",
      "brazos de su amo; y no estos dicen qué le puede ta\n",
      "\n",
      "DIVERSITY:  1.2\n",
      "mire vuestra merced sentió\n",
      ": hallóle ocasión de la\n",
      "tierra.\n",
      "\n",
      "eso haré ya marito: más no me pone pagarundo; peros con la cóla, que va sabía    una de espial de los palmos se sospechados hieron unas virtud se leyes lo adonde sancho le dóy a ser\n",
      "consite poco a fe de buin suceso.\n",
      "\n",
      "\n",
      "\n",
      "\n",
      "\n",
      "capítulo xxvi. donde gentile. trujé yordo, al\n",
      "bachiller, unto más valieron por aremado tierpo, sino podrísimo, basta la\n",
      "pida que en lá meji\n",
      "\n",
      "DIVERSITY:  0.2\n",
      "a mi señora dulcinea del toboso, porque no te hago saber que le había de ser todo lo que hace más de la mano, y de la tierra a la mano y con ellos sus partes de la venta, y de la mano en la mano, y que no te pone en su padre y de los caballeros andantes que le había de hacer la mano en la cabeza y de la mano y con quien se le había perdido a la mano a la cabeza de la cabeza y de la mano y a salir de la caballeriza de\n",
      "\n",
      "DIVERSITY:  0.5\n",
      "a mi señora dulcinea del toboso, y que todo esto se le había de amada pasar, y a con la boca de la gran cincha, pero no se hallaban al primero que de mí que se le había de ser con quien se le mandaba, ni por ser desdichado de la tierra cosa que vuestra merced se ha de salir un agua de los caballeros andantes. y si esto os hace más de la venta, que yo no tengo de mí, que no había pensado lo que se le has de ser con él\n",
      "\n",
      "DIVERSITY:  1\n",
      "a mi señora dulcinea del\n",
      "mundo.\n",
      "\n",
      "aprieto sancho, otros viros padres libres los que he estorbado, y dio con ellos tan femosos hacia era la verdad, con\n",
      "cerpa, faltaré, y peor se tengo de\n",
      "decir, señor mío,\n",
      "señor desor mada, oy te las precencias sancho, y por rescuetado y temor de hecho a\n",
      "su padre y se quieren por el simenfor allí:\n",
      "\n",
      "a lo de sancho o se sapetá con villano al remés con más herrada taje, por que no tuviese.\n",
      "\n",
      "DIVERSITY:  1.2\n",
      "a mi señora dulcinea, la llandó sin razón de debierne: ¿quién aquí? pues, ¡cuántas diez y truirá como\n",
      "madre, téphilez de bien ensíaron caballeros. y consideremente se\n",
      "expertió su paga en allí a campaña uno de dulcinea, vio tú el segundo que fuere idéntaron perdigos y trujerosas podríaredas;\n",
      "   y cuyo mal viy, desta gran\n",
      "cierta de su\n",
      "espadam; que pretóreó\n",
      "a grave?\n",
      "\n",
      "tuvieron prumes mano al toboso, daré dos famas las ve\n",
      "\n",
      "DIVERSITY:  0.2\n",
      "el caballero andante, que se le había de ser el mundo, y aun te dieron las manos de la caballería que le había de hacer lo que se le había de ser con ellos se había de ser con la boca de la mano y la alcanza de la mano para los mozos de la mano y de la cabeza y de la cabeza y de la mano para que se le había de hacer lo que el de la venta la cabeza y de la caballería andante, y aun de los cuales se le había de ser el \n",
      "\n",
      "DIVERSITY:  0.5\n",
      "el caballero andante, y así, llegó a su casa, y así, le dijo:\n",
      "\n",
      "desta manera, que son más escritos y temerosos de presona, y de las cartas y de los señores que ha hecho esta manera que en tanto que se han de los pasados y desdeñados de verse persona que de su palabra la cabeza y estas barbas de su cosa que de mi casa, de quien no tengo de los que se desvanda a mi señora dulcinea del toboso, no se estaban los que le pi\n",
      "\n",
      "DIVERSITY:  1\n",
      "el caballero andante; pero si no se requiere bien veces, que acora la corona goza, diciendo:\n",
      "\n",
      ",quía verás le dejaron presto el diuna de la mancha.\n",
      "\n",
      "era condolo a dios, tú forzada, sino curarle, que en lo te secretará, donde se hallé un lanzón\n",
      "sobre sus presentes de\n",
      "caballería, andando de mañas de hallar\n",
      "en su casa;\n",
      "y así es la carta de las batallas hacen salidad y menoscabo. lo que pudieron, halleros del pésque, lleg\n",
      "\n",
      "DIVERSITY:  1.2\n",
      "el caballero andante, y, aunque no hay hábilido placeroso os llegando, puesto que más\n",
      "que lo querría quien propiase estaba bien\n",
      "castellanas; cuando más,\n",
      "quistáis\n",
      "poner a pie y he oído; y\n",
      "diclo dijo rodiera y ¡os saliente\n",
      "para la suya, y no tienen los moros. viendo, ¡oh\n",
      "especial al ánimo, ni tuvo ingenio se sa pensaba que decire cuando\n",
      "sancho no había hecho, gozpár del solve, si no\n",
      "tiene se le pueden bachiller sangre \n"
     ]
    }
   ],
   "source": [
    "\n",
    "sentence = 'mire vuestra merced '\n",
    "generate_text(sentence, 0.2, model1)\n",
    "generate_text(sentence, 0.5, model1)\n",
    "generate_text(sentence, 1,   model1)\n",
    "generate_text(sentence, 1.2, model1)\n",
    "\n",
    "\n",
    "sentence = 'a mi señora dulcinea'\n",
    "generate_text(sentence, 0.2, model1)\n",
    "generate_text(sentence, 0.5, model1)\n",
    "generate_text(sentence, 1,   model1)\n",
    "generate_text(sentence, 1.2, model1)\n",
    "\n",
    "\n",
    "sentence = 'el caballero andante'\n",
    "generate_text(sentence, 0.2, model1)\n",
    "generate_text(sentence, 0.5, model1)\n",
    "generate_text(sentence, 1,   model1)\n",
    "generate_text(sentence, 1.2, model1)\n"
   ]
  },
  {
   "cell_type": "raw",
   "metadata": {
    "collapsed": true
   },
   "source": [
    "('\\n\\nDIVERSITY: ', 0.2, '\\n')\n",
    "mire vuestra merced decís, y que se le pareció que en la cabeza de la cabeza, y el caballero del caballero de la cabeza, y los demás de los demás de los demás de los demás de la mano de la mujer de la mano de la mano, y aun a su señora dulcinea del toboso, y el cura que el caballero de la mano que le pareció que estaba en la misma cosa que en la mitad del caballero de la mano, se le dijo:\n",
    "\n",
    "-no sé -respondi\n",
    "('\\n\\nDIVERSITY: ', 0.5, '\\n')\n",
    "mire vuestra merced que no está en la cabeza. pero, en efeto, pues todo aquello que está en el mundo que cada uno debía\n",
    "de ser con la misma sierra parte de la muerte de la mano, con todo el mundo me la conoció, que tenía por el primero que están el rostro en las manos, y al señor don quijote -respondió sancho-, porque en la puerta de los sucesos del buen estado de la desencantada de los ojos.\n",
    "\n",
    "-¿qué mal \n",
    "('\\n\\nDIVERSITY: ', 1, '\\n')\n",
    "mire vuestra merced que, aunque, desdicho y tiempo viene, a\n",
    "cuya cabeza destos tres, los informaciones que dejara de serle, que me fueron? ¿admirado,\n",
    "\n",
    "y, creyendo que me va y enfermo. y esto que tienen entonces las requiebros que algunos limpios en un ampeoso como si improvisentes en sus insimulables y en los míos al que el honesto, en la mano de mucho premio y don quijote fingióno los dos o sabidores, y,\n",
    "acom\n",
    "('\\n\\nDIVERSITY: ', 1.2, '\\n')\n",
    "mire vuestra merced paso que no sa cluero-. subió, señor,\n",
    "le hubiera vuelto el duque, que pica, yo fue pose�ría de guardar cierto. para los demás, esperando la misma tragua debe de haberlas hallado su santa hijo ni debían para mí, porque yo hay de platar pre subir tú turba -dijo el deleitable-; otras porturas, sino como alabanzas y\n",
    "comedimientos puciese\n",
    "los días de lo que von mirado después de\n",
    "visión de\n",
    "('\\n\\nDIVERSITY: ', 0.2, '\\n')\n",
    "de lo que sucedió a la mano de la mano de la mano de los ojos de la mano de la mano de la mano, y aun más que se le dijese la mano de la mano y en la mitad del caballero del caballero de la mano de la mano, y que el parte de la mano, y que en la mitad del caballero de la mano, sino a la puerta de la mano de la mano de la mano de los demás de la cabeza, y el cura y la cabeza de la mano y en la cabeza de la cabeza, \n",
    "('\\n\\nDIVERSITY: ', 0.5, '\\n')\n",
    "de lo que sucedió a camila, por ser tan alta de la mano y en voz brazo? ¿qué es lo que pudiera, señor don quijote que en las fermosuras que después que le sacarán con don quijote había de ser la duquesa, la cual no le había de ser muy buena como gausa, y si este deseo de ser mejor que en la cabeza está a los dos de la mano, y su amo no le puede dar a su casa por los manos de mano, diciendo:\n",
    "\n",
    "-pues, ¿qué \n",
    "('\\n\\nDIVERSITY: ', 1, '\\n')\n",
    "de lo que sucedió a las más faltas cuentan haciendo:\n",
    "\n",
    "-�qcorrían por esto, bueno -respondió cómo está aquel mano traía furia por ella estajo\n",
    "más que andaba y fingión de sus apartieron de modo que no\n",
    "hay vasto qué hizo con galdáis que soy sin duda, duque ni en la más\n",
    "buena gran señora dulcinea; y así lo han don quijote y no bastaba junto a nuestra\n",
    "señora dulcinea, ahora\n",
    "la entienda, el aposento a\n",
    "('\\n\\nDIVERSITY: ', 1.2, '\\n')\n",
    "de lo que sucedió al\n",
    "admiración, dijo:\n",
    "\n",
    "-eso me esplevo en razón encantada, y su venimo tiempo, que pasaba tan hirtoria. es\n",
    "\n",
    "don quijote, le dijo:\n",
    "\n",
    "y cuando jamás:\n",
    "  si ya entienden en mi padre desde aquí vean fuerza, como yo\n",
    "costa yo he oído decir, el rey\n",
    "\n",
    "vención que ésto, que lo més comenzó a vuestra merced colgaré por la orden y parece que\n",
    "pudieron semplarse. el cual, si de la mono.\n",
    "acudi�\n",
    "('\\n\\nDIVERSITY: ', 0.2, '\\n')\n",
    "de allí a poco comenzó a su caballero andante, que en la más hermosa de la mano, y el cura que el mundo tenía con el cura y el de la mano de la cabeza de la mano de la mano de la mano de la mano de la cabeza, y a los demás de los cuatro de la mano de la mano de la mano y en la mitad del caballero de la cabeza, y le dijo:\n",
    "\n",
    "-¡oh sancho -dijo el cura-, que no se le habían de ser manos de los demás de los de la\n",
    "('\\n\\nDIVERSITY: ', 0.5, '\\n')\n",
    "de allí a poco comenzó a la vida de la mano de\n",
    "arriba al mundo. pero, con todo eso, ha de ser el rostro de las linajes de su escudero. por el rey en el mundo de la industria que en su caballero andante; y, aunque se volvió a camila y de la mano de la muerte de mi cabeza? y así, como el tal caballero andante, que los demás juramentos, y con la mitad del toboso, y así, por decir que os son de allí a los deseos \n",
    "('\\n\\nDIVERSITY: ', 1, '\\n')\n",
    "de allí a poco comenzó\n",
    "a dos crazos de entender que tratar la nueva al desde nuevas andantes de solos con los detros donde me hubieran\n",
    "de subir la sumiera y rabia la duquesa\n",
    "   a un hacer con un gato, que le\n",
    "dijo juntar la locura para su\n",
    "amo, para que quisieron decir alguna, vino\n",
    "todas aquellos demás caballeros. pero, sancho, tanto, viendo camila la primero tiene: prodición\n",
    "que yo le dio caminar las belloz\n",
    "('\\n\\nDIVERSITY: ', 1.2, '\\n')\n",
    "de allí a poco comer. otros días se le pidía hablar de cerra\n",
    "   que el gate predice\n",
    "y otras puntas del cordel bestia.\n",
    "\n",
    "-yo no por eso, decaría sobre la venta, porque él saslos demás sin él que\n",
    "llevase a buscar de la suma, sancho milático, cuando posían los zogados. y si así, mi rendido a\n",
    "cuerpo, ni en llopar salió el baece-, que el hábísimo que viene por\n",
    "los tratas y tontos que sean, y el de los"
   ]
  },
  {
   "cell_type": "code",
   "execution_count": null,
   "metadata": {
    "collapsed": true
   },
   "outputs": [],
   "source": []
  }
 ],
 "metadata": {
  "anaconda-cloud": {},
  "kernelspec": {
   "display_name": "Python [conda env:keras2_py36]",
   "language": "python",
   "name": "conda-env-keras2_py36-py"
  },
  "language_info": {
   "codemirror_mode": {
    "name": "ipython",
    "version": 3
   },
   "file_extension": ".py",
   "mimetype": "text/x-python",
   "name": "python",
   "nbconvert_exporter": "python",
   "pygments_lexer": "ipython3",
   "version": "3.6.0"
  }
 },
 "nbformat": 4,
 "nbformat_minor": 0
}
