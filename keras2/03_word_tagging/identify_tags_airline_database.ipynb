{
 "cells": [
  {
   "cell_type": "markdown",
   "metadata": {},
   "source": [
    "# Word tagging exercice\n"
   ]
  },
  {
   "cell_type": "code",
   "execution_count": 1,
   "metadata": {
    "collapsed": false
   },
   "outputs": [
    {
     "name": "stderr",
     "output_type": "stream",
     "text": [
      "Using TensorFlow backend.\n"
     ]
    },
    {
     "name": "stdout",
     "output_type": "stream",
     "text": [
      "Keras version:  2.0.0\n"
     ]
    }
   ],
   "source": [
    "# Header\n",
    "from __future__ import print_function\n",
    "\n",
    "import numpy as np\n",
    "import keras\n",
    "print('Keras version: ', keras.__version__)\n",
    "\n",
    "# GPU devices visible by python\n",
    "import os\n",
    "os.environ[\"CUDA_DEVICE_ORDER\"]=\"PCI_BUS_ID\" \n",
    "os.environ[\"CUDA_VISIBLE_DEVICES\"]=\"2\"\n",
    "\n",
    "# Limit memory usage\n",
    "import tensorflow as tf\n",
    "from keras.backend.tensorflow_backend import set_session\n",
    "\n",
    "config = tf.ConfigProto()\n",
    "config.gpu_options.allow_growth = True\n",
    "set_session(tf.Session(config=config))\n",
    "\n"
   ]
  },
  {
   "cell_type": "markdown",
   "metadata": {},
   "source": [
    "## Data"
   ]
  },
  {
   "cell_type": "code",
   "execution_count": 3,
   "metadata": {
    "collapsed": false
   },
   "outputs": [],
   "source": [
    "import numpy as np \n",
    "\n",
    "import pickle\n",
    "\n",
    "atis_file = '/home/ubuntu/data/training/text/atis/atis.pkl'\n",
    "with open(atis_file,'rb') as f:\n",
    "    train, test, dicts = pickle.load(f, encoding='bytes')\n",
    "    "
   ]
  },
  {
   "cell_type": "markdown",
   "metadata": {},
   "source": [
    "## train / test sets:\n",
    "    - X: list of sequences\n",
    "    - ne: PENDING\n",
    "    - label: name entities\n",
    "## Dictionaries\n",
    "    - labels2idx\n",
    "    - words2idx"
   ]
  },
  {
   "cell_type": "code",
   "execution_count": 4,
   "metadata": {
    "collapsed": false,
    "scrolled": true
   },
   "outputs": [
    {
     "name": "stdout",
     "output_type": "stream",
     "text": [
      "train\n",
      "                               WORD                               LABEL\n",
      "b'                                  i' b'                                  O'\n",
      "b'                               want' b'                                  O'\n",
      "b'                                 to' b'                                  O'\n",
      "b'                                fly' b'                                  O'\n",
      "b'                               from' b'                                  O'\n",
      "b'                             boston' b'                B-fromloc.city_name'\n",
      "b'                                 at' b'                                  O'\n",
      "b'                    DIGITDIGITDIGIT' b'                 B-depart_time.time'\n",
      "b'                                 am' b'                 I-depart_time.time'\n",
      "b'                                and' b'                                  O'\n",
      "b'                             arrive' b'                                  O'\n",
      "b'                                 in' b'                                  O'\n",
      "b'                             denver' b'                  B-toloc.city_name'\n",
      "b'                                 at' b'                                  O'\n",
      "b'               DIGITDIGITDIGITDIGIT' b'                 B-arrive_time.time'\n",
      "b'                                 in' b'                                  O'\n",
      "b'                                the' b'                                  O'\n",
      "b'                            morning' b'        B-arrive_time.period_of_day'\n",
      "\n",
      "************************************************************\n",
      "\n",
      "                               WORD                               LABEL\n",
      "b'                               what' b'                                  O'\n",
      "b'                            flights' b'                                  O'\n",
      "b'                                are' b'                                  O'\n",
      "b'                          available' b'                                  O'\n",
      "b'                               from' b'                                  O'\n",
      "b'                         pittsburgh' b'                B-fromloc.city_name'\n",
      "b'                                 to' b'                                  O'\n",
      "b'                          baltimore' b'                  B-toloc.city_name'\n",
      "b'                                 on' b'                                  O'\n",
      "b'                           thursday' b'             B-depart_date.day_name'\n",
      "b'                            morning' b'        B-depart_time.period_of_day'\n",
      "\n",
      "************************************************************\n",
      "\n",
      "                               WORD                               LABEL\n",
      "b'                               what' b'                                  O'\n",
      "b'                                 is' b'                                  O'\n",
      "b'                                the' b'                                  O'\n",
      "b'                            arrival' b'                      B-flight_time'\n",
      "b'                               time' b'                      I-flight_time'\n",
      "b'                                 in' b'                                  O'\n",
      "b'                                san' b'                B-fromloc.city_name'\n",
      "b'                          francisco' b'                I-fromloc.city_name'\n",
      "b'                                for' b'                                  O'\n",
      "b'                                the' b'                                  O'\n",
      "b'                    DIGITDIGITDIGIT' b'                 B-depart_time.time'\n",
      "b'                                 am' b'                 I-depart_time.time'\n",
      "b'                             flight' b'                                  O'\n",
      "b'                            leaving' b'                                  O'\n",
      "b'                         washington' b'                B-fromloc.city_name'\n",
      "\n",
      "************************************************************\n",
      "\n",
      "                               WORD                               LABEL\n",
      "b'                           cheapest' b'                    B-cost_relative'\n",
      "b'                            airfare' b'                                  O'\n",
      "b'                               from' b'                                  O'\n",
      "b'                             tacoma' b'                B-fromloc.city_name'\n",
      "b'                                 to' b'                                  O'\n",
      "b'                            orlando' b'                  B-toloc.city_name'\n",
      "\n",
      "************************************************************\n",
      "\n",
      "                               WORD                               LABEL\n",
      "b'                              round' b'                       B-round_trip'\n",
      "b'                               trip' b'                       I-round_trip'\n",
      "b'                              fares' b'                                  O'\n",
      "b'                               from' b'                                  O'\n",
      "b'                         pittsburgh' b'                B-fromloc.city_name'\n",
      "b'                                 to' b'                                  O'\n",
      "b'                       philadelphia' b'                  B-toloc.city_name'\n",
      "b'                              under' b'                    B-cost_relative'\n",
      "b'               DIGITDIGITDIGITDIGIT' b'                      B-fare_amount'\n",
      "b'                            dollars' b'                      I-fare_amount'\n",
      "\n",
      "************************************************************\n",
      "\n",
      "test\n",
      "                               WORD                               LABEL\n",
      "b'                                  i' b'                                  O'\n",
      "b'                              would' b'                                  O'\n",
      "b'                               like' b'                                  O'\n",
      "b'                                 to' b'                                  O'\n",
      "b'                               find' b'                                  O'\n",
      "b'                                  a' b'                                  O'\n",
      "b'                             flight' b'                                  O'\n",
      "b'                               from' b'                                  O'\n",
      "b'                          charlotte' b'                B-fromloc.city_name'\n",
      "b'                                 to' b'                                  O'\n",
      "b'                                las' b'                  B-toloc.city_name'\n",
      "b'                              vegas' b'                  I-toloc.city_name'\n",
      "b'                               that' b'                                  O'\n",
      "b'                              makes' b'                                  O'\n",
      "b'                                  a' b'                                  O'\n",
      "b'                               stop' b'                                  O'\n",
      "b'                                 in' b'                                  O'\n",
      "b'                                st.' b'                B-stoploc.city_name'\n",
      "b'                              louis' b'                I-stoploc.city_name'\n",
      "\n",
      "************************************************************\n",
      "\n",
      "                               WORD                               LABEL\n",
      "b'                                 on' b'                                  O'\n",
      "b'                              april' b'           B-depart_date.month_name'\n",
      "b'                              first' b'           B-depart_date.day_number'\n",
      "b'                                  i' b'                                  O'\n",
      "b'                               need' b'                                  O'\n",
      "b'                                  a' b'                                  O'\n",
      "b'                             ticket' b'                                  O'\n",
      "b'                               from' b'                                  O'\n",
      "b'                             tacoma' b'                B-fromloc.city_name'\n",
      "b'                                 to' b'                                  O'\n",
      "b'                                san' b'                  B-toloc.city_name'\n",
      "b'                               jose' b'                  I-toloc.city_name'\n",
      "b'                          departing' b'                                  O'\n",
      "b'                             before' b'        B-depart_time.time_relative'\n",
      "b'                              DIGIT' b'                 B-depart_time.time'\n",
      "b'                                 am' b'                 I-depart_time.time'\n",
      "\n",
      "************************************************************\n",
      "\n",
      "                               WORD                               LABEL\n",
      "b'                                 on' b'                                  O'\n",
      "b'                              april' b'           B-depart_date.month_name'\n",
      "b'                              first' b'           B-depart_date.day_number'\n",
      "b'                                  i' b'                                  O'\n",
      "b'                               need' b'                                  O'\n",
      "b'                                  a' b'                                  O'\n",
      "b'                             flight' b'                                  O'\n",
      "b'                              going' b'                                  O'\n",
      "b'                               from' b'                                  O'\n",
      "b'                            phoenix' b'                B-fromloc.city_name'\n",
      "b'                                 to' b'                                  O'\n",
      "b'                                san' b'                  B-toloc.city_name'\n",
      "b'                              diego' b'                  I-toloc.city_name'\n",
      "\n",
      "************************************************************\n",
      "\n",
      "                               WORD                               LABEL\n",
      "b'                                  i' b'                                  O'\n",
      "b'                              would' b'                                  O'\n",
      "b'                               like' b'                                  O'\n",
      "b'                                  a' b'                                  O'\n",
      "b'                             flight' b'                                  O'\n",
      "b'                          traveling' b'                                  O'\n",
      "b'                                one' b'                       B-round_trip'\n",
      "b'                                way' b'                       I-round_trip'\n",
      "b'                               from' b'                                  O'\n",
      "b'                            phoenix' b'                B-fromloc.city_name'\n",
      "b'                                 to' b'                                  O'\n",
      "b'                                san' b'                  B-toloc.city_name'\n",
      "b'                              diego' b'                  I-toloc.city_name'\n",
      "b'                                 on' b'                                  O'\n",
      "b'                              april' b'           B-depart_date.month_name'\n",
      "b'                              first' b'           B-depart_date.day_number'\n",
      "\n",
      "************************************************************\n",
      "\n",
      "                               WORD                               LABEL\n",
      "b'                                  i' b'                                  O'\n",
      "b'                              would' b'                                  O'\n",
      "b'                               like' b'                                  O'\n",
      "b'                                  a' b'                                  O'\n",
      "b'                             flight' b'                                  O'\n",
      "b'                               from' b'                                  O'\n",
      "b'                            orlando' b'                B-fromloc.city_name'\n",
      "b'                                 to' b'                                  O'\n",
      "b'                               salt' b'                  B-toloc.city_name'\n",
      "b'                               lake' b'                  I-toloc.city_name'\n",
      "b'                               city' b'                  I-toloc.city_name'\n",
      "b'                                for' b'                                  O'\n",
      "b'                              april' b'           B-depart_date.month_name'\n",
      "b'                              first' b'           B-depart_date.day_number'\n",
      "b'                                 on' b'                                  O'\n",
      "b'                              delta' b'                     B-airline_name'\n",
      "b'                           airlines' b'                     I-airline_name'\n",
      "\n",
      "************************************************************\n",
      "\n"
     ]
    }
   ],
   "source": [
    "# Visualize data\n",
    "w2idx, ne2idx, labels2idx = dicts[b'words2idx'], dicts[b'tables2idx'], dicts[b'labels2idx']\n",
    "    \n",
    "idx2w  = dict((v,k) for k,v in w2idx.items())\n",
    "idx2ne = dict((v,k) for k,v in ne2idx.items())\n",
    "idx2la = dict((v,k) for k,v in labels2idx.items())\n",
    "\n",
    "train_x, train_ne, train_label = train\n",
    "test_x,  test_ne,  test_label  = test\n",
    "wlength = 35\n",
    "\n",
    "for e in ['train','test']:\n",
    "    print(e)\n",
    "    for sw, se, sl in zip(eval(e+'_x')[:5], eval(e+'_ne')[:5], eval(e+'_label')[:10]):\n",
    "        print( 'WORD'.rjust(wlength), 'LABEL'.rjust(wlength))\n",
    "        for wx, la in zip(sw, sl): print( idx2w[wx].rjust(wlength), idx2la[la].rjust(wlength))\n",
    "        print( '\\n'+'**'*30+'\\n')\n"
   ]
  },
  {
   "cell_type": "markdown",
   "metadata": {},
   "source": [
    "# Model\n",
    "\n",
    "For each word in the sentence, predict the label\n",
    "\n",
    "First, for each word in each sentence, generate  the context with the previous and next words in the sentence.\n",
    "This create a train dataset of num_sentences*"
   ]
  },
  {
   "cell_type": "code",
   "execution_count": 5,
   "metadata": {
    "collapsed": false
   },
   "outputs": [
    {
     "data": {
      "text/plain": [
       "[[572, 0, 1], [0, 1, 2], [1, 2, 3], [2, 3, 4], [3, 4, 572]]"
      ]
     },
     "execution_count": 5,
     "metadata": {},
     "output_type": "execute_result"
    }
   ],
   "source": [
    "def context(l, size=3):\n",
    "    l = list(l)\n",
    "    lpadded = size // 2 * [572] + l + size // 2 * [572]\n",
    "    out = [lpadded[i:(i + size)] for i in range(len(l))]\n",
    "    return out\n",
    "\n",
    "x = np.array([0, 1, 2, 3, 4], dtype=np.int32)\n",
    "context(x)"
   ]
  },
  {
   "cell_type": "code",
   "execution_count": 6,
   "metadata": {
    "collapsed": false
   },
   "outputs": [
    {
     "name": "stdout",
     "output_type": "stream",
     "text": [
      "(56590, 10) (9198, 10)\n"
     ]
    }
   ],
   "source": [
    "X_trn=[]\n",
    "for s in train_x:\n",
    "    X_trn += context(s,size=10)\n",
    "X_trn = np.array(X_trn)\n",
    "\n",
    "X_tst=[]\n",
    "for s in test_x:\n",
    "    X_tst += context(s,size=10)\n",
    "X_tst = np.array(X_tst)\n",
    "\n",
    "print(X_trn.shape, X_tst.shape)"
   ]
  },
  {
   "cell_type": "code",
   "execution_count": 7,
   "metadata": {
    "collapsed": false
   },
   "outputs": [
    {
     "name": "stdout",
     "output_type": "stream",
     "text": [
      "(56590,) (9198,)\n"
     ]
    }
   ],
   "source": [
    "y_trn=[]\n",
    "for s in train_label:\n",
    "    y_trn += list(s)\n",
    "y_trn = np.array(y_trn)\n",
    "\n",
    "y_tst=[]\n",
    "for s in test_label:\n",
    "    y_tst += list(s)\n",
    "y_tst = np.array(y_tst)\n",
    "print(y_trn.shape, y_tst.shape)"
   ]
  },
  {
   "cell_type": "code",
   "execution_count": 8,
   "metadata": {
    "collapsed": false
   },
   "outputs": [
    {
     "name": "stdout",
     "output_type": "stream",
     "text": [
      "Num categories:  121\n",
      "Dictionary size:  572\n"
     ]
    }
   ],
   "source": [
    "print('Num categories: ', len(set(y_trn)))\n",
    "print('Dictionary size: ', len(set(idx2w)))"
   ]
  },
  {
   "cell_type": "code",
   "execution_count": 9,
   "metadata": {
    "collapsed": false
   },
   "outputs": [],
   "source": [
    "#Model parameters\n",
    "\n",
    "input_seq_length = X_trn.shape[1]\n",
    "input_vocabulary_size = len(set(idx2w)) + 1\n",
    "output_length = 127\n",
    "num_hidden_lstm = 128"
   ]
  },
  {
   "cell_type": "code",
   "execution_count": 10,
   "metadata": {
    "collapsed": false
   },
   "outputs": [
    {
     "name": "stdout",
     "output_type": "stream",
     "text": [
      "Build model 1\n",
      "_________________________________________________________________\n",
      "Layer (type)                 Output Shape              Param #   \n",
      "=================================================================\n",
      "prev (InputLayer)            (None, 10)                0         \n",
      "_________________________________________________________________\n",
      "embedding_1 (Embedding)      (None, 10, 64)            36672     \n",
      "_________________________________________________________________\n",
      "lstm_1 (LSTM)                (None, 128)               98816     \n",
      "_________________________________________________________________\n",
      "dense_1 (Dense)              (None, 127)               16383     \n",
      "=================================================================\n",
      "Total params: 151,871.0\n",
      "Trainable params: 151,871.0\n",
      "Non-trainable params: 0.0\n",
      "_________________________________________________________________\n"
     ]
    }
   ],
   "source": [
    "# build the model: Simple LSTM with embedings\n",
    "from keras.models import Model\n",
    "from keras.layers import Input, Dense, Dropout, LSTM, Embedding\n",
    "\n",
    "print('Build model 1')\n",
    "seq_input = Input(shape=([input_seq_length]), name='prev') \n",
    "    \n",
    "embeds = Embedding(input_vocabulary_size, 64)(seq_input)\n",
    "    \n",
    "# apply forwards LSTM\n",
    "#forwards1 = LSTM(512, dropout=0.3, recurrent_dropout=0.3, return_sequences=True)(embed)\n",
    "\n",
    "forwards = LSTM(num_hidden_lstm, return_sequences=False)(embeds)\n",
    "\n",
    "output = Dense(output_length, activation='softmax')(forwards)\n",
    "\n",
    "model1 = Model(inputs=seq_input, outputs=output)\n",
    "model1.summary()\n",
    "\n",
    "# Optimizer\n",
    "model1.compile(loss='sparse_categorical_crossentropy', optimizer='adam', metrics=['accuracy'])\n"
   ]
  },
  {
   "cell_type": "code",
   "execution_count": 12,
   "metadata": {
    "collapsed": false
   },
   "outputs": [
    {
     "data": {
      "image/svg+xml": [
       "<svg height=\"264pt\" viewBox=\"0.00 0.00 169.00 264.00\" width=\"169pt\" xmlns=\"http://www.w3.org/2000/svg\" xmlns:xlink=\"http://www.w3.org/1999/xlink\">\n",
       "<g class=\"graph\" id=\"graph0\" transform=\"scale(1 1) rotate(0) translate(4 260)\">\n",
       "<title>G</title>\n",
       "<polygon fill=\"white\" points=\"-4,4 -4,-260 165,-260 165,4 -4,4\" stroke=\"none\"/>\n",
       "<!-- 139841525032664 -->\n",
       "<g class=\"node\" id=\"node1\"><title>139841525032664</title>\n",
       "<polygon fill=\"none\" points=\"26.5,-219.5 26.5,-255.5 134.5,-255.5 134.5,-219.5 26.5,-219.5\" stroke=\"black\"/>\n",
       "<text font-family=\"Times,serif\" font-size=\"14.00\" text-anchor=\"middle\" x=\"80.5\" y=\"-233.8\">prev: InputLayer</text>\n",
       "</g>\n",
       "<!-- 139841786969000 -->\n",
       "<g class=\"node\" id=\"node2\"><title>139841786969000</title>\n",
       "<polygon fill=\"none\" points=\"0,-146.5 0,-182.5 161,-182.5 161,-146.5 0,-146.5\" stroke=\"black\"/>\n",
       "<text font-family=\"Times,serif\" font-size=\"14.00\" text-anchor=\"middle\" x=\"80.5\" y=\"-160.8\">embedding_1: Embedding</text>\n",
       "</g>\n",
       "<!-- 139841525032664&#45;&gt;139841786969000 -->\n",
       "<g class=\"edge\" id=\"edge1\"><title>139841525032664-&gt;139841786969000</title>\n",
       "<path d=\"M80.5,-219.313C80.5,-211.289 80.5,-201.547 80.5,-192.569\" fill=\"none\" stroke=\"black\"/>\n",
       "<polygon fill=\"black\" points=\"84.0001,-192.529 80.5,-182.529 77.0001,-192.529 84.0001,-192.529\" stroke=\"black\"/>\n",
       "</g>\n",
       "<!-- 139842922790192 -->\n",
       "<g class=\"node\" id=\"node3\"><title>139842922790192</title>\n",
       "<polygon fill=\"none\" points=\"31.5,-73.5 31.5,-109.5 129.5,-109.5 129.5,-73.5 31.5,-73.5\" stroke=\"black\"/>\n",
       "<text font-family=\"Times,serif\" font-size=\"14.00\" text-anchor=\"middle\" x=\"80.5\" y=\"-87.8\">lstm_1: LSTM</text>\n",
       "</g>\n",
       "<!-- 139841786969000&#45;&gt;139842922790192 -->\n",
       "<g class=\"edge\" id=\"edge2\"><title>139841786969000-&gt;139842922790192</title>\n",
       "<path d=\"M80.5,-146.313C80.5,-138.289 80.5,-128.547 80.5,-119.569\" fill=\"none\" stroke=\"black\"/>\n",
       "<polygon fill=\"black\" points=\"84.0001,-119.529 80.5,-109.529 77.0001,-119.529 84.0001,-119.529\" stroke=\"black\"/>\n",
       "</g>\n",
       "<!-- 139841525409496 -->\n",
       "<g class=\"node\" id=\"node4\"><title>139841525409496</title>\n",
       "<polygon fill=\"none\" points=\"29.5,-0.5 29.5,-36.5 131.5,-36.5 131.5,-0.5 29.5,-0.5\" stroke=\"black\"/>\n",
       "<text font-family=\"Times,serif\" font-size=\"14.00\" text-anchor=\"middle\" x=\"80.5\" y=\"-14.8\">dense_1: Dense</text>\n",
       "</g>\n",
       "<!-- 139842922790192&#45;&gt;139841525409496 -->\n",
       "<g class=\"edge\" id=\"edge3\"><title>139842922790192-&gt;139841525409496</title>\n",
       "<path d=\"M80.5,-73.3129C80.5,-65.2895 80.5,-55.5475 80.5,-46.5691\" fill=\"none\" stroke=\"black\"/>\n",
       "<polygon fill=\"black\" points=\"84.0001,-46.5288 80.5,-36.5288 77.0001,-46.5289 84.0001,-46.5288\" stroke=\"black\"/>\n",
       "</g>\n",
       "</g>\n",
       "</svg>"
      ],
      "text/plain": [
       "<IPython.core.display.SVG object>"
      ]
     },
     "execution_count": 12,
     "metadata": {},
     "output_type": "execute_result"
    }
   ],
   "source": [
    "#Plot the model graph\n",
    "from IPython.display import SVG\n",
    "from keras.utils import vis_utils\n",
    "\n",
    "SVG(vis_utils.model_to_dot(model1).create(prog='dot', format='svg'))"
   ]
  },
  {
   "cell_type": "code",
   "execution_count": 14,
   "metadata": {
    "collapsed": false
   },
   "outputs": [
    {
     "name": "stdout",
     "output_type": "stream",
     "text": [
      "Train on 56590 samples, validate on 9198 samples\n",
      "Epoch 1/10\n",
      "56590/56590 [==============================] - 10s - loss: 0.9751 - acc: 0.7679 - val_loss: 0.7022 - val_acc: 0.8324\n",
      "Epoch 2/10\n",
      "56590/56590 [==============================] - 10s - loss: 0.4386 - acc: 0.8958 - val_loss: 0.3955 - val_acc: 0.9101\n",
      "Epoch 3/10\n",
      "56590/56590 [==============================] - 10s - loss: 0.2400 - acc: 0.9444 - val_loss: 0.2897 - val_acc: 0.9361\n",
      "Epoch 4/10\n",
      "56590/56590 [==============================] - 10s - loss: 0.1650 - acc: 0.9621 - val_loss: 0.2196 - val_acc: 0.9538\n",
      "Epoch 5/10\n",
      "56590/56590 [==============================] - 10s - loss: 0.1206 - acc: 0.9724 - val_loss: 0.2220 - val_acc: 0.9562\n",
      "Epoch 6/10\n",
      "56590/56590 [==============================] - 10s - loss: 0.0947 - acc: 0.9785 - val_loss: 0.1864 - val_acc: 0.9633\n",
      "Epoch 7/10\n",
      "56590/56590 [==============================] - 10s - loss: 0.0763 - acc: 0.9825 - val_loss: 0.1746 - val_acc: 0.9669\n",
      "Epoch 8/10\n",
      "56590/56590 [==============================] - 10s - loss: 0.0632 - acc: 0.9854 - val_loss: 0.1775 - val_acc: 0.9636\n",
      "Epoch 9/10\n",
      "56590/56590 [==============================] - 10s - loss: 0.0562 - acc: 0.9860 - val_loss: 0.1816 - val_acc: 0.9656\n",
      "Epoch 10/10\n",
      "56590/56590 [==============================] - 10s - loss: 0.0499 - acc: 0.9874 - val_loss: 0.1805 - val_acc: 0.9652\n"
     ]
    }
   ],
   "source": [
    "#Fit model\n",
    "history = model1.fit(X_trn, y_trn, batch_size=128, epochs=10,\n",
    "           validation_data=(X_tst, y_tst))\n"
   ]
  },
  {
   "cell_type": "code",
   "execution_count": 15,
   "metadata": {
    "collapsed": false
   },
   "outputs": [
    {
     "data": {
      "image/png": "[encoded data removed]",
      "text/plain": [
       "<matplotlib.figure.Figure at 0x7f2f1c108198>"
      ]
     },
     "metadata": {},
     "output_type": "display_data"
    }
   ],
   "source": [
    "#Plot graphs in the notebook output\n",
    "import matplotlib.pyplot as plt\n",
    "%matplotlib inline\n",
    "\n",
    "plt.plot(history.history['acc'])\n",
    "plt.plot(history.history['val_acc'])\n",
    "plt.show()"
   ]
  },
  {
   "cell_type": "code",
   "execution_count": null,
   "metadata": {
    "collapsed": true
   },
   "outputs": [],
   "source": []
  },
  {
   "cell_type": "code",
   "execution_count": 16,
   "metadata": {
    "collapsed": false
   },
   "outputs": [
    {
     "name": "stdout",
     "output_type": "stream",
     "text": [
      "Build model 2\n",
      "_________________________________________________________________\n",
      "Layer (type)                 Output Shape              Param #   \n",
      "=================================================================\n",
      "prev (InputLayer)            (None, 10)                0         \n",
      "_________________________________________________________________\n",
      "embedding_2 (Embedding)      (None, 10, 64)            36672     \n",
      "_________________________________________________________________\n",
      "bidirectional_1 (Bidirection (None, 256)               197632    \n",
      "_________________________________________________________________\n",
      "dense_2 (Dense)              (None, 127)               32639     \n",
      "=================================================================\n",
      "Total params: 266,943.0\n",
      "Trainable params: 266,943.0\n",
      "Non-trainable params: 0.0\n",
      "_________________________________________________________________\n"
     ]
    }
   ],
   "source": [
    "# build the model: Bidirectional LSTM with embedings\n",
    "from keras.models import Model\n",
    "from keras.layers import Input, Dense, Dropout, LSTM, Embedding, Merge, Bidirectional\n",
    "\n",
    "print('Build model 2')\n",
    "seq_input = Input(shape=([input_seq_length]), name='prev') \n",
    "    \n",
    "embeds = Embedding(input_vocabulary_size, 64)(seq_input)\n",
    "    \n",
    "# Bidirectional wrapper\n",
    "rnn_out = Bidirectional(LSTM(num_hidden_lstm))(embeds)\n",
    "\n",
    "output = Dense(output_length, activation='softmax')(rnn_out)\n",
    "\n",
    "model2 = Model(inputs=seq_input, outputs=output)\n",
    "model2.summary()\n",
    "\n",
    "# Optimizer\n",
    "model2.compile(loss='sparse_categorical_crossentropy', optimizer='adam', metrics=['accuracy'])\n"
   ]
  },
  {
   "cell_type": "code",
   "execution_count": 17,
   "metadata": {
    "collapsed": false
   },
   "outputs": [
    {
     "data": {
      "image/svg+xml": [
       "<svg height=\"264pt\" viewBox=\"0.00 0.00 277.00 264.00\" width=\"277pt\" xmlns=\"http://www.w3.org/2000/svg\" xmlns:xlink=\"http://www.w3.org/1999/xlink\">\n",
       "<g class=\"graph\" id=\"graph0\" transform=\"scale(1 1) rotate(0) translate(4 260)\">\n",
       "<title>G</title>\n",
       "<polygon fill=\"white\" points=\"-4,4 -4,-260 273,-260 273,4 -4,4\" stroke=\"none\"/>\n",
       "<!-- 139839370816592 -->\n",
       "<g class=\"node\" id=\"node1\"><title>139839370816592</title>\n",
       "<polygon fill=\"none\" points=\"80.5,-219.5 80.5,-255.5 188.5,-255.5 188.5,-219.5 80.5,-219.5\" stroke=\"black\"/>\n",
       "<text font-family=\"Times,serif\" font-size=\"14.00\" text-anchor=\"middle\" x=\"134.5\" y=\"-233.8\">prev: InputLayer</text>\n",
       "</g>\n",
       "<!-- 139839370813792 -->\n",
       "<g class=\"node\" id=\"node2\"><title>139839370813792</title>\n",
       "<polygon fill=\"none\" points=\"54,-146.5 54,-182.5 215,-182.5 215,-146.5 54,-146.5\" stroke=\"black\"/>\n",
       "<text font-family=\"Times,serif\" font-size=\"14.00\" text-anchor=\"middle\" x=\"134.5\" y=\"-160.8\">embedding_2: Embedding</text>\n",
       "</g>\n",
       "<!-- 139839370816592&#45;&gt;139839370813792 -->\n",
       "<g class=\"edge\" id=\"edge1\"><title>139839370816592-&gt;139839370813792</title>\n",
       "<path d=\"M134.5,-219.313C134.5,-211.289 134.5,-201.547 134.5,-192.569\" fill=\"none\" stroke=\"black\"/>\n",
       "<polygon fill=\"black\" points=\"138,-192.529 134.5,-182.529 131,-192.529 138,-192.529\" stroke=\"black\"/>\n",
       "</g>\n",
       "<!-- 139839370766880 -->\n",
       "<g class=\"node\" id=\"node3\"><title>139839370766880</title>\n",
       "<polygon fill=\"none\" points=\"0,-73.5 0,-109.5 269,-109.5 269,-73.5 0,-73.5\" stroke=\"black\"/>\n",
       "<text font-family=\"Times,serif\" font-size=\"14.00\" text-anchor=\"middle\" x=\"134.5\" y=\"-87.8\">bidirectional_1(lstm_2): Bidirectional(LSTM)</text>\n",
       "</g>\n",
       "<!-- 139839370813792&#45;&gt;139839370766880 -->\n",
       "<g class=\"edge\" id=\"edge2\"><title>139839370813792-&gt;139839370766880</title>\n",
       "<path d=\"M134.5,-146.313C134.5,-138.289 134.5,-128.547 134.5,-119.569\" fill=\"none\" stroke=\"black\"/>\n",
       "<polygon fill=\"black\" points=\"138,-119.529 134.5,-109.529 131,-119.529 138,-119.529\" stroke=\"black\"/>\n",
       "</g>\n",
       "<!-- 139839370836680 -->\n",
       "<g class=\"node\" id=\"node4\"><title>139839370836680</title>\n",
       "<polygon fill=\"none\" points=\"83.5,-0.5 83.5,-36.5 185.5,-36.5 185.5,-0.5 83.5,-0.5\" stroke=\"black\"/>\n",
       "<text font-family=\"Times,serif\" font-size=\"14.00\" text-anchor=\"middle\" x=\"134.5\" y=\"-14.8\">dense_2: Dense</text>\n",
       "</g>\n",
       "<!-- 139839370766880&#45;&gt;139839370836680 -->\n",
       "<g class=\"edge\" id=\"edge3\"><title>139839370766880-&gt;139839370836680</title>\n",
       "<path d=\"M134.5,-73.3129C134.5,-65.2895 134.5,-55.5475 134.5,-46.5691\" fill=\"none\" stroke=\"black\"/>\n",
       "<polygon fill=\"black\" points=\"138,-46.5288 134.5,-36.5288 131,-46.5289 138,-46.5288\" stroke=\"black\"/>\n",
       "</g>\n",
       "</g>\n",
       "</svg>"
      ],
      "text/plain": [
       "<IPython.core.display.SVG object>"
      ]
     },
     "execution_count": 17,
     "metadata": {},
     "output_type": "execute_result"
    }
   ],
   "source": [
    "#Plot the model graph\n",
    "SVG(vis_utils.model_to_dot(model2).create(prog='dot', format='svg'))"
   ]
  },
  {
   "cell_type": "code",
   "execution_count": 18,
   "metadata": {
    "collapsed": false
   },
   "outputs": [
    {
     "name": "stdout",
     "output_type": "stream",
     "text": [
      "Train on 56590 samples, validate on 9198 samples\n",
      "Epoch 1/10\n",
      "56590/56590 [==============================] - 19s - loss: 1.5020 - acc: 0.6748 - val_loss: 1.0172 - val_acc: 0.7380\n",
      "Epoch 2/10\n",
      "56590/56590 [==============================] - 19s - loss: 0.5784 - acc: 0.8508 - val_loss: 0.4199 - val_acc: 0.8968\n",
      "Epoch 3/10\n",
      "56590/56590 [==============================] - 19s - loss: 0.2474 - acc: 0.9359 - val_loss: 0.2750 - val_acc: 0.9367\n",
      "Epoch 4/10\n",
      "56590/56590 [==============================] - 18s - loss: 0.1431 - acc: 0.9641 - val_loss: 0.2160 - val_acc: 0.9571\n",
      "Epoch 5/10\n",
      "56590/56590 [==============================] - 19s - loss: 0.0992 - acc: 0.9756 - val_loss: 0.1996 - val_acc: 0.9610\n",
      "Epoch 6/10\n",
      "56590/56590 [==============================] - 19s - loss: 0.0769 - acc: 0.9808 - val_loss: 0.1800 - val_acc: 0.9650\n",
      "Epoch 7/10\n",
      "56590/56590 [==============================] - 19s - loss: 0.0614 - acc: 0.9843 - val_loss: 0.1729 - val_acc: 0.9680\n",
      "Epoch 8/10\n",
      "56590/56590 [==============================] - 19s - loss: 0.0517 - acc: 0.9869 - val_loss: 0.1665 - val_acc: 0.9705\n",
      "Epoch 9/10\n",
      "56590/56590 [==============================] - 19s - loss: 0.0438 - acc: 0.9884 - val_loss: 0.1616 - val_acc: 0.9679\n",
      "Epoch 10/10\n",
      "56590/56590 [==============================] - 19s - loss: 0.0400 - acc: 0.9890 - val_loss: 0.2016 - val_acc: 0.9576\n"
     ]
    }
   ],
   "source": [
    "#Fit model\n",
    "history2 = model2.fit(X_trn, y_trn, batch_size=128, epochs=10,\n",
    "           validation_data=(X_tst, y_tst))\n"
   ]
  },
  {
   "cell_type": "code",
   "execution_count": 19,
   "metadata": {
    "collapsed": false
   },
   "outputs": [
    {
     "data": {
      "image/png": "[encoded data removed]",
      "text/plain": [
       "<matplotlib.figure.Figure at 0x7f2eac0b6898>"
      ]
     },
     "metadata": {},
     "output_type": "display_data"
    }
   ],
   "source": [
    "#Plot graphs in the notebook output\n",
    "import matplotlib.pyplot as plt\n",
    "%matplotlib inline\n",
    "\n",
    "plt.plot(history2.history['acc'])\n",
    "plt.plot(history2.history['val_acc'])\n",
    "plt.show()"
   ]
  },
  {
   "cell_type": "code",
   "execution_count": null,
   "metadata": {
    "collapsed": true
   },
   "outputs": [],
   "source": []
  },
  {
   "cell_type": "code",
   "execution_count": null,
   "metadata": {
    "collapsed": true
   },
   "outputs": [],
   "source": []
  }
 ],
 "metadata": {
  "anaconda-cloud": {},
  "kernelspec": {
   "display_name": "Python [conda env:keras2_py36]",
   "language": "python",
   "name": "conda-env-keras2_py36-py"
  },
  "language_info": {
   "codemirror_mode": {
    "name": "ipython",
    "version": 3
   },
   "file_extension": ".py",
   "mimetype": "text/x-python",
   "name": "python",
   "nbconvert_exporter": "python",
   "pygments_lexer": "ipython3",
   "version": "3.6.0"
  }
 },
 "nbformat": 4,
 "nbformat_minor": 1
}
