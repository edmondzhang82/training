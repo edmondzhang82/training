{
 "cells": [
  {
   "cell_type": "markdown",
   "metadata": {},
   "source": [
    "# Model with pretrained embeddings\n",
    "    - Glove embeddings. Vectors of 300 dim.\n",
    "    - Model: Basic LSTM.\n"
   ]
  },
  {
   "cell_type": "code",
   "execution_count": 1,
   "metadata": {
    "collapsed": false
   },
   "outputs": [
    {
     "name": "stderr",
     "output_type": "stream",
     "text": [
      "Using TensorFlow backend.\n"
     ]
    },
    {
     "name": "stdout",
     "output_type": "stream",
     "text": [
      "Keras version:  2.0.1\n"
     ]
    }
   ],
   "source": [
    "# Header\n",
    "from __future__ import print_function\n",
    "\n",
    "import numpy as np\n",
    "import keras\n",
    "print('Keras version: ', keras.__version__)\n",
    "\n",
    "# GPU devices visible by python\n",
    "import os\n",
    "os.environ[\"CUDA_DEVICE_ORDER\"]=\"PCI_BUS_ID\" \n",
    "os.environ[\"CUDA_VISIBLE_DEVICES\"]=\"0\"\n",
    "\n",
    "# Limit memory usage\n",
    "import tensorflow as tf\n",
    "from keras.backend.tensorflow_backend import set_session\n",
    "\n",
    "config = tf.ConfigProto()\n",
    "config.gpu_options.allow_growth = True\n",
    "set_session(tf.Session(config=config))\n",
    "\n",
    "\n",
    "path = '/home/ubuntu/data/training/keras/'"
   ]
  },
  {
   "cell_type": "markdown",
   "metadata": {},
   "source": [
    "## Preprocess data"
   ]
  },
  {
   "cell_type": "code",
   "execution_count": 2,
   "metadata": {
    "collapsed": false
   },
   "outputs": [
    {
     "name": "stdout",
     "output_type": "stream",
     "text": [
      "(25000, 200) (25000,)\n",
      "(25000, 200) (25000,)\n"
     ]
    }
   ],
   "source": [
    "# Import train and test data\n",
    "data_path='/home/ubuntu/data/training/keras/aclImdb/'\n",
    "\n",
    "X_train = np.load(data_path+'X_train.npy')\n",
    "y_train = np.load(data_path+'y_train.npy')\n",
    "X_test = np.load(data_path+'X_test.npy')\n",
    "y_test = np.load(data_path+'y_test.npy')\n",
    "\n",
    "print(X_train.shape, y_train.shape)\n",
    "print(X_test.shape, y_test.shape)"
   ]
  },
  {
   "cell_type": "markdown",
   "metadata": {},
   "source": [
    "## Load embeddings and join with the current dictionary"
   ]
  },
  {
   "cell_type": "code",
   "execution_count": 3,
   "metadata": {
    "collapsed": false
   },
   "outputs": [
    {
     "name": "stdout",
     "output_type": "stream",
     "text": [
      "Merged words:  45934\n",
      "Dictionary length:  45934\n"
     ]
    }
   ],
   "source": [
    "#Load embeddings\n",
    "import pandas as pd\n",
    "import csv\n",
    "import pickle\n",
    "\n",
    "# Load worddict\n",
    "with open(data_path + 'worddict.pickle', 'rb') as pfile:\n",
    "    worddict = pickle.load(pfile)\n",
    "\n",
    "embed_dim = 300\n",
    "\n",
    "embedding_path = '/home/ubuntu/data/training/keras/'\n",
    "\n",
    "df_glove = pd.read_csv(embedding_path + \"glove.6B.\"+str(embed_dim)+\"d.txt\", index_col=0 ,sep=' ',\n",
    "                   header = None, quoting=csv.QUOTE_NONE, encoding='utf-8')\n",
    "\n",
    "#Merge with the dictionary of the current texts: Inner join, only words in the corpus and in glove.\n",
    "df_glove = df_glove.merge(pd.DataFrame.from_dict(worddict, orient='index'), left_index=True, right_index=True)\n",
    "print('Merged words: ', df_glove.shape[0])\n",
    "\n",
    "#Create dictionary: word_number_id --> [glove vector associated]\n",
    "glove={}\n",
    "for i,r in df_glove[:].iterrows():\n",
    "    glove[int(r[0])] = [r[j] for j in range(1,embed_dim+1)]\n",
    "print('Dictionary length: ', len(glove))"
   ]
  },
  {
   "cell_type": "markdown",
   "metadata": {},
   "source": [
    "## Prepare sequences to model\n"
   ]
  },
  {
   "cell_type": "code",
   "execution_count": 4,
   "metadata": {
    "collapsed": false
   },
   "outputs": [
    {
     "name": "stdout",
     "output_type": "stream",
     "text": [
      "Train shape: (25000, 100, 300)\n",
      "Test shape: (25000, 100, 300)\n"
     ]
    }
   ],
   "source": [
    "#Create embeddings 3D tensors\n",
    "max_len = 100\n",
    "\n",
    "def embedd(x):\n",
    "    r = np.zeros((max_len, embed_dim))\n",
    "    pos = max_len-1\n",
    "    for i in range(len(x),0,-1):\n",
    "        found = True\n",
    "        try:\n",
    "            v = np.array([glove[x[i-1]]])\n",
    "        except:\n",
    "            found = False\n",
    "        if found and pos>=0:\n",
    "            r[pos,:] = v \n",
    "            pos += -1\n",
    "    return r\n",
    "        \n",
    "X_train = np.array([embedd(s) for s in X_train], dtype=np.float32)\n",
    "print('Train shape:', X_train.shape)\n",
    "\n",
    "X_test = np.array([embedd(s) for s in X_test], dtype=np.float32)\n",
    "print('Test shape:', X_test.shape)"
   ]
  },
  {
   "cell_type": "markdown",
   "metadata": {},
   "source": [
    "## Build model"
   ]
  },
  {
   "cell_type": "code",
   "execution_count": 5,
   "metadata": {
    "collapsed": false
   },
   "outputs": [
    {
     "name": "stdout",
     "output_type": "stream",
     "text": [
      "Build model 1 - Basic model...\n",
      "_________________________________________________________________\n",
      "Layer (type)                 Output Shape              Param #   \n",
      "=================================================================\n",
      "input_1 (InputLayer)         (None, 100, 300)          0         \n",
      "_________________________________________________________________\n",
      "Forward1 (LSTM)              (None, 100, 128)          219648    \n",
      "_________________________________________________________________\n",
      "Forward2 (LSTM)              (None, 128)               131584    \n",
      "_________________________________________________________________\n",
      "dense_1 (Dense)              (None, 2)                 258       \n",
      "=================================================================\n",
      "Total params: 351,490.0\n",
      "Trainable params: 351,490.0\n",
      "Non-trainable params: 0.0\n",
      "_________________________________________________________________\n"
     ]
    }
   ],
   "source": [
    "# Model\n",
    "num_hidden_rnn = 128 #Num of neurons in the Recurent network \n",
    "\n",
    "\n",
    "from keras.models import Model\n",
    "from keras.layers import Input, Embedding, SimpleRNN, LSTM, Dropout, Dense\n",
    "from keras.optimizers import RMSprop\n",
    "\n",
    "print('Build model 1 - Basic model...')\n",
    "\n",
    "# LAYER 1: inputs\n",
    "seq_prev_input = Input(shape=(max_len, embed_dim), dtype='float32') \n",
    "\n",
    "# LAYER 2: Create embedings\n",
    "#embeds = Embedding(max_features, dim_embedings, input_length=max_len)(seq_prev_input)\n",
    "\n",
    "# LAYERS 3: RNN - forwards LSTM with dropout\n",
    "forward = LSTM(num_hidden_rnn, return_sequences=True,\n",
    "                 dropout=0.3, recurrent_dropout=0.3, name='Forward1')(seq_prev_input)\n",
    "rnn_out = LSTM(num_hidden_rnn, return_sequences=False,\n",
    "                 dropout=0.3, recurrent_dropout=0.3, name='Forward2')(forward)\n",
    "\n",
    "\n",
    "# LAYER 4: Dense layer to outputs - softmax activation\n",
    "output = Dense(2, activation='softmax')(rnn_out)\n",
    "\n",
    "# Model Architecture defined\n",
    "model_1 = Model(inputs=seq_prev_input, outputs=output)\n",
    "model_1.summary()\n",
    "\n",
    "# Compile model and select optimizer\n",
    "model_1.compile(loss='sparse_categorical_crossentropy', optimizer='Adam', metrics=['accuracy'])\n"
   ]
  },
  {
   "cell_type": "code",
   "execution_count": 6,
   "metadata": {
    "collapsed": false
   },
   "outputs": [
    {
     "data": {
      "image/svg+xml": [
       "<svg height=\"268pt\" viewBox=\"0.00 0.00 168.00 268.00\" width=\"168pt\" xmlns=\"http://www.w3.org/2000/svg\" xmlns:xlink=\"http://www.w3.org/1999/xlink\">\n",
       "<g class=\"graph\" id=\"graph0\" transform=\"scale(1 1) rotate(0) translate(4 264)\">\n",
       "<title>G</title>\n",
       "<polygon fill=\"white\" points=\"-4,4 -4,-264 164,-264 164,4 -4,4\" stroke=\"none\"/>\n",
       "<!-- 140051772545736 -->\n",
       "<g class=\"node\" id=\"node1\"><title>140051772545736</title>\n",
       "<polygon fill=\"none\" points=\"0,-223 0,-259 160,-259 160,-223 0,-223\" stroke=\"black\"/>\n",
       "<text font-family=\"Times,serif\" font-size=\"14.00\" text-anchor=\"middle\" x=\"80\" y=\"-237.3\">input_1: InputLayer</text>\n",
       "</g>\n",
       "<!-- 140051635836968 -->\n",
       "<g class=\"node\" id=\"node2\"><title>140051635836968</title>\n",
       "<polygon fill=\"none\" points=\"11.5,-149 11.5,-185 148.5,-185 148.5,-149 11.5,-149\" stroke=\"black\"/>\n",
       "<text font-family=\"Times,serif\" font-size=\"14.00\" text-anchor=\"middle\" x=\"80\" y=\"-163.3\">Forward1: LSTM</text>\n",
       "</g>\n",
       "<!-- 140051772545736&#45;&gt;140051635836968 -->\n",
       "<g class=\"edge\" id=\"edge1\"><title>140051772545736-&gt;140051635836968</title>\n",
       "<path d=\"M80,-222.937C80,-214.807 80,-204.876 80,-195.705\" fill=\"none\" stroke=\"black\"/>\n",
       "<polygon fill=\"black\" points=\"83.5001,-195.441 80,-185.441 76.5001,-195.441 83.5001,-195.441\" stroke=\"black\"/>\n",
       "</g>\n",
       "<!-- 140051887156528 -->\n",
       "<g class=\"node\" id=\"node3\"><title>140051887156528</title>\n",
       "<polygon fill=\"none\" points=\"11.5,-75 11.5,-111 148.5,-111 148.5,-75 11.5,-75\" stroke=\"black\"/>\n",
       "<text font-family=\"Times,serif\" font-size=\"14.00\" text-anchor=\"middle\" x=\"80\" y=\"-89.3\">Forward2: LSTM</text>\n",
       "</g>\n",
       "<!-- 140051635836968&#45;&gt;140051887156528 -->\n",
       "<g class=\"edge\" id=\"edge2\"><title>140051635836968-&gt;140051887156528</title>\n",
       "<path d=\"M80,-148.937C80,-140.807 80,-130.876 80,-121.705\" fill=\"none\" stroke=\"black\"/>\n",
       "<polygon fill=\"black\" points=\"83.5001,-121.441 80,-111.441 76.5001,-121.441 83.5001,-121.441\" stroke=\"black\"/>\n",
       "</g>\n",
       "<!-- 140051772544112 -->\n",
       "<g class=\"node\" id=\"node4\"><title>140051772544112</title>\n",
       "<polygon fill=\"none\" points=\"16,-1 16,-37 144,-37 144,-1 16,-1\" stroke=\"black\"/>\n",
       "<text font-family=\"Times,serif\" font-size=\"14.00\" text-anchor=\"middle\" x=\"80\" y=\"-15.3\">dense_1: Dense</text>\n",
       "</g>\n",
       "<!-- 140051887156528&#45;&gt;140051772544112 -->\n",
       "<g class=\"edge\" id=\"edge3\"><title>140051887156528-&gt;140051772544112</title>\n",
       "<path d=\"M80,-74.937C80,-66.8072 80,-56.8761 80,-47.7047\" fill=\"none\" stroke=\"black\"/>\n",
       "<polygon fill=\"black\" points=\"83.5001,-47.4406 80,-37.4407 76.5001,-47.4407 83.5001,-47.4406\" stroke=\"black\"/>\n",
       "</g>\n",
       "</g>\n",
       "</svg>"
      ],
      "text/plain": [
       "<IPython.core.display.SVG object>"
      ]
     },
     "execution_count": 6,
     "metadata": {},
     "output_type": "execute_result"
    }
   ],
   "source": [
    "#Plot the model graph\n",
    "from IPython.display import SVG\n",
    "from keras.utils import vis_utils\n",
    "\n",
    "SVG(vis_utils.model_to_dot(model_1).create(prog='dot', format='svg'))"
   ]
  },
  {
   "cell_type": "code",
   "execution_count": 7,
   "metadata": {
    "collapsed": false
   },
   "outputs": [
    {
     "name": "stdout",
     "output_type": "stream",
     "text": [
      "Train...\n",
      "Train on 25000 samples, validate on 25000 samples\n",
      "Epoch 1/20\n",
      "25000/25000 [==============================] - 81s - loss: 0.5943 - acc: 0.6735 - val_loss: 0.4694 - val_acc: 0.7841\n",
      "Epoch 2/20\n",
      "25000/25000 [==============================] - 80s - loss: 0.4850 - acc: 0.7700 - val_loss: 0.4190 - val_acc: 0.8102\n",
      "Epoch 3/20\n",
      "25000/25000 [==============================] - 81s - loss: 0.4275 - acc: 0.8032 - val_loss: 0.3765 - val_acc: 0.8308\n",
      "Epoch 4/20\n",
      "25000/25000 [==============================] - 80s - loss: 0.4039 - acc: 0.8157 - val_loss: 0.3640 - val_acc: 0.8350\n",
      "Epoch 5/20\n",
      "25000/25000 [==============================] - 80s - loss: 0.3854 - acc: 0.8256 - val_loss: 0.3617 - val_acc: 0.8348\n",
      "Epoch 6/20\n",
      "25000/25000 [==============================] - 80s - loss: 0.3674 - acc: 0.8352 - val_loss: 0.3437 - val_acc: 0.8461\n",
      "Epoch 7/20\n",
      "25000/25000 [==============================] - 80s - loss: 0.3519 - acc: 0.8438 - val_loss: 0.3371 - val_acc: 0.8502\n",
      "Epoch 8/20\n",
      "25000/25000 [==============================] - 80s - loss: 0.3398 - acc: 0.8495 - val_loss: 0.3268 - val_acc: 0.8550\n",
      "Epoch 9/20\n",
      "25000/25000 [==============================] - 83s - loss: 0.3271 - acc: 0.8573 - val_loss: 0.3211 - val_acc: 0.8583\n",
      "Epoch 10/20\n",
      "25000/25000 [==============================] - 80s - loss: 0.3155 - acc: 0.8615 - val_loss: 0.3243 - val_acc: 0.8598\n",
      "Epoch 11/20\n",
      "25000/25000 [==============================] - 80s - loss: 0.3064 - acc: 0.8662 - val_loss: 0.3212 - val_acc: 0.8569\n",
      "Epoch 12/20\n",
      "25000/25000 [==============================] - 80s - loss: 0.2915 - acc: 0.8736 - val_loss: 0.3203 - val_acc: 0.8618\n",
      "Epoch 13/20\n",
      "25000/25000 [==============================] - 80s - loss: 0.2793 - acc: 0.8804 - val_loss: 0.3112 - val_acc: 0.8636\n",
      "Epoch 14/20\n",
      "25000/25000 [==============================] - 92s - loss: 0.2703 - acc: 0.8835 - val_loss: 0.3084 - val_acc: 0.8655\n",
      "Epoch 15/20\n",
      "25000/25000 [==============================] - 113s - loss: 0.2592 - acc: 0.8880 - val_loss: 0.3125 - val_acc: 0.8662\n",
      "Epoch 16/20\n",
      "25000/25000 [==============================] - 87s - loss: 0.2484 - acc: 0.8934 - val_loss: 0.3178 - val_acc: 0.8662\n",
      "Epoch 17/20\n",
      "25000/25000 [==============================] - 80s - loss: 0.2362 - acc: 0.9009 - val_loss: 0.3388 - val_acc: 0.8667\n",
      "Epoch 18/20\n",
      "25000/25000 [==============================] - 107s - loss: 0.2251 - acc: 0.9048 - val_loss: 0.3307 - val_acc: 0.8648\n",
      "Epoch 19/20\n",
      "25000/25000 [==============================] - 115s - loss: 0.2166 - acc: 0.9094 - val_loss: 0.3233 - val_acc: 0.8656\n",
      "Epoch 20/20\n",
      "25000/25000 [==============================] - 81s - loss: 0.2035 - acc: 0.9157 - val_loss: 0.3389 - val_acc: 0.8654\n"
     ]
    }
   ],
   "source": [
    "# Train\n",
    "batch_size = 128\n",
    "\n",
    "print(\"Train...\")\n",
    "history = model_1.fit(X_train, y_train, batch_size=batch_size, epochs=20,\n",
    "                      validation_data=(X_test, y_test))"
   ]
  },
  {
   "cell_type": "code",
   "execution_count": 8,
   "metadata": {
    "collapsed": false
   },
   "outputs": [
    {
     "data": {
      "image/png": "[encoded data removed]",
      "text/plain": [
       "<matplotlib.figure.Figure at 0x7f5fcb0f5b38>"
      ]
     },
     "metadata": {},
     "output_type": "display_data"
    }
   ],
   "source": [
    "#Plot graphs in the notebook output\n",
    "import matplotlib.pyplot as plt\n",
    "%matplotlib inline\n",
    "\n",
    "plt.plot(history.history['acc'])\n",
    "plt.plot(history.history['val_acc'])\n",
    "plt.show()"
   ]
  },
  {
   "cell_type": "markdown",
   "metadata": {},
   "source": [
    "## Validate it"
   ]
  },
  {
   "cell_type": "code",
   "execution_count": 9,
   "metadata": {
    "collapsed": false
   },
   "outputs": [
    {
     "name": "stdout",
     "output_type": "stream",
     "text": [
      "(25000, 2)\n"
     ]
    }
   ],
   "source": [
    "# Score and obtain probabilities\n",
    "pred_test = model_1.predict(X_test)\n",
    "print(pred_test.shape)"
   ]
  },
  {
   "cell_type": "code",
   "execution_count": 10,
   "metadata": {
    "collapsed": false
   },
   "outputs": [
    {
     "name": "stdout",
     "output_type": "stream",
     "text": [
      "Accuracy:  0.86544\n",
      "AUC:  0.9421550464\n"
     ]
    },
    {
     "data": {
      "text/plain": [
       "[<matplotlib.lines.Line2D at 0x7f5fcb4cef28>]"
      ]
     },
     "execution_count": 10,
     "metadata": {},
     "output_type": "execute_result"
    },
    {
     "data": {
      "image/png": "[encoded data removed]",
      "text/plain": [
       "<matplotlib.figure.Figure at 0x7f5fcb4db7f0>"
      ]
     },
     "metadata": {},
     "output_type": "display_data"
    }
   ],
   "source": [
    "#Import metrics\n",
    "from sklearn.metrics import roc_curve, auc, accuracy_score\n",
    "\n",
    "#Calculate accuracy with sklearn\n",
    "print('Accuracy: ',accuracy_score(y_test, [1 if p>0.5 else 0 for p in pred_test[:,1]]))\n",
    "\n",
    "#Calculate ROC curve\n",
    "fpr, tpr, _ = roc_curve(y_test, pred_test[:,1])\n",
    "print('AUC: ', auc(fpr, tpr) ) \n",
    "\n",
    "#Plot ROC curve\n",
    "plt.plot(fpr, tpr)"
   ]
  },
  {
   "cell_type": "code",
   "execution_count": null,
   "metadata": {
    "collapsed": true
   },
   "outputs": [],
   "source": []
  }
 ],
 "metadata": {
  "anaconda-cloud": {},
  "kernelspec": {
   "display_name": "Python [conda env:py3_tf1]",
   "language": "python",
   "name": "conda-env-py3_tf1-py"
  },
  "language_info": {
   "codemirror_mode": {
    "name": "ipython",
    "version": 3
   },
   "file_extension": ".py",
   "mimetype": "text/x-python",
   "name": "python",
   "nbconvert_exporter": "python",
   "pygments_lexer": "ipython3",
   "version": "3.6.0"
  }
 },
 "nbformat": 4,
 "nbformat_minor": 0
}
